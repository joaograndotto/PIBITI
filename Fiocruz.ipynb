{
  "cells": [
    {
      "cell_type": "markdown",
      "metadata": {
        "id": "view-in-github",
        "colab_type": "text"
      },
      "source": [
        "<a href=\"https://colab.research.google.com/github/joaograndotto/PIBITI/blob/main/Fiocruz.ipynb\" target=\"_parent\"><img src=\"https://colab.research.google.com/assets/colab-badge.svg\" alt=\"Open In Colab\"/></a>"
      ]
    },
    {
      "cell_type": "code",
      "execution_count": 1,
      "id": "2a091b68",
      "metadata": {
        "id": "2a091b68"
      },
      "outputs": [],
      "source": [
        "import numpy as np \n",
        "import pandas as pd"
      ]
    },
    {
      "cell_type": "code",
      "execution_count": 2,
      "id": "8f8216b0",
      "metadata": {
        "id": "8f8216b0"
      },
      "outputs": [],
      "source": [
        "url = \"https://raw.githubusercontent.com/joaograndotto/PIBITI/main/Datasets/dados_multi_classe.csv\"\n",
        "df = pd.read_csv(url, delimiter=',')"
      ]
    },
    {
      "cell_type": "code",
      "execution_count": 3,
      "id": "0bc49606",
      "metadata": {
        "id": "0bc49606",
        "outputId": "c7c34ecd-f36c-4fde-89a9-e3f1291d13aa",
        "colab": {
          "base_uri": "https://localhost:8080/",
          "height": 423
        }
      },
      "outputs": [
        {
          "output_type": "execute_result",
          "data": {
            "text/html": [
              "\n",
              "  <div id=\"df-8221752f-c63a-49ff-b8f2-51315d2e590c\">\n",
              "    <div class=\"colab-df-container\">\n",
              "      <div>\n",
              "<style scoped>\n",
              "    .dataframe tbody tr th:only-of-type {\n",
              "        vertical-align: middle;\n",
              "    }\n",
              "\n",
              "    .dataframe tbody tr th {\n",
              "        vertical-align: top;\n",
              "    }\n",
              "\n",
              "    .dataframe thead th {\n",
              "        text-align: right;\n",
              "    }\n",
              "</style>\n",
              "<table border=\"1\" class=\"dataframe\">\n",
              "  <thead>\n",
              "    <tr style=\"text-align: right;\">\n",
              "      <th></th>\n",
              "      <th>Institution</th>\n",
              "      <th>Affiliations</th>\n",
              "    </tr>\n",
              "  </thead>\n",
              "  <tbody>\n",
              "    <tr>\n",
              "      <th>0</th>\n",
              "      <td>aristotle university greece</td>\n",
              "      <td>1st department of ophthalmology aristotle univ...</td>\n",
              "    </tr>\n",
              "    <tr>\n",
              "      <th>1</th>\n",
              "      <td>aristotle university greece</td>\n",
              "      <td>aristotle univ thessaloniki greece</td>\n",
              "    </tr>\n",
              "    <tr>\n",
              "      <th>2</th>\n",
              "      <td>aristotle university greece</td>\n",
              "      <td>aristotle univ thessaloniki thessaloniki greece</td>\n",
              "    </tr>\n",
              "    <tr>\n",
              "      <th>3</th>\n",
              "      <td>aristotle university greece</td>\n",
              "      <td>aristotle university of thessaloniki greece</td>\n",
              "    </tr>\n",
              "    <tr>\n",
              "      <th>4</th>\n",
              "      <td>aristotle university greece</td>\n",
              "      <td>aristotle university of thessaloniki thessalon...</td>\n",
              "    </tr>\n",
              "    <tr>\n",
              "      <th>...</th>\n",
              "      <td>...</td>\n",
              "      <td>...</td>\n",
              "    </tr>\n",
              "    <tr>\n",
              "      <th>122929</th>\n",
              "      <td>universidade federal reconcavo</td>\n",
              "      <td>univ fed reconcavo bahia, centro formacao prof...</td>\n",
              "    </tr>\n",
              "    <tr>\n",
              "      <th>122930</th>\n",
              "      <td>unesp</td>\n",
              "      <td>unesp-marilia</td>\n",
              "    </tr>\n",
              "    <tr>\n",
              "      <th>122931</th>\n",
              "      <td>universidade federal campina grande</td>\n",
              "      <td>univ federal campina grande</td>\n",
              "    </tr>\n",
              "    <tr>\n",
              "      <th>122932</th>\n",
              "      <td>revista saude publica</td>\n",
              "      <td>revista de saude publica</td>\n",
              "    </tr>\n",
              "    <tr>\n",
              "      <th>122933</th>\n",
              "      <td>universidade nove julho</td>\n",
              "      <td>univ nove julho</td>\n",
              "    </tr>\n",
              "  </tbody>\n",
              "</table>\n",
              "<p>122934 rows × 2 columns</p>\n",
              "</div>\n",
              "      <button class=\"colab-df-convert\" onclick=\"convertToInteractive('df-8221752f-c63a-49ff-b8f2-51315d2e590c')\"\n",
              "              title=\"Convert this dataframe to an interactive table.\"\n",
              "              style=\"display:none;\">\n",
              "        \n",
              "  <svg xmlns=\"http://www.w3.org/2000/svg\" height=\"24px\"viewBox=\"0 0 24 24\"\n",
              "       width=\"24px\">\n",
              "    <path d=\"M0 0h24v24H0V0z\" fill=\"none\"/>\n",
              "    <path d=\"M18.56 5.44l.94 2.06.94-2.06 2.06-.94-2.06-.94-.94-2.06-.94 2.06-2.06.94zm-11 1L8.5 8.5l.94-2.06 2.06-.94-2.06-.94L8.5 2.5l-.94 2.06-2.06.94zm10 10l.94 2.06.94-2.06 2.06-.94-2.06-.94-.94-2.06-.94 2.06-2.06.94z\"/><path d=\"M17.41 7.96l-1.37-1.37c-.4-.4-.92-.59-1.43-.59-.52 0-1.04.2-1.43.59L10.3 9.45l-7.72 7.72c-.78.78-.78 2.05 0 2.83L4 21.41c.39.39.9.59 1.41.59.51 0 1.02-.2 1.41-.59l7.78-7.78 2.81-2.81c.8-.78.8-2.07 0-2.86zM5.41 20L4 18.59l7.72-7.72 1.47 1.35L5.41 20z\"/>\n",
              "  </svg>\n",
              "      </button>\n",
              "      \n",
              "  <style>\n",
              "    .colab-df-container {\n",
              "      display:flex;\n",
              "      flex-wrap:wrap;\n",
              "      gap: 12px;\n",
              "    }\n",
              "\n",
              "    .colab-df-convert {\n",
              "      background-color: #E8F0FE;\n",
              "      border: none;\n",
              "      border-radius: 50%;\n",
              "      cursor: pointer;\n",
              "      display: none;\n",
              "      fill: #1967D2;\n",
              "      height: 32px;\n",
              "      padding: 0 0 0 0;\n",
              "      width: 32px;\n",
              "    }\n",
              "\n",
              "    .colab-df-convert:hover {\n",
              "      background-color: #E2EBFA;\n",
              "      box-shadow: 0px 1px 2px rgba(60, 64, 67, 0.3), 0px 1px 3px 1px rgba(60, 64, 67, 0.15);\n",
              "      fill: #174EA6;\n",
              "    }\n",
              "\n",
              "    [theme=dark] .colab-df-convert {\n",
              "      background-color: #3B4455;\n",
              "      fill: #D2E3FC;\n",
              "    }\n",
              "\n",
              "    [theme=dark] .colab-df-convert:hover {\n",
              "      background-color: #434B5C;\n",
              "      box-shadow: 0px 1px 3px 1px rgba(0, 0, 0, 0.15);\n",
              "      filter: drop-shadow(0px 1px 2px rgba(0, 0, 0, 0.3));\n",
              "      fill: #FFFFFF;\n",
              "    }\n",
              "  </style>\n",
              "\n",
              "      <script>\n",
              "        const buttonEl =\n",
              "          document.querySelector('#df-8221752f-c63a-49ff-b8f2-51315d2e590c button.colab-df-convert');\n",
              "        buttonEl.style.display =\n",
              "          google.colab.kernel.accessAllowed ? 'block' : 'none';\n",
              "\n",
              "        async function convertToInteractive(key) {\n",
              "          const element = document.querySelector('#df-8221752f-c63a-49ff-b8f2-51315d2e590c');\n",
              "          const dataTable =\n",
              "            await google.colab.kernel.invokeFunction('convertToInteractive',\n",
              "                                                     [key], {});\n",
              "          if (!dataTable) return;\n",
              "\n",
              "          const docLinkHtml = 'Like what you see? Visit the ' +\n",
              "            '<a target=\"_blank\" href=https://colab.research.google.com/notebooks/data_table.ipynb>data table notebook</a>'\n",
              "            + ' to learn more about interactive tables.';\n",
              "          element.innerHTML = '';\n",
              "          dataTable['output_type'] = 'display_data';\n",
              "          await google.colab.output.renderOutput(dataTable, element);\n",
              "          const docLink = document.createElement('div');\n",
              "          docLink.innerHTML = docLinkHtml;\n",
              "          element.appendChild(docLink);\n",
              "        }\n",
              "      </script>\n",
              "    </div>\n",
              "  </div>\n",
              "  "
            ],
            "text/plain": [
              "                                Institution                                       Affiliations\n",
              "0               aristotle university greece  1st department of ophthalmology aristotle univ...\n",
              "1               aristotle university greece                 aristotle univ thessaloniki greece\n",
              "2               aristotle university greece    aristotle univ thessaloniki thessaloniki greece\n",
              "3               aristotle university greece        aristotle university of thessaloniki greece\n",
              "4               aristotle university greece  aristotle university of thessaloniki thessalon...\n",
              "...                                     ...                                                ...\n",
              "122929       universidade federal reconcavo  univ fed reconcavo bahia, centro formacao prof...\n",
              "122930                                unesp                                      unesp-marilia\n",
              "122931  universidade federal campina grande                        univ federal campina grande\n",
              "122932                revista saude publica                           revista de saude publica\n",
              "122933              universidade nove julho                                    univ nove julho\n",
              "\n",
              "[122934 rows x 2 columns]"
            ]
          },
          "metadata": {},
          "execution_count": 3
        }
      ],
      "source": [
        "df"
      ]
    },
    {
      "cell_type": "code",
      "execution_count": 4,
      "id": "a1a9fe25",
      "metadata": {
        "id": "a1a9fe25"
      },
      "outputs": [],
      "source": [
        "fiocruz = df[df['Institution'].str.contains(\"fiocruz\")]"
      ]
    },
    {
      "cell_type": "code",
      "execution_count": 5,
      "id": "9854812c",
      "metadata": {
        "id": "9854812c",
        "outputId": "d95cfd77-b40f-4ddf-e270-bdfa37f7b24d",
        "colab": {
          "base_uri": "https://localhost:8080/"
        }
      },
      "outputs": [
        {
          "output_type": "execute_result",
          "data": {
            "text/plain": [
              "20745"
            ]
          },
          "metadata": {},
          "execution_count": 5
        }
      ],
      "source": [
        "fiocruz.shape[0]"
      ]
    },
    {
      "cell_type": "code",
      "execution_count": 6,
      "id": "ba441fca",
      "metadata": {
        "id": "ba441fca",
        "outputId": "d9eb86c4-a364-455c-957c-d53543706b4b",
        "colab": {
          "base_uri": "https://localhost:8080/",
          "height": 363
        }
      },
      "outputs": [
        {
          "output_type": "execute_result",
          "data": {
            "text/html": [
              "\n",
              "  <div id=\"df-5952c65d-ef89-4893-9eee-38dabbe308db\">\n",
              "    <div class=\"colab-df-container\">\n",
              "      <div>\n",
              "<style scoped>\n",
              "    .dataframe tbody tr th:only-of-type {\n",
              "        vertical-align: middle;\n",
              "    }\n",
              "\n",
              "    .dataframe tbody tr th {\n",
              "        vertical-align: top;\n",
              "    }\n",
              "\n",
              "    .dataframe thead th {\n",
              "        text-align: right;\n",
              "    }\n",
              "</style>\n",
              "<table border=\"1\" class=\"dataframe\">\n",
              "  <thead>\n",
              "    <tr style=\"text-align: right;\">\n",
              "      <th></th>\n",
              "      <th>Institution</th>\n",
              "      <th>Affiliations</th>\n",
              "    </tr>\n",
              "  </thead>\n",
              "  <tbody>\n",
              "    <tr>\n",
              "      <th>37936</th>\n",
              "      <td>icict  instituto de comunicação e informação c...</td>\n",
              "      <td>instituto de comunicação e informação científi...</td>\n",
              "    </tr>\n",
              "    <tr>\n",
              "      <th>50264</th>\n",
              "      <td>ioc  insituto oswaldo cruz  fiocruz</td>\n",
              "      <td>department of immunology oswaldo cruz institut...</td>\n",
              "    </tr>\n",
              "    <tr>\n",
              "      <th>37709</th>\n",
              "      <td>icict  instituto de comunicação e informação c...</td>\n",
              "      <td>health information laboratory health science a...</td>\n",
              "    </tr>\n",
              "    <tr>\n",
              "      <th>28627</th>\n",
              "      <td>fiocruz  sem unidade</td>\n",
              "      <td>myrna c fundação oswaldo cruz brazil</td>\n",
              "    </tr>\n",
              "    <tr>\n",
              "      <th>12481</th>\n",
              "      <td>ensp  escola nacional de saúde pública sérgio ...</td>\n",
              "      <td>centro de estudos da saúde do trabalhador e ec...</td>\n",
              "    </tr>\n",
              "    <tr>\n",
              "      <th>21098</th>\n",
              "      <td>fiocruz  ba  centro de pesquisa gonçalo moniz ...</td>\n",
              "      <td>oswaldo cruz foundation fiocruz salvador bahia...</td>\n",
              "    </tr>\n",
              "    <tr>\n",
              "      <th>22852</th>\n",
              "      <td>fiocruz  mg  rené rachou  cpqrr</td>\n",
              "      <td>grupo de estudos em leishmanioses centro de pe...</td>\n",
              "    </tr>\n",
              "    <tr>\n",
              "      <th>43254</th>\n",
              "      <td>ini  instituto nacional de infectologia evandr...</td>\n",
              "      <td>chagas disease clinic research laboratory evan...</td>\n",
              "    </tr>\n",
              "    <tr>\n",
              "      <th>15356</th>\n",
              "      <td>ensp  escola nacional de saúde pública sérgio ...</td>\n",
              "      <td>programa de pósgraduação em saúde pública esco...</td>\n",
              "    </tr>\n",
              "    <tr>\n",
              "      <th>22336</th>\n",
              "      <td>fiocruz  mg  rené rachou  cpqrr</td>\n",
              "      <td>centro de pesquisas rené rachoufiocruz belo ho...</td>\n",
              "    </tr>\n",
              "  </tbody>\n",
              "</table>\n",
              "</div>\n",
              "      <button class=\"colab-df-convert\" onclick=\"convertToInteractive('df-5952c65d-ef89-4893-9eee-38dabbe308db')\"\n",
              "              title=\"Convert this dataframe to an interactive table.\"\n",
              "              style=\"display:none;\">\n",
              "        \n",
              "  <svg xmlns=\"http://www.w3.org/2000/svg\" height=\"24px\"viewBox=\"0 0 24 24\"\n",
              "       width=\"24px\">\n",
              "    <path d=\"M0 0h24v24H0V0z\" fill=\"none\"/>\n",
              "    <path d=\"M18.56 5.44l.94 2.06.94-2.06 2.06-.94-2.06-.94-.94-2.06-.94 2.06-2.06.94zm-11 1L8.5 8.5l.94-2.06 2.06-.94-2.06-.94L8.5 2.5l-.94 2.06-2.06.94zm10 10l.94 2.06.94-2.06 2.06-.94-2.06-.94-.94-2.06-.94 2.06-2.06.94z\"/><path d=\"M17.41 7.96l-1.37-1.37c-.4-.4-.92-.59-1.43-.59-.52 0-1.04.2-1.43.59L10.3 9.45l-7.72 7.72c-.78.78-.78 2.05 0 2.83L4 21.41c.39.39.9.59 1.41.59.51 0 1.02-.2 1.41-.59l7.78-7.78 2.81-2.81c.8-.78.8-2.07 0-2.86zM5.41 20L4 18.59l7.72-7.72 1.47 1.35L5.41 20z\"/>\n",
              "  </svg>\n",
              "      </button>\n",
              "      \n",
              "  <style>\n",
              "    .colab-df-container {\n",
              "      display:flex;\n",
              "      flex-wrap:wrap;\n",
              "      gap: 12px;\n",
              "    }\n",
              "\n",
              "    .colab-df-convert {\n",
              "      background-color: #E8F0FE;\n",
              "      border: none;\n",
              "      border-radius: 50%;\n",
              "      cursor: pointer;\n",
              "      display: none;\n",
              "      fill: #1967D2;\n",
              "      height: 32px;\n",
              "      padding: 0 0 0 0;\n",
              "      width: 32px;\n",
              "    }\n",
              "\n",
              "    .colab-df-convert:hover {\n",
              "      background-color: #E2EBFA;\n",
              "      box-shadow: 0px 1px 2px rgba(60, 64, 67, 0.3), 0px 1px 3px 1px rgba(60, 64, 67, 0.15);\n",
              "      fill: #174EA6;\n",
              "    }\n",
              "\n",
              "    [theme=dark] .colab-df-convert {\n",
              "      background-color: #3B4455;\n",
              "      fill: #D2E3FC;\n",
              "    }\n",
              "\n",
              "    [theme=dark] .colab-df-convert:hover {\n",
              "      background-color: #434B5C;\n",
              "      box-shadow: 0px 1px 3px 1px rgba(0, 0, 0, 0.15);\n",
              "      filter: drop-shadow(0px 1px 2px rgba(0, 0, 0, 0.3));\n",
              "      fill: #FFFFFF;\n",
              "    }\n",
              "  </style>\n",
              "\n",
              "      <script>\n",
              "        const buttonEl =\n",
              "          document.querySelector('#df-5952c65d-ef89-4893-9eee-38dabbe308db button.colab-df-convert');\n",
              "        buttonEl.style.display =\n",
              "          google.colab.kernel.accessAllowed ? 'block' : 'none';\n",
              "\n",
              "        async function convertToInteractive(key) {\n",
              "          const element = document.querySelector('#df-5952c65d-ef89-4893-9eee-38dabbe308db');\n",
              "          const dataTable =\n",
              "            await google.colab.kernel.invokeFunction('convertToInteractive',\n",
              "                                                     [key], {});\n",
              "          if (!dataTable) return;\n",
              "\n",
              "          const docLinkHtml = 'Like what you see? Visit the ' +\n",
              "            '<a target=\"_blank\" href=https://colab.research.google.com/notebooks/data_table.ipynb>data table notebook</a>'\n",
              "            + ' to learn more about interactive tables.';\n",
              "          element.innerHTML = '';\n",
              "          dataTable['output_type'] = 'display_data';\n",
              "          await google.colab.output.renderOutput(dataTable, element);\n",
              "          const docLink = document.createElement('div');\n",
              "          docLink.innerHTML = docLinkHtml;\n",
              "          element.appendChild(docLink);\n",
              "        }\n",
              "      </script>\n",
              "    </div>\n",
              "  </div>\n",
              "  "
            ],
            "text/plain": [
              "                                             Institution                                       Affiliations\n",
              "37936  icict  instituto de comunicação e informação c...  instituto de comunicação e informação científi...\n",
              "50264                ioc  insituto oswaldo cruz  fiocruz  department of immunology oswaldo cruz institut...\n",
              "37709  icict  instituto de comunicação e informação c...  health information laboratory health science a...\n",
              "28627                               fiocruz  sem unidade               myrna c fundação oswaldo cruz brazil\n",
              "12481  ensp  escola nacional de saúde pública sérgio ...  centro de estudos da saúde do trabalhador e ec...\n",
              "21098  fiocruz  ba  centro de pesquisa gonçalo moniz ...  oswaldo cruz foundation fiocruz salvador bahia...\n",
              "22852                    fiocruz  mg  rené rachou  cpqrr  grupo de estudos em leishmanioses centro de pe...\n",
              "43254  ini  instituto nacional de infectologia evandr...  chagas disease clinic research laboratory evan...\n",
              "15356  ensp  escola nacional de saúde pública sérgio ...  programa de pósgraduação em saúde pública esco...\n",
              "22336                    fiocruz  mg  rené rachou  cpqrr  centro de pesquisas rené rachoufiocruz belo ho..."
            ]
          },
          "metadata": {},
          "execution_count": 6
        }
      ],
      "source": [
        "fiocruz.sample(n=10)"
      ]
    },
    {
      "cell_type": "code",
      "execution_count": 7,
      "id": "1834ee2d",
      "metadata": {
        "id": "1834ee2d"
      },
      "outputs": [],
      "source": [
        "df = fiocruz.to_csv(\"dicionario_fiocruz.tsv\", sep = \"\\t\", index=False)"
      ]
    },
    {
      "cell_type": "code",
      "source": [
        "url = \"/content/dicionario_fiocruz.tsv\"\n",
        "df = pd.read_csv(url, delimiter='\\t')"
      ],
      "metadata": {
        "id": "IpqRCvMSk_3G"
      },
      "id": "IpqRCvMSk_3G",
      "execution_count": 8,
      "outputs": []
    },
    {
      "cell_type": "code",
      "execution_count": 9,
      "metadata": {
        "id": "e83f0d1d"
      },
      "outputs": [],
      "source": [
        "import numpy as np \n",
        "import pandas as pd\n",
        "import matplotlib.pyplot as plt\n",
        "from sklearn.tree import DecisionTreeClassifier, export_graphviz, plot_tree\n",
        "from sklearn import preprocessing, metrics\n",
        "from sklearn.model_selection import train_test_split\n",
        "import matplotlib.image as mpimg\n",
        "from sklearn.metrics import classification_report, confusion_matrix\n",
        "from IPython.display import Image \n",
        "from six import StringIO\n",
        "from sklearn.neighbors import KNeighborsClassifier\n",
        "from sklearn.metrics import confusion_matrix, accuracy_score\n",
        "from sklearn.ensemble import RandomForestClassifier\n",
        "from sklearn import svm"
      ],
      "id": "e83f0d1d"
    },
    {
      "cell_type": "code",
      "execution_count": 10,
      "metadata": {
        "id": "34fe2826"
      },
      "outputs": [],
      "source": [
        "url = \"https://raw.githubusercontent.com/joaograndotto/PIBITI/main/Datasets/dicionario_fiocruz.tsv\"\n",
        "df = pd.read_csv(url, delimiter='\\t')"
      ],
      "id": "34fe2826"
    },
    {
      "cell_type": "code",
      "execution_count": 11,
      "metadata": {
        "id": "7ffed5c8",
        "outputId": "cb424636-af01-4546-ae92-3b458fc91161",
        "colab": {
          "base_uri": "https://localhost:8080/",
          "height": 143
        }
      },
      "outputs": [
        {
          "output_type": "execute_result",
          "data": {
            "text/html": [
              "\n",
              "  <div id=\"df-8bb5557c-2080-48f0-a27e-71a8bec215d3\">\n",
              "    <div class=\"colab-df-container\">\n",
              "      <div>\n",
              "<style scoped>\n",
              "    .dataframe tbody tr th:only-of-type {\n",
              "        vertical-align: middle;\n",
              "    }\n",
              "\n",
              "    .dataframe tbody tr th {\n",
              "        vertical-align: top;\n",
              "    }\n",
              "\n",
              "    .dataframe thead th {\n",
              "        text-align: right;\n",
              "    }\n",
              "</style>\n",
              "<table border=\"1\" class=\"dataframe\">\n",
              "  <thead>\n",
              "    <tr style=\"text-align: right;\">\n",
              "      <th></th>\n",
              "      <th>Institution</th>\n",
              "      <th>Affiliations</th>\n",
              "    </tr>\n",
              "  </thead>\n",
              "  <tbody>\n",
              "    <tr>\n",
              "      <th>18889</th>\n",
              "      <td>ini  instituto nacional de infectologia evandr...</td>\n",
              "      <td>instituto nacional de infectologia evandro cha...</td>\n",
              "    </tr>\n",
              "    <tr>\n",
              "      <th>14261</th>\n",
              "      <td>fiocruz  pr  instituto carlos chagas icc</td>\n",
              "      <td>instituto carlos chagas iccfiocruz curitiba pa...</td>\n",
              "    </tr>\n",
              "    <tr>\n",
              "      <th>3587</th>\n",
              "      <td>ensp  escola nacional de saúde pública sérgio ...</td>\n",
              "      <td>fundação oswaldo cruz escola nacional de saúde...</td>\n",
              "    </tr>\n",
              "  </tbody>\n",
              "</table>\n",
              "</div>\n",
              "      <button class=\"colab-df-convert\" onclick=\"convertToInteractive('df-8bb5557c-2080-48f0-a27e-71a8bec215d3')\"\n",
              "              title=\"Convert this dataframe to an interactive table.\"\n",
              "              style=\"display:none;\">\n",
              "        \n",
              "  <svg xmlns=\"http://www.w3.org/2000/svg\" height=\"24px\"viewBox=\"0 0 24 24\"\n",
              "       width=\"24px\">\n",
              "    <path d=\"M0 0h24v24H0V0z\" fill=\"none\"/>\n",
              "    <path d=\"M18.56 5.44l.94 2.06.94-2.06 2.06-.94-2.06-.94-.94-2.06-.94 2.06-2.06.94zm-11 1L8.5 8.5l.94-2.06 2.06-.94-2.06-.94L8.5 2.5l-.94 2.06-2.06.94zm10 10l.94 2.06.94-2.06 2.06-.94-2.06-.94-.94-2.06-.94 2.06-2.06.94z\"/><path d=\"M17.41 7.96l-1.37-1.37c-.4-.4-.92-.59-1.43-.59-.52 0-1.04.2-1.43.59L10.3 9.45l-7.72 7.72c-.78.78-.78 2.05 0 2.83L4 21.41c.39.39.9.59 1.41.59.51 0 1.02-.2 1.41-.59l7.78-7.78 2.81-2.81c.8-.78.8-2.07 0-2.86zM5.41 20L4 18.59l7.72-7.72 1.47 1.35L5.41 20z\"/>\n",
              "  </svg>\n",
              "      </button>\n",
              "      \n",
              "  <style>\n",
              "    .colab-df-container {\n",
              "      display:flex;\n",
              "      flex-wrap:wrap;\n",
              "      gap: 12px;\n",
              "    }\n",
              "\n",
              "    .colab-df-convert {\n",
              "      background-color: #E8F0FE;\n",
              "      border: none;\n",
              "      border-radius: 50%;\n",
              "      cursor: pointer;\n",
              "      display: none;\n",
              "      fill: #1967D2;\n",
              "      height: 32px;\n",
              "      padding: 0 0 0 0;\n",
              "      width: 32px;\n",
              "    }\n",
              "\n",
              "    .colab-df-convert:hover {\n",
              "      background-color: #E2EBFA;\n",
              "      box-shadow: 0px 1px 2px rgba(60, 64, 67, 0.3), 0px 1px 3px 1px rgba(60, 64, 67, 0.15);\n",
              "      fill: #174EA6;\n",
              "    }\n",
              "\n",
              "    [theme=dark] .colab-df-convert {\n",
              "      background-color: #3B4455;\n",
              "      fill: #D2E3FC;\n",
              "    }\n",
              "\n",
              "    [theme=dark] .colab-df-convert:hover {\n",
              "      background-color: #434B5C;\n",
              "      box-shadow: 0px 1px 3px 1px rgba(0, 0, 0, 0.15);\n",
              "      filter: drop-shadow(0px 1px 2px rgba(0, 0, 0, 0.3));\n",
              "      fill: #FFFFFF;\n",
              "    }\n",
              "  </style>\n",
              "\n",
              "      <script>\n",
              "        const buttonEl =\n",
              "          document.querySelector('#df-8bb5557c-2080-48f0-a27e-71a8bec215d3 button.colab-df-convert');\n",
              "        buttonEl.style.display =\n",
              "          google.colab.kernel.accessAllowed ? 'block' : 'none';\n",
              "\n",
              "        async function convertToInteractive(key) {\n",
              "          const element = document.querySelector('#df-8bb5557c-2080-48f0-a27e-71a8bec215d3');\n",
              "          const dataTable =\n",
              "            await google.colab.kernel.invokeFunction('convertToInteractive',\n",
              "                                                     [key], {});\n",
              "          if (!dataTable) return;\n",
              "\n",
              "          const docLinkHtml = 'Like what you see? Visit the ' +\n",
              "            '<a target=\"_blank\" href=https://colab.research.google.com/notebooks/data_table.ipynb>data table notebook</a>'\n",
              "            + ' to learn more about interactive tables.';\n",
              "          element.innerHTML = '';\n",
              "          dataTable['output_type'] = 'display_data';\n",
              "          await google.colab.output.renderOutput(dataTable, element);\n",
              "          const docLink = document.createElement('div');\n",
              "          docLink.innerHTML = docLinkHtml;\n",
              "          element.appendChild(docLink);\n",
              "        }\n",
              "      </script>\n",
              "    </div>\n",
              "  </div>\n",
              "  "
            ],
            "text/plain": [
              "                                             Institution                                       Affiliations\n",
              "18889  ini  instituto nacional de infectologia evandr...  instituto nacional de infectologia evandro cha...\n",
              "14261           fiocruz  pr  instituto carlos chagas icc  instituto carlos chagas iccfiocruz curitiba pa...\n",
              "3587   ensp  escola nacional de saúde pública sérgio ...  fundação oswaldo cruz escola nacional de saúde..."
            ]
          },
          "metadata": {},
          "execution_count": 11
        }
      ],
      "source": [
        "df.sample(n=3)"
      ],
      "id": "7ffed5c8"
    },
    {
      "cell_type": "code",
      "execution_count": 12,
      "metadata": {
        "id": "3e866af1",
        "outputId": "34061337-8b9a-49d6-fb75-f3aafee0ff6f",
        "colab": {
          "base_uri": "https://localhost:8080/"
        }
      },
      "outputs": [
        {
          "output_type": "execute_result",
          "data": {
            "text/plain": [
              "((20745,), (20745,))"
            ]
          },
          "metadata": {},
          "execution_count": 12
        }
      ],
      "source": [
        "X, y = df['Affiliations'],df['Institution']\n",
        "X.shape, y.shape"
      ],
      "id": "3e866af1"
    },
    {
      "cell_type": "code",
      "execution_count": 13,
      "metadata": {
        "id": "471da419",
        "outputId": "8155dbd1-4dd7-47ba-95a1-bd3c79579613",
        "colab": {
          "base_uri": "https://localhost:8080/"
        }
      },
      "outputs": [
        {
          "output_type": "execute_result",
          "data": {
            "text/plain": [
              "0                                      biblioteca  fiocruz\n",
              "1        biblioteca de manguinhos avenida brasil 4365 m...\n",
              "2        department of health information oswaldo cruz ...\n",
              "3                        fiocruz  biblioteca de manguinhos\n",
              "4        health information fundação oswaldo cruz bibli...\n",
              "                               ...                        \n",
              "20740    scientific computing program oswaldo cruz foun...\n",
              "20741    scientific computing programoswaldo cruz found...\n",
              "20742    scientific computing programoswaldo cruz found...\n",
              "20743    scientific computing programme fundação oswald...\n",
              "20744    serviço de jornalismo e comunicação programa d...\n",
              "Name: Affiliations, Length: 20745, dtype: object"
            ]
          },
          "metadata": {},
          "execution_count": 13
        }
      ],
      "source": [
        "X"
      ],
      "id": "471da419"
    },
    {
      "cell_type": "code",
      "execution_count": 14,
      "metadata": {
        "id": "cd850f1b",
        "outputId": "af885c88-ac76-4d36-844e-f3fb6d835b6f",
        "colab": {
          "base_uri": "https://localhost:8080/"
        }
      },
      "outputs": [
        {
          "output_type": "stream",
          "name": "stdout",
          "text": [
            "[nltk_data] Downloading package stopwords to /root/nltk_data...\n",
            "[nltk_data]   Package stopwords is already up-to-date!\n"
          ]
        }
      ],
      "source": [
        "import nltk\n",
        "from sklearn.datasets import load_files\n",
        "nltk.download('stopwords')\n",
        "import pickle\n",
        "from nltk.corpus import stopwords"
      ],
      "id": "cd850f1b"
    },
    {
      "cell_type": "code",
      "execution_count": 15,
      "metadata": {
        "id": "e6c35e58"
      },
      "outputs": [],
      "source": [
        "palavrasIgnoradas = \\\n",
        "    stopwords.words('portuguese') + \\\n",
        "    stopwords.words('english') + \\\n",
        "    stopwords.words('german') + \\\n",
        "    stopwords.words('spanish')"
      ],
      "id": "e6c35e58"
    },
    {
      "cell_type": "code",
      "execution_count": 16,
      "metadata": {
        "id": "eedfd627"
      },
      "outputs": [],
      "source": [
        "from sklearn.feature_extraction.text import CountVectorizer\n",
        "vectorizer = CountVectorizer(\n",
        "    max_features = 1500, # vocabulário considera top max_features ordenadas por freq do termo no texto \n",
        "    min_df = 5, # ignorar termos com frequencia menor do que x, onde 0<=x<=1\n",
        "    max_df = 0.7, # ignorar termos com frequencia maior do que x, onde 0<=x<=1\n",
        "    stop_words = palavrasIgnoradas\n",
        ")"
      ],
      "id": "eedfd627"
    },
    {
      "cell_type": "code",
      "execution_count": 17,
      "metadata": {
        "id": "9b87dcae",
        "outputId": "2088dc5c-ea2b-4e0b-b7fd-bd8546c0e935",
        "colab": {
          "base_uri": "https://localhost:8080/"
        }
      },
      "outputs": [
        {
          "output_type": "execute_result",
          "data": {
            "text/plain": [
              "<20745x1483 sparse matrix of type '<class 'numpy.int64'>'\n",
              "\twith 232127 stored elements in Compressed Sparse Row format>"
            ]
          },
          "metadata": {},
          "execution_count": 17
        }
      ],
      "source": [
        "vectorizer.fit_transform(X)"
      ],
      "id": "9b87dcae"
    },
    {
      "cell_type": "code",
      "execution_count": 18,
      "metadata": {
        "id": "feaad565"
      },
      "outputs": [],
      "source": [
        "X = vectorizer.fit_transform(X).toarray()"
      ],
      "id": "feaad565"
    },
    {
      "cell_type": "code",
      "execution_count": 19,
      "metadata": {
        "id": "077261f8"
      },
      "outputs": [],
      "source": [
        "from sklearn.feature_extraction.text import TfidfTransformer\n",
        "tfidfconverter = TfidfTransformer()\n",
        "X = tfidfconverter.fit_transform(X).toarray()"
      ],
      "id": "077261f8"
    },
    {
      "cell_type": "code",
      "execution_count": 20,
      "metadata": {
        "id": "a47a5591"
      },
      "outputs": [],
      "source": [
        "X_treino, X_teste, y_treino, y_teste = train_test_split(X, y, test_size=0.1, random_state=0, shuffle=True)"
      ],
      "id": "a47a5591"
    },
    {
      "cell_type": "markdown",
      "source": [
        "#K-Nearest Neighbors"
      ],
      "metadata": {
        "id": "SyjJqPyDmRNZ"
      },
      "id": "SyjJqPyDmRNZ"
    },
    {
      "cell_type": "code",
      "source": [
        "knn = KNeighborsClassifier()\n",
        "knn.fit(X_treino, y_treino)\n",
        "resultado_knn = knn.predict(X_teste)"
      ],
      "metadata": {
        "id": "Jy7mz7Z5mDZi"
      },
      "execution_count": 21,
      "outputs": [],
      "id": "Jy7mz7Z5mDZi"
    },
    {
      "cell_type": "code",
      "source": [
        "print(f\"Acurácia: {metrics.accuracy_score(y_teste, resultado_knn) * 100}\")"
      ],
      "metadata": {
        "colab": {
          "base_uri": "https://localhost:8080/"
        },
        "id": "UX1zbDrJsBRL",
        "outputId": "f9aa4dad-2a3f-417c-e512-8ccd5eedcbdd"
      },
      "execution_count": 22,
      "outputs": [
        {
          "output_type": "stream",
          "name": "stdout",
          "text": [
            "Acurácia: 96.57831325301206\n"
          ]
        }
      ],
      "id": "UX1zbDrJsBRL"
    },
    {
      "cell_type": "markdown",
      "source": [
        "# DecisionTree"
      ],
      "metadata": {
        "id": "aLRXfUmtRqNz"
      },
      "id": "aLRXfUmtRqNz"
    },
    {
      "cell_type": "code",
      "execution_count": 23,
      "metadata": {
        "id": "itcJPGROmiAa"
      },
      "outputs": [],
      "source": [
        "arvore = DecisionTreeClassifier(criterion='entropy' ,random_state=0)\n",
        "dt = arvore.fit(X_treino, y_treino)\n",
        "resultado_dt = dt.predict(X_teste)"
      ],
      "id": "itcJPGROmiAa"
    },
    {
      "cell_type": "code",
      "source": [
        "print(f\"Acurácia: {metrics.accuracy_score(y_teste, resultado_dt) * 100}\")"
      ],
      "metadata": {
        "colab": {
          "base_uri": "https://localhost:8080/"
        },
        "outputId": "9fb7e3bd-7bdc-4591-a584-8e096c661705",
        "id": "hP_Lc8eGmiAa"
      },
      "execution_count": 24,
      "outputs": [
        {
          "output_type": "stream",
          "name": "stdout",
          "text": [
            "Acurácia: 94.74698795180723\n"
          ]
        }
      ],
      "id": "hP_Lc8eGmiAa"
    },
    {
      "cell_type": "markdown",
      "source": [
        "# RandomForest"
      ],
      "metadata": {
        "id": "PudTmltvmywG"
      },
      "id": "PudTmltvmywG"
    },
    {
      "cell_type": "code",
      "source": [
        "floresta = RandomForestClassifier(criterion='entropy', random_state=0)\n",
        "floresta.fit(X_treino, y_treino)\n",
        "resultado_rd = floresta.predict(X_teste)"
      ],
      "metadata": {
        "id": "0HyvhqnsPXib"
      },
      "execution_count": 25,
      "outputs": [],
      "id": "0HyvhqnsPXib"
    },
    {
      "cell_type": "code",
      "source": [
        "print(f\"Acurácia: {metrics.accuracy_score(y_teste, resultado_rd) * 100}\")"
      ],
      "metadata": {
        "id": "Qj3MlTb7gjKr",
        "colab": {
          "base_uri": "https://localhost:8080/"
        },
        "outputId": "dbb49fb5-bd5b-462a-f5aa-83f3ecb5c893"
      },
      "execution_count": 26,
      "outputs": [
        {
          "output_type": "stream",
          "name": "stdout",
          "text": [
            "Acurácia: 97.44578313253012\n"
          ]
        }
      ],
      "id": "Qj3MlTb7gjKr"
    },
    {
      "cell_type": "markdown",
      "source": [
        "# MultinomialNB"
      ],
      "metadata": {
        "id": "g42yONpQm7eW"
      },
      "id": "g42yONpQm7eW"
    },
    {
      "cell_type": "code",
      "source": [
        "from sklearn.naive_bayes import MultinomialNB\n",
        "nb = MultinomialNB()\n",
        "nb.fit(X_treino, y_treino)\n",
        "resultado_nb = nb.predict(X_teste)"
      ],
      "metadata": {
        "id": "uy26x50cFGGG"
      },
      "execution_count": 27,
      "outputs": [],
      "id": "uy26x50cFGGG"
    },
    {
      "cell_type": "code",
      "source": [
        "print(f\"Acurácia: {accuracy_score(y_teste, resultado_nb) * 100}\")"
      ],
      "metadata": {
        "colab": {
          "base_uri": "https://localhost:8080/"
        },
        "id": "VxAlFkGpFhwB",
        "outputId": "8dcec7e8-8c36-4324-d4ab-7ab4e4b252b4"
      },
      "execution_count": 28,
      "outputs": [
        {
          "output_type": "stream",
          "name": "stdout",
          "text": [
            "Acurácia: 95.46987951807229\n"
          ]
        }
      ],
      "id": "VxAlFkGpFhwB"
    },
    {
      "cell_type": "markdown",
      "source": [
        "#SVM Kernel Linear"
      ],
      "metadata": {
        "id": "9VZUPt8ipmYT"
      },
      "id": "9VZUPt8ipmYT"
    },
    {
      "cell_type": "code",
      "source": [
        "svm_kernel_linear = svm.SVC(kernel = 'linear')\n",
        "prob_linear = svm_kernel_linear.fit(X_treino, y_treino)"
      ],
      "metadata": {
        "id": "JFyl_OvCoywO"
      },
      "id": "JFyl_OvCoywO",
      "execution_count": 29,
      "outputs": []
    },
    {
      "cell_type": "code",
      "source": [
        "pred_svm_linear = svm_kernel_linear.predict(X_teste)\n",
        "print(\"Acurácia =\", accuracy_score(y_teste, pred_svm_linear) * 100)"
      ],
      "metadata": {
        "colab": {
          "base_uri": "https://localhost:8080/"
        },
        "id": "2OHZ-_G3o0zC",
        "outputId": "7b6837ad-4102-410e-b118-2780bb8e406f"
      },
      "id": "2OHZ-_G3o0zC",
      "execution_count": 30,
      "outputs": [
        {
          "output_type": "stream",
          "name": "stdout",
          "text": [
            "Acurácia = 98.02409638554217\n"
          ]
        }
      ]
    },
    {
      "cell_type": "markdown",
      "source": [
        "#SVM Kernel RBF"
      ],
      "metadata": {
        "id": "ZCxCWkggqJcD"
      },
      "id": "ZCxCWkggqJcD"
    },
    {
      "cell_type": "code",
      "source": [
        "svm_kernel_rbf = svm.SVC(kernel = 'rbf')\n",
        "prob_rbf = svm_kernel_rbf.fit(X_treino, y_treino)"
      ],
      "metadata": {
        "id": "nW7lrl0jqAxT"
      },
      "execution_count": 31,
      "outputs": [],
      "id": "nW7lrl0jqAxT"
    },
    {
      "cell_type": "code",
      "source": [
        "pred_svm_rbf = svm_kernel_rbf.predict(X_teste)\n",
        "print(\"Acurácia =\", accuracy_score(y_teste, pred_svm_rbf) * 100)"
      ],
      "metadata": {
        "colab": {
          "base_uri": "https://localhost:8080/"
        },
        "outputId": "13ea5bdd-7a45-4b83-ab83-a0b7f7d34863",
        "id": "j9mTHyyoqAxU"
      },
      "execution_count": 32,
      "outputs": [
        {
          "output_type": "stream",
          "name": "stdout",
          "text": [
            "Acurácia = 97.87951807228914\n"
          ]
        }
      ],
      "id": "j9mTHyyoqAxU"
    },
    {
      "cell_type": "markdown",
      "source": [
        "#SVM Kernel Sigmoid"
      ],
      "metadata": {
        "id": "LiKUybQiqM4C"
      },
      "id": "LiKUybQiqM4C"
    },
    {
      "cell_type": "code",
      "source": [
        "svm_kernel_sigmoid = svm.SVC(kernel = 'sigmoid')\n",
        "prob_sigmoid = svm_kernel_sigmoid.fit(X_treino, y_treino)"
      ],
      "metadata": {
        "id": "LzEBhFS-qBrq"
      },
      "execution_count": 33,
      "outputs": [],
      "id": "LzEBhFS-qBrq"
    },
    {
      "cell_type": "code",
      "source": [
        "pred_svm_sigmoid = svm_kernel_sigmoid.predict(X_teste)\n",
        "print(\"Acurácia =\", accuracy_score(y_teste, pred_svm_sigmoid) * 100)"
      ],
      "metadata": {
        "colab": {
          "base_uri": "https://localhost:8080/"
        },
        "outputId": "61521a8f-d84d-462b-e950-ed04bf9197ec",
        "id": "s65RtHrGqBrr"
      },
      "execution_count": 34,
      "outputs": [
        {
          "output_type": "stream",
          "name": "stdout",
          "text": [
            "Acurácia = 97.87951807228914\n"
          ]
        }
      ],
      "id": "s65RtHrGqBrr"
    },
    {
      "cell_type": "markdown",
      "source": [
        "#SVM Kernel Poly"
      ],
      "metadata": {
        "id": "eWyTEG-oqHXf"
      },
      "id": "eWyTEG-oqHXf"
    },
    {
      "cell_type": "code",
      "source": [
        "svm_kernel_poly = svm.SVC(kernel = 'poly')\n",
        "prob_poly = svm_kernel_poly.fit(X_treino, y_treino)"
      ],
      "metadata": {
        "id": "IwU2GIFzqCNG"
      },
      "execution_count": 35,
      "outputs": [],
      "id": "IwU2GIFzqCNG"
    },
    {
      "cell_type": "code",
      "source": [
        "pred_svm_poly = svm_kernel_poly.predict(X_teste)\n",
        "print(\"Acurácia =\", accuracy_score(y_teste, pred_svm_poly) * 100)"
      ],
      "metadata": {
        "colab": {
          "base_uri": "https://localhost:8080/"
        },
        "outputId": "869b96ee-fda4-4ca8-eece-e8632470bb3b",
        "id": "GVcRcnZWqCNG"
      },
      "execution_count": 36,
      "outputs": [
        {
          "output_type": "stream",
          "name": "stdout",
          "text": [
            "Acurácia = 97.01204819277109\n"
          ]
        }
      ],
      "id": "GVcRcnZWqCNG"
    }
  ],
  "metadata": {
    "kernelspec": {
      "display_name": "Python 3 (ipykernel)",
      "language": "python",
      "name": "python3"
    },
    "language_info": {
      "codemirror_mode": {
        "name": "ipython",
        "version": 3
      },
      "file_extension": ".py",
      "mimetype": "text/x-python",
      "name": "python",
      "nbconvert_exporter": "python",
      "pygments_lexer": "ipython3",
      "version": "3.7.12"
    },
    "colab": {
      "name": "Copy of Fiocruz.ipynb",
      "provenance": [],
      "collapsed_sections": [],
      "toc_visible": true,
      "include_colab_link": true
    }
  },
  "nbformat": 4,
  "nbformat_minor": 5
}