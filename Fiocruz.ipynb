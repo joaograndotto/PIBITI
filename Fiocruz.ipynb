{
  "cells": [
    {
      "cell_type": "code",
      "execution_count": 72,
      "id": "2a091b68",
      "metadata": {
        "id": "2a091b68"
      },
      "outputs": [],
      "source": [
        "import numpy as np \n",
        "import pandas as pd"
      ]
    },
    {
      "cell_type": "code",
      "execution_count": 73,
      "id": "8f8216b0",
      "metadata": {
        "id": "8f8216b0"
      },
      "outputs": [],
      "source": [
        "url = \"https://raw.githubusercontent.com/joaograndotto/PIBITI/main/Datasets/dados_multi_classe.csv\"\n",
        "df = pd.read_csv(url, delimiter=',')"
      ]
    },
    {
      "cell_type": "code",
      "execution_count": 74,
      "id": "0bc49606",
      "metadata": {
        "id": "0bc49606",
        "outputId": "da892fd5-578c-4384-ff7d-ea8925881ce4",
        "colab": {
          "base_uri": "https://localhost:8080/",
          "height": 423
        }
      },
      "outputs": [
        {
          "output_type": "execute_result",
          "data": {
            "text/html": [
              "\n",
              "  <div id=\"df-d38e82b3-2d3b-49e6-bcb8-feff8fafab91\">\n",
              "    <div class=\"colab-df-container\">\n",
              "      <div>\n",
              "<style scoped>\n",
              "    .dataframe tbody tr th:only-of-type {\n",
              "        vertical-align: middle;\n",
              "    }\n",
              "\n",
              "    .dataframe tbody tr th {\n",
              "        vertical-align: top;\n",
              "    }\n",
              "\n",
              "    .dataframe thead th {\n",
              "        text-align: right;\n",
              "    }\n",
              "</style>\n",
              "<table border=\"1\" class=\"dataframe\">\n",
              "  <thead>\n",
              "    <tr style=\"text-align: right;\">\n",
              "      <th></th>\n",
              "      <th>Institution</th>\n",
              "      <th>Affiliations</th>\n",
              "    </tr>\n",
              "  </thead>\n",
              "  <tbody>\n",
              "    <tr>\n",
              "      <th>0</th>\n",
              "      <td>aristotle university greece</td>\n",
              "      <td>1st department of ophthalmology aristotle univ...</td>\n",
              "    </tr>\n",
              "    <tr>\n",
              "      <th>1</th>\n",
              "      <td>aristotle university greece</td>\n",
              "      <td>aristotle univ thessaloniki greece</td>\n",
              "    </tr>\n",
              "    <tr>\n",
              "      <th>2</th>\n",
              "      <td>aristotle university greece</td>\n",
              "      <td>aristotle univ thessaloniki thessaloniki greece</td>\n",
              "    </tr>\n",
              "    <tr>\n",
              "      <th>3</th>\n",
              "      <td>aristotle university greece</td>\n",
              "      <td>aristotle university of thessaloniki greece</td>\n",
              "    </tr>\n",
              "    <tr>\n",
              "      <th>4</th>\n",
              "      <td>aristotle university greece</td>\n",
              "      <td>aristotle university of thessaloniki thessalon...</td>\n",
              "    </tr>\n",
              "    <tr>\n",
              "      <th>...</th>\n",
              "      <td>...</td>\n",
              "      <td>...</td>\n",
              "    </tr>\n",
              "    <tr>\n",
              "      <th>122929</th>\n",
              "      <td>universidade federal reconcavo</td>\n",
              "      <td>univ fed reconcavo bahia, centro formacao prof...</td>\n",
              "    </tr>\n",
              "    <tr>\n",
              "      <th>122930</th>\n",
              "      <td>unesp</td>\n",
              "      <td>unesp-marilia</td>\n",
              "    </tr>\n",
              "    <tr>\n",
              "      <th>122931</th>\n",
              "      <td>universidade federal campina grande</td>\n",
              "      <td>univ federal campina grande</td>\n",
              "    </tr>\n",
              "    <tr>\n",
              "      <th>122932</th>\n",
              "      <td>revista saude publica</td>\n",
              "      <td>revista de saude publica</td>\n",
              "    </tr>\n",
              "    <tr>\n",
              "      <th>122933</th>\n",
              "      <td>universidade nove julho</td>\n",
              "      <td>univ nove julho</td>\n",
              "    </tr>\n",
              "  </tbody>\n",
              "</table>\n",
              "<p>122934 rows × 2 columns</p>\n",
              "</div>\n",
              "      <button class=\"colab-df-convert\" onclick=\"convertToInteractive('df-d38e82b3-2d3b-49e6-bcb8-feff8fafab91')\"\n",
              "              title=\"Convert this dataframe to an interactive table.\"\n",
              "              style=\"display:none;\">\n",
              "        \n",
              "  <svg xmlns=\"http://www.w3.org/2000/svg\" height=\"24px\"viewBox=\"0 0 24 24\"\n",
              "       width=\"24px\">\n",
              "    <path d=\"M0 0h24v24H0V0z\" fill=\"none\"/>\n",
              "    <path d=\"M18.56 5.44l.94 2.06.94-2.06 2.06-.94-2.06-.94-.94-2.06-.94 2.06-2.06.94zm-11 1L8.5 8.5l.94-2.06 2.06-.94-2.06-.94L8.5 2.5l-.94 2.06-2.06.94zm10 10l.94 2.06.94-2.06 2.06-.94-2.06-.94-.94-2.06-.94 2.06-2.06.94z\"/><path d=\"M17.41 7.96l-1.37-1.37c-.4-.4-.92-.59-1.43-.59-.52 0-1.04.2-1.43.59L10.3 9.45l-7.72 7.72c-.78.78-.78 2.05 0 2.83L4 21.41c.39.39.9.59 1.41.59.51 0 1.02-.2 1.41-.59l7.78-7.78 2.81-2.81c.8-.78.8-2.07 0-2.86zM5.41 20L4 18.59l7.72-7.72 1.47 1.35L5.41 20z\"/>\n",
              "  </svg>\n",
              "      </button>\n",
              "      \n",
              "  <style>\n",
              "    .colab-df-container {\n",
              "      display:flex;\n",
              "      flex-wrap:wrap;\n",
              "      gap: 12px;\n",
              "    }\n",
              "\n",
              "    .colab-df-convert {\n",
              "      background-color: #E8F0FE;\n",
              "      border: none;\n",
              "      border-radius: 50%;\n",
              "      cursor: pointer;\n",
              "      display: none;\n",
              "      fill: #1967D2;\n",
              "      height: 32px;\n",
              "      padding: 0 0 0 0;\n",
              "      width: 32px;\n",
              "    }\n",
              "\n",
              "    .colab-df-convert:hover {\n",
              "      background-color: #E2EBFA;\n",
              "      box-shadow: 0px 1px 2px rgba(60, 64, 67, 0.3), 0px 1px 3px 1px rgba(60, 64, 67, 0.15);\n",
              "      fill: #174EA6;\n",
              "    }\n",
              "\n",
              "    [theme=dark] .colab-df-convert {\n",
              "      background-color: #3B4455;\n",
              "      fill: #D2E3FC;\n",
              "    }\n",
              "\n",
              "    [theme=dark] .colab-df-convert:hover {\n",
              "      background-color: #434B5C;\n",
              "      box-shadow: 0px 1px 3px 1px rgba(0, 0, 0, 0.15);\n",
              "      filter: drop-shadow(0px 1px 2px rgba(0, 0, 0, 0.3));\n",
              "      fill: #FFFFFF;\n",
              "    }\n",
              "  </style>\n",
              "\n",
              "      <script>\n",
              "        const buttonEl =\n",
              "          document.querySelector('#df-d38e82b3-2d3b-49e6-bcb8-feff8fafab91 button.colab-df-convert');\n",
              "        buttonEl.style.display =\n",
              "          google.colab.kernel.accessAllowed ? 'block' : 'none';\n",
              "\n",
              "        async function convertToInteractive(key) {\n",
              "          const element = document.querySelector('#df-d38e82b3-2d3b-49e6-bcb8-feff8fafab91');\n",
              "          const dataTable =\n",
              "            await google.colab.kernel.invokeFunction('convertToInteractive',\n",
              "                                                     [key], {});\n",
              "          if (!dataTable) return;\n",
              "\n",
              "          const docLinkHtml = 'Like what you see? Visit the ' +\n",
              "            '<a target=\"_blank\" href=https://colab.research.google.com/notebooks/data_table.ipynb>data table notebook</a>'\n",
              "            + ' to learn more about interactive tables.';\n",
              "          element.innerHTML = '';\n",
              "          dataTable['output_type'] = 'display_data';\n",
              "          await google.colab.output.renderOutput(dataTable, element);\n",
              "          const docLink = document.createElement('div');\n",
              "          docLink.innerHTML = docLinkHtml;\n",
              "          element.appendChild(docLink);\n",
              "        }\n",
              "      </script>\n",
              "    </div>\n",
              "  </div>\n",
              "  "
            ],
            "text/plain": [
              "                                Institution                                       Affiliations\n",
              "0               aristotle university greece  1st department of ophthalmology aristotle univ...\n",
              "1               aristotle university greece                 aristotle univ thessaloniki greece\n",
              "2               aristotle university greece    aristotle univ thessaloniki thessaloniki greece\n",
              "3               aristotle university greece        aristotle university of thessaloniki greece\n",
              "4               aristotle university greece  aristotle university of thessaloniki thessalon...\n",
              "...                                     ...                                                ...\n",
              "122929       universidade federal reconcavo  univ fed reconcavo bahia, centro formacao prof...\n",
              "122930                                unesp                                      unesp-marilia\n",
              "122931  universidade federal campina grande                        univ federal campina grande\n",
              "122932                revista saude publica                           revista de saude publica\n",
              "122933              universidade nove julho                                    univ nove julho\n",
              "\n",
              "[122934 rows x 2 columns]"
            ]
          },
          "metadata": {},
          "execution_count": 74
        }
      ],
      "source": [
        "df"
      ]
    },
    {
      "cell_type": "code",
      "execution_count": 75,
      "id": "a1a9fe25",
      "metadata": {
        "id": "a1a9fe25"
      },
      "outputs": [],
      "source": [
        "fiocruz = df[df['Institution'].str.contains(\"fiocruz\")]"
      ]
    },
    {
      "cell_type": "code",
      "execution_count": 76,
      "id": "9854812c",
      "metadata": {
        "id": "9854812c",
        "outputId": "b268da47-a220-44e8-eaf1-b96e3e575c4b",
        "colab": {
          "base_uri": "https://localhost:8080/"
        }
      },
      "outputs": [
        {
          "output_type": "execute_result",
          "data": {
            "text/plain": [
              "20745"
            ]
          },
          "metadata": {},
          "execution_count": 76
        }
      ],
      "source": [
        "fiocruz.shape[0]"
      ]
    },
    {
      "cell_type": "code",
      "execution_count": 77,
      "id": "ba441fca",
      "metadata": {
        "id": "ba441fca",
        "outputId": "a47bc1de-8e07-4c6e-e4c0-9bec638157cb",
        "colab": {
          "base_uri": "https://localhost:8080/",
          "height": 363
        }
      },
      "outputs": [
        {
          "output_type": "execute_result",
          "data": {
            "text/html": [
              "\n",
              "  <div id=\"df-d9695277-e75b-4d98-a4a7-932942ede524\">\n",
              "    <div class=\"colab-df-container\">\n",
              "      <div>\n",
              "<style scoped>\n",
              "    .dataframe tbody tr th:only-of-type {\n",
              "        vertical-align: middle;\n",
              "    }\n",
              "\n",
              "    .dataframe tbody tr th {\n",
              "        vertical-align: top;\n",
              "    }\n",
              "\n",
              "    .dataframe thead th {\n",
              "        text-align: right;\n",
              "    }\n",
              "</style>\n",
              "<table border=\"1\" class=\"dataframe\">\n",
              "  <thead>\n",
              "    <tr style=\"text-align: right;\">\n",
              "      <th></th>\n",
              "      <th>Institution</th>\n",
              "      <th>Affiliations</th>\n",
              "    </tr>\n",
              "  </thead>\n",
              "  <tbody>\n",
              "    <tr>\n",
              "      <th>15254</th>\n",
              "      <td>ensp  escola nacional de saúde pública sérgio ...</td>\n",
              "      <td>oswaldo cruz foundation national school of pub...</td>\n",
              "    </tr>\n",
              "    <tr>\n",
              "      <th>42199</th>\n",
              "      <td>incqs  instituto nacional de controle de quali...</td>\n",
              "      <td>national institute of quality control in healt...</td>\n",
              "    </tr>\n",
              "    <tr>\n",
              "      <th>14505</th>\n",
              "      <td>ensp  escola nacional de saúde pública sérgio ...</td>\n",
              "      <td>fundacao oswaldo cruz  fiocruz escola nacional...</td>\n",
              "    </tr>\n",
              "    <tr>\n",
              "      <th>12979</th>\n",
              "      <td>ensp  escola nacional de saúde pública sérgio ...</td>\n",
              "      <td>departamento de endemias samuel pessoa escola ...</td>\n",
              "    </tr>\n",
              "    <tr>\n",
              "      <th>28060</th>\n",
              "      <td>fiocruz  ro</td>\n",
              "      <td>fundação oswaldo cruzrondônia porto velho ro b...</td>\n",
              "    </tr>\n",
              "    <tr>\n",
              "      <th>13669</th>\n",
              "      <td>ensp  escola nacional de saúde pública sérgio ...</td>\n",
              "      <td>escola nacional de saude publica sergio arouca...</td>\n",
              "    </tr>\n",
              "    <tr>\n",
              "      <th>44363</th>\n",
              "      <td>ini  instituto nacional de infectologia evandr...</td>\n",
              "      <td>laboratorio de micologia setor de imunodiagnos...</td>\n",
              "    </tr>\n",
              "    <tr>\n",
              "      <th>13575</th>\n",
              "      <td>ensp  escola nacional de saúde pública sérgio ...</td>\n",
              "      <td>ensp fiocruz imsuerj brazil</td>\n",
              "    </tr>\n",
              "    <tr>\n",
              "      <th>19272</th>\n",
              "      <td>fiocruz  am  instituto leônidas e maria deane ...</td>\n",
              "      <td>postgraduate program in living conditions and ...</td>\n",
              "    </tr>\n",
              "    <tr>\n",
              "      <th>44795</th>\n",
              "      <td>ini  instituto nacional de infectologia evandr...</td>\n",
              "      <td>laboratório de pesquisa clínica em doença de c...</td>\n",
              "    </tr>\n",
              "  </tbody>\n",
              "</table>\n",
              "</div>\n",
              "      <button class=\"colab-df-convert\" onclick=\"convertToInteractive('df-d9695277-e75b-4d98-a4a7-932942ede524')\"\n",
              "              title=\"Convert this dataframe to an interactive table.\"\n",
              "              style=\"display:none;\">\n",
              "        \n",
              "  <svg xmlns=\"http://www.w3.org/2000/svg\" height=\"24px\"viewBox=\"0 0 24 24\"\n",
              "       width=\"24px\">\n",
              "    <path d=\"M0 0h24v24H0V0z\" fill=\"none\"/>\n",
              "    <path d=\"M18.56 5.44l.94 2.06.94-2.06 2.06-.94-2.06-.94-.94-2.06-.94 2.06-2.06.94zm-11 1L8.5 8.5l.94-2.06 2.06-.94-2.06-.94L8.5 2.5l-.94 2.06-2.06.94zm10 10l.94 2.06.94-2.06 2.06-.94-2.06-.94-.94-2.06-.94 2.06-2.06.94z\"/><path d=\"M17.41 7.96l-1.37-1.37c-.4-.4-.92-.59-1.43-.59-.52 0-1.04.2-1.43.59L10.3 9.45l-7.72 7.72c-.78.78-.78 2.05 0 2.83L4 21.41c.39.39.9.59 1.41.59.51 0 1.02-.2 1.41-.59l7.78-7.78 2.81-2.81c.8-.78.8-2.07 0-2.86zM5.41 20L4 18.59l7.72-7.72 1.47 1.35L5.41 20z\"/>\n",
              "  </svg>\n",
              "      </button>\n",
              "      \n",
              "  <style>\n",
              "    .colab-df-container {\n",
              "      display:flex;\n",
              "      flex-wrap:wrap;\n",
              "      gap: 12px;\n",
              "    }\n",
              "\n",
              "    .colab-df-convert {\n",
              "      background-color: #E8F0FE;\n",
              "      border: none;\n",
              "      border-radius: 50%;\n",
              "      cursor: pointer;\n",
              "      display: none;\n",
              "      fill: #1967D2;\n",
              "      height: 32px;\n",
              "      padding: 0 0 0 0;\n",
              "      width: 32px;\n",
              "    }\n",
              "\n",
              "    .colab-df-convert:hover {\n",
              "      background-color: #E2EBFA;\n",
              "      box-shadow: 0px 1px 2px rgba(60, 64, 67, 0.3), 0px 1px 3px 1px rgba(60, 64, 67, 0.15);\n",
              "      fill: #174EA6;\n",
              "    }\n",
              "\n",
              "    [theme=dark] .colab-df-convert {\n",
              "      background-color: #3B4455;\n",
              "      fill: #D2E3FC;\n",
              "    }\n",
              "\n",
              "    [theme=dark] .colab-df-convert:hover {\n",
              "      background-color: #434B5C;\n",
              "      box-shadow: 0px 1px 3px 1px rgba(0, 0, 0, 0.15);\n",
              "      filter: drop-shadow(0px 1px 2px rgba(0, 0, 0, 0.3));\n",
              "      fill: #FFFFFF;\n",
              "    }\n",
              "  </style>\n",
              "\n",
              "      <script>\n",
              "        const buttonEl =\n",
              "          document.querySelector('#df-d9695277-e75b-4d98-a4a7-932942ede524 button.colab-df-convert');\n",
              "        buttonEl.style.display =\n",
              "          google.colab.kernel.accessAllowed ? 'block' : 'none';\n",
              "\n",
              "        async function convertToInteractive(key) {\n",
              "          const element = document.querySelector('#df-d9695277-e75b-4d98-a4a7-932942ede524');\n",
              "          const dataTable =\n",
              "            await google.colab.kernel.invokeFunction('convertToInteractive',\n",
              "                                                     [key], {});\n",
              "          if (!dataTable) return;\n",
              "\n",
              "          const docLinkHtml = 'Like what you see? Visit the ' +\n",
              "            '<a target=\"_blank\" href=https://colab.research.google.com/notebooks/data_table.ipynb>data table notebook</a>'\n",
              "            + ' to learn more about interactive tables.';\n",
              "          element.innerHTML = '';\n",
              "          dataTable['output_type'] = 'display_data';\n",
              "          await google.colab.output.renderOutput(dataTable, element);\n",
              "          const docLink = document.createElement('div');\n",
              "          docLink.innerHTML = docLinkHtml;\n",
              "          element.appendChild(docLink);\n",
              "        }\n",
              "      </script>\n",
              "    </div>\n",
              "  </div>\n",
              "  "
            ],
            "text/plain": [
              "                                             Institution                                       Affiliations\n",
              "15254  ensp  escola nacional de saúde pública sérgio ...  oswaldo cruz foundation national school of pub...\n",
              "42199  incqs  instituto nacional de controle de quali...  national institute of quality control in healt...\n",
              "14505  ensp  escola nacional de saúde pública sérgio ...  fundacao oswaldo cruz  fiocruz escola nacional...\n",
              "12979  ensp  escola nacional de saúde pública sérgio ...  departamento de endemias samuel pessoa escola ...\n",
              "28060                                        fiocruz  ro  fundação oswaldo cruzrondônia porto velho ro b...\n",
              "13669  ensp  escola nacional de saúde pública sérgio ...  escola nacional de saude publica sergio arouca...\n",
              "44363  ini  instituto nacional de infectologia evandr...  laboratorio de micologia setor de imunodiagnos...\n",
              "13575  ensp  escola nacional de saúde pública sérgio ...                        ensp fiocruz imsuerj brazil\n",
              "19272  fiocruz  am  instituto leônidas e maria deane ...  postgraduate program in living conditions and ...\n",
              "44795  ini  instituto nacional de infectologia evandr...  laboratório de pesquisa clínica em doença de c..."
            ]
          },
          "metadata": {},
          "execution_count": 77
        }
      ],
      "source": [
        "fiocruz.sample(n=10)"
      ]
    },
    {
      "cell_type": "code",
      "execution_count": 78,
      "id": "1834ee2d",
      "metadata": {
        "id": "1834ee2d"
      },
      "outputs": [],
      "source": [
        "df = fiocruz.to_csv(\"dicionario_fiocruz.tsv\", sep = \"\\t\", index=False)"
      ]
    },
    {
      "cell_type": "code",
      "source": [
        "url = \"/content/dicionario_fiocruz.tsv\"\n",
        "df = pd.read_csv(url, delimiter='\\t')"
      ],
      "metadata": {
        "id": "IpqRCvMSk_3G"
      },
      "id": "IpqRCvMSk_3G",
      "execution_count": 79,
      "outputs": []
    },
    {
      "cell_type": "code",
      "execution_count": 80,
      "metadata": {
        "id": "e83f0d1d"
      },
      "outputs": [],
      "source": [
        "import numpy as np \n",
        "import pandas as pd\n",
        "import matplotlib.pyplot as plt\n",
        "from sklearn.tree import DecisionTreeClassifier, export_graphviz, plot_tree\n",
        "from sklearn import preprocessing, metrics\n",
        "from sklearn.model_selection import train_test_split\n",
        "import matplotlib.image as mpimg\n",
        "from sklearn.metrics import classification_report, confusion_matrix\n",
        "from IPython.display import Image \n",
        "from six import StringIO\n",
        "from sklearn.neighbors import KNeighborsClassifier\n",
        "from sklearn.metrics import confusion_matrix, accuracy_score\n",
        "from sklearn.ensemble import RandomForestClassifier\n",
        "from sklearn import svm"
      ],
      "id": "e83f0d1d"
    },
    {
      "cell_type": "code",
      "execution_count": 81,
      "metadata": {
        "id": "34fe2826"
      },
      "outputs": [],
      "source": [
        "url = \"https://raw.githubusercontent.com/joaograndotto/PIBITI/main/Datasets/dicionario_fiocruz.tsv\"\n",
        "df = pd.read_csv(url, delimiter='\\t')"
      ],
      "id": "34fe2826"
    },
    {
      "cell_type": "code",
      "execution_count": 82,
      "metadata": {
        "id": "7ffed5c8",
        "outputId": "06ef2844-5c3a-48ac-80a8-f782551d7461",
        "colab": {
          "base_uri": "https://localhost:8080/",
          "height": 143
        }
      },
      "outputs": [
        {
          "output_type": "execute_result",
          "data": {
            "text/html": [
              "\n",
              "  <div id=\"df-57d4b660-ed0b-431e-be02-673bd074bf6e\">\n",
              "    <div class=\"colab-df-container\">\n",
              "      <div>\n",
              "<style scoped>\n",
              "    .dataframe tbody tr th:only-of-type {\n",
              "        vertical-align: middle;\n",
              "    }\n",
              "\n",
              "    .dataframe tbody tr th {\n",
              "        vertical-align: top;\n",
              "    }\n",
              "\n",
              "    .dataframe thead th {\n",
              "        text-align: right;\n",
              "    }\n",
              "</style>\n",
              "<table border=\"1\" class=\"dataframe\">\n",
              "  <thead>\n",
              "    <tr style=\"text-align: right;\">\n",
              "      <th></th>\n",
              "      <th>Institution</th>\n",
              "      <th>Affiliations</th>\n",
              "    </tr>\n",
              "  </thead>\n",
              "  <tbody>\n",
              "    <tr>\n",
              "      <th>5986</th>\n",
              "      <td>fiocruz  am  instituto leônidas e maria deane ...</td>\n",
              "      <td>instituto leônidas e maria deane fundação oswa...</td>\n",
              "    </tr>\n",
              "    <tr>\n",
              "      <th>17403</th>\n",
              "      <td>incqs  instituto nacional de controle de quali...</td>\n",
              "      <td>departamento de química instituto nacional de ...</td>\n",
              "    </tr>\n",
              "    <tr>\n",
              "      <th>3923</th>\n",
              "      <td>ensp  escola nacional de saúde pública sérgio ...</td>\n",
              "      <td>national school of public health sergio arouca...</td>\n",
              "    </tr>\n",
              "  </tbody>\n",
              "</table>\n",
              "</div>\n",
              "      <button class=\"colab-df-convert\" onclick=\"convertToInteractive('df-57d4b660-ed0b-431e-be02-673bd074bf6e')\"\n",
              "              title=\"Convert this dataframe to an interactive table.\"\n",
              "              style=\"display:none;\">\n",
              "        \n",
              "  <svg xmlns=\"http://www.w3.org/2000/svg\" height=\"24px\"viewBox=\"0 0 24 24\"\n",
              "       width=\"24px\">\n",
              "    <path d=\"M0 0h24v24H0V0z\" fill=\"none\"/>\n",
              "    <path d=\"M18.56 5.44l.94 2.06.94-2.06 2.06-.94-2.06-.94-.94-2.06-.94 2.06-2.06.94zm-11 1L8.5 8.5l.94-2.06 2.06-.94-2.06-.94L8.5 2.5l-.94 2.06-2.06.94zm10 10l.94 2.06.94-2.06 2.06-.94-2.06-.94-.94-2.06-.94 2.06-2.06.94z\"/><path d=\"M17.41 7.96l-1.37-1.37c-.4-.4-.92-.59-1.43-.59-.52 0-1.04.2-1.43.59L10.3 9.45l-7.72 7.72c-.78.78-.78 2.05 0 2.83L4 21.41c.39.39.9.59 1.41.59.51 0 1.02-.2 1.41-.59l7.78-7.78 2.81-2.81c.8-.78.8-2.07 0-2.86zM5.41 20L4 18.59l7.72-7.72 1.47 1.35L5.41 20z\"/>\n",
              "  </svg>\n",
              "      </button>\n",
              "      \n",
              "  <style>\n",
              "    .colab-df-container {\n",
              "      display:flex;\n",
              "      flex-wrap:wrap;\n",
              "      gap: 12px;\n",
              "    }\n",
              "\n",
              "    .colab-df-convert {\n",
              "      background-color: #E8F0FE;\n",
              "      border: none;\n",
              "      border-radius: 50%;\n",
              "      cursor: pointer;\n",
              "      display: none;\n",
              "      fill: #1967D2;\n",
              "      height: 32px;\n",
              "      padding: 0 0 0 0;\n",
              "      width: 32px;\n",
              "    }\n",
              "\n",
              "    .colab-df-convert:hover {\n",
              "      background-color: #E2EBFA;\n",
              "      box-shadow: 0px 1px 2px rgba(60, 64, 67, 0.3), 0px 1px 3px 1px rgba(60, 64, 67, 0.15);\n",
              "      fill: #174EA6;\n",
              "    }\n",
              "\n",
              "    [theme=dark] .colab-df-convert {\n",
              "      background-color: #3B4455;\n",
              "      fill: #D2E3FC;\n",
              "    }\n",
              "\n",
              "    [theme=dark] .colab-df-convert:hover {\n",
              "      background-color: #434B5C;\n",
              "      box-shadow: 0px 1px 3px 1px rgba(0, 0, 0, 0.15);\n",
              "      filter: drop-shadow(0px 1px 2px rgba(0, 0, 0, 0.3));\n",
              "      fill: #FFFFFF;\n",
              "    }\n",
              "  </style>\n",
              "\n",
              "      <script>\n",
              "        const buttonEl =\n",
              "          document.querySelector('#df-57d4b660-ed0b-431e-be02-673bd074bf6e button.colab-df-convert');\n",
              "        buttonEl.style.display =\n",
              "          google.colab.kernel.accessAllowed ? 'block' : 'none';\n",
              "\n",
              "        async function convertToInteractive(key) {\n",
              "          const element = document.querySelector('#df-57d4b660-ed0b-431e-be02-673bd074bf6e');\n",
              "          const dataTable =\n",
              "            await google.colab.kernel.invokeFunction('convertToInteractive',\n",
              "                                                     [key], {});\n",
              "          if (!dataTable) return;\n",
              "\n",
              "          const docLinkHtml = 'Like what you see? Visit the ' +\n",
              "            '<a target=\"_blank\" href=https://colab.research.google.com/notebooks/data_table.ipynb>data table notebook</a>'\n",
              "            + ' to learn more about interactive tables.';\n",
              "          element.innerHTML = '';\n",
              "          dataTable['output_type'] = 'display_data';\n",
              "          await google.colab.output.renderOutput(dataTable, element);\n",
              "          const docLink = document.createElement('div');\n",
              "          docLink.innerHTML = docLinkHtml;\n",
              "          element.appendChild(docLink);\n",
              "        }\n",
              "      </script>\n",
              "    </div>\n",
              "  </div>\n",
              "  "
            ],
            "text/plain": [
              "                                             Institution                                       Affiliations\n",
              "5986   fiocruz  am  instituto leônidas e maria deane ...  instituto leônidas e maria deane fundação oswa...\n",
              "17403  incqs  instituto nacional de controle de quali...  departamento de química instituto nacional de ...\n",
              "3923   ensp  escola nacional de saúde pública sérgio ...  national school of public health sergio arouca..."
            ]
          },
          "metadata": {},
          "execution_count": 82
        }
      ],
      "source": [
        "df.sample(n=3)"
      ],
      "id": "7ffed5c8"
    },
    {
      "cell_type": "code",
      "execution_count": 83,
      "metadata": {
        "id": "3e866af1",
        "outputId": "870a5e8d-797e-4b47-cb01-6070559ca4b9",
        "colab": {
          "base_uri": "https://localhost:8080/"
        }
      },
      "outputs": [
        {
          "output_type": "execute_result",
          "data": {
            "text/plain": [
              "((20745,), (20745,))"
            ]
          },
          "metadata": {},
          "execution_count": 83
        }
      ],
      "source": [
        "X, y = df['Affiliations'],df['Institution']\n",
        "X.shape, y.shape"
      ],
      "id": "3e866af1"
    },
    {
      "cell_type": "code",
      "execution_count": 84,
      "metadata": {
        "id": "471da419",
        "outputId": "26077145-54db-4166-b692-74eed49222d3",
        "colab": {
          "base_uri": "https://localhost:8080/"
        }
      },
      "outputs": [
        {
          "output_type": "execute_result",
          "data": {
            "text/plain": [
              "0                                      biblioteca  fiocruz\n",
              "1        biblioteca de manguinhos avenida brasil 4365 m...\n",
              "2        department of health information oswaldo cruz ...\n",
              "3                        fiocruz  biblioteca de manguinhos\n",
              "4        health information fundação oswaldo cruz bibli...\n",
              "                               ...                        \n",
              "20740    scientific computing program oswaldo cruz foun...\n",
              "20741    scientific computing programoswaldo cruz found...\n",
              "20742    scientific computing programoswaldo cruz found...\n",
              "20743    scientific computing programme fundação oswald...\n",
              "20744    serviço de jornalismo e comunicação programa d...\n",
              "Name: Affiliations, Length: 20745, dtype: object"
            ]
          },
          "metadata": {},
          "execution_count": 84
        }
      ],
      "source": [
        "X"
      ],
      "id": "471da419"
    },
    {
      "cell_type": "code",
      "execution_count": 85,
      "metadata": {
        "id": "cd850f1b",
        "outputId": "012ac6a5-1cc6-406b-b49b-0621ee911b56",
        "colab": {
          "base_uri": "https://localhost:8080/"
        }
      },
      "outputs": [
        {
          "output_type": "stream",
          "name": "stdout",
          "text": [
            "[nltk_data] Downloading package stopwords to /root/nltk_data...\n",
            "[nltk_data]   Package stopwords is already up-to-date!\n"
          ]
        }
      ],
      "source": [
        "import nltk\n",
        "from sklearn.datasets import load_files\n",
        "nltk.download('stopwords')\n",
        "import pickle\n",
        "from nltk.corpus import stopwords"
      ],
      "id": "cd850f1b"
    },
    {
      "cell_type": "code",
      "execution_count": 86,
      "metadata": {
        "id": "e6c35e58"
      },
      "outputs": [],
      "source": [
        "palavrasIgnoradas = \\\n",
        "    stopwords.words('portuguese') + \\\n",
        "    stopwords.words('english') + \\\n",
        "    stopwords.words('german') + \\\n",
        "    stopwords.words('spanish')"
      ],
      "id": "e6c35e58"
    },
    {
      "cell_type": "code",
      "execution_count": 87,
      "metadata": {
        "id": "eedfd627"
      },
      "outputs": [],
      "source": [
        "from sklearn.feature_extraction.text import CountVectorizer\n",
        "vectorizer = CountVectorizer(\n",
        "    max_features = 1500, # vocabulário considera top max_features ordenadas por freq do termo no texto \n",
        "    min_df = 5, # ignorar termos com frequencia menr do que x, onde 0<=x<=1\n",
        "    max_df = 0.7, # ignorar termos com frequencia maior do que x, onde 0<=x<=1\n",
        "    stop_words = palavrasIgnoradas\n",
        ")"
      ],
      "id": "eedfd627"
    },
    {
      "cell_type": "code",
      "execution_count": 88,
      "metadata": {
        "id": "9b87dcae",
        "outputId": "e88e2d72-2d37-4638-a61b-e23d80be5851",
        "colab": {
          "base_uri": "https://localhost:8080/"
        }
      },
      "outputs": [
        {
          "output_type": "execute_result",
          "data": {
            "text/plain": [
              "<20745x1483 sparse matrix of type '<class 'numpy.int64'>'\n",
              "\twith 232127 stored elements in Compressed Sparse Row format>"
            ]
          },
          "metadata": {},
          "execution_count": 88
        }
      ],
      "source": [
        "vectorizer.fit_transform(X)"
      ],
      "id": "9b87dcae"
    },
    {
      "cell_type": "code",
      "execution_count": 89,
      "metadata": {
        "id": "feaad565"
      },
      "outputs": [],
      "source": [
        "X = vectorizer.fit_transform(X).toarray()"
      ],
      "id": "feaad565"
    },
    {
      "cell_type": "code",
      "execution_count": 90,
      "metadata": {
        "id": "077261f8"
      },
      "outputs": [],
      "source": [
        "from sklearn.feature_extraction.text import TfidfTransformer\n",
        "tfidfconverter = TfidfTransformer()\n",
        "X = tfidfconverter.fit_transform(X).toarray()"
      ],
      "id": "077261f8"
    },
    {
      "cell_type": "code",
      "execution_count": 91,
      "metadata": {
        "id": "a47a5591"
      },
      "outputs": [],
      "source": [
        "X_treino, X_teste, y_treino, y_teste = train_test_split(X, y, test_size=0.1, random_state=0, shuffle=True)"
      ],
      "id": "a47a5591"
    },
    {
      "cell_type": "code",
      "source": [
        "print(X_treino.shape)\n",
        "print(X_teste.shape)"
      ],
      "metadata": {
        "colab": {
          "base_uri": "https://localhost:8080/"
        },
        "id": "acWEGU-OqkbK",
        "outputId": "84f3453c-4411-4eff-c0f3-e418bf258d3c"
      },
      "id": "acWEGU-OqkbK",
      "execution_count": 92,
      "outputs": [
        {
          "output_type": "stream",
          "name": "stdout",
          "text": [
            "(18670, 1483)\n",
            "(2075, 1483)\n"
          ]
        }
      ]
    },
    {
      "cell_type": "markdown",
      "source": [
        "#K-Nearest Neighbors"
      ],
      "metadata": {
        "id": "SyjJqPyDmRNZ"
      },
      "id": "SyjJqPyDmRNZ"
    },
    {
      "cell_type": "code",
      "source": [
        "knn = KNeighborsClassifier()\n",
        "knn.fit(X_treino, y_treino)\n",
        "resultado_knn = knn.predict(X_teste)"
      ],
      "metadata": {
        "id": "Jy7mz7Z5mDZi"
      },
      "execution_count": 93,
      "outputs": [],
      "id": "Jy7mz7Z5mDZi"
    },
    {
      "cell_type": "code",
      "source": [
        "print(f\"Acurácia: {metrics.accuracy_score(y_teste, resultado_knn) * 100}\")"
      ],
      "metadata": {
        "colab": {
          "base_uri": "https://localhost:8080/"
        },
        "id": "UX1zbDrJsBRL",
        "outputId": "40c354f6-432d-487d-cced-0863f44633f8"
      },
      "execution_count": 94,
      "outputs": [
        {
          "output_type": "stream",
          "name": "stdout",
          "text": [
            "Acurácia: 96.67469879518073\n"
          ]
        }
      ],
      "id": "UX1zbDrJsBRL"
    },
    {
      "cell_type": "markdown",
      "source": [
        "# DecisionTree"
      ],
      "metadata": {
        "id": "aLRXfUmtRqNz"
      },
      "id": "aLRXfUmtRqNz"
    },
    {
      "cell_type": "code",
      "execution_count": 95,
      "metadata": {
        "id": "itcJPGROmiAa"
      },
      "outputs": [],
      "source": [
        "arvore = DecisionTreeClassifier(criterion='entropy' ,random_state=0)\n",
        "dt = arvore.fit(X_treino, y_treino)\n",
        "resultado_dt = dt.predict(X_teste)"
      ],
      "id": "itcJPGROmiAa"
    },
    {
      "cell_type": "code",
      "source": [
        "print(f\"Acurácia: {metrics.accuracy_score(y_teste, resultado_dt) * 100}\")"
      ],
      "metadata": {
        "colab": {
          "base_uri": "https://localhost:8080/"
        },
        "outputId": "c9ba0995-b60e-4607-f9e1-584a1063d2ca",
        "id": "hP_Lc8eGmiAa"
      },
      "execution_count": 96,
      "outputs": [
        {
          "output_type": "stream",
          "name": "stdout",
          "text": [
            "Acurácia: 94.74698795180723\n"
          ]
        }
      ],
      "id": "hP_Lc8eGmiAa"
    },
    {
      "cell_type": "markdown",
      "source": [
        "# RandomForest"
      ],
      "metadata": {
        "id": "PudTmltvmywG"
      },
      "id": "PudTmltvmywG"
    },
    {
      "cell_type": "code",
      "source": [
        "floresta = RandomForestClassifier(criterion='entropy', random_state=0)\n",
        "floresta.fit(X_treino, y_treino)\n",
        "resultado_rd = floresta.predict(X_teste)"
      ],
      "metadata": {
        "id": "0HyvhqnsPXib"
      },
      "execution_count": 97,
      "outputs": [],
      "id": "0HyvhqnsPXib"
    },
    {
      "cell_type": "code",
      "source": [
        "print(f\"Acurácia: {metrics.accuracy_score(y_teste, resultado_rd) * 100}\")"
      ],
      "metadata": {
        "id": "Qj3MlTb7gjKr",
        "colab": {
          "base_uri": "https://localhost:8080/"
        },
        "outputId": "2b4be8c4-2532-425e-d716-8051c7d69ed1"
      },
      "execution_count": 98,
      "outputs": [
        {
          "output_type": "stream",
          "name": "stdout",
          "text": [
            "Acurácia: 97.44578313253012\n"
          ]
        }
      ],
      "id": "Qj3MlTb7gjKr"
    },
    {
      "cell_type": "markdown",
      "source": [
        "# MultinomialNB"
      ],
      "metadata": {
        "id": "g42yONpQm7eW"
      },
      "id": "g42yONpQm7eW"
    },
    {
      "cell_type": "code",
      "source": [
        "from sklearn.naive_bayes import MultinomialNB\n",
        "nb = MultinomialNB()\n",
        "nb.fit(X_treino, y_treino)\n",
        "resultado_nb = nb.predict(X_teste)"
      ],
      "metadata": {
        "id": "uy26x50cFGGG"
      },
      "execution_count": 99,
      "outputs": [],
      "id": "uy26x50cFGGG"
    },
    {
      "cell_type": "code",
      "source": [
        "print(f\"Acurácia: {accuracy_score(y_teste, resultado_nb) * 100}\")"
      ],
      "metadata": {
        "colab": {
          "base_uri": "https://localhost:8080/"
        },
        "id": "VxAlFkGpFhwB",
        "outputId": "34aadc3e-2e4f-4fde-c4dc-7f8eeee90e0c"
      },
      "execution_count": 100,
      "outputs": [
        {
          "output_type": "stream",
          "name": "stdout",
          "text": [
            "Acurácia: 95.46987951807229\n"
          ]
        }
      ],
      "id": "VxAlFkGpFhwB"
    },
    {
      "cell_type": "markdown",
      "source": [
        "#SVM Kernel Linear"
      ],
      "metadata": {
        "id": "9VZUPt8ipmYT"
      },
      "id": "9VZUPt8ipmYT"
    },
    {
      "cell_type": "code",
      "source": [
        "svm_kernel_linear = svm.SVC(kernel = 'linear')\n",
        "prob_linear = svm_kernel_linear.fit(X_treino, y_treino)"
      ],
      "metadata": {
        "id": "JFyl_OvCoywO"
      },
      "id": "JFyl_OvCoywO",
      "execution_count": 101,
      "outputs": []
    },
    {
      "cell_type": "code",
      "source": [
        "pred_svm_linear = svm_kernel_linear.predict(X_teste)\n",
        "print(\"Acurácia =\", accuracy_score(y_teste, pred_svm_linear) * 100)"
      ],
      "metadata": {
        "colab": {
          "base_uri": "https://localhost:8080/"
        },
        "id": "2OHZ-_G3o0zC",
        "outputId": "f2a8f48e-47fd-4d49-be0d-d5908e67240c"
      },
      "id": "2OHZ-_G3o0zC",
      "execution_count": 102,
      "outputs": [
        {
          "output_type": "stream",
          "name": "stdout",
          "text": [
            "Acurácia = 98.02409638554217\n"
          ]
        }
      ]
    },
    {
      "cell_type": "markdown",
      "source": [
        "#SVM Kernel RBF"
      ],
      "metadata": {
        "id": "ZCxCWkggqJcD"
      },
      "id": "ZCxCWkggqJcD"
    },
    {
      "cell_type": "code",
      "source": [
        "svm_kernel_rbf = svm.SVC(kernel = 'rbf')\n",
        "prob_rbf = svm_kernel_rbf.fit(X_treino, y_treino)"
      ],
      "metadata": {
        "id": "nW7lrl0jqAxT"
      },
      "execution_count": 103,
      "outputs": [],
      "id": "nW7lrl0jqAxT"
    },
    {
      "cell_type": "code",
      "source": [
        "pred_svm_rbf = svm_kernel_rbf.predict(X_teste)\n",
        "print(\"Acurácia =\", accuracy_score(y_teste, pred_svm_rbf) * 100)"
      ],
      "metadata": {
        "colab": {
          "base_uri": "https://localhost:8080/"
        },
        "outputId": "33361b78-c96e-47ee-fb8b-a5af9be9ee07",
        "id": "j9mTHyyoqAxU"
      },
      "execution_count": 104,
      "outputs": [
        {
          "output_type": "stream",
          "name": "stdout",
          "text": [
            "Acurácia = 97.87951807228914\n"
          ]
        }
      ],
      "id": "j9mTHyyoqAxU"
    },
    {
      "cell_type": "markdown",
      "source": [
        "#SVM Kernel Sigmoid"
      ],
      "metadata": {
        "id": "LiKUybQiqM4C"
      },
      "id": "LiKUybQiqM4C"
    },
    {
      "cell_type": "code",
      "source": [
        "svm_kernel_sigmoid = svm.SVC(kernel = 'sigmoid')\n",
        "prob_sigmoid = svm_kernel_sigmoid.fit(X_treino, y_treino)"
      ],
      "metadata": {
        "id": "LzEBhFS-qBrq"
      },
      "execution_count": 105,
      "outputs": [],
      "id": "LzEBhFS-qBrq"
    },
    {
      "cell_type": "code",
      "source": [
        "pred_svm_sigmoid = svm_kernel_sigmoid.predict(X_teste)\n",
        "print(\"Acurácia =\", accuracy_score(y_teste, pred_svm_sigmoid) * 100)"
      ],
      "metadata": {
        "colab": {
          "base_uri": "https://localhost:8080/"
        },
        "outputId": "6cde4d59-b89c-4d72-eaea-4b738952fccd",
        "id": "s65RtHrGqBrr"
      },
      "execution_count": 106,
      "outputs": [
        {
          "output_type": "stream",
          "name": "stdout",
          "text": [
            "Acurácia = 97.87951807228914\n"
          ]
        }
      ],
      "id": "s65RtHrGqBrr"
    },
    {
      "cell_type": "markdown",
      "source": [
        "#SVM Kernel Poly"
      ],
      "metadata": {
        "id": "eWyTEG-oqHXf"
      },
      "id": "eWyTEG-oqHXf"
    },
    {
      "cell_type": "code",
      "source": [
        "svm_kernel_poly = svm.SVC(kernel = 'poly')\n",
        "prob_poly = svm_kernel_poly.fit(X_treino, y_treino)"
      ],
      "metadata": {
        "id": "IwU2GIFzqCNG"
      },
      "execution_count": 107,
      "outputs": [],
      "id": "IwU2GIFzqCNG"
    },
    {
      "cell_type": "code",
      "source": [
        "pred_svm_poly = svm_kernel_poly.predict(X_teste)\n",
        "print(\"Acurácia =\", accuracy_score(y_teste, pred_svm_poly) * 100)"
      ],
      "metadata": {
        "colab": {
          "base_uri": "https://localhost:8080/"
        },
        "outputId": "75ff8400-6491-4463-ea4f-53ca172000b2",
        "id": "GVcRcnZWqCNG"
      },
      "execution_count": 108,
      "outputs": [
        {
          "output_type": "stream",
          "name": "stdout",
          "text": [
            "Acurácia = 97.01204819277109\n"
          ]
        }
      ],
      "id": "GVcRcnZWqCNG"
    },
    {
      "cell_type": "markdown",
      "source": [
        "#Teste"
      ],
      "metadata": {
        "id": "koTkLIUxZZzW"
      },
      "id": "koTkLIUxZZzW"
    },
    {
      "cell_type": "code",
      "execution_count": 109,
      "metadata": {
        "outputId": "30f4410a-9a44-45f1-eb19-8dec3d93ce7d",
        "colab": {
          "base_uri": "https://localhost:8080/"
        },
        "id": "fje8uH7I_6_e"
      },
      "outputs": [
        {
          "output_type": "stream",
          "name": "stdout",
          "text": [
            "[nltk_data] Downloading package stopwords to /root/nltk_data...\n",
            "[nltk_data]   Package stopwords is already up-to-date!\n"
          ]
        }
      ],
      "source": [
        "import nltk\n",
        "from sklearn.datasets import load_files\n",
        "nltk.download('stopwords')\n",
        "import pickle\n",
        "from nltk.corpus import stopwords\n",
        "from sklearn. feature_extraction.text import TfidfVectorizer\n",
        "import pandas as pd \n",
        "from sklearn.pipeline import Pipeline\n",
        "from sklearn import svm"
      ],
      "id": "fje8uH7I_6_e"
    },
    {
      "cell_type": "code",
      "execution_count": 110,
      "metadata": {
        "id": "0uwBdtTJ_6_r"
      },
      "outputs": [],
      "source": [
        "palavrasIgnoradas = \\\n",
        "    stopwords.words('portuguese') + \\\n",
        "    stopwords.words('english') + \\\n",
        "    stopwords.words('german') + \\\n",
        "    stopwords.words('spanish')"
      ],
      "id": "0uwBdtTJ_6_r"
    },
    {
      "cell_type": "code",
      "source": [
        "from sklearn. feature_extraction.text import TfidfVectorizer\n",
        "import pandas as pd \n",
        "from sklearn.pipeline import Pipeline\n",
        "from sklearn import svm\n",
        "\n",
        "url = \"https://raw.githubusercontent.com/joaograndotto/PIBITI/main/Datasets/dicionario_fiocruz.tsv\"\n",
        "df = pd.read_csv(url, delimiter='\\t')\n",
        "\n",
        "\n",
        "model = Pipeline ([('tfidf', TfidfVectorizer(max_features = 1500, \n",
        "    min_df = 5, \n",
        "    max_df = 0.7,\n",
        "    stop_words = palavrasIgnoradas)), ('logreg', svm.SVC(kernel = 'linear'))])\n",
        "model.fit(df['Affiliations'], df['Institution'])\n",
        "Pipeline(steps=[('tfidf', TfidfVectorizer()), ('logreg', svm.SVC(kernel = 'linear'))])"
      ],
      "metadata": {
        "colab": {
          "base_uri": "https://localhost:8080/"
        },
        "id": "ApUn9oto465N",
        "outputId": "dea5d10f-ab4e-421b-e263-6e94f4b41397"
      },
      "id": "ApUn9oto465N",
      "execution_count": 111,
      "outputs": [
        {
          "output_type": "execute_result",
          "data": {
            "text/plain": [
              "Pipeline(steps=[('tfidf', TfidfVectorizer()), ('logreg', SVC(kernel='linear'))])"
            ]
          },
          "metadata": {},
          "execution_count": 111
        }
      ]
    },
    {
      "cell_type": "code",
      "source": [
        "test_dict = {'Goncalo Moniz': 'Instituto Goncalo Moniz Fiocruz Bahia',\n",
        "'Ageu Magalhaes':'Instituto Aggeu Magalhães',\n",
        "'Fnd Osw. Cruz':'Fundacao Oswaldo Cruz',\n",
        "'Fundacao Osvaldo Crus':'Fundacao Oswaldo Cruz',\n",
        "'Fnd Osw. Cruz':'Fiocruz',\n",
        "'Instituto Leônidas e Maria Deane':'Fiocruz Amazônia',\n",
        "'Instituto René Rachou':'Fiocruz Minas Gerais',\n",
        "'Instituto Carlos Chagas':'Fiocruz Paraná',\n",
        "'Gerência Regional de Brasília':'Fiocruz Brasília'}\n",
        "\n",
        "df_test = pd.DataFrame(test_dict.items(),columns=['Affiliations','Institution'])\n",
        "df_test"
      ],
      "metadata": {
        "colab": {
          "base_uri": "https://localhost:8080/",
          "height": 300
        },
        "id": "SXmVM_BavU3X",
        "outputId": "3adc0e39-a4e1-44ce-ad86-2a4310b3b3e9"
      },
      "id": "SXmVM_BavU3X",
      "execution_count": 112,
      "outputs": [
        {
          "output_type": "execute_result",
          "data": {
            "text/html": [
              "\n",
              "  <div id=\"df-58d7dd0f-4ca2-4dfb-bf18-9ab700889954\">\n",
              "    <div class=\"colab-df-container\">\n",
              "      <div>\n",
              "<style scoped>\n",
              "    .dataframe tbody tr th:only-of-type {\n",
              "        vertical-align: middle;\n",
              "    }\n",
              "\n",
              "    .dataframe tbody tr th {\n",
              "        vertical-align: top;\n",
              "    }\n",
              "\n",
              "    .dataframe thead th {\n",
              "        text-align: right;\n",
              "    }\n",
              "</style>\n",
              "<table border=\"1\" class=\"dataframe\">\n",
              "  <thead>\n",
              "    <tr style=\"text-align: right;\">\n",
              "      <th></th>\n",
              "      <th>Affiliations</th>\n",
              "      <th>Institution</th>\n",
              "    </tr>\n",
              "  </thead>\n",
              "  <tbody>\n",
              "    <tr>\n",
              "      <th>0</th>\n",
              "      <td>Goncalo Moniz</td>\n",
              "      <td>Instituto Goncalo Moniz Fiocruz Bahia</td>\n",
              "    </tr>\n",
              "    <tr>\n",
              "      <th>1</th>\n",
              "      <td>Ageu Magalhaes</td>\n",
              "      <td>Instituto Aggeu Magalhães</td>\n",
              "    </tr>\n",
              "    <tr>\n",
              "      <th>2</th>\n",
              "      <td>Fnd Osw. Cruz</td>\n",
              "      <td>Fiocruz</td>\n",
              "    </tr>\n",
              "    <tr>\n",
              "      <th>3</th>\n",
              "      <td>Fundacao Osvaldo Crus</td>\n",
              "      <td>Fundacao Oswaldo Cruz</td>\n",
              "    </tr>\n",
              "    <tr>\n",
              "      <th>4</th>\n",
              "      <td>Instituto Leônidas e Maria Deane</td>\n",
              "      <td>Fiocruz Amazônia</td>\n",
              "    </tr>\n",
              "    <tr>\n",
              "      <th>5</th>\n",
              "      <td>Instituto René Rachou</td>\n",
              "      <td>Fiocruz Minas Gerais</td>\n",
              "    </tr>\n",
              "    <tr>\n",
              "      <th>6</th>\n",
              "      <td>Instituto Carlos Chagas</td>\n",
              "      <td>Fiocruz Paraná</td>\n",
              "    </tr>\n",
              "    <tr>\n",
              "      <th>7</th>\n",
              "      <td>Gerência Regional de Brasília</td>\n",
              "      <td>Fiocruz Brasília</td>\n",
              "    </tr>\n",
              "  </tbody>\n",
              "</table>\n",
              "</div>\n",
              "      <button class=\"colab-df-convert\" onclick=\"convertToInteractive('df-58d7dd0f-4ca2-4dfb-bf18-9ab700889954')\"\n",
              "              title=\"Convert this dataframe to an interactive table.\"\n",
              "              style=\"display:none;\">\n",
              "        \n",
              "  <svg xmlns=\"http://www.w3.org/2000/svg\" height=\"24px\"viewBox=\"0 0 24 24\"\n",
              "       width=\"24px\">\n",
              "    <path d=\"M0 0h24v24H0V0z\" fill=\"none\"/>\n",
              "    <path d=\"M18.56 5.44l.94 2.06.94-2.06 2.06-.94-2.06-.94-.94-2.06-.94 2.06-2.06.94zm-11 1L8.5 8.5l.94-2.06 2.06-.94-2.06-.94L8.5 2.5l-.94 2.06-2.06.94zm10 10l.94 2.06.94-2.06 2.06-.94-2.06-.94-.94-2.06-.94 2.06-2.06.94z\"/><path d=\"M17.41 7.96l-1.37-1.37c-.4-.4-.92-.59-1.43-.59-.52 0-1.04.2-1.43.59L10.3 9.45l-7.72 7.72c-.78.78-.78 2.05 0 2.83L4 21.41c.39.39.9.59 1.41.59.51 0 1.02-.2 1.41-.59l7.78-7.78 2.81-2.81c.8-.78.8-2.07 0-2.86zM5.41 20L4 18.59l7.72-7.72 1.47 1.35L5.41 20z\"/>\n",
              "  </svg>\n",
              "      </button>\n",
              "      \n",
              "  <style>\n",
              "    .colab-df-container {\n",
              "      display:flex;\n",
              "      flex-wrap:wrap;\n",
              "      gap: 12px;\n",
              "    }\n",
              "\n",
              "    .colab-df-convert {\n",
              "      background-color: #E8F0FE;\n",
              "      border: none;\n",
              "      border-radius: 50%;\n",
              "      cursor: pointer;\n",
              "      display: none;\n",
              "      fill: #1967D2;\n",
              "      height: 32px;\n",
              "      padding: 0 0 0 0;\n",
              "      width: 32px;\n",
              "    }\n",
              "\n",
              "    .colab-df-convert:hover {\n",
              "      background-color: #E2EBFA;\n",
              "      box-shadow: 0px 1px 2px rgba(60, 64, 67, 0.3), 0px 1px 3px 1px rgba(60, 64, 67, 0.15);\n",
              "      fill: #174EA6;\n",
              "    }\n",
              "\n",
              "    [theme=dark] .colab-df-convert {\n",
              "      background-color: #3B4455;\n",
              "      fill: #D2E3FC;\n",
              "    }\n",
              "\n",
              "    [theme=dark] .colab-df-convert:hover {\n",
              "      background-color: #434B5C;\n",
              "      box-shadow: 0px 1px 3px 1px rgba(0, 0, 0, 0.15);\n",
              "      filter: drop-shadow(0px 1px 2px rgba(0, 0, 0, 0.3));\n",
              "      fill: #FFFFFF;\n",
              "    }\n",
              "  </style>\n",
              "\n",
              "      <script>\n",
              "        const buttonEl =\n",
              "          document.querySelector('#df-58d7dd0f-4ca2-4dfb-bf18-9ab700889954 button.colab-df-convert');\n",
              "        buttonEl.style.display =\n",
              "          google.colab.kernel.accessAllowed ? 'block' : 'none';\n",
              "\n",
              "        async function convertToInteractive(key) {\n",
              "          const element = document.querySelector('#df-58d7dd0f-4ca2-4dfb-bf18-9ab700889954');\n",
              "          const dataTable =\n",
              "            await google.colab.kernel.invokeFunction('convertToInteractive',\n",
              "                                                     [key], {});\n",
              "          if (!dataTable) return;\n",
              "\n",
              "          const docLinkHtml = 'Like what you see? Visit the ' +\n",
              "            '<a target=\"_blank\" href=https://colab.research.google.com/notebooks/data_table.ipynb>data table notebook</a>'\n",
              "            + ' to learn more about interactive tables.';\n",
              "          element.innerHTML = '';\n",
              "          dataTable['output_type'] = 'display_data';\n",
              "          await google.colab.output.renderOutput(dataTable, element);\n",
              "          const docLink = document.createElement('div');\n",
              "          docLink.innerHTML = docLinkHtml;\n",
              "          element.appendChild(docLink);\n",
              "        }\n",
              "      </script>\n",
              "    </div>\n",
              "  </div>\n",
              "  "
            ],
            "text/plain": [
              "                       Affiliations                            Institution\n",
              "0                     Goncalo Moniz  Instituto Goncalo Moniz Fiocruz Bahia\n",
              "1                    Ageu Magalhaes              Instituto Aggeu Magalhães\n",
              "2                     Fnd Osw. Cruz                                Fiocruz\n",
              "3             Fundacao Osvaldo Crus                  Fundacao Oswaldo Cruz\n",
              "4  Instituto Leônidas e Maria Deane                       Fiocruz Amazônia\n",
              "5             Instituto René Rachou                   Fiocruz Minas Gerais\n",
              "6           Instituto Carlos Chagas                         Fiocruz Paraná\n",
              "7     Gerência Regional de Brasília                       Fiocruz Brasília"
            ]
          },
          "metadata": {},
          "execution_count": 112
        }
      ]
    },
    {
      "cell_type": "code",
      "source": [
        "predict = model.predict(df_test['Affiliations'])\n",
        "predict"
      ],
      "metadata": {
        "colab": {
          "base_uri": "https://localhost:8080/"
        },
        "id": "WVGzWmlM9sui",
        "outputId": "40d4d90f-af3c-43af-99d8-f37c0f2909e2"
      },
      "id": "WVGzWmlM9sui",
      "execution_count": 113,
      "outputs": [
        {
          "output_type": "execute_result",
          "data": {
            "text/plain": [
              "array(['fiocruz  ba  centro de pesquisa gonçalo moniz  cpqgm',\n",
              "       'fiocruz  pe  instituto aggeu magalhães  cpqam',\n",
              "       'fiocruz  sem unidade', 'fiocruz  sem unidade',\n",
              "       'fiocruz  am  instituto leônidas e maria deane  ilmd',\n",
              "       'fiocruz  mg  rené rachou  cpqrr',\n",
              "       'fiocruz  pr  instituto carlos chagas icc',\n",
              "       'fiocruz  brasília darcy ribeiro gerencia regional'], dtype=object)"
            ]
          },
          "metadata": {},
          "execution_count": 113
        }
      ]
    },
    {
      "cell_type": "code",
      "source": [
        "predict = model.predict ( ['Filho cruz'. lower()])\n",
        "predict[0]"
      ],
      "metadata": {
        "colab": {
          "base_uri": "https://localhost:8080/",
          "height": 36
        },
        "id": "czE4dRrv5OtW",
        "outputId": "0251db23-e3f6-49f5-a77c-c77ea56d057e"
      },
      "id": "czE4dRrv5OtW",
      "execution_count": 114,
      "outputs": [
        {
          "output_type": "execute_result",
          "data": {
            "application/vnd.google.colaboratory.intrinsic+json": {
              "type": "string"
            },
            "text/plain": [
              "'fiocruz  sem unidade'"
            ]
          },
          "metadata": {},
          "execution_count": 114
        }
      ]
    },
    {
      "cell_type": "code",
      "source": [
        "predict = model.predict(['biblioteca de manguinhas'.lower()])\n",
        "predict[0]"
      ],
      "metadata": {
        "colab": {
          "base_uri": "https://localhost:8080/",
          "height": 36
        },
        "id": "EjIblFCN5SAe",
        "outputId": "e3078b4d-d2d3-47fb-8d0d-e0b1728fc9a7"
      },
      "id": "EjIblFCN5SAe",
      "execution_count": 115,
      "outputs": [
        {
          "output_type": "execute_result",
          "data": {
            "application/vnd.google.colaboratory.intrinsic+json": {
              "type": "string"
            },
            "text/plain": [
              "'biblioteca  fiocruz'"
            ]
          },
          "metadata": {},
          "execution_count": 115
        }
      ]
    }
  ],
  "metadata": {
    "kernelspec": {
      "display_name": "Python 3 (ipykernel)",
      "language": "python",
      "name": "python3"
    },
    "language_info": {
      "codemirror_mode": {
        "name": "ipython",
        "version": 3
      },
      "file_extension": ".py",
      "mimetype": "text/x-python",
      "name": "python",
      "nbconvert_exporter": "python",
      "pygments_lexer": "ipython3",
      "version": "3.7.12"
    },
    "colab": {
      "name": "Copy of Fiocruz.ipynb",
      "provenance": [],
      "collapsed_sections": []
    }
  },
  "nbformat": 4,
  "nbformat_minor": 5
}