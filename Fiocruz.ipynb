{
 "cells": [
  {
   "cell_type": "code",
   "execution_count": 3,
   "id": "2a091b68",
   "metadata": {},
   "outputs": [],
   "source": [
    "import numpy as np \n",
    "import pandas as pd"
   ]
  },
  {
   "cell_type": "code",
   "execution_count": 4,
   "id": "8f8216b0",
   "metadata": {},
   "outputs": [],
   "source": [
    "url = \"https://raw.githubusercontent.com/joaograndotto/PIBITI/main/Datasets/dados_multi_classe.csv\"\n",
    "df = pd.read_csv(url, delimiter=',')"
   ]
  },
  {
   "cell_type": "code",
   "execution_count": 5,
   "id": "0bc49606",
   "metadata": {},
   "outputs": [
    {
     "data": {
      "text/html": [
       "<div>\n",
       "<style scoped>\n",
       "    .dataframe tbody tr th:only-of-type {\n",
       "        vertical-align: middle;\n",
       "    }\n",
       "\n",
       "    .dataframe tbody tr th {\n",
       "        vertical-align: top;\n",
       "    }\n",
       "\n",
       "    .dataframe thead th {\n",
       "        text-align: right;\n",
       "    }\n",
       "</style>\n",
       "<table border=\"1\" class=\"dataframe\">\n",
       "  <thead>\n",
       "    <tr style=\"text-align: right;\">\n",
       "      <th></th>\n",
       "      <th>Institution</th>\n",
       "      <th>Affiliations</th>\n",
       "    </tr>\n",
       "  </thead>\n",
       "  <tbody>\n",
       "    <tr>\n",
       "      <th>0</th>\n",
       "      <td>aristotle university greece</td>\n",
       "      <td>1st department of ophthalmology aristotle univ...</td>\n",
       "    </tr>\n",
       "    <tr>\n",
       "      <th>1</th>\n",
       "      <td>aristotle university greece</td>\n",
       "      <td>aristotle univ thessaloniki greece</td>\n",
       "    </tr>\n",
       "    <tr>\n",
       "      <th>2</th>\n",
       "      <td>aristotle university greece</td>\n",
       "      <td>aristotle univ thessaloniki thessaloniki greece</td>\n",
       "    </tr>\n",
       "    <tr>\n",
       "      <th>3</th>\n",
       "      <td>aristotle university greece</td>\n",
       "      <td>aristotle university of thessaloniki greece</td>\n",
       "    </tr>\n",
       "    <tr>\n",
       "      <th>4</th>\n",
       "      <td>aristotle university greece</td>\n",
       "      <td>aristotle university of thessaloniki thessalon...</td>\n",
       "    </tr>\n",
       "    <tr>\n",
       "      <th>...</th>\n",
       "      <td>...</td>\n",
       "      <td>...</td>\n",
       "    </tr>\n",
       "    <tr>\n",
       "      <th>122929</th>\n",
       "      <td>universidade federal reconcavo</td>\n",
       "      <td>univ fed reconcavo bahia, centro formacao prof...</td>\n",
       "    </tr>\n",
       "    <tr>\n",
       "      <th>122930</th>\n",
       "      <td>unesp</td>\n",
       "      <td>unesp-marilia</td>\n",
       "    </tr>\n",
       "    <tr>\n",
       "      <th>122931</th>\n",
       "      <td>universidade federal campina grande</td>\n",
       "      <td>univ federal campina grande</td>\n",
       "    </tr>\n",
       "    <tr>\n",
       "      <th>122932</th>\n",
       "      <td>revista saude publica</td>\n",
       "      <td>revista de saude publica</td>\n",
       "    </tr>\n",
       "    <tr>\n",
       "      <th>122933</th>\n",
       "      <td>universidade nove julho</td>\n",
       "      <td>univ nove julho</td>\n",
       "    </tr>\n",
       "  </tbody>\n",
       "</table>\n",
       "<p>122934 rows × 2 columns</p>\n",
       "</div>"
      ],
      "text/plain": [
       "                                Institution  \\\n",
       "0               aristotle university greece   \n",
       "1               aristotle university greece   \n",
       "2               aristotle university greece   \n",
       "3               aristotle university greece   \n",
       "4               aristotle university greece   \n",
       "...                                     ...   \n",
       "122929       universidade federal reconcavo   \n",
       "122930                                unesp   \n",
       "122931  universidade federal campina grande   \n",
       "122932                revista saude publica   \n",
       "122933              universidade nove julho   \n",
       "\n",
       "                                             Affiliations  \n",
       "0       1st department of ophthalmology aristotle univ...  \n",
       "1                      aristotle univ thessaloniki greece  \n",
       "2         aristotle univ thessaloniki thessaloniki greece  \n",
       "3             aristotle university of thessaloniki greece  \n",
       "4       aristotle university of thessaloniki thessalon...  \n",
       "...                                                   ...  \n",
       "122929  univ fed reconcavo bahia, centro formacao prof...  \n",
       "122930                                      unesp-marilia  \n",
       "122931                        univ federal campina grande  \n",
       "122932                           revista de saude publica  \n",
       "122933                                    univ nove julho  \n",
       "\n",
       "[122934 rows x 2 columns]"
      ]
     },
     "execution_count": 5,
     "metadata": {},
     "output_type": "execute_result"
    }
   ],
   "source": [
    "df"
   ]
  },
  {
   "cell_type": "code",
   "execution_count": 6,
   "id": "a1a9fe25",
   "metadata": {},
   "outputs": [],
   "source": [
    "fiocruz = df[df['Institution'].str.contains(\"fiocruz\")]"
   ]
  },
  {
   "cell_type": "code",
   "execution_count": 7,
   "id": "9854812c",
   "metadata": {},
   "outputs": [
    {
     "data": {
      "text/plain": [
       "20745"
      ]
     },
     "execution_count": 7,
     "metadata": {},
     "output_type": "execute_result"
    }
   ],
   "source": [
    "fiocruz.shape[0]"
   ]
  },
  {
   "cell_type": "code",
   "execution_count": 8,
   "id": "ba441fca",
   "metadata": {},
   "outputs": [
    {
     "data": {
      "text/html": [
       "<div>\n",
       "<style scoped>\n",
       "    .dataframe tbody tr th:only-of-type {\n",
       "        vertical-align: middle;\n",
       "    }\n",
       "\n",
       "    .dataframe tbody tr th {\n",
       "        vertical-align: top;\n",
       "    }\n",
       "\n",
       "    .dataframe thead th {\n",
       "        text-align: right;\n",
       "    }\n",
       "</style>\n",
       "<table border=\"1\" class=\"dataframe\">\n",
       "  <thead>\n",
       "    <tr style=\"text-align: right;\">\n",
       "      <th></th>\n",
       "      <th>Institution</th>\n",
       "      <th>Affiliations</th>\n",
       "    </tr>\n",
       "  </thead>\n",
       "  <tbody>\n",
       "    <tr>\n",
       "      <th>21988</th>\n",
       "      <td>fiocruz  mg  rené rachou  cpqrr</td>\n",
       "      <td>centro de pesquisa rené rachou cpqrr fiocruz b...</td>\n",
       "    </tr>\n",
       "    <tr>\n",
       "      <th>27475</th>\n",
       "      <td>fiocruz  pr  instituto carlos chagas icc</td>\n",
       "      <td>laboratory of applied science and technology i...</td>\n",
       "    </tr>\n",
       "    <tr>\n",
       "      <th>18865</th>\n",
       "      <td>fiocruz  am  instituto leônidas e maria deane ...</td>\n",
       "      <td>instituto de pesquisa leônidas e maria deane f...</td>\n",
       "    </tr>\n",
       "    <tr>\n",
       "      <th>17655</th>\n",
       "      <td>farmanguinhos  instituto de tecnologia em fárm...</td>\n",
       "      <td>instituto de tecnologia em fármacos farmanguin...</td>\n",
       "    </tr>\n",
       "    <tr>\n",
       "      <th>14573</th>\n",
       "      <td>ensp  escola nacional de saúde pública sérgio ...</td>\n",
       "      <td>fundação oswaldo cruz centro de estudos em saú...</td>\n",
       "    </tr>\n",
       "    <tr>\n",
       "      <th>25699</th>\n",
       "      <td>fiocruz  pe  instituto aggeu magalhães  cpqam</td>\n",
       "      <td>department of immunology aggeu magalhães insti...</td>\n",
       "    </tr>\n",
       "    <tr>\n",
       "      <th>15298</th>\n",
       "      <td>ensp  escola nacional de saúde pública sérgio ...</td>\n",
       "      <td>ppg public health and environment escola nacio...</td>\n",
       "    </tr>\n",
       "    <tr>\n",
       "      <th>23192</th>\n",
       "      <td>fiocruz  mg  rené rachou  cpqrr</td>\n",
       "      <td>instituto rené rachou irr fundação oswaldo cru...</td>\n",
       "    </tr>\n",
       "    <tr>\n",
       "      <th>17773</th>\n",
       "      <td>farmanguinhos  instituto de tecnologia em fárm...</td>\n",
       "      <td>laboratory of development and analytical valid...</td>\n",
       "    </tr>\n",
       "    <tr>\n",
       "      <th>62245</th>\n",
       "      <td>procc  programa de computação científica  fiocruz</td>\n",
       "      <td>fundação oswaldo cruz programa de computação c...</td>\n",
       "    </tr>\n",
       "  </tbody>\n",
       "</table>\n",
       "</div>"
      ],
      "text/plain": [
       "                                             Institution  \\\n",
       "21988                    fiocruz  mg  rené rachou  cpqrr   \n",
       "27475           fiocruz  pr  instituto carlos chagas icc   \n",
       "18865  fiocruz  am  instituto leônidas e maria deane ...   \n",
       "17655  farmanguinhos  instituto de tecnologia em fárm...   \n",
       "14573  ensp  escola nacional de saúde pública sérgio ...   \n",
       "25699      fiocruz  pe  instituto aggeu magalhães  cpqam   \n",
       "15298  ensp  escola nacional de saúde pública sérgio ...   \n",
       "23192                    fiocruz  mg  rené rachou  cpqrr   \n",
       "17773  farmanguinhos  instituto de tecnologia em fárm...   \n",
       "62245  procc  programa de computação científica  fiocruz   \n",
       "\n",
       "                                            Affiliations  \n",
       "21988  centro de pesquisa rené rachou cpqrr fiocruz b...  \n",
       "27475  laboratory of applied science and technology i...  \n",
       "18865  instituto de pesquisa leônidas e maria deane f...  \n",
       "17655  instituto de tecnologia em fármacos farmanguin...  \n",
       "14573  fundação oswaldo cruz centro de estudos em saú...  \n",
       "25699  department of immunology aggeu magalhães insti...  \n",
       "15298  ppg public health and environment escola nacio...  \n",
       "23192  instituto rené rachou irr fundação oswaldo cru...  \n",
       "17773  laboratory of development and analytical valid...  \n",
       "62245  fundação oswaldo cruz programa de computação c...  "
      ]
     },
     "execution_count": 8,
     "metadata": {},
     "output_type": "execute_result"
    }
   ],
   "source": [
    "fiocruz.sample(n=10)"
   ]
  },
  {
   "cell_type": "code",
   "execution_count": 9,
   "id": "1834ee2d",
   "metadata": {},
   "outputs": [],
   "source": [
    "fiocruz.to_csv(\"dicionario_fiocruz.tsv\", sep = \"\\t\", index=False)"
   ]
  }
 ],
 "metadata": {
  "kernelspec": {
   "display_name": "Python 3 (ipykernel)",
   "language": "python",
   "name": "python3"
  },
  "language_info": {
   "codemirror_mode": {
    "name": "ipython",
    "version": 3
   },
   "file_extension": ".py",
   "mimetype": "text/x-python",
   "name": "python",
   "nbconvert_exporter": "python",
   "pygments_lexer": "ipython3",
   "version": "3.7.12"
  }
 },
 "nbformat": 4,
 "nbformat_minor": 5
}
