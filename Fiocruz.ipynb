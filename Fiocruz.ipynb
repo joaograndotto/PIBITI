{
 "cells": [
  {
   "cell_type": "markdown",
   "id": "ab8fe09f",
   "metadata": {
    "colab_type": "text",
    "id": "view-in-github"
   },
   "source": [
    "<a href=\"https://colab.research.google.com/github/joaograndotto/PIBITI/blob/main/Fiocruz.ipynb\" target=\"_parent\"><img src=\"https://colab.research.google.com/assets/colab-badge.svg\" alt=\"Open In Colab\"/></a>"
   ]
  },
  {
   "cell_type": "code",
   "execution_count": 1,
   "id": "2a091b68",
   "metadata": {
    "id": "2a091b68"
   },
   "outputs": [],
   "source": [
    "import numpy as np \n",
    "import pandas as pd"
   ]
  },
  {
   "cell_type": "code",
   "execution_count": 2,
   "id": "8f8216b0",
   "metadata": {
    "id": "8f8216b0"
   },
   "outputs": [],
   "source": [
    "url = \"https://raw.githubusercontent.com/joaograndotto/PIBITI/main/Datasets/dados_multi_classe.csv\"\n",
    "df = pd.read_csv(url, delimiter=',')"
   ]
  },
  {
   "cell_type": "code",
   "execution_count": 3,
   "id": "0bc49606",
   "metadata": {
    "colab": {
     "base_uri": "https://localhost:8080/",
     "height": 423
    },
    "id": "0bc49606",
    "outputId": "c7c34ecd-f36c-4fde-89a9-e3f1291d13aa"
   },
   "outputs": [
    {
     "data": {
      "text/html": [
       "<div>\n",
       "<style scoped>\n",
       "    .dataframe tbody tr th:only-of-type {\n",
       "        vertical-align: middle;\n",
       "    }\n",
       "\n",
       "    .dataframe tbody tr th {\n",
       "        vertical-align: top;\n",
       "    }\n",
       "\n",
       "    .dataframe thead th {\n",
       "        text-align: right;\n",
       "    }\n",
       "</style>\n",
       "<table border=\"1\" class=\"dataframe\">\n",
       "  <thead>\n",
       "    <tr style=\"text-align: right;\">\n",
       "      <th></th>\n",
       "      <th>Institution</th>\n",
       "      <th>Affiliations</th>\n",
       "    </tr>\n",
       "  </thead>\n",
       "  <tbody>\n",
       "    <tr>\n",
       "      <th>0</th>\n",
       "      <td>aristotle university greece</td>\n",
       "      <td>1st department of ophthalmology aristotle univ...</td>\n",
       "    </tr>\n",
       "    <tr>\n",
       "      <th>1</th>\n",
       "      <td>aristotle university greece</td>\n",
       "      <td>aristotle univ thessaloniki greece</td>\n",
       "    </tr>\n",
       "    <tr>\n",
       "      <th>2</th>\n",
       "      <td>aristotle university greece</td>\n",
       "      <td>aristotle univ thessaloniki thessaloniki greece</td>\n",
       "    </tr>\n",
       "    <tr>\n",
       "      <th>3</th>\n",
       "      <td>aristotle university greece</td>\n",
       "      <td>aristotle university of thessaloniki greece</td>\n",
       "    </tr>\n",
       "    <tr>\n",
       "      <th>4</th>\n",
       "      <td>aristotle university greece</td>\n",
       "      <td>aristotle university of thessaloniki thessalon...</td>\n",
       "    </tr>\n",
       "    <tr>\n",
       "      <th>...</th>\n",
       "      <td>...</td>\n",
       "      <td>...</td>\n",
       "    </tr>\n",
       "    <tr>\n",
       "      <th>122929</th>\n",
       "      <td>universidade federal reconcavo</td>\n",
       "      <td>univ fed reconcavo bahia, centro formacao prof...</td>\n",
       "    </tr>\n",
       "    <tr>\n",
       "      <th>122930</th>\n",
       "      <td>unesp</td>\n",
       "      <td>unesp-marilia</td>\n",
       "    </tr>\n",
       "    <tr>\n",
       "      <th>122931</th>\n",
       "      <td>universidade federal campina grande</td>\n",
       "      <td>univ federal campina grande</td>\n",
       "    </tr>\n",
       "    <tr>\n",
       "      <th>122932</th>\n",
       "      <td>revista saude publica</td>\n",
       "      <td>revista de saude publica</td>\n",
       "    </tr>\n",
       "    <tr>\n",
       "      <th>122933</th>\n",
       "      <td>universidade nove julho</td>\n",
       "      <td>univ nove julho</td>\n",
       "    </tr>\n",
       "  </tbody>\n",
       "</table>\n",
       "<p>122934 rows × 2 columns</p>\n",
       "</div>"
      ],
      "text/plain": [
       "                                Institution  \\\n",
       "0               aristotle university greece   \n",
       "1               aristotle university greece   \n",
       "2               aristotle university greece   \n",
       "3               aristotle university greece   \n",
       "4               aristotle university greece   \n",
       "...                                     ...   \n",
       "122929       universidade federal reconcavo   \n",
       "122930                                unesp   \n",
       "122931  universidade federal campina grande   \n",
       "122932                revista saude publica   \n",
       "122933              universidade nove julho   \n",
       "\n",
       "                                             Affiliations  \n",
       "0       1st department of ophthalmology aristotle univ...  \n",
       "1                      aristotle univ thessaloniki greece  \n",
       "2         aristotle univ thessaloniki thessaloniki greece  \n",
       "3             aristotle university of thessaloniki greece  \n",
       "4       aristotle university of thessaloniki thessalon...  \n",
       "...                                                   ...  \n",
       "122929  univ fed reconcavo bahia, centro formacao prof...  \n",
       "122930                                      unesp-marilia  \n",
       "122931                        univ federal campina grande  \n",
       "122932                           revista de saude publica  \n",
       "122933                                    univ nove julho  \n",
       "\n",
       "[122934 rows x 2 columns]"
      ]
     },
     "execution_count": 3,
     "metadata": {},
     "output_type": "execute_result"
    }
   ],
   "source": [
    "df"
   ]
  },
  {
   "cell_type": "code",
   "execution_count": 4,
   "id": "a1a9fe25",
   "metadata": {
    "id": "a1a9fe25"
   },
   "outputs": [],
   "source": [
    "fiocruz = df[df['Institution'].str.contains(\"fiocruz\")]"
   ]
  },
  {
   "cell_type": "code",
   "execution_count": 5,
   "id": "9854812c",
   "metadata": {
    "colab": {
     "base_uri": "https://localhost:8080/"
    },
    "id": "9854812c",
    "outputId": "d95cfd77-b40f-4ddf-e270-bdfa37f7b24d"
   },
   "outputs": [
    {
     "data": {
      "text/plain": [
       "20745"
      ]
     },
     "execution_count": 5,
     "metadata": {},
     "output_type": "execute_result"
    }
   ],
   "source": [
    "fiocruz.shape[0]"
   ]
  },
  {
   "cell_type": "code",
   "execution_count": 6,
   "id": "ba441fca",
   "metadata": {
    "colab": {
     "base_uri": "https://localhost:8080/",
     "height": 363
    },
    "id": "ba441fca",
    "outputId": "d9eb86c4-a364-455c-957c-d53543706b4b"
   },
   "outputs": [
    {
     "data": {
      "text/html": [
       "<div>\n",
       "<style scoped>\n",
       "    .dataframe tbody tr th:only-of-type {\n",
       "        vertical-align: middle;\n",
       "    }\n",
       "\n",
       "    .dataframe tbody tr th {\n",
       "        vertical-align: top;\n",
       "    }\n",
       "\n",
       "    .dataframe thead th {\n",
       "        text-align: right;\n",
       "    }\n",
       "</style>\n",
       "<table border=\"1\" class=\"dataframe\">\n",
       "  <thead>\n",
       "    <tr style=\"text-align: right;\">\n",
       "      <th></th>\n",
       "      <th>Institution</th>\n",
       "      <th>Affiliations</th>\n",
       "    </tr>\n",
       "  </thead>\n",
       "  <tbody>\n",
       "    <tr>\n",
       "      <th>24371</th>\n",
       "      <td>fiocruz  mg  rené rachou  cpqrr</td>\n",
       "      <td>programa de pósgraduação em ciências da saúde ...</td>\n",
       "    </tr>\n",
       "    <tr>\n",
       "      <th>44409</th>\n",
       "      <td>ini  instituto nacional de infectologia evandr...</td>\n",
       "      <td>laboratory of clinical epidemiology evandro ch...</td>\n",
       "    </tr>\n",
       "    <tr>\n",
       "      <th>14710</th>\n",
       "      <td>ensp  escola nacional de saúde pública sérgio ...</td>\n",
       "      <td>fundação oswaldo cruz escola nacional de saúde...</td>\n",
       "    </tr>\n",
       "    <tr>\n",
       "      <th>14100</th>\n",
       "      <td>ensp  escola nacional de saúde pública sérgio ...</td>\n",
       "      <td>escola nacional de saúde pública sérgio arouca...</td>\n",
       "    </tr>\n",
       "    <tr>\n",
       "      <th>43959</th>\n",
       "      <td>ini  instituto nacional de infectologia evandr...</td>\n",
       "      <td>instituto de pesquisa clínica evandro chagas f...</td>\n",
       "    </tr>\n",
       "    <tr>\n",
       "      <th>42245</th>\n",
       "      <td>incqs  instituto nacional de controle de quali...</td>\n",
       "      <td>postgraduation program in sanitary surveillanc...</td>\n",
       "    </tr>\n",
       "    <tr>\n",
       "      <th>22960</th>\n",
       "      <td>fiocruz  mg  rené rachou  cpqrr</td>\n",
       "      <td>grupo integrado de pesquisa em biomarcadores c...</td>\n",
       "    </tr>\n",
       "    <tr>\n",
       "      <th>26155</th>\n",
       "      <td>fiocruz  pe  instituto aggeu magalhães  cpqam</td>\n",
       "      <td>fundação oswaldo cruz fiocruz ufpe brazil</td>\n",
       "    </tr>\n",
       "    <tr>\n",
       "      <th>39443</th>\n",
       "      <td>iff  instituto fernades figueira  fiocruz</td>\n",
       "      <td>instituto fernandes figueira fiocruz departame...</td>\n",
       "    </tr>\n",
       "    <tr>\n",
       "      <th>18973</th>\n",
       "      <td>fiocruz  am  instituto leônidas e maria deane ...</td>\n",
       "      <td>instituto leônidas e maria deane  fiocruz amaz...</td>\n",
       "    </tr>\n",
       "  </tbody>\n",
       "</table>\n",
       "</div>"
      ],
      "text/plain": [
       "                                             Institution  \\\n",
       "24371                    fiocruz  mg  rené rachou  cpqrr   \n",
       "44409  ini  instituto nacional de infectologia evandr...   \n",
       "14710  ensp  escola nacional de saúde pública sérgio ...   \n",
       "14100  ensp  escola nacional de saúde pública sérgio ...   \n",
       "43959  ini  instituto nacional de infectologia evandr...   \n",
       "42245  incqs  instituto nacional de controle de quali...   \n",
       "22960                    fiocruz  mg  rené rachou  cpqrr   \n",
       "26155      fiocruz  pe  instituto aggeu magalhães  cpqam   \n",
       "39443          iff  instituto fernades figueira  fiocruz   \n",
       "18973  fiocruz  am  instituto leônidas e maria deane ...   \n",
       "\n",
       "                                            Affiliations  \n",
       "24371  programa de pósgraduação em ciências da saúde ...  \n",
       "44409  laboratory of clinical epidemiology evandro ch...  \n",
       "14710  fundação oswaldo cruz escola nacional de saúde...  \n",
       "14100  escola nacional de saúde pública sérgio arouca...  \n",
       "43959  instituto de pesquisa clínica evandro chagas f...  \n",
       "42245  postgraduation program in sanitary surveillanc...  \n",
       "22960  grupo integrado de pesquisa em biomarcadores c...  \n",
       "26155          fundação oswaldo cruz fiocruz ufpe brazil  \n",
       "39443  instituto fernandes figueira fiocruz departame...  \n",
       "18973  instituto leônidas e maria deane  fiocruz amaz...  "
      ]
     },
     "execution_count": 6,
     "metadata": {},
     "output_type": "execute_result"
    }
   ],
   "source": [
    "fiocruz.sample(n=10)"
   ]
  },
  {
   "cell_type": "code",
   "execution_count": 7,
   "id": "1834ee2d",
   "metadata": {
    "id": "1834ee2d"
   },
   "outputs": [],
   "source": [
    "df = fiocruz.to_csv(\"dicionario_fiocruz.tsv\", sep = \"\\t\", index=False)"
   ]
  },
  {
   "cell_type": "code",
   "execution_count": 9,
   "id": "e83f0d1d",
   "metadata": {
    "id": "e83f0d1d"
   },
   "outputs": [],
   "source": [
    "import numpy as np \n",
    "import pandas as pd\n",
    "import matplotlib.pyplot as plt\n",
    "from sklearn.tree import DecisionTreeClassifier, export_graphviz, plot_tree\n",
    "from sklearn import preprocessing, metrics\n",
    "from sklearn.model_selection import train_test_split\n",
    "import matplotlib.image as mpimg\n",
    "from sklearn.metrics import classification_report, confusion_matrix\n",
    "from IPython.display import Image \n",
    "from six import StringIO\n",
    "from sklearn.neighbors import KNeighborsClassifier\n",
    "from sklearn.metrics import confusion_matrix, accuracy_score\n",
    "from sklearn.ensemble import RandomForestClassifier\n",
    "from sklearn import svm"
   ]
  },
  {
   "cell_type": "code",
   "execution_count": 10,
   "id": "34fe2826",
   "metadata": {
    "id": "34fe2826"
   },
   "outputs": [],
   "source": [
    "url = \"https://raw.githubusercontent.com/joaograndotto/PIBITI/main/Datasets/dicionario_fiocruz.tsv\"\n",
    "df = pd.read_csv(url, delimiter='\\t')"
   ]
  },
  {
   "cell_type": "code",
   "execution_count": 11,
   "id": "7ffed5c8",
   "metadata": {
    "colab": {
     "base_uri": "https://localhost:8080/",
     "height": 143
    },
    "id": "7ffed5c8",
    "outputId": "cb424636-af01-4546-ae92-3b458fc91161"
   },
   "outputs": [
    {
     "data": {
      "text/html": [
       "<div>\n",
       "<style scoped>\n",
       "    .dataframe tbody tr th:only-of-type {\n",
       "        vertical-align: middle;\n",
       "    }\n",
       "\n",
       "    .dataframe tbody tr th {\n",
       "        vertical-align: top;\n",
       "    }\n",
       "\n",
       "    .dataframe thead th {\n",
       "        text-align: right;\n",
       "    }\n",
       "</style>\n",
       "<table border=\"1\" class=\"dataframe\">\n",
       "  <thead>\n",
       "    <tr style=\"text-align: right;\">\n",
       "      <th></th>\n",
       "      <th>Institution</th>\n",
       "      <th>Affiliations</th>\n",
       "    </tr>\n",
       "  </thead>\n",
       "  <tbody>\n",
       "    <tr>\n",
       "      <th>7156</th>\n",
       "      <td>fiocruz  ba  centro de pesquisa gonçalo moniz ...</td>\n",
       "      <td>gonçalo moniz institute oswaldo cruz foundatio...</td>\n",
       "    </tr>\n",
       "    <tr>\n",
       "      <th>9853</th>\n",
       "      <td>fiocruz  mg  rené rachou  cpqrr</td>\n",
       "      <td>grupo informática de biossistemas e genômica c...</td>\n",
       "    </tr>\n",
       "    <tr>\n",
       "      <th>18518</th>\n",
       "      <td>ini  instituto nacional de infectologia evandr...</td>\n",
       "      <td>instituto de pesquisa clínica evandro chagas i...</td>\n",
       "    </tr>\n",
       "  </tbody>\n",
       "</table>\n",
       "</div>"
      ],
      "text/plain": [
       "                                             Institution  \\\n",
       "7156   fiocruz  ba  centro de pesquisa gonçalo moniz ...   \n",
       "9853                     fiocruz  mg  rené rachou  cpqrr   \n",
       "18518  ini  instituto nacional de infectologia evandr...   \n",
       "\n",
       "                                            Affiliations  \n",
       "7156   gonçalo moniz institute oswaldo cruz foundatio...  \n",
       "9853   grupo informática de biossistemas e genômica c...  \n",
       "18518  instituto de pesquisa clínica evandro chagas i...  "
      ]
     },
     "execution_count": 11,
     "metadata": {},
     "output_type": "execute_result"
    }
   ],
   "source": [
    "df.sample(n=3)"
   ]
  },
  {
   "cell_type": "code",
   "execution_count": 12,
   "id": "3e866af1",
   "metadata": {
    "colab": {
     "base_uri": "https://localhost:8080/"
    },
    "id": "3e866af1",
    "outputId": "34061337-8b9a-49d6-fb75-f3aafee0ff6f"
   },
   "outputs": [
    {
     "data": {
      "text/plain": [
       "((20745,), (20745,))"
      ]
     },
     "execution_count": 12,
     "metadata": {},
     "output_type": "execute_result"
    }
   ],
   "source": [
    "X, y = df['Affiliations'],df['Institution']\n",
    "X.shape, y.shape"
   ]
  },
  {
   "cell_type": "code",
   "execution_count": 13,
   "id": "471da419",
   "metadata": {
    "colab": {
     "base_uri": "https://localhost:8080/"
    },
    "id": "471da419",
    "outputId": "8155dbd1-4dd7-47ba-95a1-bd3c79579613"
   },
   "outputs": [
    {
     "data": {
      "text/plain": [
       "0                                      biblioteca  fiocruz\n",
       "1        biblioteca de manguinhos avenida brasil 4365 m...\n",
       "2        department of health information oswaldo cruz ...\n",
       "3                        fiocruz  biblioteca de manguinhos\n",
       "4        health information fundação oswaldo cruz bibli...\n",
       "                               ...                        \n",
       "20740    scientific computing program oswaldo cruz foun...\n",
       "20741    scientific computing programoswaldo cruz found...\n",
       "20742    scientific computing programoswaldo cruz found...\n",
       "20743    scientific computing programme fundação oswald...\n",
       "20744    serviço de jornalismo e comunicação programa d...\n",
       "Name: Affiliations, Length: 20745, dtype: object"
      ]
     },
     "execution_count": 13,
     "metadata": {},
     "output_type": "execute_result"
    }
   ],
   "source": [
    "X"
   ]
  },
  {
   "cell_type": "code",
   "execution_count": 14,
   "id": "cd850f1b",
   "metadata": {
    "colab": {
     "base_uri": "https://localhost:8080/"
    },
    "id": "cd850f1b",
    "outputId": "af885c88-ac76-4d36-844e-f3fb6d835b6f"
   },
   "outputs": [
    {
     "name": "stderr",
     "output_type": "stream",
     "text": [
      "[nltk_data] Downloading package stopwords to\n",
      "[nltk_data]     /home/waldeyr/nltk_data...\n",
      "[nltk_data]   Package stopwords is already up-to-date!\n"
     ]
    }
   ],
   "source": [
    "import nltk\n",
    "from sklearn.datasets import load_files\n",
    "nltk.download('stopwords')\n",
    "import pickle\n",
    "from nltk.corpus import stopwords"
   ]
  },
  {
   "cell_type": "code",
   "execution_count": 15,
   "id": "e6c35e58",
   "metadata": {
    "id": "e6c35e58"
   },
   "outputs": [],
   "source": [
    "palavrasIgnoradas = \\\n",
    "    stopwords.words('portuguese') + \\\n",
    "    stopwords.words('english') + \\\n",
    "    stopwords.words('german') + \\\n",
    "    stopwords.words('spanish')"
   ]
  },
  {
   "cell_type": "code",
   "execution_count": 16,
   "id": "eedfd627",
   "metadata": {
    "id": "eedfd627"
   },
   "outputs": [],
   "source": [
    "from sklearn.feature_extraction.text import CountVectorizer\n",
    "vectorizer = CountVectorizer(\n",
    "    max_features = 1500, # vocabulário considera top max_features ordenadas por freq do termo no texto \n",
    "    min_df = 5, # ignorar termos com frequencia menor do que x, onde 0<=x<=1\n",
    "    max_df = 0.7, # ignorar termos com frequencia maior do que x, onde 0<=x<=1\n",
    "    stop_words = palavrasIgnoradas\n",
    ")"
   ]
  },
  {
   "cell_type": "code",
   "execution_count": 17,
   "id": "feaad565",
   "metadata": {
    "id": "feaad565"
   },
   "outputs": [],
   "source": [
    "X = vectorizer.fit_transform(X).toarray()"
   ]
  },
  {
   "cell_type": "code",
   "execution_count": 18,
   "id": "077261f8",
   "metadata": {
    "id": "077261f8"
   },
   "outputs": [],
   "source": [
    "from sklearn.feature_extraction.text import TfidfTransformer\n",
    "tfidfconverter = TfidfTransformer()\n",
    "X = tfidfconverter.fit_transform(X).toarray()"
   ]
  },
  {
   "cell_type": "code",
   "execution_count": 19,
   "id": "a47a5591",
   "metadata": {
    "id": "a47a5591"
   },
   "outputs": [],
   "source": [
    "X_treino, X_teste, y_treino, y_teste = train_test_split(X, y, test_size=0.1, random_state=0, shuffle=True)"
   ]
  },
  {
   "cell_type": "markdown",
   "id": "SyjJqPyDmRNZ",
   "metadata": {
    "id": "SyjJqPyDmRNZ"
   },
   "source": [
    "# K-Nearest Neighbors"
   ]
  },
  {
   "cell_type": "code",
   "execution_count": 20,
   "id": "Jy7mz7Z5mDZi",
   "metadata": {
    "id": "Jy7mz7Z5mDZi"
   },
   "outputs": [],
   "source": [
    "knn = KNeighborsClassifier()\n",
    "knn.fit(X_treino, y_treino)\n",
    "resultado_knn = knn.predict(X_teste)"
   ]
  },
  {
   "cell_type": "code",
   "execution_count": 21,
   "id": "UX1zbDrJsBRL",
   "metadata": {
    "colab": {
     "base_uri": "https://localhost:8080/"
    },
    "id": "UX1zbDrJsBRL",
    "outputId": "f9aa4dad-2a3f-417c-e512-8ccd5eedcbdd"
   },
   "outputs": [
    {
     "name": "stdout",
     "output_type": "stream",
     "text": [
      "Acurácia: 96.53012048192771\n"
     ]
    }
   ],
   "source": [
    "print(f\"Acurácia: {metrics.accuracy_score(y_teste, resultado_knn) * 100}\")"
   ]
  },
  {
   "cell_type": "markdown",
   "id": "aLRXfUmtRqNz",
   "metadata": {
    "id": "aLRXfUmtRqNz"
   },
   "source": [
    "# DecisionTree"
   ]
  },
  {
   "cell_type": "code",
   "execution_count": 22,
   "id": "itcJPGROmiAa",
   "metadata": {
    "id": "itcJPGROmiAa"
   },
   "outputs": [],
   "source": [
    "arvore = DecisionTreeClassifier(criterion='entropy' ,random_state=0)\n",
    "dt = arvore.fit(X_treino, y_treino)\n",
    "resultado_dt = dt.predict(X_teste)"
   ]
  },
  {
   "cell_type": "code",
   "execution_count": 23,
   "id": "hP_Lc8eGmiAa",
   "metadata": {
    "colab": {
     "base_uri": "https://localhost:8080/"
    },
    "id": "hP_Lc8eGmiAa",
    "outputId": "9fb7e3bd-7bdc-4591-a584-8e096c661705"
   },
   "outputs": [
    {
     "name": "stdout",
     "output_type": "stream",
     "text": [
      "Acurácia: 94.74698795180723\n"
     ]
    }
   ],
   "source": [
    "print(f\"Acurácia: {metrics.accuracy_score(y_teste, resultado_dt) * 100}\")"
   ]
  },
  {
   "cell_type": "markdown",
   "id": "PudTmltvmywG",
   "metadata": {
    "id": "PudTmltvmywG"
   },
   "source": [
    "# RandomForest"
   ]
  },
  {
   "cell_type": "code",
   "execution_count": 24,
   "id": "0HyvhqnsPXib",
   "metadata": {
    "id": "0HyvhqnsPXib"
   },
   "outputs": [],
   "source": [
    "floresta = RandomForestClassifier(criterion='entropy', random_state=0)\n",
    "floresta.fit(X_treino, y_treino)\n",
    "resultado_rd = floresta.predict(X_teste)"
   ]
  },
  {
   "cell_type": "code",
   "execution_count": 25,
   "id": "Qj3MlTb7gjKr",
   "metadata": {
    "colab": {
     "base_uri": "https://localhost:8080/"
    },
    "id": "Qj3MlTb7gjKr",
    "outputId": "dbb49fb5-bd5b-462a-f5aa-83f3ecb5c893"
   },
   "outputs": [
    {
     "name": "stdout",
     "output_type": "stream",
     "text": [
      "Acurácia: 97.44578313253012\n"
     ]
    }
   ],
   "source": [
    "print(f\"Acurácia: {metrics.accuracy_score(y_teste, resultado_rd) * 100}\")"
   ]
  },
  {
   "cell_type": "markdown",
   "id": "g42yONpQm7eW",
   "metadata": {
    "id": "g42yONpQm7eW"
   },
   "source": [
    "# MultinomialNB"
   ]
  },
  {
   "cell_type": "code",
   "execution_count": 26,
   "id": "uy26x50cFGGG",
   "metadata": {
    "id": "uy26x50cFGGG"
   },
   "outputs": [],
   "source": [
    "from sklearn.naive_bayes import MultinomialNB\n",
    "nb = MultinomialNB()\n",
    "nb.fit(X_treino, y_treino)\n",
    "resultado_nb = nb.predict(X_teste)"
   ]
  },
  {
   "cell_type": "code",
   "execution_count": 27,
   "id": "VxAlFkGpFhwB",
   "metadata": {
    "colab": {
     "base_uri": "https://localhost:8080/"
    },
    "id": "VxAlFkGpFhwB",
    "outputId": "8dcec7e8-8c36-4324-d4ab-7ab4e4b252b4"
   },
   "outputs": [
    {
     "name": "stdout",
     "output_type": "stream",
     "text": [
      "Acurácia: 95.46987951807229\n"
     ]
    }
   ],
   "source": [
    "print(f\"Acurácia: {accuracy_score(y_teste, resultado_nb) * 100}\")"
   ]
  },
  {
   "cell_type": "markdown",
   "id": "9VZUPt8ipmYT",
   "metadata": {
    "id": "9VZUPt8ipmYT"
   },
   "source": [
    "# SVM Kernel Linear"
   ]
  },
  {
   "cell_type": "code",
   "execution_count": 28,
   "id": "JFyl_OvCoywO",
   "metadata": {
    "id": "JFyl_OvCoywO"
   },
   "outputs": [],
   "source": [
    "svm_kernel_linear = svm.SVC(kernel = 'linear')\n",
    "prob_linear = svm_kernel_linear.fit(X_treino, y_treino)"
   ]
  },
  {
   "cell_type": "code",
   "execution_count": 29,
   "id": "2OHZ-_G3o0zC",
   "metadata": {
    "colab": {
     "base_uri": "https://localhost:8080/"
    },
    "id": "2OHZ-_G3o0zC",
    "outputId": "7b6837ad-4102-410e-b118-2780bb8e406f"
   },
   "outputs": [
    {
     "name": "stdout",
     "output_type": "stream",
     "text": [
      "Acurácia = 98.02409638554217\n"
     ]
    }
   ],
   "source": [
    "pred_svm_linear = svm_kernel_linear.predict(X_teste)\n",
    "print(\"Acurácia =\", accuracy_score(y_teste, pred_svm_linear) * 100)"
   ]
  },
  {
   "cell_type": "markdown",
   "id": "ZCxCWkggqJcD",
   "metadata": {
    "id": "ZCxCWkggqJcD"
   },
   "source": [
    "# SVM Kernel RBF"
   ]
  },
  {
   "cell_type": "code",
   "execution_count": 30,
   "id": "nW7lrl0jqAxT",
   "metadata": {
    "id": "nW7lrl0jqAxT"
   },
   "outputs": [],
   "source": [
    "svm_kernel_rbf = svm.SVC(kernel = 'rbf')\n",
    "prob_rbf = svm_kernel_rbf.fit(X_treino, y_treino)"
   ]
  },
  {
   "cell_type": "code",
   "execution_count": 31,
   "id": "j9mTHyyoqAxU",
   "metadata": {
    "colab": {
     "base_uri": "https://localhost:8080/"
    },
    "id": "j9mTHyyoqAxU",
    "outputId": "13ea5bdd-7a45-4b83-ab83-a0b7f7d34863"
   },
   "outputs": [
    {
     "name": "stdout",
     "output_type": "stream",
     "text": [
      "Acurácia = 97.87951807228914\n"
     ]
    }
   ],
   "source": [
    "pred_svm_rbf = svm_kernel_rbf.predict(X_teste)\n",
    "print(\"Acurácia =\", accuracy_score(y_teste, pred_svm_rbf) * 100)"
   ]
  },
  {
   "cell_type": "markdown",
   "id": "LiKUybQiqM4C",
   "metadata": {
    "id": "LiKUybQiqM4C"
   },
   "source": [
    "# SVM Kernel Sigmoid"
   ]
  },
  {
   "cell_type": "code",
   "execution_count": 32,
   "id": "LzEBhFS-qBrq",
   "metadata": {
    "id": "LzEBhFS-qBrq"
   },
   "outputs": [],
   "source": [
    "svm_kernel_sigmoid = svm.SVC(kernel = 'sigmoid')\n",
    "prob_sigmoid = svm_kernel_sigmoid.fit(X_treino, y_treino)"
   ]
  },
  {
   "cell_type": "code",
   "execution_count": 33,
   "id": "s65RtHrGqBrr",
   "metadata": {
    "colab": {
     "base_uri": "https://localhost:8080/"
    },
    "id": "s65RtHrGqBrr",
    "outputId": "61521a8f-d84d-462b-e950-ed04bf9197ec"
   },
   "outputs": [
    {
     "name": "stdout",
     "output_type": "stream",
     "text": [
      "Acurácia = 97.87951807228914\n"
     ]
    }
   ],
   "source": [
    "pred_svm_sigmoid = svm_kernel_sigmoid.predict(X_teste)\n",
    "print(\"Acurácia =\", accuracy_score(y_teste, pred_svm_sigmoid) * 100)"
   ]
  },
  {
   "cell_type": "markdown",
   "id": "eWyTEG-oqHXf",
   "metadata": {
    "id": "eWyTEG-oqHXf"
   },
   "source": [
    "# SVM Kernel Poly"
   ]
  },
  {
   "cell_type": "code",
   "execution_count": 34,
   "id": "IwU2GIFzqCNG",
   "metadata": {
    "id": "IwU2GIFzqCNG"
   },
   "outputs": [],
   "source": [
    "svm_kernel_poly = svm.SVC(kernel = 'poly')\n",
    "prob_poly = svm_kernel_poly.fit(X_treino, y_treino)"
   ]
  },
  {
   "cell_type": "code",
   "execution_count": 35,
   "id": "GVcRcnZWqCNG",
   "metadata": {
    "colab": {
     "base_uri": "https://localhost:8080/"
    },
    "id": "GVcRcnZWqCNG",
    "outputId": "869b96ee-fda4-4ca8-eece-e8632470bb3b"
   },
   "outputs": [
    {
     "name": "stdout",
     "output_type": "stream",
     "text": [
      "Acurácia = 97.01204819277109\n"
     ]
    }
   ],
   "source": [
    "pred_svm_poly = svm_kernel_poly.predict(X_teste)\n",
    "print(\"Acurácia =\", accuracy_score(y_teste, pred_svm_poly) * 100)"
   ]
  }
 ],
 "metadata": {
  "colab": {
   "collapsed_sections": [],
   "include_colab_link": true,
   "name": "Copy of Fiocruz.ipynb",
   "provenance": [],
   "toc_visible": true
  },
  "kernelspec": {
   "display_name": "Python 3 (ipykernel)",
   "language": "python",
   "name": "python3"
  },
  "language_info": {
   "codemirror_mode": {
    "name": "ipython",
    "version": 3
   },
   "file_extension": ".py",
   "mimetype": "text/x-python",
   "name": "python",
   "nbconvert_exporter": "python",
   "pygments_lexer": "ipython3",
   "version": "3.7.12"
  }
 },
 "nbformat": 4,
 "nbformat_minor": 5
}
