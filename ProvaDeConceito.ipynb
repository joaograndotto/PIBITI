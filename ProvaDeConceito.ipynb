{
 "cells": [
  {
   "cell_type": "markdown",
   "id": "c5dbd12c",
   "metadata": {},
   "source": [
    "# Reconhecimento de nomes de instituições utilizando Inteligência Artificial\n",
    "\n",
    "## Projeto PIBITI  \n",
    "\n",
    "### Edital 18/2021-PROPPG-IFG\n",
    "\n",
    "#### Estudante (bolsista): João Gabriel Grandoto Viana\n",
    "#### Orientador: Waldeyr Mendes Cordeiro da Silva"
   ]
  },
  {
   "cell_type": "markdown",
   "id": "bd417891",
   "metadata": {},
   "source": [
    "## Parte 01 Coleta e tratamento de dados das fontes primárias"
   ]
  },
  {
   "cell_type": "code",
   "execution_count": 4,
   "id": "ec9c73fc",
   "metadata": {},
   "outputs": [],
   "source": [
    "import numpy as np\n",
    "import matplotlib.pyplot as plt\n",
    "from sklearn import svm\n",
    "from sklearn.datasets import make_blobs\n",
    "import pandas as pd"
   ]
  },
  {
   "cell_type": "code",
   "execution_count": 2,
   "id": "7c4fae1b",
   "metadata": {},
   "outputs": [],
   "source": [
    "url1 ='https://raw.githubusercontent.com/joaograndotto/PIBITI/main/Datasets/scopus.csv'\n",
    "url2 = 'https://raw.githubusercontent.com/joaograndotto/PIBITI/main/Datasets/webscience.csv'\n",
    "\n",
    "scopus = pd.read_csv(url1)\n",
    "web_of_science = pd.read_csv(url2, sep=\"\\t\" )"
   ]
  },
  {
   "cell_type": "code",
   "execution_count": 3,
   "id": "7bdf5ef9",
   "metadata": {},
   "outputs": [
    {
     "data": {
      "text/plain": [
       "(31, 67)"
      ]
     },
     "execution_count": 3,
     "metadata": {},
     "output_type": "execute_result"
    }
   ],
   "source": [
    "web_of_science.shape"
   ]
  },
  {
   "cell_type": "code",
   "execution_count": 4,
   "id": "566813c6",
   "metadata": {},
   "outputs": [
    {
     "data": {
      "text/plain": [
       "(1276, 50)"
      ]
     },
     "execution_count": 4,
     "metadata": {},
     "output_type": "execute_result"
    }
   ],
   "source": [
    "scopus.shape"
   ]
  },
  {
   "cell_type": "code",
   "execution_count": 5,
   "id": "89ba49c6",
   "metadata": {},
   "outputs": [],
   "source": [
    "#Renomeie as Colunas relacionadas porque estavam com os nomes diferentes\n",
    "web_of_science.rename(columns={'Publication Year': 'Year'}, inplace = True)\n",
    "web_of_science.rename(columns={'Article Title': 'Title'}, inplace = True)\n",
    "web_of_science.rename(columns={'Publisher': 'Affiliations'}, inplace = True)"
   ]
  },
  {
   "cell_type": "code",
   "execution_count": 6,
   "id": "26a86703",
   "metadata": {},
   "outputs": [
    {
     "data": {
      "text/plain": [
       "0    Instituto Federal de Goiás-IFG, Campus Goiânia...\n",
       "1    Instituto Federal de Goiás (IFG), Aparecida de...\n",
       "2    Instituto Federal de Educação, Ciência e Tecno...\n",
       "3    Universidade Federal de Goiás – UFG, Rede Pró ...\n",
       "4    Department of Agronomy, Universidade Federal R...\n",
       "5    Institute for Hygiene and Public Health, Medic...\n",
       "6    Department of Environmental Informatics, Helmh...\n",
       "7    Grupo de Estudos em Geomática (GEO), Instituto...\n",
       "8    Laboratory of Environmental Biotechnology and ...\n",
       "9    Universidade Federal de Goiás (UFG), Instituto...\n",
       "Name: Affiliations, dtype: object"
      ]
     },
     "execution_count": 6,
     "metadata": {},
     "output_type": "execute_result"
    }
   ],
   "source": [
    "scopus[\"Affiliations\"].head(10)"
   ]
  },
  {
   "cell_type": "code",
   "execution_count": 7,
   "id": "16b8e5c1",
   "metadata": {},
   "outputs": [
    {
     "data": {
      "text/plain": [
       "0    INST FED EDUCATION, SCIENCE & TECHNOLOGY OF GO...\n",
       "1    INST FED EDUCATION, SCIENCE & TECHNOLOGY OF GO...\n",
       "2                        UNIV DO VALE DO RIO DOS SINOS\n",
       "3    INST FED EDUCATION, SCIENCE & TECHNOLOGY OF GO...\n",
       "4                                             ELSEVIER\n",
       "5                          UNIV FEDERAL CAMPINA GRANDE\n",
       "6    INST FED EDUCATION, SCIENCE & TECHNOLOGY OF GO...\n",
       "7                PONTIFICIA UNIV CATOLICA PARANA-PUCPR\n",
       "8                             UNIV FEDERAL SANTA MARIA\n",
       "9                                      INST AGRONOMICO\n",
       "Name: Affiliations, dtype: object"
      ]
     },
     "execution_count": 7,
     "metadata": {},
     "output_type": "execute_result"
    }
   ],
   "source": [
    "web_of_science[\"Affiliations\"].head(10)"
   ]
  },
  {
   "cell_type": "code",
   "execution_count": 8,
   "id": "ce40cbae",
   "metadata": {},
   "outputs": [],
   "source": [
    "#juntando os dois dataframes\n",
    "result = pd.concat([scopus, web_of_science])"
   ]
  },
  {
   "cell_type": "code",
   "execution_count": 9,
   "id": "fe76de0f",
   "metadata": {},
   "outputs": [],
   "source": [
    "nulos = result.loc[result['DOI'].isnull()] # somente registros sem DOI\n",
    "nulos.index[0]\n",
    "result = result.drop([nulos.index[0]])"
   ]
  },
  {
   "cell_type": "code",
   "execution_count": 10,
   "id": "ab50c874",
   "metadata": {},
   "outputs": [],
   "source": [
    "total_artigos = result.shape[0]"
   ]
  },
  {
   "cell_type": "code",
   "execution_count": 11,
   "id": "d6aab840",
   "metadata": {},
   "outputs": [
    {
     "data": {
      "text/plain": [
       "Index(['Authors', 'Author(s) ID', 'Title', 'Year', 'Source title', 'Volume',\n",
       "       'Issue', 'Art. No.', 'Page start', 'Page end',\n",
       "       ...\n",
       "       'Number of Pages', 'WoS Categories', 'Research Areas', 'IDS Number',\n",
       "       'UT (Unique WOS ID)', 'Pubmed Id', 'Open Access Designations',\n",
       "       'Highly Cited Status', 'Hot Paper Status', 'Date of Export'],\n",
       "      dtype='object', length=105)"
      ]
     },
     "execution_count": 11,
     "metadata": {},
     "output_type": "execute_result"
    }
   ],
   "source": [
    "result.columns"
   ]
  },
  {
   "cell_type": "code",
   "execution_count": 12,
   "id": "3b7cf69f",
   "metadata": {},
   "outputs": [
    {
     "data": {
      "text/plain": [
       "(1162, 105)"
      ]
     },
     "execution_count": 12,
     "metadata": {},
     "output_type": "execute_result"
    }
   ],
   "source": [
    "#Verificando duplicados na coluna DOI e apagando as linhas com DOI duplicado\n",
    "result = result.drop_duplicates(subset=['DOI'], keep='first')\n",
    "result.shape"
   ]
  },
  {
   "cell_type": "code",
   "execution_count": 13,
   "id": "1ac0b2c1",
   "metadata": {},
   "outputs": [
    {
     "data": {
      "text/plain": [
       "144"
      ]
     },
     "execution_count": 13,
     "metadata": {},
     "output_type": "execute_result"
    }
   ],
   "source": [
    "duplicados_eliminados = total_artigos - result.shape[0]\n",
    "duplicados_eliminados"
   ]
  },
  {
   "cell_type": "code",
   "execution_count": 14,
   "id": "e582e5c5",
   "metadata": {},
   "outputs": [],
   "source": [
    "# nomear os indices do tamanho do novo dataframe\n",
    "index =[]  \n",
    "for i in range(result.shape[0]): \n",
    "    index.append(i)\n",
    "result.index = index"
   ]
  },
  {
   "cell_type": "code",
   "execution_count": 18,
   "id": "a5151517",
   "metadata": {},
   "outputs": [
    {
     "data": {
      "text/html": [
       "<div>\n",
       "<style scoped>\n",
       "    .dataframe tbody tr th:only-of-type {\n",
       "        vertical-align: middle;\n",
       "    }\n",
       "\n",
       "    .dataframe tbody tr th {\n",
       "        vertical-align: top;\n",
       "    }\n",
       "\n",
       "    .dataframe thead th {\n",
       "        text-align: right;\n",
       "    }\n",
       "</style>\n",
       "<table border=\"1\" class=\"dataframe\">\n",
       "  <thead>\n",
       "    <tr style=\"text-align: right;\">\n",
       "      <th></th>\n",
       "      <th>DOI</th>\n",
       "      <th>Title</th>\n",
       "      <th>Affiliations</th>\n",
       "    </tr>\n",
       "  </thead>\n",
       "  <tbody>\n",
       "    <tr>\n",
       "      <th>0</th>\n",
       "      <td>10.1016/j.nonrwa.2021.103406</td>\n",
       "      <td>Classical solution for a nonlinear hybrid syst...</td>\n",
       "      <td>Instituto Federal de Goiás-IFG, Campus Goiânia...</td>\n",
       "    </tr>\n",
       "    <tr>\n",
       "      <th>1</th>\n",
       "      <td>10.1007/978-3-030-79165-0_25</td>\n",
       "      <td>An Innovative Textile Product Proposal Based o...</td>\n",
       "      <td>Instituto Federal de Goiás (IFG), Aparecida de...</td>\n",
       "    </tr>\n",
       "    <tr>\n",
       "      <th>2</th>\n",
       "      <td>10.1590/1519-6984.245368</td>\n",
       "      <td>Detection of enteroparasites in foliar vegetab...</td>\n",
       "      <td>Instituto Federal de Educação, Ciência e Tecno...</td>\n",
       "    </tr>\n",
       "    <tr>\n",
       "      <th>3</th>\n",
       "      <td>10.1590/1519-6984.234476</td>\n",
       "      <td>Phytochemical characterization, and antioxidan...</td>\n",
       "      <td>Universidade Federal de Goiás – UFG, Rede Pró ...</td>\n",
       "    </tr>\n",
       "    <tr>\n",
       "      <th>4</th>\n",
       "      <td>10.1038/s41598-021-97854-8</td>\n",
       "      <td>Stability analysis of reference genes for RT-q...</td>\n",
       "      <td>Department of Agronomy, Universidade Federal R...</td>\n",
       "    </tr>\n",
       "    <tr>\n",
       "      <th>...</th>\n",
       "      <td>...</td>\n",
       "      <td>...</td>\n",
       "      <td>...</td>\n",
       "    </tr>\n",
       "    <tr>\n",
       "      <th>1157</th>\n",
       "      <td>10.31977/grirfi.v16i2.774</td>\n",
       "      <td>HUMAN RIGHTS: FROM THE UNIFORMITY OF THE SPECI...</td>\n",
       "      <td>UNIV FED RECONCAVO BAHIA, CENTRO FORMACAO PROF...</td>\n",
       "    </tr>\n",
       "    <tr>\n",
       "      <th>1158</th>\n",
       "      <td>10.1590/S0101-31732015000400002</td>\n",
       "      <td>PRESENTATION OF THE DOSSIER ROUSSEAU</td>\n",
       "      <td>UNESP-MARILIA</td>\n",
       "    </tr>\n",
       "    <tr>\n",
       "      <th>1159</th>\n",
       "      <td>10.1590/S1415-43662014000400013</td>\n",
       "      <td>Physiological quality of soybean seeds stored ...</td>\n",
       "      <td>UNIV FEDERAL CAMPINA GRANDE</td>\n",
       "    </tr>\n",
       "    <tr>\n",
       "      <th>1160</th>\n",
       "      <td>10.1590/S0034-89102010005000053</td>\n",
       "      <td>Ethics in the publication of studies on human ...</td>\n",
       "      <td>REVISTA DE SAUDE PUBLICA</td>\n",
       "    </tr>\n",
       "    <tr>\n",
       "      <th>1161</th>\n",
       "      <td>10.5585/iji.v4i1.67</td>\n",
       "      <td>SYSTEMATIC REVIEW OF THE LITERATURE SOCIAL ENT...</td>\n",
       "      <td>UNIV NOVE JULHO</td>\n",
       "    </tr>\n",
       "  </tbody>\n",
       "</table>\n",
       "<p>1162 rows × 3 columns</p>\n",
       "</div>"
      ],
      "text/plain": [
       "                                  DOI  \\\n",
       "0        10.1016/j.nonrwa.2021.103406   \n",
       "1        10.1007/978-3-030-79165-0_25   \n",
       "2            10.1590/1519-6984.245368   \n",
       "3            10.1590/1519-6984.234476   \n",
       "4          10.1038/s41598-021-97854-8   \n",
       "...                               ...   \n",
       "1157        10.31977/grirfi.v16i2.774   \n",
       "1158  10.1590/S0101-31732015000400002   \n",
       "1159  10.1590/S1415-43662014000400013   \n",
       "1160  10.1590/S0034-89102010005000053   \n",
       "1161              10.5585/iji.v4i1.67   \n",
       "\n",
       "                                                  Title  \\\n",
       "0     Classical solution for a nonlinear hybrid syst...   \n",
       "1     An Innovative Textile Product Proposal Based o...   \n",
       "2     Detection of enteroparasites in foliar vegetab...   \n",
       "3     Phytochemical characterization, and antioxidan...   \n",
       "4     Stability analysis of reference genes for RT-q...   \n",
       "...                                                 ...   \n",
       "1157  HUMAN RIGHTS: FROM THE UNIFORMITY OF THE SPECI...   \n",
       "1158               PRESENTATION OF THE DOSSIER ROUSSEAU   \n",
       "1159  Physiological quality of soybean seeds stored ...   \n",
       "1160  Ethics in the publication of studies on human ...   \n",
       "1161  SYSTEMATIC REVIEW OF THE LITERATURE SOCIAL ENT...   \n",
       "\n",
       "                                           Affiliations  \n",
       "0     Instituto Federal de Goiás-IFG, Campus Goiânia...  \n",
       "1     Instituto Federal de Goiás (IFG), Aparecida de...  \n",
       "2     Instituto Federal de Educação, Ciência e Tecno...  \n",
       "3     Universidade Federal de Goiás – UFG, Rede Pró ...  \n",
       "4     Department of Agronomy, Universidade Federal R...  \n",
       "...                                                 ...  \n",
       "1157  UNIV FED RECONCAVO BAHIA, CENTRO FORMACAO PROF...  \n",
       "1158                                      UNESP-MARILIA  \n",
       "1159                        UNIV FEDERAL CAMPINA GRANDE  \n",
       "1160                           REVISTA DE SAUDE PUBLICA  \n",
       "1161                                    UNIV NOVE JULHO  \n",
       "\n",
       "[1162 rows x 3 columns]"
      ]
     },
     "execution_count": 18,
     "metadata": {},
     "output_type": "execute_result"
    }
   ],
   "source": [
    "result[['DOI', 'Title', 'Affiliations']]"
   ]
  },
  {
   "cell_type": "code",
   "execution_count": null,
   "id": "d1d2aaad",
   "metadata": {},
   "outputs": [],
   "source": [
    "result[['DOI','Affiliations']].to_csv(\"dados_para_label.tsv\", sep = \"\\t\", index=False)"
   ]
  },
  {
   "cell_type": "markdown",
   "id": "0284381d",
   "metadata": {},
   "source": [
    "## Parte 02 - Tratamento dos dados etiquetados\n",
    "\n",
    "Os dados slecionados foram etiquetados manualmente e salvos no dataset [dados com label](https://raw.githubusercontent.com/joaograndotto/PIBITI/main/Datasets/dados_com_label.csv)"
   ]
  },
  {
   "cell_type": "code",
   "execution_count": 5,
   "id": "d5ca6f1e",
   "metadata": {},
   "outputs": [
    {
     "data": {
      "text/html": [
       "<div>\n",
       "<style scoped>\n",
       "    .dataframe tbody tr th:only-of-type {\n",
       "        vertical-align: middle;\n",
       "    }\n",
       "\n",
       "    .dataframe tbody tr th {\n",
       "        vertical-align: top;\n",
       "    }\n",
       "\n",
       "    .dataframe thead th {\n",
       "        text-align: right;\n",
       "    }\n",
       "</style>\n",
       "<table border=\"1\" class=\"dataframe\">\n",
       "  <thead>\n",
       "    <tr style=\"text-align: right;\">\n",
       "      <th></th>\n",
       "      <th>DOI</th>\n",
       "      <th>Title</th>\n",
       "      <th>Year</th>\n",
       "      <th>Affiliations</th>\n",
       "      <th>Campus</th>\n",
       "      <th>Institution</th>\n",
       "    </tr>\n",
       "  </thead>\n",
       "  <tbody>\n",
       "    <tr>\n",
       "      <th>0</th>\n",
       "      <td>10.1016/j.nonrwa.2021.103406</td>\n",
       "      <td>Classical solution for a nonlinear hybrid syst...</td>\n",
       "      <td>2022</td>\n",
       "      <td>Instituto Federal de Goiás-IFG, Campus Goiânia...</td>\n",
       "      <td>Goiânia</td>\n",
       "      <td>Instituto Federal de Goiás</td>\n",
       "    </tr>\n",
       "    <tr>\n",
       "      <th>1</th>\n",
       "      <td>10.1007/978-3-030-79165-0_25</td>\n",
       "      <td>An Innovative Textile Product Proposal Based o...</td>\n",
       "      <td>2022</td>\n",
       "      <td>Instituto Federal de Goiás (IFG), Aparecida de...</td>\n",
       "      <td>Aparecida de Goiânia</td>\n",
       "      <td>Instituto Federal de Goiás</td>\n",
       "    </tr>\n",
       "    <tr>\n",
       "      <th>2</th>\n",
       "      <td>10.1590/1519-6984.245368</td>\n",
       "      <td>Detection of enteroparasites in foliar vegetab...</td>\n",
       "      <td>2022</td>\n",
       "      <td>Instituto Federal de Educação, Ciência e Tecno...</td>\n",
       "      <td>Aparecida de Goiânia</td>\n",
       "      <td>Instituto Federal de Goiás</td>\n",
       "    </tr>\n",
       "    <tr>\n",
       "      <th>3</th>\n",
       "      <td>10.1590/1519-6984.234476</td>\n",
       "      <td>Phytochemical characterization, and antioxidan...</td>\n",
       "      <td>2022</td>\n",
       "      <td>Universidade Federal de Goiás – UFG, Rede Pró ...</td>\n",
       "      <td>Goiânia</td>\n",
       "      <td>Instituto Federal de Goiás</td>\n",
       "    </tr>\n",
       "    <tr>\n",
       "      <th>4</th>\n",
       "      <td>10.1038/s41598-021-97854-8</td>\n",
       "      <td>Stability analysis of reference genes for RT-q...</td>\n",
       "      <td>2021</td>\n",
       "      <td>Department of Agronomy, Universidade Federal R...</td>\n",
       "      <td>Águas Lindas</td>\n",
       "      <td>Instituto Federal de Goiás</td>\n",
       "    </tr>\n",
       "    <tr>\n",
       "      <th>...</th>\n",
       "      <td>...</td>\n",
       "      <td>...</td>\n",
       "      <td>...</td>\n",
       "      <td>...</td>\n",
       "      <td>...</td>\n",
       "      <td>...</td>\n",
       "    </tr>\n",
       "    <tr>\n",
       "      <th>1157</th>\n",
       "      <td>10.31977/grirfi.v16i2.774</td>\n",
       "      <td>HUMAN RIGHTS: FROM THE UNIFORMITY OF THE SPECI...</td>\n",
       "      <td>2017</td>\n",
       "      <td>UNIV FED RECONCAVO BAHIA, CENTRO FORMACAO PROF...</td>\n",
       "      <td>Bahia</td>\n",
       "      <td>Universidade Federal Reconcavo</td>\n",
       "    </tr>\n",
       "    <tr>\n",
       "      <th>1158</th>\n",
       "      <td>10.1590/S0101-31732015000400002</td>\n",
       "      <td>PRESENTATION OF THE DOSSIER ROUSSEAU</td>\n",
       "      <td>2015</td>\n",
       "      <td>UNESP-MARILIA</td>\n",
       "      <td>Marilia</td>\n",
       "      <td>UNESP</td>\n",
       "    </tr>\n",
       "    <tr>\n",
       "      <th>1159</th>\n",
       "      <td>10.1590/S1415-43662014000400013</td>\n",
       "      <td>Physiological quality of soybean seeds stored ...</td>\n",
       "      <td>2014</td>\n",
       "      <td>UNIV FEDERAL CAMPINA GRANDE</td>\n",
       "      <td>Campina Grande</td>\n",
       "      <td>Universidade Federal Campina Grande</td>\n",
       "    </tr>\n",
       "    <tr>\n",
       "      <th>1160</th>\n",
       "      <td>10.1590/S0034-89102010005000053</td>\n",
       "      <td>Ethics in the publication of studies on human ...</td>\n",
       "      <td>2011</td>\n",
       "      <td>REVISTA DE SAUDE PUBLICA</td>\n",
       "      <td>Brasil</td>\n",
       "      <td>Revista Saude Publica</td>\n",
       "    </tr>\n",
       "    <tr>\n",
       "      <th>1161</th>\n",
       "      <td>10.5585/iji.v4i1.67</td>\n",
       "      <td>SYSTEMATIC REVIEW OF THE LITERATURE SOCIAL ENT...</td>\n",
       "      <td>2016</td>\n",
       "      <td>UNIV NOVE JULHO</td>\n",
       "      <td>Brasil</td>\n",
       "      <td>Universidade Nove Julho</td>\n",
       "    </tr>\n",
       "  </tbody>\n",
       "</table>\n",
       "<p>1162 rows × 6 columns</p>\n",
       "</div>"
      ],
      "text/plain": [
       "                                  DOI  \\\n",
       "0        10.1016/j.nonrwa.2021.103406   \n",
       "1        10.1007/978-3-030-79165-0_25   \n",
       "2            10.1590/1519-6984.245368   \n",
       "3            10.1590/1519-6984.234476   \n",
       "4          10.1038/s41598-021-97854-8   \n",
       "...                               ...   \n",
       "1157        10.31977/grirfi.v16i2.774   \n",
       "1158  10.1590/S0101-31732015000400002   \n",
       "1159  10.1590/S1415-43662014000400013   \n",
       "1160  10.1590/S0034-89102010005000053   \n",
       "1161              10.5585/iji.v4i1.67   \n",
       "\n",
       "                                                  Title  Year  \\\n",
       "0     Classical solution for a nonlinear hybrid syst...  2022   \n",
       "1     An Innovative Textile Product Proposal Based o...  2022   \n",
       "2     Detection of enteroparasites in foliar vegetab...  2022   \n",
       "3     Phytochemical characterization, and antioxidan...  2022   \n",
       "4     Stability analysis of reference genes for RT-q...  2021   \n",
       "...                                                 ...   ...   \n",
       "1157  HUMAN RIGHTS: FROM THE UNIFORMITY OF THE SPECI...  2017   \n",
       "1158               PRESENTATION OF THE DOSSIER ROUSSEAU  2015   \n",
       "1159  Physiological quality of soybean seeds stored ...  2014   \n",
       "1160  Ethics in the publication of studies on human ...  2011   \n",
       "1161  SYSTEMATIC REVIEW OF THE LITERATURE SOCIAL ENT...  2016   \n",
       "\n",
       "                                           Affiliations  \\\n",
       "0     Instituto Federal de Goiás-IFG, Campus Goiânia...   \n",
       "1     Instituto Federal de Goiás (IFG), Aparecida de...   \n",
       "2     Instituto Federal de Educação, Ciência e Tecno...   \n",
       "3     Universidade Federal de Goiás – UFG, Rede Pró ...   \n",
       "4     Department of Agronomy, Universidade Federal R...   \n",
       "...                                                 ...   \n",
       "1157  UNIV FED RECONCAVO BAHIA, CENTRO FORMACAO PROF...   \n",
       "1158                                      UNESP-MARILIA   \n",
       "1159                        UNIV FEDERAL CAMPINA GRANDE   \n",
       "1160                           REVISTA DE SAUDE PUBLICA   \n",
       "1161                                    UNIV NOVE JULHO   \n",
       "\n",
       "                     Campus                          Institution  \n",
       "0                   Goiânia           Instituto Federal de Goiás  \n",
       "1     Aparecida de Goiânia            Instituto Federal de Goiás  \n",
       "2     Aparecida de Goiânia            Instituto Federal de Goiás  \n",
       "3                   Goiânia           Instituto Federal de Goiás  \n",
       "4              Águas Lindas           Instituto Federal de Goiás  \n",
       "...                     ...                                  ...  \n",
       "1157                  Bahia       Universidade Federal Reconcavo  \n",
       "1158                Marilia                                UNESP  \n",
       "1159         Campina Grande  Universidade Federal Campina Grande  \n",
       "1160                 Brasil                Revista Saude Publica  \n",
       "1161                 Brasil              Universidade Nove Julho  \n",
       "\n",
       "[1162 rows x 6 columns]"
      ]
     },
     "execution_count": 5,
     "metadata": {},
     "output_type": "execute_result"
    }
   ],
   "source": [
    "url = 'https://raw.githubusercontent.com/joaograndotto/PIBITI/main/Datasets/dados_com_label.csv'\n",
    "dataset = pd.read_csv(url, sep=\",\" )\n",
    "dataset"
   ]
  },
  {
   "cell_type": "markdown",
   "id": "8d85d498",
   "metadata": {},
   "source": [
    "### Separando o dataset em treino e teste"
   ]
  },
  {
   "cell_type": "code",
   "execution_count": 50,
   "id": "101be259",
   "metadata": {},
   "outputs": [],
   "source": [
    "train_dataset = dataset.sample(frac = 0.9, random_state = 25)\n",
    "test_dataset  = dataset.drop(train_dataset.index)"
   ]
  },
  {
   "cell_type": "code",
   "execution_count": 51,
   "id": "ad971a7c",
   "metadata": {},
   "outputs": [
    {
     "data": {
      "text/plain": [
       "(1046, 6)"
      ]
     },
     "execution_count": 51,
     "metadata": {},
     "output_type": "execute_result"
    }
   ],
   "source": [
    "train_dataset.shape"
   ]
  },
  {
   "cell_type": "code",
   "execution_count": 52,
   "id": "b6eff3ac",
   "metadata": {},
   "outputs": [
    {
     "data": {
      "text/plain": [
       "(116, 6)"
      ]
     },
     "execution_count": 52,
     "metadata": {},
     "output_type": "execute_result"
    }
   ],
   "source": [
    "test_dataset.shape"
   ]
  },
  {
   "cell_type": "markdown",
   "id": "7f644f78",
   "metadata": {},
   "source": [
    "# Classificação de texto [prova de conceito]\n",
    "\n",
    "## Classificação\n",
    "\n",
    "Em aprendizado de máquina, a classificação é a tarefa de agrupamento dos dados em diferentes classes, grupos ou partes. \n",
    "\n",
    "Por exemplo, se tomarmos os dados de vitórias, empates ou derrotas de um jogador de bilhar ao longo do tempo, podemos classificá-lo em um dado período como \"em forma\" ou \"fora de forma\" de acordo com seu desempenho. Uma vez que o modelo aprende a classificar com este jogador, é possível aplicar o mesmo modelo a outros jogadores de bilhar.\n",
    "\n",
    "### Classificação binária\n",
    "\n",
    "É o processo de classificação no qual elementos de um conjunto de dados são classificados em 2 classes. Um dos exemplos mais recorrentes é a classificação de e-mails como \"*spam*\" ou \"não *spam*\" com base em palavras-chave. A partir de um conjunto de textos de e-mail previamente etiquetados como *spam* ou não, constrói-se um modelo capaz de reconhecer características do texto e separar o texto no conjunto *spam* ou não *spam*. Uma vez construído o modelo, ele pode ser aplicado a qualquer outro texto para classificá-lo como *spam* ou não."
   ]
  },
  {
   "cell_type": "code",
   "execution_count": 1,
   "id": "acfb7a5e",
   "metadata": {},
   "outputs": [],
   "source": [
    "#! pip install nltk"
   ]
  },
  {
   "cell_type": "code",
   "execution_count": 48,
   "id": "20618ee2",
   "metadata": {},
   "outputs": [
    {
     "name": "stderr",
     "output_type": "stream",
     "text": [
      "[nltk_data] Downloading package stopwords to\n",
      "[nltk_data]     /home/waldeyr/nltk_data...\n",
      "[nltk_data]   Package stopwords is already up-to-date!\n"
     ]
    }
   ],
   "source": [
    "import numpy as np\n",
    "import re\n",
    "import nltk\n",
    "from sklearn.datasets import load_files\n",
    "nltk.download('stopwords')\n",
    "import pickle\n",
    "from nltk.corpus import stopwords"
   ]
  },
  {
   "cell_type": "code",
   "execution_count": 49,
   "id": "aec84b23",
   "metadata": {},
   "outputs": [
    {
     "data": {
      "text/plain": [
       "['de', 'a', 'o', 'que', 'e', 'é', 'do', 'da', 'em', 'um']"
      ]
     },
     "execution_count": 49,
     "metadata": {},
     "output_type": "execute_result"
    }
   ],
   "source": [
    "stopwords.words('portuguese')[:10]"
   ]
  },
  {
   "cell_type": "code",
   "execution_count": 50,
   "id": "720a28db",
   "metadata": {},
   "outputs": [
    {
     "data": {
      "text/plain": [
       "['i', 'me', 'my', 'myself', 'we', 'our', 'ours', 'ourselves', 'you', \"you're\"]"
      ]
     },
     "execution_count": 50,
     "metadata": {},
     "output_type": "execute_result"
    }
   ],
   "source": [
    "stopwords.words('english')[:10]"
   ]
  },
  {
   "cell_type": "code",
   "execution_count": 51,
   "id": "0275bf3a",
   "metadata": {},
   "outputs": [
    {
     "data": {
      "text/plain": [
       "['aber', 'alle', 'allem', 'allen', 'aller', 'alles', 'als', 'also', 'am', 'an']"
      ]
     },
     "execution_count": 51,
     "metadata": {},
     "output_type": "execute_result"
    }
   ],
   "source": [
    "stopwords.words('german')[:10]"
   ]
  },
  {
   "cell_type": "code",
   "execution_count": 52,
   "id": "f9b386c1",
   "metadata": {},
   "outputs": [
    {
     "data": {
      "text/plain": [
       "['de', 'la', 'que', 'el', 'en', 'y', 'a', 'los', 'del', 'se']"
      ]
     },
     "execution_count": 52,
     "metadata": {},
     "output_type": "execute_result"
    }
   ],
   "source": [
    "stopwords.words('spanish')[:10]"
   ]
  },
  {
   "cell_type": "code",
   "execution_count": 53,
   "id": "bbb7e9fc",
   "metadata": {},
   "outputs": [],
   "source": [
    "palavrasIgnoradas = \\\n",
    "    stopwords.words('portuguese') + \\\n",
    "    stopwords.words('english') + \\\n",
    "    stopwords.words('german') + \\\n",
    "    stopwords.words('spanish')"
   ]
  },
  {
   "cell_type": "code",
   "execution_count": 54,
   "id": "cbf7ba94",
   "metadata": {},
   "outputs": [
    {
     "data": {
      "text/plain": [
       "['nor',\n",
       " 'there',\n",
       " 'because',\n",
       " 'les',\n",
       " 'teria',\n",
       " 'isto',\n",
       " 'da',\n",
       " 'seas',\n",
       " 'dass',\n",
       " 'fôramos']"
      ]
     },
     "execution_count": 54,
     "metadata": {},
     "output_type": "execute_result"
    }
   ],
   "source": [
    "import random\n",
    "random.sample(palavrasIgnoradas, 10)"
   ]
  },
  {
   "cell_type": "markdown",
   "id": "11943a3e",
   "metadata": {},
   "source": [
    "### Dataset com dados etiquetados (apredizado supervisionado)"
   ]
  },
  {
   "cell_type": "code",
   "execution_count": 55,
   "id": "c1514dde",
   "metadata": {},
   "outputs": [],
   "source": [
    "import numpy as np\n",
    "import matplotlib.pyplot as plt\n",
    "from sklearn import svm\n",
    "from sklearn.datasets import make_blobs\n",
    "import pandas as pd"
   ]
  },
  {
   "cell_type": "code",
   "execution_count": 56,
   "id": "5dc95691",
   "metadata": {},
   "outputs": [],
   "source": [
    "url = 'https://raw.githubusercontent.com/joaograndotto/PIBITI/main/Datasets/dados_com_label.csv'\n",
    "dataset = pd.read_csv(url, sep=\",\" )"
   ]
  },
  {
   "cell_type": "code",
   "execution_count": 57,
   "id": "0ccf66cb",
   "metadata": {},
   "outputs": [
    {
     "data": {
      "text/html": [
       "<div>\n",
       "<style scoped>\n",
       "    .dataframe tbody tr th:only-of-type {\n",
       "        vertical-align: middle;\n",
       "    }\n",
       "\n",
       "    .dataframe tbody tr th {\n",
       "        vertical-align: top;\n",
       "    }\n",
       "\n",
       "    .dataframe thead th {\n",
       "        text-align: right;\n",
       "    }\n",
       "</style>\n",
       "<table border=\"1\" class=\"dataframe\">\n",
       "  <thead>\n",
       "    <tr style=\"text-align: right;\">\n",
       "      <th></th>\n",
       "      <th>DOI</th>\n",
       "      <th>Title</th>\n",
       "      <th>Year</th>\n",
       "      <th>Affiliations</th>\n",
       "      <th>Campus</th>\n",
       "      <th>Institution</th>\n",
       "    </tr>\n",
       "  </thead>\n",
       "  <tbody>\n",
       "    <tr>\n",
       "      <th>153</th>\n",
       "      <td>10.1016/j.jclepro.2020.121443</td>\n",
       "      <td>Bio-acidification and enhanced crusting as an ...</td>\n",
       "      <td>2020</td>\n",
       "      <td>LEAF, Instituto Superior de Agronomia, Univers...</td>\n",
       "      <td>Inhumas</td>\n",
       "      <td>Instituto Federal de Goiás</td>\n",
       "    </tr>\n",
       "    <tr>\n",
       "      <th>654</th>\n",
       "      <td>10.1007/s00603-015-0839-2</td>\n",
       "      <td>Steady-State Creep of Rock Salt: Improved Appr...</td>\n",
       "      <td>2015</td>\n",
       "      <td>IfG, Institut für Gebirgsmechanik GmbH, Leipzi...</td>\n",
       "      <td>Germany</td>\n",
       "      <td>Institut für Gebirgsmechanik GmbH</td>\n",
       "    </tr>\n",
       "    <tr>\n",
       "      <th>1086</th>\n",
       "      <td>10.1111/j.1365-246X.2007.03580.x</td>\n",
       "      <td>Fault interactions in the Sea of Marmara pull-...</td>\n",
       "      <td>2007</td>\n",
       "      <td>Laboratoire de Tectonique, IPGP, CNRS-UMR 7578...</td>\n",
       "      <td>Paris</td>\n",
       "      <td>L'Institut Français de Géopolitique</td>\n",
       "    </tr>\n",
       "  </tbody>\n",
       "</table>\n",
       "</div>"
      ],
      "text/plain": [
       "                                   DOI  \\\n",
       "153      10.1016/j.jclepro.2020.121443   \n",
       "654          10.1007/s00603-015-0839-2   \n",
       "1086  10.1111/j.1365-246X.2007.03580.x   \n",
       "\n",
       "                                                  Title  Year  \\\n",
       "153   Bio-acidification and enhanced crusting as an ...  2020   \n",
       "654   Steady-State Creep of Rock Salt: Improved Appr...  2015   \n",
       "1086  Fault interactions in the Sea of Marmara pull-...  2007   \n",
       "\n",
       "                                           Affiliations   Campus  \\\n",
       "153   LEAF, Instituto Superior de Agronomia, Univers...  Inhumas   \n",
       "654   IfG, Institut für Gebirgsmechanik GmbH, Leipzi...  Germany   \n",
       "1086  Laboratoire de Tectonique, IPGP, CNRS-UMR 7578...    Paris   \n",
       "\n",
       "                              Institution  \n",
       "153           Instituto Federal de Goiás   \n",
       "654     Institut für Gebirgsmechanik GmbH  \n",
       "1086  L'Institut Français de Géopolitique  "
      ]
     },
     "execution_count": 57,
     "metadata": {},
     "output_type": "execute_result"
    }
   ],
   "source": [
    "dataset.sample(n=3)"
   ]
  },
  {
   "cell_type": "code",
   "execution_count": 65,
   "id": "3d8343f9",
   "metadata": {},
   "outputs": [],
   "source": [
    "dataset['IFG'] = dataset['Institution'].apply(lambda x: 1 if str(x).strip() == \"Instituto Federal de Goiás\" else 0)"
   ]
  },
  {
   "cell_type": "code",
   "execution_count": 66,
   "id": "e16793a8",
   "metadata": {},
   "outputs": [
    {
     "data": {
      "text/html": [
       "<div>\n",
       "<style scoped>\n",
       "    .dataframe tbody tr th:only-of-type {\n",
       "        vertical-align: middle;\n",
       "    }\n",
       "\n",
       "    .dataframe tbody tr th {\n",
       "        vertical-align: top;\n",
       "    }\n",
       "\n",
       "    .dataframe thead th {\n",
       "        text-align: right;\n",
       "    }\n",
       "</style>\n",
       "<table border=\"1\" class=\"dataframe\">\n",
       "  <thead>\n",
       "    <tr style=\"text-align: right;\">\n",
       "      <th></th>\n",
       "      <th>DOI</th>\n",
       "      <th>Title</th>\n",
       "      <th>Year</th>\n",
       "      <th>Affiliations</th>\n",
       "      <th>Campus</th>\n",
       "      <th>Institution</th>\n",
       "      <th>IFG</th>\n",
       "    </tr>\n",
       "  </thead>\n",
       "  <tbody>\n",
       "    <tr>\n",
       "      <th>231</th>\n",
       "      <td>10.1038/s41598-019-49263-1</td>\n",
       "      <td>Dissemination prevention of antibiotic resista...</td>\n",
       "      <td>2019</td>\n",
       "      <td>Karlsruhe Institute of Technology (KIT), Insti...</td>\n",
       "      <td>Eggenstein-Leopoldshafen</td>\n",
       "      <td>Institute of Functional Interfaces</td>\n",
       "      <td>0</td>\n",
       "    </tr>\n",
       "    <tr>\n",
       "      <th>405</th>\n",
       "      <td>10.1109/TLA.2018.8358662</td>\n",
       "      <td>Method for Optimized Analysis of Electrical Te...</td>\n",
       "      <td>2018</td>\n",
       "      <td>Enel, EMC/UFG, IFG, Goiania, Brazil; IF Goiano...</td>\n",
       "      <td>Trindade</td>\n",
       "      <td>Instituto Federal Goiano</td>\n",
       "      <td>0</td>\n",
       "    </tr>\n",
       "    <tr>\n",
       "      <th>61</th>\n",
       "      <td>10.1590/2179-10742021V20I1874</td>\n",
       "      <td>Mathematical Analysis and Improvement of the M...</td>\n",
       "      <td>2021</td>\n",
       "      <td>Universidade Federal de Goiás-UFG, Goiânia, Go...</td>\n",
       "      <td>Goiânia</td>\n",
       "      <td>Instituto Federal de Goiás</td>\n",
       "      <td>1</td>\n",
       "    </tr>\n",
       "  </tbody>\n",
       "</table>\n",
       "</div>"
      ],
      "text/plain": [
       "                               DOI  \\\n",
       "231     10.1038/s41598-019-49263-1   \n",
       "405       10.1109/TLA.2018.8358662   \n",
       "61   10.1590/2179-10742021V20I1874   \n",
       "\n",
       "                                                 Title  Year  \\\n",
       "231  Dissemination prevention of antibiotic resista...  2019   \n",
       "405  Method for Optimized Analysis of Electrical Te...  2018   \n",
       "61   Mathematical Analysis and Improvement of the M...  2021   \n",
       "\n",
       "                                          Affiliations  \\\n",
       "231  Karlsruhe Institute of Technology (KIT), Insti...   \n",
       "405  Enel, EMC/UFG, IFG, Goiania, Brazil; IF Goiano...   \n",
       "61   Universidade Federal de Goiás-UFG, Goiânia, Go...   \n",
       "\n",
       "                        Campus                         Institution  IFG  \n",
       "231   Eggenstein-Leopoldshafen  Institute of Functional Interfaces    0  \n",
       "405                   Trindade            Instituto Federal Goiano    0  \n",
       "61                     Goiânia         Instituto Federal de Goiás     1  "
      ]
     },
     "execution_count": 66,
     "metadata": {},
     "output_type": "execute_result"
    }
   ],
   "source": [
    "dataset.sample(n=3)"
   ]
  },
  {
   "cell_type": "code",
   "execution_count": 67,
   "id": "9396edbe",
   "metadata": {},
   "outputs": [
    {
     "data": {
      "text/plain": [
       "((1162,), (1162,))"
      ]
     },
     "execution_count": 67,
     "metadata": {},
     "output_type": "execute_result"
    }
   ],
   "source": [
    "X, y = dataset['Affiliations'], dataset['IFG']\n",
    "X.shape, y.shape"
   ]
  },
  {
   "cell_type": "code",
   "execution_count": 68,
   "id": "cbbf1fdd",
   "metadata": {},
   "outputs": [
    {
     "data": {
      "text/plain": [
       "0       Instituto Federal de Goiás-IFG, Campus Goiânia...\n",
       "1       Instituto Federal de Goiás (IFG), Aparecida de...\n",
       "2       Instituto Federal de Educação, Ciência e Tecno...\n",
       "3       Universidade Federal de Goiás – UFG, Rede Pró ...\n",
       "4       Department of Agronomy, Universidade Federal R...\n",
       "                              ...                        \n",
       "1157    UNIV FED RECONCAVO BAHIA, CENTRO FORMACAO PROF...\n",
       "1158                                        UNESP-MARILIA\n",
       "1159                          UNIV FEDERAL CAMPINA GRANDE\n",
       "1160                             REVISTA DE SAUDE PUBLICA\n",
       "1161                                      UNIV NOVE JULHO\n",
       "Name: Affiliations, Length: 1162, dtype: object"
      ]
     },
     "execution_count": 68,
     "metadata": {},
     "output_type": "execute_result"
    }
   ],
   "source": [
    "X"
   ]
  },
  {
   "cell_type": "markdown",
   "id": "9947e154",
   "metadata": {},
   "source": [
    "#### Bag of Words\n",
    "\n",
    "É uma matriz esparsa com a ocorrência ou não de um termo em cada texto ou documento."
   ]
  },
  {
   "cell_type": "code",
   "execution_count": 61,
   "id": "c52ed896",
   "metadata": {},
   "outputs": [],
   "source": [
    "from sklearn.feature_extraction.text import CountVectorizer\n",
    "vectorizer = CountVectorizer(\n",
    "    max_features = 1500, # vocabulário considera top max_features ordenadas por freq do termo no texto \n",
    "    min_df = 5, # ignorar termos com frequencia menor do que x, onde 0<=x<=1\n",
    "    max_df = 0.7, # ignorar termos com frequencia maior do que x, onde 0<=x<=1\n",
    "    stop_words = palavrasIgnoradas\n",
    ")"
   ]
  },
  {
   "cell_type": "code",
   "execution_count": 62,
   "id": "7e3d1b12",
   "metadata": {},
   "outputs": [
    {
     "data": {
      "text/plain": [
       "CountVectorizer(max_df=0.7, max_features=1500, min_df=5,\n",
       "                stop_words=['de', 'a', 'o', 'que', 'e', 'é', 'do', 'da', 'em',\n",
       "                            'um', 'para', 'com', 'não', 'uma', 'os', 'no', 'se',\n",
       "                            'na', 'por', 'mais', 'as', 'dos', 'como', 'mas',\n",
       "                            'ao', 'ele', 'das', 'à', 'seu', 'sua', ...])"
      ]
     },
     "execution_count": 62,
     "metadata": {},
     "output_type": "execute_result"
    }
   ],
   "source": [
    "vectorizer"
   ]
  },
  {
   "cell_type": "code",
   "execution_count": 64,
   "id": "9504c813",
   "metadata": {},
   "outputs": [
    {
     "data": {
      "text/plain": [
       "array([[0, 0, 0, ..., 0, 0, 0],\n",
       "       [0, 0, 0, ..., 0, 0, 0],\n",
       "       [0, 0, 0, ..., 0, 0, 0],\n",
       "       ...,\n",
       "       [0, 0, 0, ..., 0, 0, 0],\n",
       "       [0, 0, 0, ..., 0, 0, 0],\n",
       "       [0, 0, 0, ..., 0, 0, 0]])"
      ]
     },
     "execution_count": 64,
     "metadata": {},
     "output_type": "execute_result"
    }
   ],
   "source": [
    "X"
   ]
  },
  {
   "cell_type": "code",
   "execution_count": 63,
   "id": "cab295c6",
   "metadata": {},
   "outputs": [],
   "source": [
    "X = vectorizer.fit_transform(X).toarray()"
   ]
  },
  {
   "cell_type": "code",
   "execution_count": 46,
   "id": "10b107d7",
   "metadata": {},
   "outputs": [
    {
     "data": {
      "text/plain": [
       "(1162, 1033)"
      ]
     },
     "execution_count": 46,
     "metadata": {},
     "output_type": "execute_result"
    }
   ],
   "source": [
    "X.shape"
   ]
  },
  {
   "cell_type": "markdown",
   "id": "dc925511",
   "metadata": {},
   "source": [
    "#### TFIDF (term frequency–inverse document frequency)\n",
    "\n",
    "É uma medida estatística que almeja refletir a importância (peso) de um termo em um conjunto de documentos através de sua frequência.\n",
    "O peso de um termo que ocorre em um documento é diretamente proporcional à sua frequência.\n",
    "Quanto mais um termo aparece no conjunto de documentos, mais importante ele é.\n",
    "Entretanto, quando o tamanho dos documentos varia muito, é natural que um termo possa aparecer mais. Por isso algum ajuste precisa ser feito a variedade. Termos como \"do\", \"de\" na língua portuguesa ou \"the\", \"of\" na língua inglesa tendem a aparecer mais que outros.\n",
    "\n",
    "TFIDF procura resolver este problema multiplicando a frequência do termo pelo inverso da frequência do termo em um conjunto de textos.\n",
    "\n",
    "$$ idf(t, D) = log\\frac{N}{count(d~\\in~D:t~\\in~d)}$$"
   ]
  },
  {
   "cell_type": "code",
   "execution_count": 47,
   "id": "2efafd5c",
   "metadata": {},
   "outputs": [],
   "source": [
    "from sklearn.feature_extraction.text import TfidfTransformer\n",
    "tfidfconverter = TfidfTransformer()\n",
    "X = tfidfconverter.fit_transform(X).toarray()"
   ]
  },
  {
   "cell_type": "markdown",
   "id": "2813ae6b",
   "metadata": {},
   "source": [
    "##### Separando o dataset em 2 partes (treino e teste)"
   ]
  },
  {
   "cell_type": "code",
   "execution_count": 55,
   "id": "5dea65fe",
   "metadata": {},
   "outputs": [],
   "source": [
    "from sklearn.model_selection import train_test_split\n",
    "X_train, X_test, y_train, y_test = train_test_split(X, y, test_size = 0.1, random_state = 3)"
   ]
  },
  {
   "cell_type": "markdown",
   "id": "443a38ad",
   "metadata": {},
   "source": [
    "##### Criando e treinando o modelo com os dados de treino"
   ]
  },
  {
   "cell_type": "code",
   "execution_count": 56,
   "id": "f32ad2ff",
   "metadata": {},
   "outputs": [
    {
     "data": {
      "text/plain": [
       "LogisticRegression()"
      ]
     },
     "execution_count": 56,
     "metadata": {},
     "output_type": "execute_result"
    }
   ],
   "source": [
    "from sklearn.linear_model import LogisticRegression\n",
    "modeloRegressaoLogistica = LogisticRegression()\n",
    "modeloRegressaoLogistica.fit(X_train, y_train)"
   ]
  },
  {
   "cell_type": "markdown",
   "id": "97d744ae",
   "metadata": {},
   "source": [
    "##### Testando o modelo com o conjunto de teste"
   ]
  },
  {
   "cell_type": "code",
   "execution_count": 57,
   "id": "9840d21f",
   "metadata": {},
   "outputs": [],
   "source": [
    "predictions = modeloRegressaoLogistica.predict(X_test)"
   ]
  },
  {
   "cell_type": "markdown",
   "id": "404d71f0",
   "metadata": {},
   "source": [
    "### Avaliação da classificação\n",
    "\n",
    "Algumas métricas são utilizadas para avaliar o quão bom um modelo é capaz de classificar.\n",
    "\n",
    "#### Acurácia\n",
    "\n",
    "* True positive (TP): quando um elemento pertence a uma classe e o modelo diz que ele pertence.\n",
    "* False positive (FP): quando o elemento não pertence a uma classe e o modelo diz que ele pertence;\n",
    "* True negative (TN): quando um elemento não pertence a uma classe e o modelo diz que ele não pertence;\n",
    "* False negative (FN): quando um elemento pertence a uma classe e o modelo diz que ele não pertence;\n",
    "    \n",
    "A acuária é obtida como se segue:\n",
    "    \n",
    "$$ acurária = \\frac{TP + TN}{TP + FP + TN + FN} $$\n",
    "\n",
    "A acurácia pode ser representada por uma matriz de confusão.\n",
    "\n",
    "#### Precisão\n",
    "\n",
    "A precisão é a métrica que indica qual a proporção de identificações positivas foi correta. Ou seja, entre todas as identificações positivas, em que proporção o modelo realmente acertou. A precisão é dada pela fórmula:\n",
    "\n",
    "$$ Precisão = \\frac{TP}{TP + FP} $$\n",
    "\n",
    "\n",
    "#### Recall\n",
    "\n",
    "O *recall* indica a proporção de verdadeiros positivos corretamente identificados. A fórmula para cacular o *recall* é dada por:\n",
    "\n",
    "$$ Recall = \\frac{TP}{TP + FN} $$\n"
   ]
  },
  {
   "cell_type": "code",
   "execution_count": 58,
   "id": "00db3a3d",
   "metadata": {},
   "outputs": [
    {
     "name": "stdout",
     "output_type": "stream",
     "text": [
      "[[81  2]\n",
      " [ 1 33]]\n",
      "              precision    recall  f1-score   support\n",
      "\n",
      "           0       0.99      0.98      0.98        83\n",
      "           1       0.94      0.97      0.96        34\n",
      "\n",
      "    accuracy                           0.97       117\n",
      "   macro avg       0.97      0.97      0.97       117\n",
      "weighted avg       0.97      0.97      0.97       117\n",
      "\n",
      "0.9743589743589743\n"
     ]
    }
   ],
   "source": [
    "from sklearn.metrics import classification_report, confusion_matrix, accuracy_score\n",
    "\n",
    "print(confusion_matrix(y_test,predictions))\n",
    "print(classification_report(y_test,predictions))\n",
    "print(accuracy_score(y_test, predictions))"
   ]
  },
  {
   "cell_type": "code",
   "execution_count": 60,
   "id": "91b58989",
   "metadata": {},
   "outputs": [
    {
     "name": "stdout",
     "output_type": "stream",
     "text": [
      "True Positive(TP)  =  33\n",
      "False Positive(FP) =  2\n",
      "True Negative(TN)  =  81\n",
      "False Negative(FN) =  1\n",
      "Acurácia da classificação binária = 97.436%\n"
     ]
    }
   ],
   "source": [
    "cm = confusion_matrix(y_test, predictions)\n",
    "\n",
    "TN, FP, FN, TP = confusion_matrix(y_test, predictions).ravel()\n",
    "\n",
    "print('True Positive(TP)  = ', TP)\n",
    "print('False Positive(FP) = ', FP)\n",
    "print('True Negative(TN)  = ', TN)\n",
    "print('False Negative(FN) = ', FN)\n",
    "\n",
    "accuracy =  (TP+TN) /(TP+FP+TN+FN)\n",
    "\n",
    "print('Acurácia da classificação binária = {:0.3f}%'.format(accuracy*100))"
   ]
  },
  {
   "cell_type": "code",
   "execution_count": 70,
   "id": "509ee9b1",
   "metadata": {},
   "outputs": [],
   "source": [
    "import sklearn.metrics as metrics\n",
    "fpr, tpr, threshold = metrics.roc_curve(y_test, predictions)\n",
    "roc_auc = metrics.auc(fpr, tpr)"
   ]
  },
  {
   "cell_type": "code",
   "execution_count": 72,
   "id": "c7c89d8c",
   "metadata": {},
   "outputs": [
    {
     "data": {
      "image/png": "[encoded data removed]",
      "text/plain": [
       "<Figure size 432x288 with 1 Axes>"
      ]
     },
     "metadata": {
      "needs_background": "light"
     },
     "output_type": "display_data"
    }
   ],
   "source": [
    "# method I: plt\n",
    "import matplotlib.pyplot as plt\n",
    "plt.title('Receiver Operating Characteristic')\n",
    "plt.plot(fpr, tpr, 'b', label = 'AUC = %0.2f' % roc_auc)\n",
    "plt.legend(loc = 'lower right')\n",
    "plt.plot([0, 1], [0, 1],'r--')\n",
    "plt.xlim([0, 1])\n",
    "plt.ylim([0, 1])\n",
    "plt.ylabel('True Positive Rate')\n",
    "plt.xlabel('False Positive Rate')\n",
    "plt.show()"
   ]
  },
  {
   "cell_type": "markdown",
   "id": "8922deb2",
   "metadata": {},
   "source": [
    "## Multiclassificação"
   ]
  },
  {
   "cell_type": "code",
   "execution_count": 116,
   "id": "e83f0d1d",
   "metadata": {},
   "outputs": [],
   "source": [
    "import numpy as np \n",
    "import pandas as pd\n",
    "import matplotlib.pyplot as plt\n",
    "from sklearn.tree import DecisionTreeClassifier, export_graphviz, plot_tree\n",
    "from sklearn import preprocessing, metrics\n",
    "from sklearn.model_selection import train_test_split\n",
    "import matplotlib.image as mpimg\n",
    "from sklearn.metrics import classification_report, confusion_matrix\n",
    "from IPython.display import Image \n",
    "from six import StringIO"
   ]
  },
  {
   "cell_type": "code",
   "execution_count": 96,
   "id": "34fe2826",
   "metadata": {},
   "outputs": [],
   "source": [
    "url = \"https://raw.githubusercontent.com/joaograndotto/PIBITI/main/Datasets/dados_multi_classe.csv\"\n",
    "df = pd.read_csv(url, delimiter=',')"
   ]
  },
  {
   "cell_type": "code",
   "execution_count": 97,
   "id": "7ffed5c8",
   "metadata": {},
   "outputs": [
    {
     "data": {
      "text/html": [
       "<div>\n",
       "<style scoped>\n",
       "    .dataframe tbody tr th:only-of-type {\n",
       "        vertical-align: middle;\n",
       "    }\n",
       "\n",
       "    .dataframe tbody tr th {\n",
       "        vertical-align: top;\n",
       "    }\n",
       "\n",
       "    .dataframe thead th {\n",
       "        text-align: right;\n",
       "    }\n",
       "</style>\n",
       "<table border=\"1\" class=\"dataframe\">\n",
       "  <thead>\n",
       "    <tr style=\"text-align: right;\">\n",
       "      <th></th>\n",
       "      <th>Institution</th>\n",
       "      <th>Affiliations</th>\n",
       "    </tr>\n",
       "  </thead>\n",
       "  <tbody>\n",
       "    <tr>\n",
       "      <th>0</th>\n",
       "      <td>Aristotle University Greece</td>\n",
       "      <td>1st Department of Ophthalmology Aristotle Univ...</td>\n",
       "    </tr>\n",
       "    <tr>\n",
       "      <th>1</th>\n",
       "      <td>Aristotle University Greece</td>\n",
       "      <td>Aristotle Univ Thessaloniki Greece</td>\n",
       "    </tr>\n",
       "    <tr>\n",
       "      <th>2</th>\n",
       "      <td>Aristotle University Greece</td>\n",
       "      <td>Aristotle Univ Thessaloniki Thessaloniki Greece</td>\n",
       "    </tr>\n",
       "    <tr>\n",
       "      <th>3</th>\n",
       "      <td>Aristotle University Greece</td>\n",
       "      <td>Aristotle University of Thessaloniki Greece</td>\n",
       "    </tr>\n",
       "    <tr>\n",
       "      <th>4</th>\n",
       "      <td>Aristotle University Greece</td>\n",
       "      <td>Aristotle University of Thessaloniki Thessalon...</td>\n",
       "    </tr>\n",
       "    <tr>\n",
       "      <th>...</th>\n",
       "      <td>...</td>\n",
       "      <td>...</td>\n",
       "    </tr>\n",
       "    <tr>\n",
       "      <th>122935</th>\n",
       "      <td>Universidade Federal Reconcavo</td>\n",
       "      <td>UNIV FED RECONCAVO BAHIA, CENTRO FORMACAO PROF...</td>\n",
       "    </tr>\n",
       "    <tr>\n",
       "      <th>122936</th>\n",
       "      <td>UNESP</td>\n",
       "      <td>UNESP-MARILIA</td>\n",
       "    </tr>\n",
       "    <tr>\n",
       "      <th>122937</th>\n",
       "      <td>Universidade Federal Campina Grande</td>\n",
       "      <td>UNIV FEDERAL CAMPINA GRANDE</td>\n",
       "    </tr>\n",
       "    <tr>\n",
       "      <th>122938</th>\n",
       "      <td>Revista Saude Publica</td>\n",
       "      <td>REVISTA DE SAUDE PUBLICA</td>\n",
       "    </tr>\n",
       "    <tr>\n",
       "      <th>122939</th>\n",
       "      <td>Universidade Nove Julho</td>\n",
       "      <td>UNIV NOVE JULHO</td>\n",
       "    </tr>\n",
       "  </tbody>\n",
       "</table>\n",
       "<p>122940 rows × 2 columns</p>\n",
       "</div>"
      ],
      "text/plain": [
       "                                Institution  \\\n",
       "0               Aristotle University Greece   \n",
       "1               Aristotle University Greece   \n",
       "2               Aristotle University Greece   \n",
       "3               Aristotle University Greece   \n",
       "4               Aristotle University Greece   \n",
       "...                                     ...   \n",
       "122935       Universidade Federal Reconcavo   \n",
       "122936                                UNESP   \n",
       "122937  Universidade Federal Campina Grande   \n",
       "122938                Revista Saude Publica   \n",
       "122939              Universidade Nove Julho   \n",
       "\n",
       "                                             Affiliations  \n",
       "0       1st Department of Ophthalmology Aristotle Univ...  \n",
       "1                      Aristotle Univ Thessaloniki Greece  \n",
       "2         Aristotle Univ Thessaloniki Thessaloniki Greece  \n",
       "3             Aristotle University of Thessaloniki Greece  \n",
       "4       Aristotle University of Thessaloniki Thessalon...  \n",
       "...                                                   ...  \n",
       "122935  UNIV FED RECONCAVO BAHIA, CENTRO FORMACAO PROF...  \n",
       "122936                                      UNESP-MARILIA  \n",
       "122937                        UNIV FEDERAL CAMPINA GRANDE  \n",
       "122938                           REVISTA DE SAUDE PUBLICA  \n",
       "122939                                    UNIV NOVE JULHO  \n",
       "\n",
       "[122940 rows x 2 columns]"
      ]
     },
     "execution_count": 97,
     "metadata": {},
     "output_type": "execute_result"
    }
   ],
   "source": [
    "df"
   ]
  },
  {
   "cell_type": "code",
   "execution_count": 98,
   "id": "4e1ee4d4",
   "metadata": {},
   "outputs": [],
   "source": [
    "df['Affiliations'] = df['Affiliations'].apply( lambda x : str(x).lower() )"
   ]
  },
  {
   "cell_type": "code",
   "execution_count": 99,
   "id": "3e866af1",
   "metadata": {},
   "outputs": [
    {
     "data": {
      "text/plain": [
       "((122940,), (122940,))"
      ]
     },
     "execution_count": 99,
     "metadata": {},
     "output_type": "execute_result"
    }
   ],
   "source": [
    "X, y = df['Affiliations'], df['Institution']\n",
    "X.shape, y.shape"
   ]
  },
  {
   "cell_type": "code",
   "execution_count": 100,
   "id": "471da419",
   "metadata": {},
   "outputs": [
    {
     "data": {
      "text/plain": [
       "0         1st department of ophthalmology aristotle univ...\n",
       "1                        aristotle univ thessaloniki greece\n",
       "2           aristotle univ thessaloniki thessaloniki greece\n",
       "3               aristotle university of thessaloniki greece\n",
       "4         aristotle university of thessaloniki thessalon...\n",
       "                                ...                        \n",
       "122935    univ fed reconcavo bahia, centro formacao prof...\n",
       "122936                                        unesp-marilia\n",
       "122937                          univ federal campina grande\n",
       "122938                             revista de saude publica\n",
       "122939                                      univ nove julho\n",
       "Name: Affiliations, Length: 122940, dtype: object"
      ]
     },
     "execution_count": 100,
     "metadata": {},
     "output_type": "execute_result"
    }
   ],
   "source": [
    "X"
   ]
  },
  {
   "cell_type": "code",
   "execution_count": 101,
   "id": "cd850f1b",
   "metadata": {},
   "outputs": [
    {
     "name": "stderr",
     "output_type": "stream",
     "text": [
      "[nltk_data] Downloading package stopwords to\n",
      "[nltk_data]     /home/waldeyr/nltk_data...\n",
      "[nltk_data]   Package stopwords is already up-to-date!\n"
     ]
    }
   ],
   "source": [
    "import nltk\n",
    "from sklearn.datasets import load_files\n",
    "nltk.download('stopwords')\n",
    "import pickle\n",
    "from nltk.corpus import stopwords"
   ]
  },
  {
   "cell_type": "code",
   "execution_count": 102,
   "id": "e6c35e58",
   "metadata": {},
   "outputs": [],
   "source": [
    "palavrasIgnoradas = \\\n",
    "    stopwords.words('portuguese') + \\\n",
    "    stopwords.words('english') + \\\n",
    "    stopwords.words('german') + \\\n",
    "    stopwords.words('spanish')"
   ]
  },
  {
   "cell_type": "code",
   "execution_count": 103,
   "id": "eedfd627",
   "metadata": {},
   "outputs": [],
   "source": [
    "from sklearn.feature_extraction.text import CountVectorizer\n",
    "vectorizer = CountVectorizer(\n",
    "    max_features = 1500, # vocabulário considera top max_features ordenadas por freq do termo no texto \n",
    "    min_df = 5, # ignorar termos com frequencia menor do que x, onde 0<=x<=1\n",
    "    max_df = 0.7, # ignorar termos com frequencia maior do que x, onde 0<=x<=1\n",
    "    stop_words = palavrasIgnoradas\n",
    ")"
   ]
  },
  {
   "cell_type": "code",
   "execution_count": 104,
   "id": "9b87dcae",
   "metadata": {},
   "outputs": [
    {
     "data": {
      "text/plain": [
       "<122940x1500 sparse matrix of type '<class 'numpy.int64'>'\n",
       "\twith 1014848 stored elements in Compressed Sparse Row format>"
      ]
     },
     "execution_count": 104,
     "metadata": {},
     "output_type": "execute_result"
    }
   ],
   "source": [
    "vectorizer.fit_transform(X)"
   ]
  },
  {
   "cell_type": "code",
   "execution_count": 105,
   "id": "feaad565",
   "metadata": {},
   "outputs": [],
   "source": [
    "X = vectorizer.fit_transform(X).toarray()"
   ]
  },
  {
   "cell_type": "code",
   "execution_count": 109,
   "id": "077261f8",
   "metadata": {},
   "outputs": [],
   "source": [
    "from sklearn.feature_extraction.text import TfidfTransformer\n",
    "tfidfconverter = TfidfTransformer()\n",
    "X = tfidfconverter.fit_transform(X).toarray()"
   ]
  },
  {
   "cell_type": "code",
   "execution_count": 110,
   "id": "a47a5591",
   "metadata": {},
   "outputs": [],
   "source": [
    "X_treino, X_teste, y_treino, y_teste = train_test_split(X, y, test_size=0.1, random_state=0)"
   ]
  },
  {
   "cell_type": "code",
   "execution_count": 111,
   "id": "3989f8d1",
   "metadata": {},
   "outputs": [],
   "source": [
    "arvore = DecisionTreeClassifier(criterion='entropy', max_depth=10, min_samples_leaf=2, random_state=0)"
   ]
  },
  {
   "cell_type": "code",
   "execution_count": 112,
   "id": "8da7f90f",
   "metadata": {},
   "outputs": [],
   "source": [
    "modelo = arvore.fit(X_treino, y_treino)"
   ]
  },
  {
   "cell_type": "code",
   "execution_count": 118,
   "id": "54daa1af",
   "metadata": {},
   "outputs": [
    {
     "name": "stdout",
     "output_type": "stream",
     "text": [
      "Populating the interactive namespace from numpy and matplotlib\n"
     ]
    },
    {
     "data": {
      "text/plain": [
       "[Text(869.5402916217673, 1037.7818181818182, '[0. 0. 0. ... 0. 0. 0.] <= 0.033\\nentropy = 9.928\\nsamples = 110646\\nvalue = [1, 1, 1 ... 7, 4, 5]'),\n",
       " Text(539.8014884159484, 938.9454545454546, '[0. 0. 0. ... 0. 0. 0.] <= 0.079\\nentropy = 11.204\\nsamples = 48097\\nvalue = [1, 1, 1 ... 7, 4, 5]'),\n",
       " Text(299.162109375, 840.1090909090909, '[0. 0. 0. ... 0. 0. 0.] <= 0.009\\nentropy = 11.381\\nsamples = 36603\\nvalue = [1, 0, 1 ... 7, 4, 5]'),\n",
       " Text(153.8934536637931, 741.2727272727273, '[0. 0. 0. ... 0. 0. 0.] <= 0.15\\nentropy = 11.332\\nsamples = 25259\\nvalue = [1, 0, 1 ... 7, 4, 5]'),\n",
       " Text(76.96551724137932, 642.4363636363637, '[0. 0. 0. ... 0. 0. 0.] <= 0.097\\nentropy = 11.019\\nsamples = 22029\\nvalue = [1, 0, 1 ... 7, 4, 5]'),\n",
       " Text(38.48275862068966, 543.6, '[0. 0. 0. ... 0. 0. 0.] <= 0.02\\nentropy = 10.996\\nsamples = 20177\\nvalue = [1, 0, 1 ... 0, 0, 5]'),\n",
       " Text(19.24137931034483, 444.76363636363635, '[0. 0. 0. ... 0. 0. 0.] <= 0.065\\nentropy = 10.928\\nsamples = 17386\\nvalue = [0, 0, 1 ... 0, 0, 5]'),\n",
       " Text(9.620689655172415, 345.9272727272727, '[0. 0. 0. ... 0. 0. 0.] <= 0.066\\nentropy = 11.014\\nsamples = 15924\\nvalue = [0, 0, 1 ... 0, 0, 5]'),\n",
       " Text(4.810344827586207, 247.09090909090912, '[0. 0. 0. ... 0. 0. 0.] <= 0.061\\nentropy = 10.979\\nsamples = 14514\\nvalue = [0, 0, 1 ... 0, 0, 5]'),\n",
       " Text(2.4051724137931036, 148.25454545454545, '[0. 0. 0. ... 0. 0. 0.] <= 0.107\\nentropy = 10.955\\nsamples = 13294\\nvalue = [0, 0, 1 ... 0, 0, 5]'),\n",
       " Text(1.2025862068965518, 49.41818181818189, 'entropy = 10.93\\nsamples = 12472\\nvalue = [0, 0, 0 ... 0, 0, 5]'),\n",
       " Text(3.6077586206896557, 49.41818181818189, 'entropy = 6.2\\nsamples = 822\\nvalue = [0, 0, 1 ... 0, 0, 0]'),\n",
       " Text(7.215517241379311, 148.25454545454545, '[0. 0. 0. ... 0. 0. 0.] <= 0.108\\nentropy = 6.681\\nsamples = 1220\\nvalue = [0, 0, 0 ... 0, 0, 0]'),\n",
       " Text(6.012931034482759, 49.41818181818189, 'entropy = 6.308\\nsamples = 835\\nvalue = [0, 0, 0 ... 0, 0, 0]'),\n",
       " Text(8.418103448275863, 49.41818181818189, 'entropy = 5.068\\nsamples = 385\\nvalue = [0, 0, 0 ... 0, 0, 0]'),\n",
       " Text(14.431034482758623, 247.09090909090912, '[0. 0. 0. ... 0. 0. 0.] <= 0.1\\nentropy = 6.697\\nsamples = 1410\\nvalue = [0, 0, 0 ... 0, 0, 0]'),\n",
       " Text(12.025862068965518, 148.25454545454545, '[0. 0. 0. ... 0. 0. 0.] <= 0.13\\nentropy = 6.626\\nsamples = 984\\nvalue = [0, 0, 0 ... 0, 0, 0]'),\n",
       " Text(10.823275862068966, 49.41818181818189, 'entropy = 6.88\\nsamples = 621\\nvalue = [0, 0, 0 ... 0, 0, 0]'),\n",
       " Text(13.22844827586207, 49.41818181818189, 'entropy = 4.425\\nsamples = 363\\nvalue = [0, 0, 0 ... 0, 0, 0]'),\n",
       " Text(16.836206896551726, 148.25454545454545, '[0. 0. 0. ... 0. 0. 0.] <= 0.123\\nentropy = 4.972\\nsamples = 426\\nvalue = [0, 0, 0 ... 0, 0, 0]'),\n",
       " Text(15.633620689655174, 49.41818181818189, 'entropy = 5.075\\nsamples = 316\\nvalue = [0, 0, 0 ... 0, 0, 0]'),\n",
       " Text(18.038793103448278, 49.41818181818189, 'entropy = 2.571\\nsamples = 110\\nvalue = [0, 0, 0 ... 0, 0, 0]'),\n",
       " Text(28.862068965517246, 345.9272727272727, '[0. 0. 0. ... 0. 0. 0.] <= 0.042\\nentropy = 5.295\\nsamples = 1462\\nvalue = [0, 0, 0 ... 0, 0, 0]'),\n",
       " Text(24.051724137931036, 247.09090909090912, '[0. 0. 0. ... 0. 0. 0.] <= 0.055\\nentropy = 6.587\\nsamples = 723\\nvalue = [0, 0, 0 ... 0, 0, 0]'),\n",
       " Text(21.646551724137932, 148.25454545454545, '[0. 0. 0. ... 0. 0. 0.] <= 0.454\\nentropy = 6.637\\nsamples = 520\\nvalue = [0, 0, 0 ... 0, 0, 0]'),\n",
       " Text(20.44396551724138, 49.41818181818189, 'entropy = 6.014\\nsamples = 358\\nvalue = [0, 0, 0 ... 0, 0, 0]'),\n",
       " Text(22.849137931034484, 49.41818181818189, 'entropy = 6.068\\nsamples = 162\\nvalue = [0, 0, 0 ... 0, 0, 0]'),\n",
       " Text(26.45689655172414, 148.25454545454545, '[0. 0. 0. ... 0. 0. 0.] <= 0.143\\nentropy = 4.132\\nsamples = 203\\nvalue = [0, 0, 0 ... 0, 0, 0]'),\n",
       " Text(25.254310344827587, 49.41818181818189, 'entropy = 3.808\\nsamples = 130\\nvalue = [0, 0, 0 ... 0, 0, 0]'),\n",
       " Text(27.65948275862069, 49.41818181818189, 'entropy = 2.279\\nsamples = 73\\nvalue = [0, 0, 0 ... 0, 0, 0]'),\n",
       " Text(33.67241379310345, 247.09090909090912, '[0. 0. 0. ... 0. 0. 0.] <= 0.091\\nentropy = 2.432\\nsamples = 739\\nvalue = [0, 0, 0 ... 0, 0, 0]'),\n",
       " Text(31.26724137931035, 148.25454545454545, '[0. 0. 0. ... 0. 0. 0.] <= 0.27\\nentropy = 2.314\\nsamples = 235\\nvalue = [0, 0, 0 ... 0, 0, 0]'),\n",
       " Text(30.064655172413797, 49.41818181818189, 'entropy = 3.511\\nsamples = 91\\nvalue = [0, 0, 0 ... 0, 0, 0]'),\n",
       " Text(32.4698275862069, 49.41818181818189, 'entropy = 0.119\\nsamples = 144\\nvalue = [0, 0, 0 ... 0, 0, 0]'),\n",
       " Text(36.077586206896555, 148.25454545454545, '[0. 0. 0. ... 0. 0. 0.] <= 0.095\\nentropy = 1.281\\nsamples = 504\\nvalue = [0, 0, 0 ... 0, 0, 0]'),\n",
       " Text(34.875, 49.41818181818189, 'entropy = 0.794\\nsamples = 167\\nvalue = [0, 0, 0 ... 0, 0, 0]'),\n",
       " Text(37.2801724137931, 49.41818181818189, 'entropy = 0.501\\nsamples = 337\\nvalue = [0, 0, 0 ... 0, 0, 0]'),\n",
       " Text(57.72413793103449, 444.76363636363635, '[0. 0. 0. ... 0. 0. 0.] <= 0.045\\nentropy = 8.579\\nsamples = 2791\\nvalue = [1, 0, 0 ... 0, 0, 0]'),\n",
       " Text(48.10344827586207, 345.9272727272727, '[0. 0. 0. ... 0. 0. 0.] <= 0.029\\nentropy = 8.147\\nsamples = 2059\\nvalue = [1, 0, 0 ... 0, 0, 0]'),\n",
       " Text(43.293103448275865, 247.09090909090912, '[0. 0. 0. ... 0. 0. 0.] <= 0.129\\nentropy = 8.346\\nsamples = 1607\\nvalue = [1, 0, 0 ... 0, 0, 0]'),\n",
       " Text(40.88793103448276, 148.25454545454545, '[0. 0. 0. ... 0. 0. 0.] <= 0.063\\nentropy = 7.759\\nsamples = 1027\\nvalue = [1, 0, 0 ... 0, 0, 0]'),\n",
       " Text(39.68534482758621, 49.41818181818189, 'entropy = 7.852\\nsamples = 776\\nvalue = [1, 0, 0 ... 0, 0, 0]'),\n",
       " Text(42.09051724137932, 49.41818181818189, 'entropy = 4.603\\nsamples = 251\\nvalue = [0, 0, 0 ... 0, 0, 0]'),\n",
       " Text(45.69827586206897, 148.25454545454545, '[0. 0. 0. ... 0. 0. 0.] <= 0.069\\nentropy = 7.291\\nsamples = 580\\nvalue = [0, 0, 0 ... 0, 0, 0]'),\n",
       " Text(44.49568965517242, 49.41818181818189, 'entropy = 7.054\\nsamples = 435\\nvalue = [0, 0, 0 ... 0, 0, 0]'),\n",
       " Text(46.90086206896552, 49.41818181818189, 'entropy = 4.95\\nsamples = 145\\nvalue = [0, 0, 0 ... 0, 0, 0]'),\n",
       " Text(52.91379310344828, 247.09090909090912, '[0. 0. 0. ... 0. 0. 0.] <= 0.026\\nentropy = 4.063\\nsamples = 452\\nvalue = [0, 0, 0 ... 0, 0, 0]'),\n",
       " Text(50.508620689655174, 148.25454545454545, '[0. 0. 0. ... 0. 0. 0.] <= 0.178\\nentropy = 4.941\\nsamples = 199\\nvalue = [0, 0, 0 ... 0, 0, 0]'),\n",
       " Text(49.306034482758626, 49.41818181818189, 'entropy = 5.314\\nsamples = 162\\nvalue = [0, 0, 0 ... 0, 0, 0]'),\n",
       " Text(51.71120689655173, 49.41818181818189, 'entropy = 0.0\\nsamples = 37\\nvalue = [0, 0, 0 ... 0, 0, 0]'),\n",
       " Text(55.31896551724138, 148.25454545454545, '[0. 0. 0. ... 0. 0. 0.] <= 0.031\\nentropy = 1.604\\nsamples = 253\\nvalue = [0, 0, 0 ... 0, 0, 0]'),\n",
       " Text(54.11637931034483, 49.41818181818189, 'entropy = 2.719\\nsamples = 71\\nvalue = [0, 0, 0 ... 0, 0, 0]'),\n",
       " Text(56.521551724137936, 49.41818181818189, 'entropy = 0.25\\nsamples = 182\\nvalue = [0, 0, 0 ... 0, 0, 0]'),\n",
       " Text(67.3448275862069, 345.9272727272727, '[0. 0. 0. ... 0. 0. 0.] <= 0.066\\nentropy = 7.157\\nsamples = 732\\nvalue = [0, 0, 0 ... 0, 0, 0]'),\n",
       " Text(62.5344827586207, 247.09090909090912, '[0. 0. 0. ... 0. 0. 0.] <= 0.159\\nentropy = 6.743\\nsamples = 495\\nvalue = [0, 0, 0 ... 0, 0, 0]'),\n",
       " Text(60.129310344827594, 148.25454545454545, '[0. 0. 0. ... 0. 0. 0.] <= 0.162\\nentropy = 6.37\\nsamples = 353\\nvalue = [0, 0, 0 ... 0, 0, 0]'),\n",
       " Text(58.92672413793104, 49.41818181818189, 'entropy = 5.624\\nsamples = 231\\nvalue = [0, 0, 0 ... 0, 0, 0]'),\n",
       " Text(61.33189655172414, 49.41818181818189, 'entropy = 5.598\\nsamples = 122\\nvalue = [0, 0, 0 ... 0, 0, 0]'),\n",
       " Text(64.9396551724138, 148.25454545454545, '[0. 0. 0. ... 0. 0. 0.] <= 0.22\\nentropy = 4.916\\nsamples = 142\\nvalue = [0, 0, 0 ... 0, 0, 0]'),\n",
       " Text(63.737068965517246, 49.41818181818189, 'entropy = 5.071\\nsamples = 109\\nvalue = [0, 0, 0 ... 0, 0, 0]'),\n",
       " Text(66.14224137931035, 49.41818181818189, 'entropy = 1.223\\nsamples = 33\\nvalue = [0, 0, 0 ... 0, 0, 0]'),\n",
       " Text(72.15517241379311, 247.09090909090912, '[0. 0. 0. ... 0. 0. 0.] <= 0.094\\nentropy = 5.436\\nsamples = 237\\nvalue = [0, 0, 0 ... 0, 0, 0]'),\n",
       " Text(69.75, 148.25454545454545, '[0. 0. 0. ... 0. 0. 0.] <= 0.239\\nentropy = 5.03\\nsamples = 146\\nvalue = [0, 0, 0 ... 0, 0, 0]'),\n",
       " Text(68.54741379310346, 49.41818181818189, 'entropy = 3.874\\nsamples = 79\\nvalue = [0, 0, 0 ... 0, 0, 0]'),\n",
       " Text(70.95258620689656, 49.41818181818189, 'entropy = 4.785\\nsamples = 67\\nvalue = [0, 0, 0 ... 0, 0, 0]'),\n",
       " Text(74.5603448275862, 148.25454545454545, '[0. 0. 0. ... 0. 0. 0.] <= 0.145\\nentropy = 3.689\\nsamples = 91\\nvalue = [0, 0, 0 ... 0, 0, 0]'),\n",
       " Text(73.35775862068967, 49.41818181818189, 'entropy = 3.507\\nsamples = 55\\nvalue = [0, 0, 0 ... 0, 0, 0]'),\n",
       " Text(75.76293103448276, 49.41818181818189, 'entropy = 1.823\\nsamples = 36\\nvalue = [0, 0, 0 ... 0, 0, 0]'),\n",
       " Text(115.44827586206898, 543.6, '[0. 0. 0. ... 0. 0. 0.] <= 0.189\\nentropy = 6.755\\nsamples = 1852\\nvalue = [0, 0, 0 ... 7, 4, 0]'),\n",
       " Text(96.20689655172414, 444.76363636363635, '[0. 0. 0. ... 0. 0. 0.] <= 0.068\\nentropy = 6.262\\nsamples = 1276\\nvalue = [0, 0, 0 ... 7, 4, 0]'),\n",
       " Text(86.58620689655173, 345.9272727272727, '[0. 0. 0. ... 0. 0. 0.] <= 0.106\\nentropy = 6.793\\nsamples = 983\\nvalue = [0, 0, 0 ... 7, 4, 0]'),\n",
       " Text(81.77586206896552, 247.09090909090912, '[0. 0. 0. ... 0. 0. 0.] <= 0.062\\nentropy = 7.019\\nsamples = 827\\nvalue = [0, 0, 0 ... 7, 4, 0]'),\n",
       " Text(79.37068965517243, 148.25454545454545, '[0. 0. 0. ... 0. 0. 0.] <= 0.407\\nentropy = 6.689\\nsamples = 615\\nvalue = [0, 0, 0 ... 5, 3, 0]'),\n",
       " Text(78.16810344827587, 49.41818181818189, 'entropy = 5.872\\nsamples = 285\\nvalue = [0, 0, 0 ... 2, 2, 0]'),\n",
       " Text(80.57327586206897, 49.41818181818189, 'entropy = 6.372\\nsamples = 330\\nvalue = [0, 0, 0 ... 3, 1, 0]'),\n",
       " Text(84.18103448275863, 148.25454545454545, '[0. 0. 0. ... 0. 0. 0.] <= 0.528\\nentropy = 5.933\\nsamples = 212\\nvalue = [0, 0, 0 ... 2, 1, 0]'),\n",
       " Text(82.97844827586208, 49.41818181818189, 'entropy = 4.992\\nsamples = 110\\nvalue = [0, 0, 0 ... 1, 0, 0]'),\n",
       " Text(85.38362068965517, 49.41818181818189, 'entropy = 5.581\\nsamples = 102\\nvalue = [0, 0, 0 ... 1, 1, 0]'),\n",
       " Text(91.39655172413794, 247.09090909090912, '[0. 0. 0. ... 0. 0. 0.] <= 0.365\\nentropy = 2.354\\nsamples = 156\\nvalue = [0, 0, 0 ... 0, 0, 0]'),\n",
       " Text(88.99137931034484, 148.25454545454545, '[0. 0. 0. ... 0. 0. 0.] <= 0.146\\nentropy = 3.759\\nsamples = 33\\nvalue = [0, 0, 0 ... 0, 0, 0]'),\n",
       " Text(87.78879310344828, 49.41818181818189, 'entropy = 3.363\\nsamples = 21\\nvalue = [0, 0, 0 ... 0, 0, 0]'),\n",
       " Text(90.19396551724138, 49.41818181818189, 'entropy = 2.585\\nsamples = 12\\nvalue = [0, 0, 0 ... 0, 0, 0]'),\n",
       " Text(93.80172413793105, 148.25454545454545, '[0. 0. 0. ... 0. 0. 0.] <= 0.315\\nentropy = 1.437\\nsamples = 123\\nvalue = [0, 0, 0 ... 0, 0, 0]'),\n",
       " Text(92.59913793103449, 49.41818181818189, 'entropy = 1.024\\nsamples = 113\\nvalue = [0, 0, 0 ... 0, 0, 0]'),\n",
       " Text(95.00431034482759, 49.41818181818189, 'entropy = 2.922\\nsamples = 10\\nvalue = [0, 0, 0 ... 0, 0, 0]'),\n",
       " Text(105.82758620689656, 345.9272727272727, '[0. 0. 0. ... 0. 0. 0.] <= 0.136\\nentropy = 1.303\\nsamples = 293\\nvalue = [0, 0, 0 ... 0, 0, 0]'),\n",
       " Text(101.01724137931035, 247.09090909090912, '[0. 0. 0. ... 0. 0. 0.] <= 0.072\\nentropy = 1.84\\nsamples = 57\\nvalue = [0, 0, 0 ... 0, 0, 0]'),\n",
       " Text(98.61206896551725, 148.25454545454545, '[0. 0. 0. ... 0. 0. 0.] <= 0.247\\nentropy = 1.533\\nsamples = 46\\nvalue = [0, 0, 0 ... 0, 0, 0]'),\n",
       " Text(97.4094827586207, 49.41818181818189, 'entropy = 1.355\\nsamples = 41\\nvalue = [0, 0, 0 ... 0, 0, 0]'),\n",
       " Text(99.81465517241381, 49.41818181818189, 'entropy = 0.722\\nsamples = 5\\nvalue = [0, 0, 0 ... 0, 0, 0]'),\n",
       " Text(103.42241379310346, 148.25454545454545, '[0. 0. 0. ... 0. 0. 0.] <= 0.233\\nentropy = 1.677\\nsamples = 11\\nvalue = [0, 0, 0 ... 0, 0, 0]'),\n",
       " Text(102.2198275862069, 49.41818181818189, 'entropy = 1.406\\nsamples = 8\\nvalue = [0, 0, 0 ... 0, 0, 0]'),\n",
       " Text(104.62500000000001, 49.41818181818189, 'entropy = 0.918\\nsamples = 3\\nvalue = [0, 0, 0 ... 0, 0, 0]'),\n",
       " Text(110.63793103448276, 247.09090909090912, '[0. 0. 0. ... 0. 0. 0.] <= 0.316\\nentropy = 1.038\\nsamples = 236\\nvalue = [0, 0, 0 ... 0, 0, 0]'),\n",
       " Text(108.23275862068967, 148.25454545454545, '[0. 0. 0. ... 0. 0. 0.] <= 0.213\\nentropy = 0.964\\nsamples = 221\\nvalue = [0, 0, 0 ... 0, 0, 0]'),\n",
       " Text(107.03017241379311, 49.41818181818189, 'entropy = 0.928\\nsamples = 219\\nvalue = [0, 0, 0 ... 0, 0, 0]'),\n",
       " Text(109.43534482758622, 49.41818181818189, 'entropy = 1.0\\nsamples = 2\\nvalue = [0, 0, 0 ... 0, 0, 0]'),\n",
       " Text(113.04310344827587, 148.25454545454545, '[0. 0. 0. ... 0. 0. 0.] <= 0.248\\nentropy = 1.242\\nsamples = 15\\nvalue = [0, 0, 0 ... 0, 0, 0]'),\n",
       " Text(111.84051724137932, 49.41818181818189, 'entropy = 0.0\\nsamples = 3\\nvalue = [0, 0, 0 ... 0, 0, 0]'),\n",
       " Text(114.24568965517243, 49.41818181818189, 'entropy = 0.65\\nsamples = 12\\nvalue = [0, 0, 0 ... 0, 0, 0]'),\n",
       " Text(134.6896551724138, 444.76363636363635, '[0. 0. 0. ... 0. 0. 0.] <= 0.073\\nentropy = 5.816\\nsamples = 576\\nvalue = [0, 0, 0 ... 0, 0, 0]'),\n",
       " Text(125.0689655172414, 345.9272727272727, '[0. 0. 0. ... 0. 0. 0.] <= 0.132\\nentropy = 5.628\\nsamples = 385\\nvalue = [0, 0, 0 ... 0, 0, 0]'),\n",
       " Text(120.25862068965519, 247.09090909090912, '[0. 0. 0. ... 0. 0. 0.] <= 0.126\\nentropy = 5.545\\nsamples = 345\\nvalue = [0, 0, 0 ... 0, 0, 0]'),\n",
       " Text(117.85344827586208, 148.25454545454545, '[0. 0. 0. ... 0. 0. 0.] <= 0.275\\nentropy = 5.511\\nsamples = 308\\nvalue = [0, 0, 0 ... 0, 0, 0]'),\n",
       " Text(116.65086206896552, 49.41818181818189, 'entropy = 4.349\\nsamples = 109\\nvalue = [0, 0, 0 ... 0, 0, 0]'),\n",
       " Text(119.05603448275863, 49.41818181818189, 'entropy = 5.426\\nsamples = 199\\nvalue = [0, 0, 0 ... 0, 0, 0]'),\n",
       " Text(122.66379310344828, 148.25454545454545, '[0. 0. 0. ... 0. 0. 0.] <= 0.672\\nentropy = 1.341\\nsamples = 37\\nvalue = [0, 0, 0 ... 0, 0, 0]'),\n",
       " Text(121.46120689655173, 49.41818181818189, 'entropy = 0.868\\nsamples = 16\\nvalue = [0, 0, 0 ... 0, 0, 0]'),\n",
       " Text(123.86637931034484, 49.41818181818189, 'entropy = 1.247\\nsamples = 21\\nvalue = [0, 0, 0 ... 0, 0, 0]'),\n",
       " Text(129.8793103448276, 247.09090909090912, '[0. 0. 0. ... 0. 0. 0.] <= 0.121\\nentropy = 1.894\\nsamples = 40\\nvalue = [0, 0, 0 ... 0, 0, 0]'),\n",
       " Text(127.47413793103449, 148.25454545454545, '[0. 0. 0. ... 0. 0. 0.] <= 0.598\\nentropy = 1.312\\nsamples = 34\\nvalue = [0, 0, 0 ... 0, 0, 0]'),\n",
       " Text(126.27155172413794, 49.41818181818189, 'entropy = 0.811\\nsamples = 4\\nvalue = [0, 0, 0 ... 0, 0, 0]'),\n",
       " Text(128.67672413793105, 49.41818181818189, 'entropy = 1.177\\nsamples = 30\\nvalue = [0, 0, 0 ... 0, 0, 0]'),\n",
       " Text(132.2844827586207, 148.25454545454545, '[0. 0. 0. ... 0. 0. 0.] <= 0.463\\nentropy = 1.585\\nsamples = 6\\nvalue = [0, 0, 0 ... 0, 0, 0]'),\n",
       " Text(131.08189655172416, 49.41818181818189, 'entropy = 0.0\\nsamples = 2\\nvalue = [0, 0, 0 ... 0, 0, 0]'),\n",
       " Text(133.48706896551724, 49.41818181818189, 'entropy = 1.0\\nsamples = 4\\nvalue = [0, 0, 0 ... 0, 0, 0]'),\n",
       " Text(144.31034482758622, 345.9272727272727, '[0. 0. 0. ... 0. 0. 0.] <= 0.138\\nentropy = 3.934\\nsamples = 191\\nvalue = [0, 0, 0 ... 0, 0, 0]'),\n",
       " Text(139.5, 247.09090909090912, '[0. 0. 0. ... 0. 0. 0.] <= 0.101\\nentropy = 3.766\\nsamples = 126\\nvalue = [0, 0, 0 ... 0, 0, 0]'),\n",
       " Text(137.09482758620692, 148.25454545454545, '[0. 0. 0. ... 0. 0. 0.] <= 0.375\\nentropy = 3.8\\nsamples = 95\\nvalue = [0, 0, 0 ... 0, 0, 0]'),\n",
       " Text(135.89224137931035, 49.41818181818189, 'entropy = 3.888\\nsamples = 76\\nvalue = [0, 0, 0 ... 0, 0, 0]'),\n",
       " Text(138.29741379310346, 49.41818181818189, 'entropy = 1.058\\nsamples = 19\\nvalue = [0, 0, 0 ... 0, 0, 0]'),\n",
       " Text(141.9051724137931, 148.25454545454545, '[0. 0. 0. ... 0. 0. 0.] <= 0.472\\nentropy = 0.835\\nsamples = 31\\nvalue = [0, 0, 0 ... 0, 0, 0]'),\n",
       " Text(140.70258620689657, 49.41818181818189, 'entropy = 1.522\\nsamples = 5\\nvalue = [0, 0, 0 ... 0, 0, 0]'),\n",
       " Text(143.10775862068968, 49.41818181818189, 'entropy = 0.516\\nsamples = 26\\nvalue = [0, 0, 0 ... 0, 0, 0]'),\n",
       " Text(149.1206896551724, 247.09090909090912, '[0. 0. 0. ... 0. 0. 0.] <= 0.649\\nentropy = 2.263\\nsamples = 65\\nvalue = [0, 0, 0 ... 0, 0, 0]'),\n",
       " Text(146.71551724137933, 148.25454545454545, '[0. 0. 0. ... 0. 0. 0.] <= 0.375\\nentropy = 1.243\\nsamples = 44\\nvalue = [0, 0, 0 ... 0, 0, 0]'),\n",
       " Text(145.51293103448276, 49.41818181818189, 'entropy = 0.799\\nsamples = 39\\nvalue = [0, 0, 0 ... 0, 0, 0]'),\n",
       " Text(147.91810344827587, 49.41818181818189, 'entropy = 1.522\\nsamples = 5\\nvalue = [0, 0, 0 ... 0, 0, 0]'),\n",
       " Text(151.52586206896552, 148.25454545454545, '[0. 0. 0. ... 0. 0. 0.] <= 0.15\\nentropy = 2.058\\nsamples = 21\\nvalue = [0, 0, 0 ... 0, 0, 0]'),\n",
       " Text(150.32327586206898, 49.41818181818189, 'entropy = 1.489\\nsamples = 13\\nvalue = [0, 0, 0 ... 0, 0, 0]'),\n",
       " Text(152.7284482758621, 49.41818181818189, 'entropy = 0.954\\nsamples = 8\\nvalue = [0, 0, 0 ... 0, 0, 0]'),\n",
       " Text(230.82139008620692, 642.4363636363637, '[0. 0. 0. ... 0. 0. 0.] <= 0.373\\nentropy = 10.245\\nsamples = 3230\\nvalue = [0, 0, 0 ... 0, 0, 0]'),\n",
       " Text(192.41379310344828, 543.6, '[0. 0. 0. ... 0. 0. 0.] <= 0.271\\nentropy = 9.312\\nsamples = 1744\\nvalue = [0, 0, 0 ... 0, 0, 0]'),\n",
       " Text(173.17241379310346, 444.76363636363635, '[0. 0. 0. ... 0. 0. 0.] <= 0.229\\nentropy = 8.288\\nsamples = 811\\nvalue = [0, 0, 0 ... 0, 0, 0]'),\n",
       " Text(163.55172413793105, 345.9272727272727, '[0. 0. 0. ... 0. 0. 0.] <= 0.213\\nentropy = 7.58\\nsamples = 452\\nvalue = [0, 0, 0 ... 0, 0, 0]'),\n",
       " Text(158.74137931034485, 247.09090909090912, '[0. 0. 0. ... 0. 0. 0.] <= 0.201\\nentropy = 7.026\\nsamples = 265\\nvalue = [0, 0, 0 ... 0, 0, 0]'),\n",
       " Text(156.33620689655174, 148.25454545454545, '[0. 0. 0. ... 0. 0. 0.] <= 0.185\\nentropy = 6.211\\nsamples = 141\\nvalue = [0, 0, 0 ... 0, 0, 0]'),\n",
       " Text(155.13362068965517, 49.41818181818189, 'entropy = 5.002\\nsamples = 59\\nvalue = [0, 0, 0 ... 0, 0, 0]'),\n",
       " Text(157.53879310344828, 49.41818181818189, 'entropy = 5.704\\nsamples = 82\\nvalue = [0, 0, 0 ... 0, 0, 0]'),\n",
       " Text(161.14655172413794, 148.25454545454545, '[0. 0. 0. ... 0. 0. 0.] <= 0.207\\nentropy = 6.289\\nsamples = 124\\nvalue = [0, 0, 0 ... 0, 0, 0]'),\n",
       " Text(159.9439655172414, 49.41818181818189, 'entropy = 5.33\\nsamples = 56\\nvalue = [0, 0, 0 ... 0, 0, 0]'),\n",
       " Text(162.3491379310345, 49.41818181818189, 'entropy = 5.506\\nsamples = 68\\nvalue = [0, 0, 0 ... 0, 0, 0]'),\n",
       " Text(168.36206896551727, 247.09090909090912, '[0. 0. 0. ... 0. 0. 0.] <= 0.223\\nentropy = 6.613\\nsamples = 187\\nvalue = [0, 0, 0 ... 0, 0, 0]'),\n",
       " Text(165.95689655172416, 148.25454545454545, '[0. 0. 0. ... 0. 0. 0.] <= 0.217\\nentropy = 5.959\\nsamples = 106\\nvalue = [0, 0, 0 ... 0, 0, 0]'),\n",
       " Text(164.7543103448276, 49.41818181818189, 'entropy = 4.872\\nsamples = 55\\nvalue = [0, 0, 0 ... 0, 0, 0]'),\n",
       " Text(167.1594827586207, 49.41818181818189, 'entropy = 5.163\\nsamples = 51\\nvalue = [0, 0, 0 ... 0, 0, 0]'),\n",
       " Text(170.76724137931035, 148.25454545454545, '[0. 0. 0. ... 0. 0. 0.] <= 0.227\\nentropy = 5.744\\nsamples = 81\\nvalue = [0, 0, 0 ... 0, 0, 0]'),\n",
       " Text(169.5646551724138, 49.41818181818189, 'entropy = 4.684\\nsamples = 40\\nvalue = [0, 0, 0 ... 0, 0, 0]'),\n",
       " Text(171.96982758620692, 49.41818181818189, 'entropy = 4.882\\nsamples = 41\\nvalue = [0, 0, 0 ... 0, 0, 0]'),\n",
       " Text(182.79310344827587, 345.9272727272727, '[0. 0. 0. ... 0. 0. 0.] <= 0.246\\nentropy = 7.577\\nsamples = 359\\nvalue = [0, 0, 0 ... 0, 0, 0]'),\n",
       " Text(177.98275862068968, 247.09090909090912, '[0. 0. 0. ... 0. 0. 0.] <= 0.235\\nentropy = 6.714\\nsamples = 176\\nvalue = [0, 0, 0 ... 0, 0, 0]'),\n",
       " Text(175.57758620689657, 148.25454545454545, '[0. 0. 0. ... 0. 0. 0.] <= 0.233\\nentropy = 5.404\\nsamples = 69\\nvalue = [0, 0, 0 ... 0, 0, 0]'),\n",
       " Text(174.37500000000003, 49.41818181818189, 'entropy = 4.242\\nsamples = 32\\nvalue = [0, 0, 0 ... 0, 0, 0]'),\n",
       " Text(176.7801724137931, 49.41818181818189, 'entropy = 4.551\\nsamples = 37\\nvalue = [0, 0, 0 ... 0, 0, 0]'),\n",
       " Text(180.38793103448276, 148.25454545454545, '[0. 0. 0. ... 0. 0. 0.] <= 0.241\\nentropy = 6.178\\nsamples = 107\\nvalue = [0, 0, 0 ... 0, 0, 0]'),\n",
       " Text(179.18534482758622, 49.41818181818189, 'entropy = 5.277\\nsamples = 52\\nvalue = [0, 0, 0 ... 0, 0, 0]'),\n",
       " Text(181.59051724137933, 49.41818181818189, 'entropy = 5.309\\nsamples = 55\\nvalue = [0, 0, 0 ... 0, 0, 0]'),\n",
       " Text(187.6034482758621, 247.09090909090912, '[0. 0. 0. ... 0. 0. 0.] <= 0.261\\nentropy = 6.759\\nsamples = 183\\nvalue = [0, 0, 0 ... 0, 0, 0]'),\n",
       " Text(185.19827586206898, 148.25454545454545, '[0. 0. 0. ... 0. 0. 0.] <= 0.254\\nentropy = 5.997\\nsamples = 106\\nvalue = [0, 0, 0 ... 0, 0, 0]'),\n",
       " Text(183.99568965517244, 49.41818181818189, 'entropy = 4.912\\nsamples = 53\\nvalue = [0, 0, 0 ... 0, 0, 0]'),\n",
       " Text(186.40086206896552, 49.41818181818189, 'entropy = 5.209\\nsamples = 53\\nvalue = [0, 0, 0 ... 0, 0, 0]'),\n",
       " Text(190.00862068965517, 148.25454545454545, '[0. 0. 0. ... 0. 0. 0.] <= 0.265\\nentropy = 5.624\\nsamples = 77\\nvalue = [0, 0, 0 ... 0, 0, 0]'),\n",
       " Text(188.80603448275863, 49.41818181818189, 'entropy = 4.497\\nsamples = 39\\nvalue = [0, 0, 0 ... 0, 0, 0]'),\n",
       " Text(191.21120689655174, 49.41818181818189, 'entropy = 4.754\\nsamples = 38\\nvalue = [0, 0, 0 ... 0, 0, 0]'),\n",
       " Text(211.6551724137931, 444.76363636363635, '[0. 0. 0. ... 0. 0. 0.] <= 0.318\\nentropy = 8.93\\nsamples = 933\\nvalue = [0, 0, 0 ... 0, 0, 0]'),\n",
       " Text(202.0344827586207, 345.9272727272727, '[0. 0. 0. ... 0. 0. 0.] <= 0.294\\nentropy = 8.028\\nsamples = 442\\nvalue = [0, 0, 0 ... 0, 0, 0]'),\n",
       " Text(197.2241379310345, 247.09090909090912, '[0. 0. 0. ... 0. 0. 0.] <= 0.283\\nentropy = 7.154\\nsamples = 221\\nvalue = [0, 0, 0 ... 0, 0, 0]'),\n",
       " Text(194.8189655172414, 148.25454545454545, '[0. 0. 0. ... 0. 0. 0.] <= 0.277\\nentropy = 6.086\\nsamples = 99\\nvalue = [0, 0, 0 ... 0, 0, 0]'),\n",
       " Text(193.61637931034485, 49.41818181818189, 'entropy = 5.173\\nsamples = 56\\nvalue = [0, 0, 0 ... 0, 0, 0]'),\n",
       " Text(196.02155172413794, 49.41818181818189, 'entropy = 5.002\\nsamples = 43\\nvalue = [0, 0, 0 ... 0, 0, 0]'),\n",
       " Text(199.62931034482762, 148.25454545454545, '[0. 0. 0. ... 0. 0. 0.] <= 0.288\\nentropy = 6.364\\nsamples = 122\\nvalue = [0, 0, 0 ... 0, 0, 0]'),\n",
       " Text(198.42672413793105, 49.41818181818189, 'entropy = 5.368\\nsamples = 63\\nvalue = [0, 0, 0 ... 0, 0, 0]'),\n",
       " Text(200.83189655172416, 49.41818181818189, 'entropy = 5.51\\nsamples = 59\\nvalue = [0, 0, 0 ... 0, 0, 0]'),\n",
       " Text(206.84482758620692, 247.09090909090912, '[0. 0. 0. ... 0. 0. 0.] <= 0.307\\nentropy = 7.167\\nsamples = 221\\nvalue = [0, 0, 0 ... 0, 0, 0]'),\n",
       " Text(204.4396551724138, 148.25454545454545, '[0. 0. 0. ... 0. 0. 0.] <= 0.299\\nentropy = 6.195\\nsamples = 109\\nvalue = [0, 0, 0 ... 0, 0, 0]'),\n",
       " Text(203.23706896551727, 49.41818181818189, 'entropy = 5.113\\nsamples = 57\\nvalue = [0, 0, 0 ... 0, 0, 0]'),\n",
       " Text(205.64224137931035, 49.41818181818189, 'entropy = 5.325\\nsamples = 52\\nvalue = [0, 0, 0 ... 0, 0, 0]'),\n",
       " Text(209.25000000000003, 148.25454545454545, '[0. 0. 0. ... 0. 0. 0.] <= 0.311\\nentropy = 6.158\\nsamples = 112\\nvalue = [0, 0, 0 ... 0, 0, 0]'),\n",
       " Text(208.04741379310346, 49.41818181818189, 'entropy = 5.243\\nsamples = 56\\nvalue = [0, 0, 0 ... 0, 0, 0]'),\n",
       " Text(210.45258620689657, 49.41818181818189, 'entropy = 5.122\\nsamples = 56\\nvalue = [0, 0, 0 ... 0, 0, 0]'),\n",
       " Text(221.27586206896552, 345.9272727272727, '[0. 0. 0. ... 0. 0. 0.] <= 0.348\\nentropy = 8.223\\nsamples = 491\\nvalue = [0, 0, 0 ... 0, 0, 0]'),\n",
       " Text(216.46551724137933, 247.09090909090912, '[0. 0. 0. ... 0. 0. 0.] <= 0.334\\nentropy = 7.484\\nsamples = 264\\nvalue = [0, 0, 0 ... 0, 0, 0]'),\n",
       " Text(214.06034482758622, 148.25454545454545, '[0. 0. 0. ... 0. 0. 0.] <= 0.326\\nentropy = 6.698\\nsamples = 145\\nvalue = [0, 0, 0 ... 0, 0, 0]'),\n",
       " Text(212.85775862068968, 49.41818181818189, 'entropy = 5.776\\nsamples = 72\\nvalue = [0, 0, 0 ... 0, 0, 0]'),\n",
       " Text(215.2629310344828, 49.41818181818189, 'entropy = 5.731\\nsamples = 73\\nvalue = [0, 0, 0 ... 0, 0, 0]'),\n",
       " Text(218.87068965517244, 148.25454545454545, '[0. 0. 0. ... 0. 0. 0.] <= 0.343\\nentropy = 6.351\\nsamples = 119\\nvalue = [0, 0, 0 ... 0, 0, 0]'),\n",
       " Text(217.66810344827587, 49.41818181818189, 'entropy = 5.484\\nsamples = 59\\nvalue = [0, 0, 0 ... 0, 0, 0]'),\n",
       " Text(220.07327586206898, 49.41818181818189, 'entropy = 5.254\\nsamples = 60\\nvalue = [0, 0, 0 ... 0, 0, 0]'),\n",
       " Text(226.08620689655174, 247.09090909090912, '[0. 0. 0. ... 0. 0. 0.] <= 0.361\\nentropy = 7.113\\nsamples = 227\\nvalue = [0, 0, 0 ... 0, 0, 0]'),\n",
       " Text(223.68103448275863, 148.25454545454545, '[0. 0. 0. ... 0. 0. 0.] <= 0.355\\nentropy = 6.217\\nsamples = 118\\nvalue = [0, 0, 0 ... 0, 0, 0]'),\n",
       " Text(222.4784482758621, 49.41818181818189, 'entropy = 5.153\\nsamples = 59\\nvalue = [0, 0, 0 ... 0, 0, 0]'),\n",
       " Text(224.8836206896552, 49.41818181818189, 'entropy = 5.327\\nsamples = 59\\nvalue = [0, 0, 0 ... 0, 0, 0]'),\n",
       " Text(228.49137931034485, 148.25454545454545, '[0. 0. 0. ... 0. 0. 0.] <= 0.29\\nentropy = 6.079\\nsamples = 109\\nvalue = [0, 0, 0 ... 0, 0, 0]'),\n",
       " Text(227.28879310344828, 49.41818181818189, 'entropy = 5.494\\nsamples = 64\\nvalue = [0, 0, 0 ... 0, 0, 0]'),\n",
       " Text(229.6939655172414, 49.41818181818189, 'entropy = 4.542\\nsamples = 45\\nvalue = [0, 0, 0 ... 0, 0, 0]'),\n",
       " Text(269.2289870689655, 543.6, '[0. 0. 0. ... 0. 0. 0.] <= 0.48\\nentropy = 9.55\\nsamples = 1486\\nvalue = [0, 0, 0 ... 0, 0, 0]'),\n",
       " Text(250.1379310344828, 444.76363636363635, '[0. 0. 0. ... 0. 0. 0.] <= 0.418\\nentropy = 8.748\\nsamples = 786\\nvalue = [0, 0, 0 ... 0, 0, 0]'),\n",
       " Text(240.51724137931038, 345.9272727272727, '[0. 0. 0. ... 0. 0. 0.] <= 0.394\\nentropy = 7.889\\nsamples = 392\\nvalue = [0, 0, 0 ... 0, 0, 0]'),\n",
       " Text(235.70689655172416, 247.09090909090912, '[0. 0. 0. ... 0. 0. 0.] <= 0.382\\nentropy = 6.828\\nsamples = 195\\nvalue = [0, 0, 0 ... 0, 0, 0]'),\n",
       " Text(233.30172413793105, 148.25454545454545, '[0. 0. 0. ... 0. 0. 0.] <= 0.378\\nentropy = 5.728\\nsamples = 98\\nvalue = [0, 0, 0 ... 0, 0, 0]'),\n",
       " Text(232.0991379310345, 49.41818181818189, 'entropy = 4.463\\nsamples = 42\\nvalue = [0, 0, 0 ... 0, 0, 0]'),\n",
       " Text(234.50431034482762, 49.41818181818189, 'entropy = 4.952\\nsamples = 56\\nvalue = [0, 0, 0 ... 0, 0, 0]'),\n",
       " Text(238.11206896551727, 148.25454545454545, '[0. 0. 0. ... 0. 0. 0.] <= 0.388\\nentropy = 5.949\\nsamples = 97\\nvalue = [0, 0, 0 ... 0, 0, 0]'),\n",
       " Text(236.9094827586207, 49.41818181818189, 'entropy = 5.272\\nsamples = 55\\nvalue = [0, 0, 0 ... 0, 0, 0]'),\n",
       " Text(239.3146551724138, 49.41818181818189, 'entropy = 4.556\\nsamples = 42\\nvalue = [0, 0, 0 ... 0, 0, 0]'),\n",
       " Text(245.32758620689657, 247.09090909090912, '[0. 0. 0. ... 0. 0. 0.] <= 0.402\\nentropy = 7.032\\nsamples = 197\\nvalue = [0, 0, 0 ... 0, 0, 0]'),\n",
       " Text(242.92241379310346, 148.25454545454545, '[0. 0. 0. ... 0. 0. 0.] <= 0.397\\nentropy = 5.936\\nsamples = 98\\nvalue = [0, 0, 0 ... 0, 0, 0]'),\n",
       " Text(241.71982758620692, 49.41818181818189, 'entropy = 5.097\\nsamples = 54\\nvalue = [0, 0, 0 ... 0, 0, 0]'),\n",
       " Text(244.12500000000003, 49.41818181818189, 'entropy = 4.754\\nsamples = 44\\nvalue = [0, 0, 0 ... 0, 0, 0]'),\n",
       " Text(247.73275862068968, 148.25454545454545, '[0. 0. 0. ... 0. 0. 0.] <= 0.408\\nentropy = 6.127\\nsamples = 99\\nvalue = [0, 0, 0 ... 0, 0, 0]'),\n",
       " Text(246.5301724137931, 49.41818181818189, 'entropy = 4.928\\nsamples = 50\\nvalue = [0, 0, 0 ... 0, 0, 0]'),\n",
       " Text(248.93534482758622, 49.41818181818189, 'entropy = 5.329\\nsamples = 49\\nvalue = [0, 0, 0 ... 0, 0, 0]'),\n",
       " Text(259.7586206896552, 345.9272727272727, '[0. 0. 0. ... 0. 0. 0.] <= 0.453\\nentropy = 7.833\\nsamples = 394\\nvalue = [0, 0, 0 ... 0, 0, 0]'),\n",
       " Text(254.94827586206898, 247.09090909090912, '[0. 0. 0. ... 0. 0. 0.] <= 0.436\\nentropy = 6.957\\nsamples = 200\\nvalue = [0, 0, 0 ... 0, 0, 0]'),\n",
       " Text(252.54310344827587, 148.25454545454545, '[0. 0. 0. ... 0. 0. 0.] <= 0.428\\nentropy = 6.188\\nsamples = 109\\nvalue = [0, 0, 0 ... 0, 0, 0]'),\n",
       " Text(251.34051724137933, 49.41818181818189, 'entropy = 5.484\\nsamples = 67\\nvalue = [0, 0, 0 ... 0, 0, 0]'),\n",
       " Text(253.74568965517244, 49.41818181818189, 'entropy = 4.862\\nsamples = 42\\nvalue = [0, 0, 0 ... 0, 0, 0]'),\n",
       " Text(257.3534482758621, 148.25454545454545, '[0. 0. 0. ... 0. 0. 0.] <= 0.448\\nentropy = 5.715\\nsamples = 91\\nvalue = [0, 0, 0 ... 0, 0, 0]'),\n",
       " Text(256.1508620689655, 49.41818181818189, 'entropy = 4.803\\nsamples = 45\\nvalue = [0, 0, 0 ... 0, 0, 0]'),\n",
       " Text(258.55603448275866, 49.41818181818189, 'entropy = 4.7\\nsamples = 46\\nvalue = [0, 0, 0 ... 0, 0, 0]'),\n",
       " Text(264.5689655172414, 247.09090909090912, '[0. 0. 0. ... 0. 0. 0.] <= 0.468\\nentropy = 6.723\\nsamples = 194\\nvalue = [0, 0, 0 ... 0, 0, 0]'),\n",
       " Text(262.1637931034483, 148.25454545454545, '[0. 0. 0. ... 0. 0. 0.] <= 0.462\\nentropy = 5.569\\nsamples = 96\\nvalue = [0, 0, 0 ... 0, 0, 0]'),\n",
       " Text(260.96120689655174, 49.41818181818189, 'entropy = 5.014\\nsamples = 45\\nvalue = [0, 0, 0 ... 0, 0, 0]'),\n",
       " Text(263.3663793103448, 49.41818181818189, 'entropy = 4.221\\nsamples = 51\\nvalue = [0, 0, 0 ... 0, 0, 0]'),\n",
       " Text(266.9741379310345, 148.25454545454545, '[0. 0. 0. ... 0. 0. 0.] <= 0.476\\nentropy = 5.894\\nsamples = 98\\nvalue = [0, 0, 0 ... 0, 0, 0]'),\n",
       " Text(265.77155172413796, 49.41818181818189, 'entropy = 5.164\\nsamples = 45\\nvalue = [0, 0, 0 ... 0, 0, 0]'),\n",
       " Text(268.17672413793105, 49.41818181818189, 'entropy = 4.674\\nsamples = 53\\nvalue = [0, 0, 0 ... 0, 0, 0]'),\n",
       " Text(288.3200431034483, 444.76363636363635, '[0. 0. 0. ... 0. 0. 0.] <= 0.583\\nentropy = 8.692\\nsamples = 700\\nvalue = [0, 0, 0 ... 0, 0, 0]'),\n",
       " Text(279.0, 345.9272727272727, '[0. 0. 0. ... 0. 0. 0.] <= 0.529\\nentropy = 7.745\\nsamples = 352\\nvalue = [0, 0, 0 ... 0, 0, 0]'),\n",
       " Text(274.18965517241384, 247.09090909090912, '[0. 0. 0. ... 0. 0. 0.] <= 0.489\\nentropy = 6.834\\nsamples = 184\\nvalue = [0, 0, 0 ... 0, 0, 0]'),\n",
       " Text(271.7844827586207, 148.25454545454545, '[0. 0. 0. ... 0. 0. 0.] <= 0.48\\nentropy = 5.924\\nsamples = 94\\nvalue = [0, 0, 0 ... 0, 0, 0]'),\n",
       " Text(270.5818965517242, 49.41818181818189, 'entropy = 4.65\\nsamples = 47\\nvalue = [0, 0, 0 ... 0, 0, 0]'),\n",
       " Text(272.98706896551727, 49.41818181818189, 'entropy = 5.198\\nsamples = 47\\nvalue = [0, 0, 0 ... 0, 0, 0]'),\n",
       " Text(276.5948275862069, 148.25454545454545, '[0. 0. 0. ... 0. 0. 0.] <= 0.511\\nentropy = 5.786\\nsamples = 90\\nvalue = [0, 0, 0 ... 0, 0, 0]'),\n",
       " Text(275.39224137931035, 49.41818181818189, 'entropy = 4.31\\nsamples = 43\\nvalue = [0, 0, 0 ... 0, 0, 0]'),\n",
       " Text(277.7974137931035, 49.41818181818189, 'entropy = 5.225\\nsamples = 47\\nvalue = [0, 0, 0 ... 0, 0, 0]'),\n",
       " Text(283.8103448275862, 247.09090909090912, '[0. 0. 0. ... 0. 0. 0.] <= 0.534\\nentropy = 6.666\\nsamples = 168\\nvalue = [0, 0, 0 ... 0, 0, 0]'),\n",
       " Text(281.40517241379314, 148.25454545454545, '[0. 0. 0. ... 0. 0. 0.] <= 0.424\\nentropy = 5.218\\nsamples = 72\\nvalue = [0, 0, 0 ... 0, 0, 0]'),\n",
       " Text(280.20258620689657, 49.41818181818189, 'entropy = 4.351\\nsamples = 32\\nvalue = [0, 0, 0 ... 0, 0, 0]'),\n",
       " Text(282.60775862068965, 49.41818181818189, 'entropy = 4.128\\nsamples = 40\\nvalue = [0, 0, 0 ... 0, 0, 0]'),\n",
       " Text(286.21551724137936, 148.25454545454545, '[0. 0. 0. ... 0. 0. 0.] <= 0.542\\nentropy = 6.061\\nsamples = 96\\nvalue = [0, 0, 0 ... 0, 0, 0]'),\n",
       " Text(285.0129310344828, 49.41818181818189, 'entropy = 5.001\\nsamples = 47\\nvalue = [0, 0, 0 ... 0, 0, 0]'),\n",
       " Text(287.4181034482759, 49.41818181818189, 'entropy = 5.12\\nsamples = 49\\nvalue = [0, 0, 0 ... 0, 0, 0]'),\n",
       " Text(297.64008620689657, 345.9272727272727, '[0. 0. 0. ... 0. 0. 0.] <= 0.631\\nentropy = 7.768\\nsamples = 348\\nvalue = [0, 0, 0 ... 0, 0, 0]'),\n",
       " Text(293.43103448275866, 247.09090909090912, '[0. 0. 0. ... 0. 0. 0.] <= 0.617\\nentropy = 6.904\\nsamples = 185\\nvalue = [0, 0, 0 ... 0, 0, 0]'),\n",
       " Text(291.0258620689655, 148.25454545454545, '[0. 0. 0. ... 0. 0. 0.] <= 0.607\\nentropy = 5.903\\nsamples = 91\\nvalue = [0, 0, 0 ... 0, 0, 0]'),\n",
       " Text(289.823275862069, 49.41818181818189, 'entropy = 4.986\\nsamples = 48\\nvalue = [0, 0, 0 ... 0, 0, 0]'),\n",
       " Text(292.2284482758621, 49.41818181818189, 'entropy = 4.815\\nsamples = 43\\nvalue = [0, 0, 0 ... 0, 0, 0]'),\n",
       " Text(295.83620689655174, 148.25454545454545, '[0. 0. 0. ... 0. 0. 0.] <= 0.626\\nentropy = 5.905\\nsamples = 94\\nvalue = [0, 0, 0 ... 0, 0, 0]'),\n",
       " Text(294.6336206896552, 49.41818181818189, 'entropy = 4.897\\nsamples = 44\\nvalue = [0, 0, 0 ... 0, 0, 0]'),\n",
       " Text(297.0387931034483, 49.41818181818189, 'entropy = 4.919\\nsamples = 50\\nvalue = [0, 0, 0 ... 0, 0, 0]'),\n",
       " Text(301.84913793103453, 247.09090909090912, '[0. 0. 0. ... 0. 0. 0.] <= 0.911\\nentropy = 6.661\\nsamples = 163\\nvalue = [0, 0, 0 ... 0, 0, 0]'),\n",
       " Text(300.64655172413796, 148.25454545454545, '[0. 0. 0. ... 0. 0. 0.] <= 0.607\\nentropy = 4.991\\nsamples = 51\\nvalue = [0, 0, 0 ... 0, 0, 0]'),\n",
       " Text(299.4439655172414, 49.41818181818189, 'entropy = 2.75\\nsamples = 8\\nvalue = [0, 0, 0 ... 0, 0, 0]'),\n",
       " Text(301.84913793103453, 49.41818181818189, 'entropy = 4.665\\nsamples = 43\\nvalue = [0, 0, 0 ... 0, 0, 0]'),\n",
       " Text(303.05172413793105, 148.25454545454545, 'entropy = 6.16\\nsamples = 112\\nvalue = [0, 0, 0 ... 0, 0, 0]'),\n",
       " Text(444.4307650862069, 741.2727272727273, '[0. 0. 0. ... 0. 0. 0.] <= 0.159\\nentropy = 9.589\\nsamples = 11344\\nvalue = [0, 0, 0 ... 0, 0, 0]'),\n",
       " Text(374.6056034482759, 642.4363636363637, '[0. 0. 0. ... 0. 0. 0.] <= 0.116\\nentropy = 8.3\\nsamples = 5233\\nvalue = [0, 0, 0 ... 0, 0, 0]'),\n",
       " Text(341.5344827586207, 543.6, '[0. 0. 0. ... 0. 0. 0.] <= 0.111\\nentropy = 8.247\\nsamples = 4645\\nvalue = [0, 0, 0 ... 0, 0, 0]'),\n",
       " Text(322.2931034482759, 444.76363636363635, '[0. 0. 0. ... 0. 0. 0.] <= 0.037\\nentropy = 8.077\\nsamples = 3738\\nvalue = [0, 0, 0 ... 0, 0, 0]'),\n",
       " Text(312.6724137931035, 345.9272727272727, '[0. 0. 0. ... 0. 0. 0.] <= 0.077\\nentropy = 8.03\\nsamples = 3336\\nvalue = [0, 0, 0 ... 0, 0, 0]'),\n",
       " Text(307.86206896551727, 247.09090909090912, '[0. 0. 0. ... 0. 0. 0.] <= 0.064\\nentropy = 7.994\\nsamples = 2990\\nvalue = [0, 0, 0 ... 0, 0, 0]'),\n",
       " Text(305.4568965517242, 148.25454545454545, '[0. 0. 0. ... 0. 0. 0.] <= 0.096\\nentropy = 8.029\\nsamples = 2676\\nvalue = [0, 0, 0 ... 0, 0, 0]'),\n",
       " Text(304.2543103448276, 49.41818181818189, 'entropy = 7.903\\nsamples = 2421\\nvalue = [0, 0, 0 ... 0, 0, 0]'),\n",
       " Text(306.6594827586207, 49.41818181818189, 'entropy = 4.483\\nsamples = 255\\nvalue = [0, 0, 0 ... 0, 0, 0]'),\n",
       " Text(310.26724137931035, 148.25454545454545, '[0. 0. 0. ... 0. 0. 0.] <= 0.179\\nentropy = 3.129\\nsamples = 314\\nvalue = [0, 0, 0 ... 0, 0, 0]'),\n",
       " Text(309.06465517241384, 49.41818181818189, 'entropy = 2.978\\nsamples = 217\\nvalue = [0, 0, 0 ... 0, 0, 0]'),\n",
       " Text(311.4698275862069, 49.41818181818189, 'entropy = 0.579\\nsamples = 97\\nvalue = [0, 0, 0 ... 0, 0, 0]'),\n",
       " Text(317.4827586206897, 247.09090909090912, '[0. 0. 0. ... 0. 0. 0.] <= 0.077\\nentropy = 3.725\\nsamples = 346\\nvalue = [0, 0, 0 ... 0, 0, 0]'),\n",
       " Text(315.07758620689657, 148.25454545454545, '[0. 0. 0. ... 0. 0. 0.] <= 0.081\\nentropy = 3.322\\nsamples = 89\\nvalue = [0, 0, 0 ... 0, 0, 0]'),\n",
       " Text(313.875, 49.41818181818189, 'entropy = 3.564\\nsamples = 49\\nvalue = [0, 0, 0 ... 0, 0, 0]'),\n",
       " Text(316.28017241379314, 49.41818181818189, 'entropy = 0.898\\nsamples = 40\\nvalue = [0, 0, 0 ... 0, 0, 0]'),\n",
       " Text(319.8879310344828, 148.25454545454545, '[0. 0. 0. ... 0. 0. 0.] <= 0.116\\nentropy = 2.757\\nsamples = 257\\nvalue = [0, 0, 0 ... 0, 0, 0]'),\n",
       " Text(318.6853448275862, 49.41818181818189, 'entropy = 2.55\\nsamples = 137\\nvalue = [0, 0, 0 ... 0, 0, 0]'),\n",
       " Text(321.09051724137936, 49.41818181818189, 'entropy = 1.269\\nsamples = 120\\nvalue = [0, 0, 0 ... 0, 0, 0]'),\n",
       " Text(331.9137931034483, 345.9272727272727, '[0. 0. 0. ... 0. 0. 0.] <= 0.02\\nentropy = 3.899\\nsamples = 402\\nvalue = [0, 0, 0 ... 0, 0, 0]'),\n",
       " Text(327.1034482758621, 247.09090909090912, '[0. 0. 0. ... 0. 0. 0.] <= 0.257\\nentropy = 4.671\\nsamples = 202\\nvalue = [0, 0, 0 ... 0, 0, 0]'),\n",
       " Text(324.698275862069, 148.25454545454545, '[0. 0. 0. ... 0. 0. 0.] <= 0.353\\nentropy = 5.005\\nsamples = 143\\nvalue = [0, 0, 0 ... 0, 0, 0]'),\n",
       " Text(323.49568965517244, 49.41818181818189, 'entropy = 5.139\\nsamples = 123\\nvalue = [0, 0, 0 ... 0, 0, 0]'),\n",
       " Text(325.9008620689655, 49.41818181818189, 'entropy = 0.0\\nsamples = 20\\nvalue = [0, 0, 0 ... 0, 0, 0]'),\n",
       " Text(329.5086206896552, 148.25454545454545, '[0. 0. 0. ... 0. 0. 0.] <= 0.204\\nentropy = 0.878\\nsamples = 59\\nvalue = [0, 0, 0 ... 0, 0, 0]'),\n",
       " Text(328.30603448275866, 49.41818181818189, 'entropy = 0.687\\nsamples = 57\\nvalue = [0, 0, 0 ... 0, 0, 0]'),\n",
       " Text(330.71120689655174, 49.41818181818189, 'entropy = 0.0\\nsamples = 2\\nvalue = [0, 0, 0 ... 0, 0, 0]'),\n",
       " Text(336.72413793103453, 247.09090909090912, '[0. 0. 0. ... 0. 0. 0.] <= 0.023\\nentropy = 1.11\\nsamples = 200\\nvalue = [0, 0, 0 ... 0, 0, 0]'),\n",
       " Text(334.3189655172414, 148.25454545454545, '[0. 0. 0. ... 0. 0. 0.] <= 0.037\\nentropy = 3.435\\nsamples = 29\\nvalue = [0, 0, 0 ... 0, 0, 0]'),\n",
       " Text(333.1163793103449, 49.41818181818189, 'entropy = 3.164\\nsamples = 23\\nvalue = [0, 0, 0 ... 0, 0, 0]'),\n",
       " Text(335.52155172413796, 49.41818181818189, 'entropy = 0.918\\nsamples = 6\\nvalue = [0, 0, 0 ... 0, 0, 0]'),\n",
       " Text(339.1293103448276, 148.25454545454545, '[0. 0. 0. ... 0. 0. 0.] <= 0.34\\nentropy = 0.303\\nsamples = 171\\nvalue = [0, 0, 0 ... 0, 0, 0]'),\n",
       " Text(337.92672413793105, 49.41818181818189, 'entropy = 0.221\\nsamples = 169\\nvalue = [0, 0, 0 ... 0, 0, 0]'),\n",
       " Text(340.3318965517242, 49.41818181818189, 'entropy = 1.0\\nsamples = 2\\nvalue = [0, 0, 0 ... 0, 0, 0]'),\n",
       " Text(360.7758620689655, 444.76363636363635, '[0. 0. 0. ... 0. 0. 0.] <= 0.096\\nentropy = 6.536\\nsamples = 907\\nvalue = [0, 0, 0 ... 0, 0, 0]'),\n",
       " Text(351.15517241379314, 345.9272727272727, '[0. 0. 0. ... 0. 0. 0.] <= 0.082\\nentropy = 6.761\\nsamples = 609\\nvalue = [0, 0, 0 ... 0, 0, 0]'),\n",
       " Text(346.3448275862069, 247.09090909090912, '[0. 0. 0. ... 0. 0. 0.] <= 0.081\\nentropy = 6.799\\nsamples = 476\\nvalue = [0, 0, 0 ... 0, 0, 0]'),\n",
       " Text(343.93965517241384, 148.25454545454545, '[0. 0. 0. ... 0. 0. 0.] <= 0.123\\nentropy = 6.546\\nsamples = 414\\nvalue = [0, 0, 0 ... 0, 0, 0]'),\n",
       " Text(342.73706896551727, 49.41818181818189, 'entropy = 5.619\\nsamples = 228\\nvalue = [0, 0, 0 ... 0, 0, 0]'),\n",
       " Text(345.14224137931035, 49.41818181818189, 'entropy = 6.428\\nsamples = 186\\nvalue = [0, 0, 0 ... 0, 0, 0]'),\n",
       " Text(348.75000000000006, 148.25454545454545, '[0. 0. 0. ... 0. 0. 0.] <= 0.11\\nentropy = 4.203\\nsamples = 62\\nvalue = [0, 0, 0 ... 0, 0, 0]'),\n",
       " Text(347.5474137931035, 49.41818181818189, 'entropy = 3.867\\nsamples = 46\\nvalue = [0, 0, 0 ... 0, 0, 0]'),\n",
       " Text(349.95258620689657, 49.41818181818189, 'entropy = 1.975\\nsamples = 16\\nvalue = [0, 0, 0 ... 0, 0, 0]'),\n",
       " Text(355.96551724137936, 247.09090909090912, '[0. 0. 0. ... 0. 0. 0.] <= 0.337\\nentropy = 3.155\\nsamples = 133\\nvalue = [0, 0, 0 ... 0, 0, 0]'),\n",
       " Text(353.5603448275862, 148.25454545454545, '[0. 0. 0. ... 0. 0. 0.] <= 0.18\\nentropy = 2.854\\nsamples = 94\\nvalue = [0, 0, 0 ... 0, 0, 0]'),\n",
       " Text(352.3577586206897, 49.41818181818189, 'entropy = 2.145\\nsamples = 64\\nvalue = [0, 0, 0 ... 0, 0, 0]'),\n",
       " Text(354.7629310344828, 49.41818181818189, 'entropy = 1.534\\nsamples = 30\\nvalue = [0, 0, 0 ... 0, 0, 0]'),\n",
       " Text(358.37068965517244, 148.25454545454545, '[0. 0. 0. ... 0. 0. 0.] <= 0.113\\nentropy = 1.144\\nsamples = 39\\nvalue = [0, 0, 0 ... 0, 0, 0]'),\n",
       " Text(357.1681034482759, 49.41818181818189, 'entropy = 0.994\\nsamples = 33\\nvalue = [0, 0, 0 ... 0, 0, 0]'),\n",
       " Text(359.573275862069, 49.41818181818189, 'entropy = 0.65\\nsamples = 6\\nvalue = [0, 0, 0 ... 0, 0, 0]'),\n",
       " Text(370.39655172413796, 345.9272727272727, '[0. 0. 0. ... 0. 0. 0.] <= 0.143\\nentropy = 3.297\\nsamples = 298\\nvalue = [0, 0, 0 ... 0, 0, 0]'),\n",
       " Text(365.58620689655174, 247.09090909090912, '[0. 0. 0. ... 0. 0. 0.] <= 0.595\\nentropy = 2.919\\nsamples = 163\\nvalue = [0, 0, 0 ... 0, 0, 0]'),\n",
       " Text(363.18103448275866, 148.25454545454545, '[0. 0. 0. ... 0. 0. 0.] <= 0.266\\nentropy = 2.583\\nsamples = 99\\nvalue = [0, 0, 0 ... 0, 0, 0]'),\n",
       " Text(361.9784482758621, 49.41818181818189, 'entropy = 2.612\\nsamples = 56\\nvalue = [0, 0, 0 ... 0, 0, 0]'),\n",
       " Text(364.3836206896552, 49.41818181818189, 'entropy = 0.271\\nsamples = 43\\nvalue = [0, 0, 0 ... 0, 0, 0]'),\n",
       " Text(367.9913793103449, 148.25454545454545, '[0. 0. 0. ... 0. 0. 0.] <= 0.198\\nentropy = 0.976\\nsamples = 64\\nvalue = [0, 0, 0 ... 0, 0, 0]'),\n",
       " Text(366.7887931034483, 49.41818181818189, 'entropy = 0.777\\nsamples = 57\\nvalue = [0, 0, 0 ... 0, 0, 0]'),\n",
       " Text(369.1939655172414, 49.41818181818189, 'entropy = 0.985\\nsamples = 7\\nvalue = [0, 0, 0 ... 0, 0, 0]'),\n",
       " Text(375.2068965517242, 247.09090909090912, '[0. 0. 0. ... 0. 0. 0.] <= 0.49\\nentropy = 1.644\\nsamples = 135\\nvalue = [0, 0, 0 ... 0, 0, 0]'),\n",
       " Text(372.80172413793105, 148.25454545454545, '[0. 0. 0. ... 0. 0. 0.] <= 0.417\\nentropy = 0.863\\nsamples = 42\\nvalue = [0, 0, 0 ... 0, 0, 0]'),\n",
       " Text(371.59913793103453, 49.41818181818189, 'entropy = 0.0\\nsamples = 12\\nvalue = [0, 0, 0 ... 0, 0, 0]'),\n",
       " Text(374.0043103448276, 49.41818181818189, 'entropy = 0.0\\nsamples = 30\\nvalue = [0, 0, 0 ... 0, 0, 0]'),\n",
       " Text(377.61206896551727, 148.25454545454545, '[0. 0. 0. ... 0. 0. 0.] <= 0.348\\nentropy = 0.976\\nsamples = 93\\nvalue = [0, 0, 0 ... 0, 0, 0]'),\n",
       " Text(376.4094827586207, 49.41818181818189, 'entropy = 0.799\\nsamples = 85\\nvalue = [0, 0, 0 ... 0, 0, 0]'),\n",
       " Text(378.81465517241384, 49.41818181818189, 'entropy = 1.406\\nsamples = 8\\nvalue = [0, 0, 0 ... 0, 0, 0]'),\n",
       " Text(407.67672413793105, 543.6, '[0. 0. 0. ... 0. 0. 0.] <= 0.117\\nentropy = 4.239\\nsamples = 588\\nvalue = [0, 0, 0 ... 0, 0, 0]'),\n",
       " Text(394.74892241379314, 444.76363636363635, '[0. 0. 0. ... 0. 0. 0.] <= 0.116\\nentropy = 3.893\\nsamples = 413\\nvalue = [0, 0, 0 ... 0, 0, 0]'),\n",
       " Text(389.03663793103453, 345.9272727272727, '[0. 0. 0. ... 0. 0. 0.] <= 0.302\\nentropy = 3.848\\nsamples = 267\\nvalue = [0, 0, 0 ... 0, 0, 0]'),\n",
       " Text(384.82758620689657, 247.09090909090912, '[0. 0. 0. ... 0. 0. 0.] <= 0.175\\nentropy = 3.816\\nsamples = 179\\nvalue = [0, 0, 0 ... 0, 0, 0]'),\n",
       " Text(382.4224137931035, 148.25454545454545, '[0. 0. 0. ... 0. 0. 0.] <= 0.163\\nentropy = 3.665\\nsamples = 129\\nvalue = [0, 0, 0 ... 0, 0, 0]'),\n",
       " Text(381.2198275862069, 49.41818181818189, 'entropy = 3.699\\nsamples = 102\\nvalue = [0, 0, 0 ... 0, 0, 0]'),\n",
       " Text(383.62500000000006, 49.41818181818189, 'entropy = 0.0\\nsamples = 27\\nvalue = [0, 0, 0 ... 0, 0, 0]'),\n",
       " Text(387.2327586206897, 148.25454545454545, '[0. 0. 0. ... 0. 0. 0.] <= 0.304\\nentropy = 1.282\\nsamples = 50\\nvalue = [0, 0, 0 ... 0, 0, 0]'),\n",
       " Text(386.03017241379314, 49.41818181818189, 'entropy = 0.187\\nsamples = 35\\nvalue = [0, 0, 0 ... 0, 0, 0]'),\n",
       " Text(388.4353448275862, 49.41818181818189, 'entropy = 1.64\\nsamples = 15\\nvalue = [0, 0, 0 ... 0, 0, 0]'),\n",
       " Text(393.24568965517244, 247.09090909090912, '[0. 0. 0. ... 0. 0. 0.] <= 0.192\\nentropy = 1.395\\nsamples = 88\\nvalue = [0, 0, 0 ... 0, 0, 0]'),\n",
       " Text(392.0431034482759, 148.25454545454545, '[0. 0. 0. ... 0. 0. 0.] <= 0.107\\nentropy = 1.112\\nsamples = 82\\nvalue = [0, 0, 0 ... 0, 0, 0]'),\n",
       " Text(390.84051724137936, 49.41818181818189, 'entropy = 1.103\\nsamples = 61\\nvalue = [0, 0, 0 ... 0, 0, 0]'),\n",
       " Text(393.24568965517244, 49.41818181818189, 'entropy = 0.276\\nsamples = 21\\nvalue = [0, 0, 0 ... 0, 0, 0]'),\n",
       " Text(394.448275862069, 148.25454545454545, 'entropy = 0.0\\nsamples = 6\\nvalue = [0, 0, 0 ... 0, 0, 0]'),\n",
       " Text(400.46120689655174, 345.9272727272727, '[0. 0. 0. ... 0. 0. 0.] <= 0.165\\nentropy = 1.767\\nsamples = 146\\nvalue = [0, 0, 0 ... 0, 0, 0]'),\n",
       " Text(399.25862068965523, 247.09090909090912, '[0. 0. 0. ... 0. 0. 0.] <= 0.13\\nentropy = 1.37\\nsamples = 125\\nvalue = [0, 0, 0 ... 0, 0, 0]'),\n",
       " Text(396.8534482758621, 148.25454545454545, '[0. 0. 0. ... 0. 0. 0.] <= 0.18\\nentropy = 0.849\\nsamples = 80\\nvalue = [0, 0, 0 ... 0, 0, 0]'),\n",
       " Text(395.6508620689655, 49.41818181818189, 'entropy = 0.52\\nsamples = 68\\nvalue = [0, 0, 0 ... 0, 0, 0]'),\n",
       " Text(398.05603448275866, 49.41818181818189, 'entropy = 1.384\\nsamples = 12\\nvalue = [0, 0, 0 ... 0, 0, 0]'),\n",
       " Text(401.6637931034483, 148.25454545454545, '[0. 0. 0. ... 0. 0. 0.] <= 0.123\\nentropy = 1.673\\nsamples = 45\\nvalue = [0, 0, 0 ... 0, 0, 0]'),\n",
       " Text(400.46120689655174, 49.41818181818189, 'entropy = 1.414\\nsamples = 42\\nvalue = [0, 0, 0 ... 0, 0, 0]'),\n",
       " Text(402.8663793103449, 49.41818181818189, 'entropy = 0.0\\nsamples = 3\\nvalue = [0, 0, 0 ... 0, 0, 0]'),\n",
       " Text(401.6637931034483, 247.09090909090912, 'entropy = 0.0\\nsamples = 21\\nvalue = [0, 0, 0 ... 0, 0, 0]'),\n",
       " Text(420.604525862069, 444.76363636363635, '[0. 0. 0. ... 0. 0. 0.] <= 0.163\\nentropy = 2.425\\nsamples = 175\\nvalue = [0, 0, 0 ... 0, 0, 0]'),\n",
       " Text(413.0883620689655, 345.9272727272727, '[0. 0. 0. ... 0. 0. 0.] <= 0.324\\nentropy = 1.645\\nsamples = 121\\nvalue = [0, 0, 0 ... 0, 0, 0]'),\n",
       " Text(408.8793103448276, 247.09090909090912, '[0. 0. 0. ... 0. 0. 0.] <= 0.123\\nentropy = 0.896\\nsamples = 92\\nvalue = [0, 0, 0 ... 0, 0, 0]'),\n",
       " Text(406.47413793103453, 148.25454545454545, '[0. 0. 0. ... 0. 0. 0.] <= 0.146\\nentropy = 0.542\\nsamples = 82\\nvalue = [0, 0, 0 ... 0, 0, 0]'),\n",
       " Text(405.27155172413796, 49.41818181818189, 'entropy = 0.113\\nsamples = 66\\nvalue = [0, 0, 0 ... 0, 0, 0]'),\n",
       " Text(407.67672413793105, 49.41818181818189, 'entropy = 1.497\\nsamples = 16\\nvalue = [0, 0, 0 ... 0, 0, 0]'),\n",
       " Text(411.2844827586207, 148.25454545454545, '[0. 0. 0. ... 0. 0. 0.] <= 0.397\\nentropy = 1.722\\nsamples = 10\\nvalue = [0, 0, 0 ... 0, 0, 0]'),\n",
       " Text(410.0818965517242, 49.41818181818189, 'entropy = 1.379\\nsamples = 7\\nvalue = [0, 0, 0 ... 0, 0, 0]'),\n",
       " Text(412.48706896551727, 49.41818181818189, 'entropy = 0.918\\nsamples = 3\\nvalue = [0, 0, 0 ... 0, 0, 0]'),\n",
       " Text(417.2974137931035, 247.09090909090912, '[0. 0. 0. ... 0. 0. 0.] <= 0.352\\nentropy = 1.173\\nsamples = 29\\nvalue = [0, 0, 0 ... 0, 0, 0]'),\n",
       " Text(416.0948275862069, 148.25454545454545, '[0. 0. 0. ... 0. 0. 0.] <= 0.174\\nentropy = 1.723\\nsamples = 15\\nvalue = [0, 0, 0 ... 0, 0, 0]'),\n",
       " Text(414.8922413793104, 49.41818181818189, 'entropy = 1.224\\nsamples = 9\\nvalue = [0, 0, 0 ... 0, 0, 0]'),\n",
       " Text(417.2974137931035, 49.41818181818189, 'entropy = 1.585\\nsamples = 6\\nvalue = [0, 0, 0 ... 0, 0, 0]'),\n",
       " Text(418.50000000000006, 148.25454545454545, 'entropy = 0.0\\nsamples = 14\\nvalue = [0, 0, 0 ... 0, 0, 0]'),\n",
       " Text(428.12068965517244, 345.9272727272727, '[0. 0. 0. ... 0. 0. 0.] <= 0.186\\nentropy = 1.428\\nsamples = 54\\nvalue = [0, 0, 0 ... 0, 0, 0]'),\n",
       " Text(423.3103448275862, 247.09090909090912, '[0. 0. 0. ... 0. 0. 0.] <= 0.085\\nentropy = 1.123\\nsamples = 37\\nvalue = [0, 0, 0 ... 0, 0, 0]'),\n",
       " Text(420.90517241379314, 148.25454545454545, '[0. 0. 0. ... 0. 0. 0.] <= 0.335\\nentropy = 0.786\\nsamples = 29\\nvalue = [0, 0, 0 ... 0, 0, 0]'),\n",
       " Text(419.70258620689657, 49.41818181818189, 'entropy = 0.497\\nsamples = 24\\nvalue = [0, 0, 0 ... 0, 0, 0]'),\n",
       " Text(422.1077586206897, 49.41818181818189, 'entropy = 0.971\\nsamples = 5\\nvalue = [0, 0, 0 ... 0, 0, 0]'),\n",
       " Text(425.71551724137936, 148.25454545454545, '[0. 0. 0. ... 0. 0. 0.] <= 0.193\\nentropy = 1.299\\nsamples = 8\\nvalue = [0, 0, 0 ... 0, 0, 0]'),\n",
       " Text(424.5129310344828, 49.41818181818189, 'entropy = 0.971\\nsamples = 5\\nvalue = [0, 0, 0 ... 0, 0, 0]'),\n",
       " Text(426.9181034482759, 49.41818181818189, 'entropy = 0.918\\nsamples = 3\\nvalue = [0, 0, 0 ... 0, 0, 0]'),\n",
       " Text(432.93103448275866, 247.09090909090912, '[0. 0. 0. ... 0. 0. 0.] <= 0.382\\nentropy = 1.261\\nsamples = 17\\nvalue = [0, 0, 0 ... 0, 0, 0]'),\n",
       " Text(430.5258620689656, 148.25454545454545, '[0. 0. 0. ... 0. 0. 0.] <= 0.206\\nentropy = 1.0\\nsamples = 8\\nvalue = [0, 0, 0 ... 0, 0, 0]'),\n",
       " Text(429.323275862069, 49.41818181818189, 'entropy = 0.971\\nsamples = 5\\nvalue = [0, 0, 0 ... 0, 0, 0]'),\n",
       " Text(431.7284482758621, 49.41818181818189, 'entropy = 0.918\\nsamples = 3\\nvalue = [0, 0, 0 ... 0, 0, 0]'),\n",
       " Text(435.33620689655174, 148.25454545454545, '[0. 0. 0. ... 0. 0. 0.] <= 0.435\\nentropy = 0.764\\nsamples = 9\\nvalue = [0, 0, 0 ... 0, 0, 0]'),\n",
       " Text(434.13362068965523, 49.41818181818189, 'entropy = 0.0\\nsamples = 5\\nvalue = [0, 0, 0 ... 0, 0, 0]'),\n",
       " Text(436.5387931034483, 49.41818181818189, 'entropy = 1.0\\nsamples = 4\\nvalue = [0, 0, 0 ... 0, 0, 0]'),\n",
       " Text(514.255926724138, 642.4363636363637, '[0. 0. 0. ... 0. 0. 0.] <= 0.028\\nentropy = 9.79\\nsamples = 6111\\nvalue = [0, 0, 0 ... 0, 0, 0]'),\n",
       " Text(476.22413793103453, 543.6, '[0. 0. 0. ... 0. 0. 0.] <= 0.237\\nentropy = 9.659\\nsamples = 5128\\nvalue = [0, 0, 0 ... 0, 0, 0]'),\n",
       " Text(456.9827586206897, 444.76363636363635, '[0. 0. 0. ... 0. 0. 0.] <= 0.174\\nentropy = 9.267\\nsamples = 2952\\nvalue = [0, 0, 0 ... 0, 0, 0]'),\n",
       " Text(447.36206896551727, 345.9272727272727, '[0. 0. 0. ... 0. 0. 0.] <= 0.112\\nentropy = 8.959\\nsamples = 1907\\nvalue = [0, 0, 0 ... 0, 0, 0]'),\n",
       " Text(442.55172413793105, 247.09090909090912, '[0. 0. 0. ... 0. 0. 0.] <= 0.192\\nentropy = 8.962\\nsamples = 1671\\nvalue = [0, 0, 0 ... 0, 0, 0]'),\n",
       " Text(440.14655172413796, 148.25454545454545, '[0. 0. 0. ... 0. 0. 0.] <= 0.176\\nentropy = 8.194\\nsamples = 778\\nvalue = [0, 0, 0 ... 0, 0, 0]'),\n",
       " Text(438.9439655172414, 49.41818181818189, 'entropy = 7.512\\nsamples = 407\\nvalue = [0, 0, 0 ... 0, 0, 0]'),\n",
       " Text(441.34913793103453, 49.41818181818189, 'entropy = 7.558\\nsamples = 371\\nvalue = [0, 0, 0 ... 0, 0, 0]'),\n",
       " Text(444.9568965517242, 148.25454545454545, '[0. 0. 0. ... 0. 0. 0.] <= 0.217\\nentropy = 8.651\\nsamples = 893\\nvalue = [0, 0, 0 ... 0, 0, 0]'),\n",
       " Text(443.7543103448276, 49.41818181818189, 'entropy = 8.068\\nsamples = 481\\nvalue = [0, 0, 0 ... 0, 0, 0]'),\n",
       " Text(446.15948275862075, 49.41818181818189, 'entropy = 7.776\\nsamples = 412\\nvalue = [0, 0, 0 ... 0, 0, 0]'),\n",
       " Text(452.1724137931035, 247.09090909090912, '[0. 0. 0. ... 0. 0. 0.] <= 0.239\\nentropy = 4.633\\nsamples = 236\\nvalue = [0, 0, 0 ... 0, 0, 0]'),\n",
       " Text(449.7672413793104, 148.25454545454545, '[0. 0. 0. ... 0. 0. 0.] <= 0.219\\nentropy = 4.539\\nsamples = 193\\nvalue = [0, 0, 0 ... 0, 0, 0]'),\n",
       " Text(448.56465517241384, 49.41818181818189, 'entropy = 4.321\\nsamples = 148\\nvalue = [0, 0, 0 ... 0, 0, 0]'),\n",
       " Text(450.9698275862069, 49.41818181818189, 'entropy = 2.551\\nsamples = 45\\nvalue = [0, 0, 0 ... 0, 0, 0]'),\n",
       " Text(454.57758620689657, 148.25454545454545, '[0. 0. 0. ... 0. 0. 0.] <= 0.115\\nentropy = 1.643\\nsamples = 43\\nvalue = [0, 0, 0 ... 0, 0, 0]'),\n",
       " Text(453.37500000000006, 49.41818181818189, 'entropy = 1.254\\nsamples = 36\\nvalue = [0, 0, 0 ... 0, 0, 0]'),\n",
       " Text(455.78017241379314, 49.41818181818189, 'entropy = 1.449\\nsamples = 7\\nvalue = [0, 0, 0 ... 0, 0, 0]'),\n",
       " Text(466.6034482758621, 345.9272727272727, '[0. 0. 0. ... 0. 0. 0.] <= 0.222\\nentropy = 8.394\\nsamples = 1045\\nvalue = [0, 0, 0 ... 0, 0, 0]'),\n",
       " Text(461.79310344827593, 247.09090909090912, '[0. 0. 0. ... 0. 0. 0.] <= 0.17\\nentropy = 7.693\\nsamples = 468\\nvalue = [0, 0, 0 ... 0, 0, 0]'),\n",
       " Text(459.3879310344828, 148.25454545454545, '[0. 0. 0. ... 0. 0. 0.] <= 0.121\\nentropy = 6.872\\nsamples = 216\\nvalue = [0, 0, 0 ... 0, 0, 0]'),\n",
       " Text(458.1853448275862, 49.41818181818189, 'entropy = 6.323\\nsamples = 129\\nvalue = [0, 0, 0 ... 0, 0, 0]'),\n",
       " Text(460.59051724137936, 49.41818181818189, 'entropy = 5.65\\nsamples = 87\\nvalue = [0, 0, 0 ... 0, 0, 0]'),\n",
       " Text(464.198275862069, 148.25454545454545, '[0. 0. 0. ... 0. 0. 0.] <= 0.13\\nentropy = 7.13\\nsamples = 252\\nvalue = [0, 0, 0 ... 0, 0, 0]'),\n",
       " Text(462.99568965517244, 49.41818181818189, 'entropy = 6.567\\nsamples = 161\\nvalue = [0, 0, 0 ... 0, 0, 0]'),\n",
       " Text(465.4008620689656, 49.41818181818189, 'entropy = 6.004\\nsamples = 91\\nvalue = [0, 0, 0 ... 0, 0, 0]'),\n",
       " Text(471.4137931034483, 247.09090909090912, '[0. 0. 0. ... 0. 0. 0.] <= 0.248\\nentropy = 7.918\\nsamples = 577\\nvalue = [0, 0, 0 ... 0, 0, 0]'),\n",
       " Text(469.00862068965523, 148.25454545454545, '[0. 0. 0. ... 0. 0. 0.] <= 0.234\\nentropy = 7.306\\nsamples = 313\\nvalue = [0, 0, 0 ... 0, 0, 0]'),\n",
       " Text(467.80603448275866, 49.41818181818189, 'entropy = 6.573\\nsamples = 169\\nvalue = [0, 0, 0 ... 0, 0, 0]'),\n",
       " Text(470.21120689655174, 49.41818181818189, 'entropy = 6.526\\nsamples = 144\\nvalue = [0, 0, 0 ... 0, 0, 0]'),\n",
       " Text(473.8189655172414, 148.25454545454545, '[0. 0. 0. ... 0. 0. 0.] <= 0.262\\nentropy = 7.184\\nsamples = 264\\nvalue = [0, 0, 0 ... 0, 0, 0]'),\n",
       " Text(472.6163793103449, 49.41818181818189, 'entropy = 6.367\\nsamples = 132\\nvalue = [0, 0, 0 ... 0, 0, 0]'),\n",
       " Text(475.02155172413796, 49.41818181818189, 'entropy = 6.464\\nsamples = 132\\nvalue = [0, 0, 0 ... 0, 0, 0]'),\n",
       " Text(495.46551724137936, 444.76363636363635, '[0. 0. 0. ... 0. 0. 0.] <= 0.322\\nentropy = 9.249\\nsamples = 2176\\nvalue = [0, 0, 0 ... 0, 0, 0]'),\n",
       " Text(485.8448275862069, 345.9272727272727, '[0. 0. 0. ... 0. 0. 0.] <= 0.266\\nentropy = 8.856\\nsamples = 1311\\nvalue = [0, 0, 0 ... 0, 0, 0]'),\n",
       " Text(481.03448275862075, 247.09090909090912, '[0. 0. 0. ... 0. 0. 0.] <= 0.144\\nentropy = 8.188\\nsamples = 669\\nvalue = [0, 0, 0 ... 0, 0, 0]'),\n",
       " Text(478.6293103448276, 148.25454545454545, '[0. 0. 0. ... 0. 0. 0.] <= 0.248\\nentropy = 7.846\\nsamples = 427\\nvalue = [0, 0, 0 ... 0, 0, 0]'),\n",
       " Text(477.42672413793105, 49.41818181818189, 'entropy = 7.024\\nsamples = 221\\nvalue = [0, 0, 0 ... 0, 0, 0]'),\n",
       " Text(479.8318965517242, 49.41818181818189, 'entropy = 7.021\\nsamples = 206\\nvalue = [0, 0, 0 ... 0, 0, 0]'),\n",
       " Text(483.43965517241384, 148.25454545454545, '[0. 0. 0. ... 0. 0. 0.] <= 0.306\\nentropy = 6.823\\nsamples = 242\\nvalue = [0, 0, 0 ... 0, 0, 0]'),\n",
       " Text(482.23706896551727, 49.41818181818189, 'entropy = 6.582\\nsamples = 183\\nvalue = [0, 0, 0 ... 0, 0, 0]'),\n",
       " Text(484.6422413793104, 49.41818181818189, 'entropy = 4.285\\nsamples = 59\\nvalue = [0, 0, 0 ... 0, 0, 0]'),\n",
       " Text(490.65517241379314, 247.09090909090912, '[0. 0. 0. ... 0. 0. 0.] <= 0.291\\nentropy = 8.196\\nsamples = 642\\nvalue = [0, 0, 0 ... 0, 0, 0]'),\n",
       " Text(488.25000000000006, 148.25454545454545, '[0. 0. 0. ... 0. 0. 0.] <= 0.281\\nentropy = 7.535\\nsamples = 320\\nvalue = [0, 0, 0 ... 0, 0, 0]'),\n",
       " Text(487.0474137931035, 49.41818181818189, 'entropy = 6.809\\nsamples = 184\\nvalue = [0, 0, 0 ... 0, 0, 0]'),\n",
       " Text(489.45258620689657, 49.41818181818189, 'entropy = 6.395\\nsamples = 136\\nvalue = [0, 0, 0 ... 0, 0, 0]'),\n",
       " Text(493.0603448275862, 148.25454545454545, '[0. 0. 0. ... 0. 0. 0.] <= 0.312\\nentropy = 7.243\\nsamples = 322\\nvalue = [0, 0, 0 ... 0, 0, 0]'),\n",
       " Text(491.8577586206897, 49.41818181818189, 'entropy = 6.612\\nsamples = 168\\nvalue = [0, 0, 0 ... 0, 0, 0]'),\n",
       " Text(494.2629310344828, 49.41818181818189, 'entropy = 5.994\\nsamples = 154\\nvalue = [0, 0, 0 ... 0, 0, 0]'),\n",
       " Text(505.08620689655174, 345.9272727272727, '[0. 0. 0. ... 0. 0. 0.] <= 0.4\\nentropy = 8.486\\nsamples = 865\\nvalue = [0, 0, 0 ... 0, 0, 0]'),\n",
       " Text(500.2758620689656, 247.09090909090912, '[0. 0. 0. ... 0. 0. 0.] <= 0.363\\nentropy = 7.723\\nsamples = 429\\nvalue = [0, 0, 0 ... 0, 0, 0]'),\n",
       " Text(497.87068965517244, 148.25454545454545, '[0. 0. 0. ... 0. 0. 0.] <= 0.347\\nentropy = 7.007\\nsamples = 256\\nvalue = [0, 0, 0 ... 0, 0, 0]'),\n",
       " Text(496.66810344827593, 49.41818181818189, 'entropy = 6.077\\nsamples = 131\\nvalue = [0, 0, 0 ... 0, 0, 0]'),\n",
       " Text(499.073275862069, 49.41818181818189, 'entropy = 6.216\\nsamples = 125\\nvalue = [0, 0, 0 ... 0, 0, 0]'),\n",
       " Text(502.68103448275866, 148.25454545454545, '[0. 0. 0. ... 0. 0. 0.] <= 0.371\\nentropy = 6.641\\nsamples = 173\\nvalue = [0, 0, 0 ... 0, 0, 0]'),\n",
       " Text(501.4784482758621, 49.41818181818189, 'entropy = 5.67\\nsamples = 87\\nvalue = [0, 0, 0 ... 0, 0, 0]'),\n",
       " Text(503.88362068965523, 49.41818181818189, 'entropy = 5.667\\nsamples = 86\\nvalue = [0, 0, 0 ... 0, 0, 0]'),\n",
       " Text(509.89655172413796, 247.09090909090912, '[0. 0. 0. ... 0. 0. 0.] <= 0.454\\nentropy = 7.674\\nsamples = 436\\nvalue = [0, 0, 0 ... 0, 0, 0]'),\n",
       " Text(507.4913793103449, 148.25454545454545, '[0. 0. 0. ... 0. 0. 0.] <= 0.435\\nentropy = 6.903\\nsamples = 239\\nvalue = [0, 0, 0 ... 0, 0, 0]'),\n",
       " Text(506.2887931034483, 49.41818181818189, 'entropy = 6.03\\nsamples = 136\\nvalue = [0, 0, 0 ... 0, 0, 0]'),\n",
       " Text(508.6939655172414, 49.41818181818189, 'entropy = 5.766\\nsamples = 103\\nvalue = [0, 0, 0 ... 0, 0, 0]'),\n",
       " Text(512.301724137931, 148.25454545454545, '[0. 0. 0. ... 0. 0. 0.] <= 0.822\\nentropy = 6.645\\nsamples = 197\\nvalue = [0, 0, 0 ... 0, 0, 0]'),\n",
       " Text(511.09913793103453, 49.41818181818189, 'entropy = 5.341\\nsamples = 65\\nvalue = [0, 0, 0 ... 0, 0, 0]'),\n",
       " Text(513.5043103448277, 49.41818181818189, 'entropy = 6.027\\nsamples = 132\\nvalue = [0, 0, 0 ... 0, 0, 0]'),\n",
       " Text(552.2877155172414, 543.6, '[0. 0. 0. ... 0. 0. 0.] <= 0.137\\nentropy = 7.713\\nsamples = 983\\nvalue = [0, 0, 0 ... 0, 0, 0]'),\n",
       " Text(533.948275862069, 444.76363636363635, '[0. 0. 0. ... 0. 0. 0.] <= 0.072\\nentropy = 7.608\\nsamples = 682\\nvalue = [0, 0, 0 ... 0, 0, 0]'),\n",
       " Text(524.3275862068966, 345.9272727272727, '[0. 0. 0. ... 0. 0. 0.] <= 0.353\\nentropy = 7.525\\nsamples = 491\\nvalue = [0, 0, 0 ... 0, 0, 0]'),\n",
       " Text(519.5172413793103, 247.09090909090912, '[0. 0. 0. ... 0. 0. 0.] <= 0.182\\nentropy = 6.902\\nsamples = 258\\nvalue = [0, 0, 0 ... 0, 0, 0]'),\n",
       " Text(517.1120689655173, 148.25454545454545, '[0. 0. 0. ... 0. 0. 0.] <= 0.287\\nentropy = 6.216\\nsamples = 141\\nvalue = [0, 0, 0 ... 0, 0, 0]'),\n",
       " Text(515.9094827586207, 49.41818181818189, 'entropy = 4.611\\nsamples = 57\\nvalue = [0, 0, 0 ... 0, 0, 0]'),\n",
       " Text(518.3146551724138, 49.41818181818189, 'entropy = 5.889\\nsamples = 84\\nvalue = [0, 0, 0 ... 0, 0, 0]'),\n",
       " Text(521.9224137931035, 148.25454545454545, '[0. 0. 0. ... 0. 0. 0.] <= 0.109\\nentropy = 6.004\\nsamples = 117\\nvalue = [0, 0, 0 ... 0, 0, 0]'),\n",
       " Text(520.719827586207, 49.41818181818189, 'entropy = 5.521\\nsamples = 86\\nvalue = [0, 0, 0 ... 0, 0, 0]'),\n",
       " Text(523.125, 49.41818181818189, 'entropy = 4.374\\nsamples = 31\\nvalue = [0, 0, 0 ... 0, 0, 0]'),\n",
       " Text(529.1379310344828, 247.09090909090912, '[0. 0. 0. ... 0. 0. 0.] <= 0.419\\nentropy = 6.67\\nsamples = 233\\nvalue = [0, 0, 0 ... 0, 0, 0]'),\n",
       " Text(526.7327586206897, 148.25454545454545, '[0. 0. 0. ... 0. 0. 0.] <= 0.192\\nentropy = 6.153\\nsamples = 109\\nvalue = [0, 0, 0 ... 0, 0, 0]'),\n",
       " Text(525.5301724137931, 49.41818181818189, 'entropy = 5.281\\nsamples = 55\\nvalue = [0, 0, 0 ... 0, 0, 0]'),\n",
       " Text(527.9353448275863, 49.41818181818189, 'entropy = 5.343\\nsamples = 54\\nvalue = [0, 0, 0 ... 0, 0, 0]'),\n",
       " Text(531.5431034482759, 148.25454545454545, '[0. 0. 0. ... 0. 0. 0.] <= 0.489\\nentropy = 5.713\\nsamples = 124\\nvalue = [0, 0, 0 ... 0, 0, 0]'),\n",
       " Text(530.3405172413793, 49.41818181818189, 'entropy = 5.228\\nsamples = 69\\nvalue = [0, 0, 0 ... 0, 0, 0]'),\n",
       " Text(532.7456896551724, 49.41818181818189, 'entropy = 4.376\\nsamples = 55\\nvalue = [0, 0, 0 ... 0, 0, 0]'),\n",
       " Text(543.5689655172414, 345.9272727272727, '[0. 0. 0. ... 0. 0. 0.] <= 0.1\\nentropy = 5.35\\nsamples = 191\\nvalue = [0, 0, 0 ... 0, 0, 0]'),\n",
       " Text(538.7586206896552, 247.09090909090912, '[0. 0. 0. ... 0. 0. 0.] <= 0.079\\nentropy = 5.375\\nsamples = 100\\nvalue = [0, 0, 0 ... 0, 0, 0]'),\n",
       " Text(536.3534482758621, 148.25454545454545, '[0. 0. 0. ... 0. 0. 0.] <= 0.183\\nentropy = 5.069\\nsamples = 58\\nvalue = [0, 0, 0 ... 0, 0, 0]'),\n",
       " Text(535.1508620689656, 49.41818181818189, 'entropy = 3.613\\nsamples = 26\\nvalue = [0, 0, 0 ... 0, 0, 0]'),\n",
       " Text(537.5560344827587, 49.41818181818189, 'entropy = 4.453\\nsamples = 32\\nvalue = [0, 0, 0 ... 0, 0, 0]'),\n",
       " Text(541.1637931034484, 148.25454545454545, '[0. 0. 0. ... 0. 0. 0.] <= 0.056\\nentropy = 3.526\\nsamples = 42\\nvalue = [0, 0, 0 ... 0, 0, 0]'),\n",
       " Text(539.9612068965517, 49.41818181818189, 'entropy = 3.497\\nsamples = 31\\nvalue = [0, 0, 0 ... 0, 0, 0]'),\n",
       " Text(542.3663793103449, 49.41818181818189, 'entropy = 0.866\\nsamples = 11\\nvalue = [0, 0, 0 ... 0, 0, 0]'),\n",
       " Text(548.3793103448277, 247.09090909090912, '[0. 0. 0. ... 0. 0. 0.] <= 0.293\\nentropy = 3.276\\nsamples = 91\\nvalue = [0, 0, 0 ... 0, 0, 0]'),\n",
       " Text(545.9741379310345, 148.25454545454545, '[0. 0. 0. ... 0. 0. 0.] <= 0.283\\nentropy = 3.428\\nsamples = 56\\nvalue = [0, 0, 0 ... 0, 0, 0]'),\n",
       " Text(544.771551724138, 49.41818181818189, 'entropy = 3.476\\nsamples = 41\\nvalue = [0, 0, 0 ... 0, 0, 0]'),\n",
       " Text(547.176724137931, 49.41818181818189, 'entropy = 0.722\\nsamples = 15\\nvalue = [0, 0, 0 ... 0, 0, 0]'),\n",
       " Text(550.7844827586207, 148.25454545454545, '[0. 0. 0. ... 0. 0. 0.] <= 0.134\\nentropy = 0.73\\nsamples = 35\\nvalue = [0, 0, 0 ... 0, 0, 0]'),\n",
       " Text(549.5818965517242, 49.41818181818189, 'entropy = 1.5\\nsamples = 4\\nvalue = [0, 0, 0 ... 0, 0, 0]'),\n",
       " Text(551.9870689655173, 49.41818181818189, 'entropy = 0.345\\nsamples = 31\\nvalue = [0, 0, 0 ... 0, 0, 0]'),\n",
       " Text(570.6271551724138, 444.76363636363635, '[0. 0. 0. ... 0. 0. 0.] <= 0.22\\nentropy = 5.093\\nsamples = 301\\nvalue = [0, 0, 0 ... 0, 0, 0]'),\n",
       " Text(562.8103448275863, 345.9272727272727, '[0. 0. 0. ... 0. 0. 0.] <= 0.296\\nentropy = 5.003\\nsamples = 262\\nvalue = [0, 0, 0 ... 0, 0, 0]'),\n",
       " Text(558.0, 247.09090909090912, '[0. 0. 0. ... 0. 0. 0.] <= 0.162\\nentropy = 3.789\\nsamples = 47\\nvalue = [0, 0, 0 ... 0, 0, 0]'),\n",
       " Text(555.594827586207, 148.25454545454545, '[0. 0. 0. ... 0. 0. 0.] <= 0.291\\nentropy = 3.461\\nsamples = 33\\nvalue = [0, 0, 0 ... 0, 0, 0]'),\n",
       " Text(554.3922413793103, 49.41818181818189, 'entropy = 3.262\\nsamples = 23\\nvalue = [0, 0, 0 ... 0, 0, 0]'),\n",
       " Text(556.7974137931035, 49.41818181818189, 'entropy = 1.0\\nsamples = 10\\nvalue = [0, 0, 0 ... 0, 0, 0]'),\n",
       " Text(560.4051724137931, 148.25454545454545, '[0. 0. 0. ... 0. 0. 0.] <= 0.412\\nentropy = 1.807\\nsamples = 14\\nvalue = [0, 0, 0 ... 0, 0, 0]'),\n",
       " Text(559.2025862068966, 49.41818181818189, 'entropy = 1.0\\nsamples = 2\\nvalue = [0, 0, 0 ... 0, 0, 0]'),\n",
       " Text(561.6077586206897, 49.41818181818189, 'entropy = 1.418\\nsamples = 12\\nvalue = [0, 0, 0 ... 0, 0, 0]'),\n",
       " Text(567.6206896551724, 247.09090909090912, '[0. 0. 0. ... 0. 0. 0.] <= 0.359\\nentropy = 4.89\\nsamples = 215\\nvalue = [0, 0, 0 ... 0, 0, 0]'),\n",
       " Text(565.2155172413793, 148.25454545454545, '[0. 0. 0. ... 0. 0. 0.] <= 0.282\\nentropy = 4.592\\nsamples = 90\\nvalue = [0, 0, 0 ... 0, 0, 0]'),\n",
       " Text(564.0129310344828, 49.41818181818189, 'entropy = 4.417\\nsamples = 56\\nvalue = [0, 0, 0 ... 0, 0, 0]'),\n",
       " Text(566.4181034482759, 49.41818181818189, 'entropy = 3.463\\nsamples = 34\\nvalue = [0, 0, 0 ... 0, 0, 0]'),\n",
       " Text(570.0258620689656, 148.25454545454545, '[0. 0. 0. ... 0. 0. 0.] <= 0.412\\nentropy = 4.681\\nsamples = 125\\nvalue = [0, 0, 0 ... 0, 0, 0]'),\n",
       " Text(568.8232758620691, 49.41818181818189, 'entropy = 3.7\\nsamples = 52\\nvalue = [0, 0, 0 ... 0, 0, 0]'),\n",
       " Text(571.2284482758621, 49.41818181818189, 'entropy = 4.831\\nsamples = 73\\nvalue = [0, 0, 0 ... 0, 0, 0]'),\n",
       " Text(578.4439655172414, 345.9272727272727, '[0. 0. 0. ... 0. 0. 0.] <= 0.486\\nentropy = 1.81\\nsamples = 39\\nvalue = [0, 0, 0 ... 0, 0, 0]'),\n",
       " Text(576.0387931034484, 247.09090909090912, '[0. 0. 0. ... 0. 0. 0.] <= 0.482\\nentropy = 1.199\\nsamples = 29\\nvalue = [0, 0, 0 ... 0, 0, 0]'),\n",
       " Text(574.8362068965517, 148.25454545454545, '[0. 0. 0. ... 0. 0. 0.] <= 0.128\\nentropy = 2.059\\nsamples = 9\\nvalue = [0, 0, 0 ... 0, 0, 0]'),\n",
       " Text(573.6336206896552, 49.41818181818189, 'entropy = 1.922\\nsamples = 5\\nvalue = [0, 0, 0 ... 0, 0, 0]'),\n",
       " Text(576.0387931034484, 49.41818181818189, 'entropy = 0.0\\nsamples = 4\\nvalue = [0, 0, 0 ... 0, 0, 0]'),\n",
       " Text(577.2413793103449, 148.25454545454545, 'entropy = 0.0\\nsamples = 20\\nvalue = [0, 0, 0 ... 0, 0, 0]'),\n",
       " Text(580.8491379310345, 247.09090909090912, '[0. 0. 0. ... 0. 0. 0.] <= 0.628\\nentropy = 1.846\\nsamples = 10\\nvalue = [0, 0, 0 ... 0, 0, 0]'),\n",
       " Text(579.646551724138, 148.25454545454545, '[0. 0. 0. ... 0. 0. 0.] <= 0.376\\nentropy = 1.842\\nsamples = 7\\nvalue = [0, 0, 0 ... 0, 0, 0]'),\n",
       " Text(578.4439655172414, 49.41818181818189, 'entropy = 1.0\\nsamples = 2\\nvalue = [0, 0, 0 ... 0, 0, 0]'),\n",
       " Text(580.8491379310345, 49.41818181818189, 'entropy = 1.922\\nsamples = 5\\nvalue = [0, 0, 0 ... 0, 0, 0]'),\n",
       " Text(582.051724137931, 148.25454545454545, 'entropy = 0.0\\nsamples = 3\\nvalue = [0, 0, 0 ... 0, 0, 0]'),\n",
       " Text(780.4408674568966, 840.1090909090909, '[0. 0. 0. ... 0. 0. 0.] <= 0.097\\nentropy = 7.941\\nsamples = 11494\\nvalue = [0, 1, 0 ... 0, 0, 0]'),\n",
       " Text(684.6849407327587, 741.2727272727273, '[0. 0. 0. ... 0. 0. 0.] <= 0.03\\nentropy = 6.434\\nsamples = 2565\\nvalue = [0, 0, 0 ... 0, 0, 0]'),\n",
       " Text(640.5274784482759, 642.4363636363637, '[0. 0. 0. ... 0. 0. 0.] <= 0.19\\nentropy = 5.67\\nsamples = 1017\\nvalue = [0, 0, 0 ... 0, 0, 0]'),\n",
       " Text(619.6325431034484, 543.6, '[0. 0. 0. ... 0. 0. 0.] <= 0.225\\nentropy = 5.99\\nsamples = 751\\nvalue = [0, 0, 0 ... 0, 0, 0]'),\n",
       " Text(601.2931034482759, 444.76363636363635, '[0. 0. 0. ... 0. 0. 0.] <= 0.071\\nentropy = 6.238\\nsamples = 395\\nvalue = [0, 0, 0 ... 0, 0, 0]'),\n",
       " Text(591.6724137931035, 345.9272727272727, '[0. 0. 0. ... 0. 0. 0.] <= 0.326\\nentropy = 5.925\\nsamples = 300\\nvalue = [0, 0, 0 ... 0, 0, 0]'),\n",
       " Text(586.8620689655173, 247.09090909090912, '[0. 0. 0. ... 0. 0. 0.] <= 0.236\\nentropy = 4.941\\nsamples = 137\\nvalue = [0, 0, 0 ... 0, 0, 0]'),\n",
       " Text(584.4568965517242, 148.25454545454545, '[0. 0. 0. ... 0. 0. 0.] <= 0.199\\nentropy = 4.47\\nsamples = 50\\nvalue = [0, 0, 0 ... 0, 0, 0]'),\n",
       " Text(583.2543103448277, 49.41818181818189, 'entropy = 3.684\\nsamples = 20\\nvalue = [0, 0, 0 ... 0, 0, 0]'),\n",
       " Text(585.6594827586207, 49.41818181818189, 'entropy = 3.514\\nsamples = 30\\nvalue = [0, 0, 0 ... 0, 0, 0]'),\n",
       " Text(589.2672413793103, 148.25454545454545, '[0. 0. 0. ... 0. 0. 0.] <= 0.185\\nentropy = 3.884\\nsamples = 87\\nvalue = [0, 0, 0 ... 0, 0, 0]'),\n",
       " Text(588.0646551724138, 49.41818181818189, 'entropy = 4.44\\nsamples = 60\\nvalue = [0, 0, 0 ... 0, 0, 0]'),\n",
       " Text(590.469827586207, 49.41818181818189, 'entropy = 0.0\\nsamples = 27\\nvalue = [0, 0, 0 ... 0, 0, 0]'),\n",
       " Text(596.4827586206897, 247.09090909090912, '[0. 0. 0. ... 0. 0. 0.] <= 0.238\\nentropy = 5.613\\nsamples = 163\\nvalue = [0, 0, 0 ... 0, 0, 0]'),\n",
       " Text(594.0775862068966, 148.25454545454545, '[0. 0. 0. ... 0. 0. 0.] <= 0.282\\nentropy = 5.221\\nsamples = 128\\nvalue = [0, 0, 0 ... 0, 0, 0]'),\n",
       " Text(592.875, 49.41818181818189, 'entropy = 4.338\\nsamples = 64\\nvalue = [0, 0, 0 ... 0, 0, 0]'),\n",
       " Text(595.2801724137931, 49.41818181818189, 'entropy = 4.849\\nsamples = 64\\nvalue = [0, 0, 0 ... 0, 0, 0]'),\n",
       " Text(598.8879310344828, 148.25454545454545, '[0. 0. 0. ... 0. 0. 0.] <= 0.156\\nentropy = 4.093\\nsamples = 35\\nvalue = [0, 0, 0 ... 0, 0, 0]'),\n",
       " Text(597.6853448275863, 49.41818181818189, 'entropy = 3.392\\nsamples = 18\\nvalue = [0, 0, 0 ... 0, 0, 0]'),\n",
       " Text(600.0905172413794, 49.41818181818189, 'entropy = 2.778\\nsamples = 17\\nvalue = [0, 0, 0 ... 0, 0, 0]'),\n",
       " Text(610.9137931034484, 345.9272727272727, '[0. 0. 0. ... 0. 0. 0.] <= 0.047\\nentropy = 4.693\\nsamples = 95\\nvalue = [0, 0, 0 ... 0, 0, 0]'),\n",
       " Text(606.1034482758621, 247.09090909090912, '[0. 0. 0. ... 0. 0. 0.] <= 0.399\\nentropy = 4.038\\nsamples = 72\\nvalue = [0, 0, 0 ... 0, 0, 0]'),\n",
       " Text(603.6982758620691, 148.25454545454545, '[0. 0. 0. ... 0. 0. 0.] <= 0.258\\nentropy = 4.123\\nsamples = 52\\nvalue = [0, 0, 0 ... 0, 0, 0]'),\n",
       " Text(602.4956896551724, 49.41818181818189, 'entropy = 3.197\\nsamples = 27\\nvalue = [0, 0, 0 ... 0, 0, 0]'),\n",
       " Text(604.9008620689656, 49.41818181818189, 'entropy = 3.379\\nsamples = 25\\nvalue = [0, 0, 0 ... 0, 0, 0]'),\n",
       " Text(608.5086206896552, 148.25454545454545, '[0. 0. 0. ... 0. 0. 0.] <= 0.128\\nentropy = 0.748\\nsamples = 20\\nvalue = [0, 0, 0 ... 0, 0, 0]'),\n",
       " Text(607.3060344827587, 49.41818181818189, 'entropy = 0.918\\nsamples = 3\\nvalue = [0, 0, 0 ... 0, 0, 0]'),\n",
       " Text(609.7112068965517, 49.41818181818189, 'entropy = 0.323\\nsamples = 17\\nvalue = [0, 0, 0 ... 0, 0, 0]'),\n",
       " Text(615.7241379310345, 247.09090909090912, '[0. 0. 0. ... 0. 0. 0.] <= 0.15\\nentropy = 3.534\\nsamples = 23\\nvalue = [0, 0, 0 ... 0, 0, 0]'),\n",
       " Text(613.3189655172414, 148.25454545454545, '[0. 0. 0. ... 0. 0. 0.] <= 0.134\\nentropy = 2.918\\nsamples = 12\\nvalue = [0, 0, 0 ... 0, 0, 0]'),\n",
       " Text(612.1163793103449, 49.41818181818189, 'entropy = 2.585\\nsamples = 6\\nvalue = [0, 0, 0 ... 0, 0, 0]'),\n",
       " Text(614.521551724138, 49.41818181818189, 'entropy = 1.252\\nsamples = 6\\nvalue = [0, 0, 0 ... 0, 0, 0]'),\n",
       " Text(618.1293103448277, 148.25454545454545, '[0. 0. 0. ... 0. 0. 0.] <= 0.16\\nentropy = 2.118\\nsamples = 11\\nvalue = [0, 0, 0 ... 0, 0, 0]'),\n",
       " Text(616.926724137931, 49.41818181818189, 'entropy = 1.0\\nsamples = 2\\nvalue = [0, 0, 0 ... 0, 0, 0]'),\n",
       " Text(619.3318965517242, 49.41818181818189, 'entropy = 1.53\\nsamples = 9\\nvalue = [0, 0, 0 ... 0, 0, 0]'),\n",
       " Text(637.9719827586207, 444.76363636363635, '[0. 0. 0. ... 0. 0. 0.] <= 0.126\\nentropy = 4.319\\nsamples = 356\\nvalue = [0, 0, 0 ... 0, 0, 0]'),\n",
       " Text(630.1551724137931, 345.9272727272727, '[0. 0. 0. ... 0. 0. 0.] <= 0.171\\nentropy = 4.932\\nsamples = 232\\nvalue = [0, 0, 0 ... 0, 0, 0]'),\n",
       " Text(625.344827586207, 247.09090909090912, '[0. 0. 0. ... 0. 0. 0.] <= 0.138\\nentropy = 4.254\\nsamples = 161\\nvalue = [0, 0, 0 ... 0, 0, 0]'),\n",
       " Text(622.9396551724138, 148.25454545454545, '[0. 0. 0. ... 0. 0. 0.] <= 0.153\\nentropy = 3.388\\nsamples = 112\\nvalue = [0, 0, 0 ... 0, 0, 0]'),\n",
       " Text(621.7370689655173, 49.41818181818189, 'entropy = 4.152\\nsamples = 65\\nvalue = [0, 0, 0 ... 0, 0, 0]'),\n",
       " Text(624.1422413793103, 49.41818181818189, 'entropy = 0.505\\nsamples = 47\\nvalue = [0, 0, 0 ... 0, 0, 0]'),\n",
       " Text(627.75, 148.25454545454545, '[0. 0. 0. ... 0. 0. 0.] <= 0.101\\nentropy = 3.723\\nsamples = 49\\nvalue = [0, 0, 0 ... 0, 0, 0]'),\n",
       " Text(626.5474137931035, 49.41818181818189, 'entropy = 3.331\\nsamples = 30\\nvalue = [0, 0, 0 ... 0, 0, 0]'),\n",
       " Text(628.9525862068966, 49.41818181818189, 'entropy = 2.36\\nsamples = 19\\nvalue = [0, 0, 0 ... 0, 0, 0]'),\n",
       " Text(634.9655172413794, 247.09090909090912, '[0. 0. 0. ... 0. 0. 0.] <= 0.108\\nentropy = 4.26\\nsamples = 71\\nvalue = [0, 0, 0 ... 0, 0, 0]'),\n",
       " Text(632.5603448275863, 148.25454545454545, '[0. 0. 0. ... 0. 0. 0.] <= 0.189\\nentropy = 4.236\\nsamples = 43\\nvalue = [0, 0, 0 ... 0, 0, 0]'),\n",
       " Text(631.3577586206897, 49.41818181818189, 'entropy = 2.522\\nsamples = 16\\nvalue = [0, 0, 0 ... 0, 0, 0]'),\n",
       " Text(633.7629310344828, 49.41818181818189, 'entropy = 3.736\\nsamples = 27\\nvalue = [0, 0, 0 ... 0, 0, 0]'),\n",
       " Text(637.3706896551724, 148.25454545454545, '[0. 0. 0. ... 0. 0. 0.] <= 0.322\\nentropy = 1.986\\nsamples = 28\\nvalue = [0, 0, 0 ... 0, 0, 0]'),\n",
       " Text(636.1681034482759, 49.41818181818189, 'entropy = 1.516\\nsamples = 18\\nvalue = [0, 0, 0 ... 0, 0, 0]'),\n",
       " Text(638.5732758620691, 49.41818181818189, 'entropy = 1.685\\nsamples = 10\\nvalue = [0, 0, 0 ... 0, 0, 0]'),\n",
       " Text(645.7887931034484, 345.9272727272727, '[0. 0. 0. ... 0. 0. 0.] <= 0.189\\nentropy = 0.789\\nsamples = 124\\nvalue = [0, 0, 0 ... 0, 0, 0]'),\n",
       " Text(644.5862068965517, 247.09090909090912, '[0. 0. 0. ... 0. 0. 0.] <= 0.184\\nentropy = 0.665\\nsamples = 122\\nvalue = [0, 0, 0 ... 0, 0, 0]'),\n",
       " Text(642.1810344827587, 148.25454545454545, '[0. 0. 0. ... 0. 0. 0.] <= 0.187\\nentropy = 0.519\\nsamples = 73\\nvalue = [0, 0, 0 ... 0, 0, 0]'),\n",
       " Text(640.9784482758621, 49.41818181818189, 'entropy = 0.343\\nsamples = 65\\nvalue = [0, 0, 0 ... 0, 0, 0]'),\n",
       " Text(643.3836206896552, 49.41818181818189, 'entropy = 1.061\\nsamples = 8\\nvalue = [0, 0, 0 ... 0, 0, 0]'),\n",
       " Text(646.9913793103449, 148.25454545454545, '[0. 0. 0. ... 0. 0. 0.] <= 0.34\\nentropy = 0.672\\nsamples = 49\\nvalue = [0, 0, 0 ... 0, 0, 0]'),\n",
       " Text(645.7887931034484, 49.41818181818189, 'entropy = 0.986\\nsamples = 9\\nvalue = [0, 0, 0 ... 0, 0, 0]'),\n",
       " Text(648.1939655172414, 49.41818181818189, 'entropy = 0.453\\nsamples = 40\\nvalue = [0, 0, 0 ... 0, 0, 0]'),\n",
       " Text(646.9913793103449, 247.09090909090912, 'entropy = 1.0\\nsamples = 2\\nvalue = [0, 0, 0 ... 0, 0, 0]'),\n",
       " Text(661.4224137931035, 543.6, '[0. 0. 0. ... 0. 0. 0.] <= 0.116\\nentropy = 1.818\\nsamples = 266\\nvalue = [0, 0, 0 ... 0, 0, 0]'),\n",
       " Text(653.6056034482759, 444.76363636363635, '[0. 0. 0. ... 0. 0. 0.] <= 0.073\\nentropy = 2.075\\nsamples = 42\\nvalue = [0, 0, 0 ... 0, 0, 0]'),\n",
       " Text(650.5991379310345, 345.9272727272727, '[0. 0. 0. ... 0. 0. 0.] <= 0.171\\nentropy = 1.792\\nsamples = 6\\nvalue = [0, 0, 0 ... 0, 0, 0]'),\n",
       " Text(649.396551724138, 247.09090909090912, 'entropy = 1.585\\nsamples = 3\\nvalue = [0, 0, 0 ... 0, 0, 0]'),\n",
       " Text(651.801724137931, 247.09090909090912, 'entropy = 0.0\\nsamples = 3\\nvalue = [0, 0, 0 ... 0, 0, 0]'),\n",
       " Text(656.6120689655173, 345.9272727272727, '[0. 0. 0. ... 0. 0. 0.] <= 0.161\\nentropy = 1.432\\nsamples = 36\\nvalue = [0, 0, 0 ... 0, 0, 0]'),\n",
       " Text(654.2068965517242, 247.09090909090912, '[0. 0. 0. ... 0. 0. 0.] <= 0.373\\nentropy = 0.863\\nsamples = 7\\nvalue = [0, 0, 0 ... 0, 0, 0]'),\n",
       " Text(653.0043103448277, 148.25454545454545, 'entropy = 0.0\\nsamples = 3\\nvalue = [0, 0, 0 ... 0, 0, 0]'),\n",
       " Text(655.4094827586207, 148.25454545454545, 'entropy = 1.0\\nsamples = 4\\nvalue = [0, 0, 0 ... 0, 0, 0]'),\n",
       " Text(659.0172413793103, 247.09090909090912, '[0. 0. 0. ... 0. 0. 0.] <= 0.268\\nentropy = 1.286\\nsamples = 29\\nvalue = [0, 0, 0 ... 0, 0, 0]'),\n",
       " Text(657.8146551724138, 148.25454545454545, '[0. 0. 0. ... 0. 0. 0.] <= 0.239\\nentropy = 1.159\\nsamples = 25\\nvalue = [0, 0, 0 ... 0, 0, 0]'),\n",
       " Text(656.6120689655173, 49.41818181818189, 'entropy = 1.192\\nsamples = 23\\nvalue = [0, 0, 0 ... 0, 0, 0]'),\n",
       " Text(659.0172413793103, 49.41818181818189, 'entropy = 0.0\\nsamples = 2\\nvalue = [0, 0, 0 ... 0, 0, 0]'),\n",
       " Text(660.219827586207, 148.25454545454545, 'entropy = 0.811\\nsamples = 4\\nvalue = [0, 0, 0 ... 0, 0, 0]'),\n",
       " Text(669.239224137931, 444.76363636363635, '[0. 0. 0. ... 0. 0. 0.] <= 0.409\\nentropy = 1.061\\nsamples = 224\\nvalue = [0, 0, 0 ... 0, 0, 0]'),\n",
       " Text(666.2327586206898, 345.9272727272727, '[0. 0. 0. ... 0. 0. 0.] <= 0.279\\nentropy = 0.978\\nsamples = 199\\nvalue = [0, 0, 0 ... 0, 0, 0]'),\n",
       " Text(663.8275862068966, 247.09090909090912, '[0. 0. 0. ... 0. 0. 0.] <= 0.28\\nentropy = 0.961\\nsamples = 177\\nvalue = [0, 0, 0 ... 0, 0, 0]'),\n",
       " Text(662.625, 148.25454545454545, '[0. 0. 0. ... 0. 0. 0.] <= 0.159\\nentropy = 0.948\\nsamples = 172\\nvalue = [0, 0, 0 ... 0, 0, 0]'),\n",
       " Text(661.4224137931035, 49.41818181818189, 'entropy = 0.961\\nsamples = 164\\nvalue = [0, 0, 0 ... 0, 0, 0]'),\n",
       " Text(663.8275862068966, 49.41818181818189, 'entropy = 0.0\\nsamples = 8\\nvalue = [0, 0, 0 ... 0, 0, 0]'),\n",
       " Text(665.0301724137931, 148.25454545454545, 'entropy = 0.0\\nsamples = 5\\nvalue = [0, 0, 0 ... 0, 0, 0]'),\n",
       " Text(668.6379310344828, 247.09090909090912, '[0. 0. 0. ... 0. 0. 0.] <= 0.233\\nentropy = 0.7\\nsamples = 22\\nvalue = [0, 0, 0 ... 0, 0, 0]'),\n",
       " Text(667.4353448275863, 148.25454545454545, 'entropy = 0.918\\nsamples = 3\\nvalue = [0, 0, 0 ... 0, 0, 0]'),\n",
       " Text(669.8405172413794, 148.25454545454545, '[0. 0. 0. ... 0. 0. 0.] <= 0.262\\nentropy = 0.485\\nsamples = 19\\nvalue = [0, 0, 0 ... 0, 0, 0]'),\n",
       " Text(668.6379310344828, 49.41818181818189, 'entropy = 0.0\\nsamples = 8\\nvalue = [0, 0, 0 ... 0, 0, 0]'),\n",
       " Text(671.0431034482759, 49.41818181818189, 'entropy = 0.684\\nsamples = 11\\nvalue = [0, 0, 0 ... 0, 0, 0]'),\n",
       " Text(672.2456896551724, 345.9272727272727, '[0. 0. 0. ... 0. 0. 0.] <= 0.413\\nentropy = 1.242\\nsamples = 25\\nvalue = [0, 0, 0 ... 0, 0, 0]'),\n",
       " Text(671.0431034482759, 247.09090909090912, 'entropy = 1.0\\nsamples = 2\\nvalue = [0, 0, 0 ... 0, 0, 0]'),\n",
       " Text(673.4482758620691, 247.09090909090912, '[0. 0. 0. ... 0. 0. 0.] <= 0.333\\nentropy = 1.068\\nsamples = 23\\nvalue = [0, 0, 0 ... 0, 0, 0]'),\n",
       " Text(672.2456896551724, 148.25454545454545, 'entropy = 0.866\\nsamples = 11\\nvalue = [0, 0, 0 ... 0, 0, 0]'),\n",
       " Text(674.6508620689656, 148.25454545454545, 'entropy = 1.189\\nsamples = 12\\nvalue = [0, 0, 0 ... 0, 0, 0]'),\n",
       " Text(728.8424030172414, 642.4363636363637, '[0. 0. 0. ... 0. 0. 0.] <= 0.174\\nentropy = 5.631\\nsamples = 1548\\nvalue = [0, 0, 0 ... 0, 0, 0]'),\n",
       " Text(704.8658405172414, 543.6, '[0. 0. 0. ... 0. 0. 0.] <= 0.051\\nentropy = 5.439\\nsamples = 1284\\nvalue = [0, 0, 0 ... 0, 0, 0]'),\n",
       " Text(690.5851293103449, 444.76363636363635, '[0. 0. 0. ... 0. 0. 0.] <= 0.196\\nentropy = 5.556\\nsamples = 1106\\nvalue = [0, 0, 0 ... 0, 0, 0]'),\n",
       " Text(682.4676724137931, 345.9272727272727, '[0. 0. 0. ... 0. 0. 0.] <= 0.301\\nentropy = 4.454\\nsamples = 619\\nvalue = [0, 0, 0 ... 0, 0, 0]'),\n",
       " Text(679.4612068965517, 247.09090909090912, '[0. 0. 0. ... 0. 0. 0.] <= 0.188\\nentropy = 4.421\\nsamples = 544\\nvalue = [0, 0, 0 ... 0, 0, 0]'),\n",
       " Text(677.0560344827587, 148.25454545454545, '[0. 0. 0. ... 0. 0. 0.] <= 0.266\\nentropy = 4.209\\nsamples = 468\\nvalue = [0, 0, 0 ... 0, 0, 0]'),\n",
       " Text(675.8534482758621, 49.41818181818189, 'entropy = 4.156\\nsamples = 403\\nvalue = [0, 0, 0 ... 0, 0, 0]'),\n",
       " Text(678.2586206896552, 49.41818181818189, 'entropy = 0.426\\nsamples = 65\\nvalue = [0, 0, 0 ... 0, 0, 0]'),\n",
       " Text(681.8663793103449, 148.25454545454545, '[0. 0. 0. ... 0. 0. 0.] <= 0.684\\nentropy = 1.708\\nsamples = 76\\nvalue = [0, 0, 0 ... 0, 0, 0]'),\n",
       " Text(680.6637931034484, 49.41818181818189, 'entropy = 1.555\\nsamples = 30\\nvalue = [0, 0, 0 ... 0, 0, 0]'),\n",
       " Text(683.0689655172414, 49.41818181818189, 'entropy = 1.287\\nsamples = 46\\nvalue = [0, 0, 0 ... 0, 0, 0]'),\n",
       " Text(685.4741379310345, 247.09090909090912, '[0. 0. 0. ... 0. 0. 0.] <= 0.155\\nentropy = 0.3\\nsamples = 75\\nvalue = [0, 0, 0 ... 0, 0, 0]'),\n",
       " Text(684.271551724138, 148.25454545454545, 'entropy = 0.0\\nsamples = 60\\nvalue = [0, 0, 0 ... 0, 0, 0]'),\n",
       " Text(686.676724137931, 148.25454545454545, '[0. 0. 0. ... 0. 0. 0.] <= 0.129\\nentropy = 0.837\\nsamples = 15\\nvalue = [0, 0, 0 ... 0, 0, 0]'),\n",
       " Text(685.4741379310345, 49.41818181818189, 'entropy = 0.971\\nsamples = 10\\nvalue = [0, 0, 0 ... 0, 0, 0]'),\n",
       " Text(687.8793103448277, 49.41818181818189, 'entropy = 0.0\\nsamples = 5\\nvalue = [0, 0, 0 ... 0, 0, 0]'),\n",
       " Text(698.7025862068966, 345.9272727272727, '[0. 0. 0. ... 0. 0. 0.] <= 0.345\\nentropy = 5.835\\nsamples = 487\\nvalue = [0, 0, 0 ... 0, 0, 0]'),\n",
       " Text(693.8922413793103, 247.09090909090912, '[0. 0. 0. ... 0. 0. 0.] <= 0.114\\nentropy = 5.22\\nsamples = 184\\nvalue = [0, 0, 0 ... 0, 0, 0]'),\n",
       " Text(691.4870689655173, 148.25454545454545, '[0. 0. 0. ... 0. 0. 0.] <= 0.234\\nentropy = 4.824\\nsamples = 130\\nvalue = [0, 0, 0 ... 0, 0, 0]'),\n",
       " Text(690.2844827586207, 49.41818181818189, 'entropy = 4.561\\nsamples = 104\\nvalue = [0, 0, 0 ... 0, 0, 0]'),\n",
       " Text(692.6896551724138, 49.41818181818189, 'entropy = 2.343\\nsamples = 26\\nvalue = [0, 0, 0 ... 0, 0, 0]'),\n",
       " Text(696.2974137931035, 148.25454545454545, '[0. 0. 0. ... 0. 0. 0.] <= 0.203\\nentropy = 4.078\\nsamples = 54\\nvalue = [0, 0, 0 ... 0, 0, 0]'),\n",
       " Text(695.094827586207, 49.41818181818189, 'entropy = 3.625\\nsamples = 41\\nvalue = [0, 0, 0 ... 0, 0, 0]'),\n",
       " Text(697.5000000000001, 49.41818181818189, 'entropy = 2.624\\nsamples = 13\\nvalue = [0, 0, 0 ... 0, 0, 0]'),\n",
       " Text(703.5129310344828, 247.09090909090912, '[0. 0. 0. ... 0. 0. 0.] <= 0.462\\nentropy = 5.613\\nsamples = 303\\nvalue = [0, 0, 0 ... 0, 0, 0]'),\n",
       " Text(701.1077586206898, 148.25454545454545, '[0. 0. 0. ... 0. 0. 0.] <= 0.212\\nentropy = 5.339\\nsamples = 171\\nvalue = [0, 0, 0 ... 0, 0, 0]'),\n",
       " Text(699.9051724137931, 49.41818181818189, 'entropy = 5.073\\nsamples = 136\\nvalue = [0, 0, 0 ... 0, 0, 0]'),\n",
       " Text(702.3103448275863, 49.41818181818189, 'entropy = 3.757\\nsamples = 35\\nvalue = [0, 0, 0 ... 0, 0, 0]'),\n",
       " Text(705.9181034482759, 148.25454545454545, '[0. 0. 0. ... 0. 0. 0.] <= 0.256\\nentropy = 5.181\\nsamples = 132\\nvalue = [0, 0, 0 ... 0, 0, 0]'),\n",
       " Text(704.7155172413794, 49.41818181818189, 'entropy = 4.394\\nsamples = 40\\nvalue = [0, 0, 0 ... 0, 0, 0]'),\n",
       " Text(707.1206896551724, 49.41818181818189, 'entropy = 4.772\\nsamples = 92\\nvalue = [0, 0, 0 ... 0, 0, 0]'),\n",
       " Text(719.146551724138, 444.76363636363635, '[0. 0. 0. ... 0. 0. 0.] <= 0.122\\nentropy = 0.629\\nsamples = 178\\nvalue = [0, 0, 0 ... 0, 0, 0]'),\n",
       " Text(717.9439655172414, 345.9272727272727, '[0. 0. 0. ... 0. 0. 0.] <= 0.116\\nentropy = 0.535\\nsamples = 176\\nvalue = [0, 0, 0 ... 0, 0, 0]'),\n",
       " Text(713.1336206896552, 247.09090909090912, '[0. 0. 0. ... 0. 0. 0.] <= 0.224\\nentropy = 0.406\\nsamples = 93\\nvalue = [0, 0, 0 ... 0, 0, 0]'),\n",
       " Text(710.7284482758621, 148.25454545454545, '[0. 0. 0. ... 0. 0. 0.] <= 0.21\\nentropy = 0.167\\nsamples = 81\\nvalue = [0, 0, 0 ... 0, 0, 0]'),\n",
       " Text(709.5258620689656, 49.41818181818189, 'entropy = 0.0\\nsamples = 68\\nvalue = [0, 0, 0 ... 0, 0, 0]'),\n",
       " Text(711.9310344827587, 49.41818181818189, 'entropy = 0.619\\nsamples = 13\\nvalue = [0, 0, 0 ... 0, 0, 0]'),\n",
       " Text(715.5387931034484, 148.25454545454545, '[0. 0. 0. ... 0. 0. 0.] <= 0.251\\nentropy = 1.208\\nsamples = 12\\nvalue = [0, 0, 0 ... 0, 0, 0]'),\n",
       " Text(714.3362068965517, 49.41818181818189, 'entropy = 1.5\\nsamples = 4\\nvalue = [0, 0, 0 ... 0, 0, 0]'),\n",
       " Text(716.7413793103449, 49.41818181818189, 'entropy = 0.544\\nsamples = 8\\nvalue = [0, 0, 0 ... 0, 0, 0]'),\n",
       " Text(722.7543103448277, 247.09090909090912, '[0. 0. 0. ... 0. 0. 0.] <= 0.202\\nentropy = 0.534\\nsamples = 83\\nvalue = [0, 0, 0 ... 0, 0, 0]'),\n",
       " Text(720.3491379310345, 148.25454545454545, '[0. 0. 0. ... 0. 0. 0.] <= 0.119\\nentropy = 1.922\\nsamples = 5\\nvalue = [0, 0, 0 ... 0, 0, 0]'),\n",
       " Text(719.146551724138, 49.41818181818189, 'entropy = 1.0\\nsamples = 2\\nvalue = [0, 0, 0 ... 0, 0, 0]'),\n",
       " Text(721.551724137931, 49.41818181818189, 'entropy = 0.918\\nsamples = 3\\nvalue = [0, 0, 0 ... 0, 0, 0]'),\n",
       " Text(725.1594827586207, 148.25454545454545, '[0. 0. 0. ... 0. 0. 0.] <= 0.197\\nentropy = 0.333\\nsamples = 78\\nvalue = [0, 0, 0 ... 0, 0, 0]'),\n",
       " Text(723.9568965517242, 49.41818181818189, 'entropy = 0.177\\nsamples = 75\\nvalue = [0, 0, 0 ... 0, 0, 0]'),\n",
       " Text(726.3620689655173, 49.41818181818189, 'entropy = 1.585\\nsamples = 3\\nvalue = [0, 0, 0 ... 0, 0, 0]'),\n",
       " Text(720.3491379310345, 345.9272727272727, 'entropy = 1.0\\nsamples = 2\\nvalue = [0, 0, 0 ... 0, 0, 0]'),\n",
       " Text(752.8189655172414, 543.6, '[0. 0. 0. ... 0. 0. 0.] <= 0.175\\nentropy = 2.958\\nsamples = 264\\nvalue = [0, 0, 0 ... 0, 0, 0]'),\n",
       " Text(743.7995689655173, 444.76363636363635, '[0. 0. 0. ... 0. 0. 0.] <= 0.162\\nentropy = 2.988\\nsamples = 127\\nvalue = [0, 0, 0 ... 0, 0, 0]'),\n",
       " Text(737.1853448275863, 345.9272727272727, '[0. 0. 0. ... 0. 0. 0.] <= 0.15\\nentropy = 3.595\\nsamples = 84\\nvalue = [0, 0, 0 ... 0, 0, 0]'),\n",
       " Text(732.3750000000001, 247.09090909090912, '[0. 0. 0. ... 0. 0. 0.] <= 0.529\\nentropy = 3.86\\nsamples = 52\\nvalue = [0, 0, 0 ... 0, 0, 0]'),\n",
       " Text(729.969827586207, 148.25454545454545, '[0. 0. 0. ... 0. 0. 0.] <= 0.211\\nentropy = 3.375\\nsamples = 23\\nvalue = [0, 0, 0 ... 0, 0, 0]'),\n",
       " Text(728.7672413793103, 49.41818181818189, 'entropy = 3.578\\nsamples = 16\\nvalue = [0, 0, 0 ... 0, 0, 0]'),\n",
       " Text(731.1724137931035, 49.41818181818189, 'entropy = 0.0\\nsamples = 7\\nvalue = [0, 0, 0 ... 0, 0, 0]'),\n",
       " Text(734.7801724137931, 148.25454545454545, '[0. 0. 0. ... 0. 0. 0.] <= 0.164\\nentropy = 3.03\\nsamples = 29\\nvalue = [0, 0, 0 ... 0, 0, 0]'),\n",
       " Text(733.5775862068966, 49.41818181818189, 'entropy = 2.844\\nsamples = 26\\nvalue = [0, 0, 0 ... 0, 0, 0]'),\n",
       " Text(735.9827586206898, 49.41818181818189, 'entropy = 0.0\\nsamples = 3\\nvalue = [0, 0, 0 ... 0, 0, 0]'),\n",
       " Text(741.9956896551724, 247.09090909090912, '[0. 0. 0. ... 0. 0. 0.] <= 0.166\\nentropy = 1.516\\nsamples = 32\\nvalue = [0, 0, 0 ... 0, 0, 0]'),\n",
       " Text(739.5905172413794, 148.25454545454545, '[0. 0. 0. ... 0. 0. 0.] <= 0.152\\nentropy = 1.545\\nsamples = 21\\nvalue = [0, 0, 0 ... 0, 0, 0]'),\n",
       " Text(738.3879310344828, 49.41818181818189, 'entropy = 1.462\\nsamples = 19\\nvalue = [0, 0, 0 ... 0, 0, 0]'),\n",
       " Text(740.7931034482759, 49.41818181818189, 'entropy = 0.0\\nsamples = 2\\nvalue = [0, 0, 0 ... 0, 0, 0]'),\n",
       " Text(744.4008620689656, 148.25454545454545, '[0. 0. 0. ... 0. 0. 0.] <= 0.131\\nentropy = 0.994\\nsamples = 11\\nvalue = [0, 0, 0 ... 0, 0, 0]'),\n",
       " Text(743.1982758620691, 49.41818181818189, 'entropy = 0.0\\nsamples = 2\\nvalue = [0, 0, 0 ... 0, 0, 0]'),\n",
       " Text(745.6034482758621, 49.41818181818189, 'entropy = 0.918\\nsamples = 9\\nvalue = [0, 0, 0 ... 0, 0, 0]'),\n",
       " Text(750.4137931034484, 345.9272727272727, '[0. 0. 0. ... 0. 0. 0.] <= 0.753\\nentropy = 0.429\\nsamples = 43\\nvalue = [0, 0, 0 ... 0, 0, 0]'),\n",
       " Text(748.0086206896552, 247.09090909090912, '[0. 0. 0. ... 0. 0. 0.] <= 0.681\\nentropy = 0.191\\nsamples = 34\\nvalue = [0, 0, 0 ... 0, 0, 0]'),\n",
       " Text(746.8060344827587, 148.25454545454545, 'entropy = 0.0\\nsamples = 31\\nvalue = [0, 0, 0 ... 0, 0, 0]'),\n",
       " Text(749.2112068965517, 148.25454545454545, 'entropy = 0.918\\nsamples = 3\\nvalue = [0, 0, 0 ... 0, 0, 0]'),\n",
       " Text(752.8189655172414, 247.09090909090912, '[0. 0. 0. ... 0. 0. 0.] <= 0.085\\nentropy = 0.764\\nsamples = 9\\nvalue = [0, 0, 0 ... 0, 0, 0]'),\n",
       " Text(751.6163793103449, 148.25454545454545, 'entropy = 0.0\\nsamples = 4\\nvalue = [0, 0, 0 ... 0, 0, 0]'),\n",
       " Text(754.021551724138, 148.25454545454545, '[0. 0. 0. ... 0. 0. 0.] <= 0.22\\nentropy = 0.971\\nsamples = 5\\nvalue = [0, 0, 0 ... 0, 0, 0]'),\n",
       " Text(752.8189655172414, 49.41818181818189, 'entropy = 1.0\\nsamples = 2\\nvalue = [0, 0, 0 ... 0, 0, 0]'),\n",
       " Text(755.2241379310345, 49.41818181818189, 'entropy = 0.918\\nsamples = 3\\nvalue = [0, 0, 0 ... 0, 0, 0]'),\n",
       " Text(761.8383620689656, 444.76363636363635, '[0. 0. 0. ... 0. 0. 0.] <= 0.368\\nentropy = 1.189\\nsamples = 137\\nvalue = [0, 0, 0 ... 0, 0, 0]'),\n",
       " Text(758.8318965517242, 345.9272727272727, '[0. 0. 0. ... 0. 0. 0.] <= 0.137\\nentropy = 2.5\\nsamples = 8\\nvalue = [0, 0, 0 ... 0, 0, 0]'),\n",
       " Text(757.6293103448277, 247.09090909090912, '[0. 0. 0. ... 0. 0. 0.] <= 0.307\\nentropy = 1.522\\nsamples = 5\\nvalue = [0, 0, 0 ... 0, 0, 0]'),\n",
       " Text(756.426724137931, 148.25454545454545, 'entropy = 0.918\\nsamples = 3\\nvalue = [0, 0, 0 ... 0, 0, 0]'),\n",
       " Text(758.8318965517242, 148.25454545454545, 'entropy = 0.0\\nsamples = 2\\nvalue = [0, 0, 0 ... 0, 0, 0]'),\n",
       " Text(760.0344827586207, 247.09090909090912, 'entropy = 1.585\\nsamples = 3\\nvalue = [0, 0, 0 ... 0, 0, 0]'),\n",
       " Text(764.844827586207, 345.9272727272727, '[0. 0. 0. ... 0. 0. 0.] <= 0.38\\nentropy = 0.88\\nsamples = 129\\nvalue = [0, 0, 0 ... 0, 0, 0]'),\n",
       " Text(762.4396551724138, 247.09090909090912, '[0. 0. 0. ... 0. 0. 0.] <= 0.336\\nentropy = 0.692\\nsamples = 120\\nvalue = [0, 0, 0 ... 0, 0, 0]'),\n",
       " Text(761.2370689655173, 148.25454545454545, '[0. 0. 0. ... 0. 0. 0.] <= 0.362\\nentropy = 0.58\\nsamples = 118\\nvalue = [0, 0, 0 ... 0, 0, 0]'),\n",
       " Text(760.0344827586207, 49.41818181818189, 'entropy = 0.407\\nsamples = 111\\nvalue = [0, 0, 0 ... 0, 0, 0]'),\n",
       " Text(762.4396551724138, 49.41818181818189, 'entropy = 1.379\\nsamples = 7\\nvalue = [0, 0, 0 ... 0, 0, 0]'),\n",
       " Text(763.6422413793105, 148.25454545454545, 'entropy = 0.0\\nsamples = 2\\nvalue = [0, 0, 0 ... 0, 0, 0]'),\n",
       " Text(767.2500000000001, 247.09090909090912, '[0. 0. 0. ... 0. 0. 0.] <= 0.165\\nentropy = 1.436\\nsamples = 9\\nvalue = [0, 0, 0 ... 0, 0, 0]'),\n",
       " Text(766.0474137931035, 148.25454545454545, '[0. 0. 0. ... 0. 0. 0.] <= 0.203\\nentropy = 0.863\\nsamples = 7\\nvalue = [0, 0, 0 ... 0, 0, 0]'),\n",
       " Text(764.844827586207, 49.41818181818189, 'entropy = 0.0\\nsamples = 3\\nvalue = [0, 0, 0 ... 0, 0, 0]'),\n",
       " Text(767.2500000000001, 49.41818181818189, 'entropy = 1.0\\nsamples = 4\\nvalue = [0, 0, 0 ... 0, 0, 0]'),\n",
       " Text(768.4525862068966, 148.25454545454545, 'entropy = 0.0\\nsamples = 2\\nvalue = [0, 0, 0 ... 0, 0, 0]'),\n",
       " Text(876.1967941810345, 741.2727272727273, '[0. 0. 0. ... 0. 0. 0.] <= 0.034\\nentropy = 7.425\\nsamples = 8929\\nvalue = [0, 1, 0 ... 0, 0, 0]'),\n",
       " Text(831.8890086206898, 642.4363636363637, '[0. 0. 0. ... 0. 0. 0.] <= 0.059\\nentropy = 7.182\\nsamples = 3230\\nvalue = [0, 0, 0 ... 0, 0, 0]'),\n",
       " Text(802.4256465517242, 543.6, '[0. 0. 0. ... 0. 0. 0.] <= 0.068\\nentropy = 7.29\\nsamples = 2577\\nvalue = [0, 0, 0 ... 0, 0, 0]'),\n",
       " Text(784.9881465517242, 444.76363636363635, '[0. 0. 0. ... 0. 0. 0.] <= 0.221\\nentropy = 7.728\\nsamples = 2050\\nvalue = [0, 0, 0 ... 0, 0, 0]'),\n",
       " Text(777.4719827586207, 345.9272727272727, '[0. 0. 0. ... 0. 0. 0.] <= 0.082\\nentropy = 6.559\\nsamples = 1046\\nvalue = [0, 0, 0 ... 0, 0, 0]'),\n",
       " Text(773.2629310344828, 247.09090909090912, '[0. 0. 0. ... 0. 0. 0.] <= 0.056\\nentropy = 6.632\\nsamples = 861\\nvalue = [0, 0, 0 ... 0, 0, 0]'),\n",
       " Text(770.8577586206898, 148.25454545454545, '[0. 0. 0. ... 0. 0. 0.] <= 0.069\\nentropy = 6.242\\nsamples = 692\\nvalue = [0, 0, 0 ... 0, 0, 0]'),\n",
       " Text(769.6551724137931, 49.41818181818189, 'entropy = 6.001\\nsamples = 581\\nvalue = [0, 0, 0 ... 0, 0, 0]'),\n",
       " Text(772.0603448275863, 49.41818181818189, 'entropy = 3.886\\nsamples = 111\\nvalue = [0, 0, 0 ... 0, 0, 0]'),\n",
       " Text(775.6681034482759, 148.25454545454545, '[0. 0. 0. ... 0. 0. 0.] <= 0.117\\nentropy = 5.396\\nsamples = 169\\nvalue = [0, 0, 0 ... 0, 0, 0]'),\n",
       " Text(774.4655172413794, 49.41818181818189, 'entropy = 5.266\\nsamples = 114\\nvalue = [0, 0, 0 ... 0, 0, 0]'),\n",
       " Text(776.8706896551724, 49.41818181818189, 'entropy = 3.104\\nsamples = 55\\nvalue = [0, 0, 0 ... 0, 0, 0]'),\n",
       " Text(781.6810344827587, 247.09090909090912, '[0. 0. 0. ... 0. 0. 0.] <= 0.149\\nentropy = 2.87\\nsamples = 185\\nvalue = [0, 0, 0 ... 0, 0, 0]'),\n",
       " Text(780.4784482758621, 148.25454545454545, '[0. 0. 0. ... 0. 0. 0.] <= 0.088\\nentropy = 3.761\\nsamples = 92\\nvalue = [0, 0, 0 ... 0, 0, 0]'),\n",
       " Text(779.2758620689656, 49.41818181818189, 'entropy = 2.93\\nsamples = 55\\nvalue = [0, 0, 0 ... 0, 0, 0]'),\n",
       " Text(781.6810344827587, 49.41818181818189, 'entropy = 2.697\\nsamples = 37\\nvalue = [0, 0, 0 ... 0, 0, 0]'),\n",
       " Text(782.8836206896552, 148.25454545454545, 'entropy = 0.0\\nsamples = 93\\nvalue = [0, 0, 0 ... 0, 0, 0]'),\n",
       " Text(792.5043103448277, 345.9272727272727, '[0. 0. 0. ... 0. 0. 0.] <= 0.103\\nentropy = 7.854\\nsamples = 1004\\nvalue = [0, 0, 0 ... 0, 0, 0]'),\n",
       " Text(787.6939655172414, 247.09090909090912, '[0. 0. 0. ... 0. 0. 0.] <= 0.284\\nentropy = 7.579\\nsamples = 799\\nvalue = [0, 0, 0 ... 0, 0, 0]'),\n",
       " Text(785.2887931034484, 148.25454545454545, '[0. 0. 0. ... 0. 0. 0.] <= 0.151\\nentropy = 7.103\\nsamples = 411\\nvalue = [0, 0, 0 ... 0, 0, 0]'),\n",
       " Text(784.0862068965517, 49.41818181818189, 'entropy = 6.763\\nsamples = 321\\nvalue = [0, 0, 0 ... 0, 0, 0]'),\n",
       " Text(786.4913793103449, 49.41818181818189, 'entropy = 5.753\\nsamples = 90\\nvalue = [0, 0, 0 ... 0, 0, 0]'),\n",
       " Text(790.0991379310345, 148.25454545454545, '[0. 0. 0. ... 0. 0. 0.] <= 0.342\\nentropy = 6.882\\nsamples = 388\\nvalue = [0, 0, 0 ... 0, 0, 0]'),\n",
       " Text(788.896551724138, 49.41818181818189, 'entropy = 6.389\\nsamples = 194\\nvalue = [0, 0, 0 ... 0, 0, 0]'),\n",
       " Text(791.301724137931, 49.41818181818189, 'entropy = 6.139\\nsamples = 194\\nvalue = [0, 0, 0 ... 0, 0, 0]'),\n",
       " Text(797.3146551724138, 247.09090909090912, '[0. 0. 0. ... 0. 0. 0.] <= 0.119\\nentropy = 5.993\\nsamples = 205\\nvalue = [0, 0, 0 ... 0, 0, 0]'),\n",
       " Text(794.9094827586208, 148.25454545454545, '[0. 0. 0. ... 0. 0. 0.] <= 0.289\\nentropy = 5.214\\nsamples = 118\\nvalue = [0, 0, 0 ... 0, 0, 0]'),\n",
       " Text(793.7068965517242, 49.41818181818189, 'entropy = 4.902\\nsamples = 55\\nvalue = [0, 0, 0 ... 0, 0, 0]'),\n",
       " Text(796.1120689655173, 49.41818181818189, 'entropy = 4.348\\nsamples = 63\\nvalue = [0, 0, 0 ... 0, 0, 0]'),\n",
       " Text(799.719827586207, 148.25454545454545, '[0. 0. 0. ... 0. 0. 0.] <= 0.292\\nentropy = 4.952\\nsamples = 87\\nvalue = [0, 0, 0 ... 0, 0, 0]'),\n",
       " Text(798.5172413793105, 49.41818181818189, 'entropy = 3.987\\nsamples = 43\\nvalue = [0, 0, 0 ... 0, 0, 0]'),\n",
       " Text(800.9224137931035, 49.41818181818189, 'entropy = 4.618\\nsamples = 44\\nvalue = [0, 0, 0 ... 0, 0, 0]'),\n",
       " Text(819.8631465517242, 444.76363636363635, '[0. 0. 0. ... 0. 0. 0.] <= 0.093\\nentropy = 2.767\\nsamples = 527\\nvalue = [0, 0, 0 ... 0, 0, 0]'),\n",
       " Text(811.7456896551724, 345.9272727272727, '[0. 0. 0. ... 0. 0. 0.] <= 0.062\\nentropy = 4.36\\nsamples = 189\\nvalue = [0, 0, 0 ... 0, 0, 0]'),\n",
       " Text(806.9353448275863, 247.09090909090912, '[0. 0. 0. ... 0. 0. 0.] <= 0.069\\nentropy = 4.344\\nsamples = 124\\nvalue = [0, 0, 0 ... 0, 0, 0]'),\n",
       " Text(804.5301724137931, 148.25454545454545, '[0. 0. 0. ... 0. 0. 0.] <= 0.177\\nentropy = 3.882\\nsamples = 74\\nvalue = [0, 0, 0 ... 0, 0, 0]'),\n",
       " Text(803.3275862068966, 49.41818181818189, 'entropy = 4.109\\nsamples = 53\\nvalue = [0, 0, 0 ... 0, 0, 0]'),\n",
       " Text(805.7327586206898, 49.41818181818189, 'entropy = 0.276\\nsamples = 21\\nvalue = [0, 0, 0 ... 0, 0, 0]'),\n",
       " Text(809.3405172413794, 148.25454545454545, '[0. 0. 0. ... 0. 0. 0.] <= 0.086\\nentropy = 2.792\\nsamples = 50\\nvalue = [0, 0, 0 ... 0, 0, 0]'),\n",
       " Text(808.1379310344828, 49.41818181818189, 'entropy = 1.905\\nsamples = 36\\nvalue = [0, 0, 0 ... 0, 0, 0]'),\n",
       " Text(810.5431034482759, 49.41818181818189, 'entropy = 2.02\\nsamples = 14\\nvalue = [0, 0, 0 ... 0, 0, 0]'),\n",
       " Text(816.5560344827587, 247.09090909090912, '[0. 0. 0. ... 0. 0. 0.] <= 0.118\\nentropy = 2.268\\nsamples = 65\\nvalue = [0, 0, 0 ... 0, 0, 0]'),\n",
       " Text(814.1508620689656, 148.25454545454545, '[0. 0. 0. ... 0. 0. 0.] <= 0.152\\nentropy = 1.465\\nsamples = 44\\nvalue = [0, 0, 0 ... 0, 0, 0]'),\n",
       " Text(812.9482758620691, 49.41818181818189, 'entropy = 0.944\\nsamples = 34\\nvalue = [0, 0, 0 ... 0, 0, 0]'),\n",
       " Text(815.3534482758621, 49.41818181818189, 'entropy = 0.469\\nsamples = 10\\nvalue = [0, 0, 0 ... 0, 0, 0]'),\n",
       " Text(818.9612068965517, 148.25454545454545, '[0. 0. 0. ... 0. 0. 0.] <= 0.229\\nentropy = 2.125\\nsamples = 21\\nvalue = [0, 0, 0 ... 0, 0, 0]'),\n",
       " Text(817.7586206896552, 49.41818181818189, 'entropy = 1.42\\nsamples = 13\\nvalue = [0, 0, 0 ... 0, 0, 0]'),\n",
       " Text(820.1637931034484, 49.41818181818189, 'entropy = 1.75\\nsamples = 8\\nvalue = [0, 0, 0 ... 0, 0, 0]'),\n",
       " Text(827.9806034482759, 345.9272727272727, '[0. 0. 0. ... 0. 0. 0.] <= 0.124\\nentropy = 1.08\\nsamples = 338\\nvalue = [0, 0, 0 ... 0, 0, 0]'),\n",
       " Text(824.9741379310345, 247.09090909090912, '[0. 0. 0. ... 0. 0. 0.] <= 0.217\\nentropy = 0.44\\nsamples = 284\\nvalue = [0, 0, 0 ... 0, 0, 0]'),\n",
       " Text(823.771551724138, 148.25454545454545, '[0. 0. 0. ... 0. 0. 0.] <= 0.184\\nentropy = 0.36\\nsamples = 281\\nvalue = [0, 0, 0 ... 0, 0, 0]'),\n",
       " Text(822.5689655172414, 49.41818181818189, 'entropy = 0.251\\nsamples = 267\\nvalue = [0, 0, 0 ... 0, 0, 0]'),\n",
       " Text(824.9741379310345, 49.41818181818189, 'entropy = 1.095\\nsamples = 14\\nvalue = [0, 0, 0 ... 0, 0, 0]'),\n",
       " Text(826.176724137931, 148.25454545454545, 'entropy = 0.0\\nsamples = 3\\nvalue = [0, 0, 0 ... 0, 0, 0]'),\n",
       " Text(830.9870689655173, 247.09090909090912, '[0. 0. 0. ... 0. 0. 0.] <= 0.059\\nentropy = 1.535\\nsamples = 54\\nvalue = [0, 0, 0 ... 0, 0, 0]'),\n",
       " Text(828.5818965517242, 148.25454545454545, '[0. 0. 0. ... 0. 0. 0.] <= 0.376\\nentropy = 1.972\\nsamples = 11\\nvalue = [0, 0, 0 ... 0, 0, 0]'),\n",
       " Text(827.3793103448277, 49.41818181818189, 'entropy = 1.5\\nsamples = 4\\nvalue = [0, 0, 0 ... 0, 0, 0]'),\n",
       " Text(829.7844827586208, 49.41818181818189, 'entropy = 1.149\\nsamples = 7\\nvalue = [0, 0, 0 ... 0, 0, 0]'),\n",
       " Text(833.3922413793105, 148.25454545454545, '[0. 0. 0. ... 0. 0. 0.] <= 0.15\\nentropy = 0.737\\nsamples = 43\\nvalue = [0, 0, 0 ... 0, 0, 0]'),\n",
       " Text(832.1896551724138, 49.41818181818189, 'entropy = 0.276\\nsamples = 21\\nvalue = [0, 0, 0 ... 0, 0, 0]'),\n",
       " Text(834.594827586207, 49.41818181818189, 'entropy = 0.845\\nsamples = 22\\nvalue = [0, 0, 0 ... 0, 0, 0]'),\n",
       " Text(861.3523706896552, 543.6, '[0. 0. 0. ... 0. 0. 0.] <= 0.129\\nentropy = 4.0\\nsamples = 653\\nvalue = [0, 0, 0 ... 0, 0, 0]'),\n",
       " Text(853.2349137931035, 444.76363636363635, '[0. 0. 0. ... 0. 0. 0.] <= 0.138\\nentropy = 4.559\\nsamples = 411\\nvalue = [0, 0, 0 ... 0, 0, 0]'),\n",
       " Text(845.4181034482759, 345.9272727272727, '[0. 0. 0. ... 0. 0. 0.] <= 0.18\\nentropy = 4.701\\nsamples = 315\\nvalue = [0, 0, 0 ... 0, 0, 0]'),\n",
       " Text(840.6077586206898, 247.09090909090912, '[0. 0. 0. ... 0. 0. 0.] <= 0.098\\nentropy = 4.63\\nsamples = 249\\nvalue = [0, 0, 0 ... 0, 0, 0]'),\n",
       " Text(838.2025862068966, 148.25454545454545, '[0. 0. 0. ... 0. 0. 0.] <= 0.158\\nentropy = 4.839\\nsamples = 187\\nvalue = [0, 0, 0 ... 0, 0, 0]'),\n",
       " Text(837.0000000000001, 49.41818181818189, 'entropy = 5.519\\nsamples = 131\\nvalue = [0, 0, 0 ... 0, 0, 0]'),\n",
       " Text(839.4051724137931, 49.41818181818189, 'entropy = 0.434\\nsamples = 56\\nvalue = [0, 0, 0 ... 0, 0, 0]'),\n",
       " Text(843.0129310344828, 148.25454545454545, '[0. 0. 0. ... 0. 0. 0.] <= 0.121\\nentropy = 0.949\\nsamples = 62\\nvalue = [0, 0, 0 ... 0, 0, 0]'),\n",
       " Text(841.8103448275863, 49.41818181818189, 'entropy = 2.128\\nsamples = 7\\nvalue = [0, 0, 0 ... 0, 0, 0]'),\n",
       " Text(844.2155172413794, 49.41818181818189, 'entropy = 0.225\\nsamples = 55\\nvalue = [0, 0, 0 ... 0, 0, 0]'),\n",
       " Text(850.2284482758621, 247.09090909090912, '[0. 0. 0. ... 0. 0. 0.] <= 0.289\\nentropy = 1.463\\nsamples = 66\\nvalue = [0, 0, 0 ... 0, 0, 0]'),\n",
       " Text(847.8232758620691, 148.25454545454545, '[0. 0. 0. ... 0. 0. 0.] <= 0.158\\nentropy = 0.98\\nsamples = 48\\nvalue = [0, 0, 0 ... 0, 0, 0]'),\n",
       " Text(846.6206896551724, 49.41818181818189, 'entropy = 0.933\\nsamples = 43\\nvalue = [0, 0, 0 ... 0, 0, 0]'),\n",
       " Text(849.0258620689656, 49.41818181818189, 'entropy = 0.0\\nsamples = 5\\nvalue = [0, 0, 0 ... 0, 0, 0]'),\n",
       " Text(852.6336206896552, 148.25454545454545, '[0. 0. 0. ... 0. 0. 0.] <= 0.244\\nentropy = 2.058\\nsamples = 18\\nvalue = [0, 0, 0 ... 0, 0, 0]'),\n",
       " Text(851.4310344827587, 49.41818181818189, 'entropy = 1.689\\nsamples = 14\\nvalue = [0, 0, 0 ... 0, 0, 0]'),\n",
       " Text(853.8362068965517, 49.41818181818189, 'entropy = 0.811\\nsamples = 4\\nvalue = [0, 0, 0 ... 0, 0, 0]'),\n",
       " Text(861.0517241379312, 345.9272727272727, '[0. 0. 0. ... 0. 0. 0.] <= 0.352\\nentropy = 0.874\\nsamples = 96\\nvalue = [0, 0, 0 ... 0, 0, 0]'),\n",
       " Text(858.646551724138, 247.09090909090912, '[0. 0. 0. ... 0. 0. 0.] <= 0.336\\nentropy = 1.041\\nsamples = 63\\nvalue = [0, 0, 0 ... 0, 0, 0]'),\n",
       " Text(857.4439655172414, 148.25454545454545, '[0. 0. 0. ... 0. 0. 0.] <= 0.344\\nentropy = 0.943\\nsamples = 61\\nvalue = [0, 0, 0 ... 0, 0, 0]'),\n",
       " Text(856.2413793103449, 49.41818181818189, 'entropy = 0.992\\nsamples = 47\\nvalue = [0, 0, 0 ... 0, 0, 0]'),\n",
       " Text(858.646551724138, 49.41818181818189, 'entropy = 0.371\\nsamples = 14\\nvalue = [0, 0, 0 ... 0, 0, 0]'),\n",
       " Text(859.8491379310345, 148.25454545454545, 'entropy = 1.0\\nsamples = 2\\nvalue = [0, 0, 0 ... 0, 0, 0]'),\n",
       " Text(863.4568965517242, 247.09090909090912, '[0. 0. 0. ... 0. 0. 0.] <= 0.213\\nentropy = 0.196\\nsamples = 33\\nvalue = [0, 0, 0 ... 0, 0, 0]'),\n",
       " Text(862.2543103448277, 148.25454545454545, 'entropy = 0.0\\nsamples = 30\\nvalue = [0, 0, 0 ... 0, 0, 0]'),\n",
       " Text(864.6594827586208, 148.25454545454545, 'entropy = 0.918\\nsamples = 3\\nvalue = [0, 0, 0 ... 0, 0, 0]'),\n",
       " Text(869.469827586207, 444.76363636363635, '[0. 0. 0. ... 0. 0. 0.] <= 0.142\\nentropy = 0.579\\nsamples = 242\\nvalue = [0, 0, 0 ... 0, 0, 0]'),\n",
       " Text(867.0646551724138, 345.9272727272727, '[0. 0. 0. ... 0. 0. 0.] <= 0.362\\nentropy = 0.047\\nsamples = 194\\nvalue = [0, 0, 0 ... 0, 0, 0]'),\n",
       " Text(865.8620689655173, 247.09090909090912, 'entropy = 0.0\\nsamples = 192\\nvalue = [0, 0, 0 ... 0, 0, 0]'),\n",
       " Text(868.2672413793105, 247.09090909090912, 'entropy = 1.0\\nsamples = 2\\nvalue = [0, 0, 0 ... 0, 0, 0]'),\n",
       " Text(871.8750000000001, 345.9272727272727, '[0. 0. 0. ... 0. 0. 0.] <= 0.326\\nentropy = 0.954\\nsamples = 48\\nvalue = [0, 0, 0 ... 0, 0, 0]'),\n",
       " Text(870.6724137931035, 247.09090909090912, '[0. 0. 0. ... 0. 0. 0.] <= 0.14\\nentropy = 0.932\\nsamples = 46\\nvalue = [0, 0, 0 ... 0, 0, 0]'),\n",
       " Text(869.469827586207, 148.25454545454545, '[0. 0. 0. ... 0. 0. 0.] <= 0.515\\nentropy = 0.965\\nsamples = 41\\nvalue = [0, 0, 0 ... 0, 0, 0]'),\n",
       " Text(868.2672413793105, 49.41818181818189, 'entropy = 0.982\\nsamples = 38\\nvalue = [0, 0, 0 ... 0, 0, 0]'),\n",
       " Text(870.6724137931035, 49.41818181818189, 'entropy = 0.0\\nsamples = 3\\nvalue = [0, 0, 0 ... 0, 0, 0]'),\n",
       " Text(871.8750000000001, 148.25454545454545, 'entropy = 0.0\\nsamples = 5\\nvalue = [0, 0, 0 ... 0, 0, 0]'),\n",
       " Text(873.0775862068966, 247.09090909090912, 'entropy = 0.0\\nsamples = 2\\nvalue = [0, 0, 0 ... 0, 0, 0]'),\n",
       " Text(920.5045797413794, 642.4363636363637, '[0. 0. 0. ... 0. 0. 0.] <= 0.134\\nentropy = 6.438\\nsamples = 5699\\nvalue = [0, 1, 0 ... 0, 0, 0]'),\n",
       " Text(903.5932112068966, 543.6, '[0. 0. 0. ... 0. 0. 0.] <= 0.024\\nentropy = 6.668\\nsamples = 5004\\nvalue = [0, 1, 0 ... 0, 0, 0]'),\n",
       " Text(890.8157327586208, 444.76363636363635, '[0. 0. 0. ... 0. 0. 0.] <= 0.094\\nentropy = 6.381\\nsamples = 4560\\nvalue = [0, 0, 0 ... 0, 0, 0]'),\n",
       " Text(881.4956896551724, 345.9272727272727, '[0. 0. 0. ... 0. 0. 0.] <= 0.07\\nentropy = 6.377\\nsamples = 4199\\nvalue = [0, 0, 0 ... 0, 0, 0]'),\n",
       " Text(876.6853448275863, 247.09090909090912, '[0. 0. 0. ... 0. 0. 0.] <= 0.167\\nentropy = 6.427\\nsamples = 3838\\nvalue = [0, 0, 0 ... 0, 0, 0]'),\n",
       " Text(874.2801724137931, 148.25454545454545, '[0. 0. 0. ... 0. 0. 0.] <= 0.033\\nentropy = 6.295\\nsamples = 3462\\nvalue = [0, 0, 0 ... 0, 0, 0]'),\n",
       " Text(873.0775862068966, 49.41818181818189, 'entropy = 6.308\\nsamples = 3155\\nvalue = [0, 0, 0 ... 0, 0, 0]'),\n",
       " Text(875.4827586206898, 49.41818181818189, 'entropy = 2.042\\nsamples = 307\\nvalue = [0, 0, 0 ... 0, 0, 0]'),\n",
       " Text(879.0905172413794, 148.25454545454545, '[0. 0. 0. ... 0. 0. 0.] <= 0.128\\nentropy = 3.408\\nsamples = 376\\nvalue = [0, 0, 0 ... 0, 0, 0]'),\n",
       " Text(877.8879310344828, 49.41818181818189, 'entropy = 2.338\\nsamples = 154\\nvalue = [0, 0, 0 ... 0, 0, 0]'),\n",
       " Text(880.2931034482759, 49.41818181818189, 'entropy = 2.533\\nsamples = 222\\nvalue = [0, 0, 0 ... 0, 0, 0]'),\n",
       " Text(886.3060344827587, 247.09090909090912, '[0. 0. 0. ... 0. 0. 0.] <= 0.385\\nentropy = 1.029\\nsamples = 361\\nvalue = [0, 0, 0 ... 0, 0, 0]'),\n",
       " Text(883.9008620689656, 148.25454545454545, '[0. 0. 0. ... 0. 0. 0.] <= 0.078\\nentropy = 0.533\\nsamples = 313\\nvalue = [0, 0, 0 ... 0, 0, 0]'),\n",
       " Text(882.6982758620691, 49.41818181818189, 'entropy = 0.374\\nsamples = 306\\nvalue = [0, 0, 0 ... 0, 0, 0]'),\n",
       " Text(885.1034482758621, 49.41818181818189, 'entropy = 0.592\\nsamples = 7\\nvalue = [0, 0, 0 ... 0, 0, 0]'),\n",
       " Text(888.7112068965517, 148.25454545454545, '[0. 0. 0. ... 0. 0. 0.] <= 0.218\\nentropy = 1.292\\nsamples = 48\\nvalue = [0, 0, 0 ... 0, 0, 0]'),\n",
       " Text(887.5086206896552, 49.41818181818189, 'entropy = 0.958\\nsamples = 44\\nvalue = [0, 0, 0 ... 0, 0, 0]'),\n",
       " Text(889.9137931034484, 49.41818181818189, 'entropy = 0.0\\nsamples = 4\\nvalue = [0, 0, 0 ... 0, 0, 0]'),\n",
       " Text(900.1357758620691, 345.9272727272727, '[0. 0. 0. ... 0. 0. 0.] <= 0.228\\nentropy = 1.47\\nsamples = 361\\nvalue = [0, 0, 0 ... 0, 0, 0]'),\n",
       " Text(895.9267241379312, 247.09090909090912, '[0. 0. 0. ... 0. 0. 0.] <= 0.085\\nentropy = 1.249\\nsamples = 332\\nvalue = [0, 0, 0 ... 0, 0, 0]'),\n",
       " Text(893.521551724138, 148.25454545454545, '[0. 0. 0. ... 0. 0. 0.] <= 0.195\\nentropy = 1.082\\nsamples = 321\\nvalue = [0, 0, 0 ... 0, 0, 0]'),\n",
       " Text(892.3189655172415, 49.41818181818189, 'entropy = 0.948\\nsamples = 315\\nvalue = [0, 0, 0 ... 0, 0, 0]'),\n",
       " Text(894.7241379310345, 49.41818181818189, 'entropy = 0.918\\nsamples = 6\\nvalue = [0, 0, 0 ... 0, 0, 0]'),\n",
       " Text(898.3318965517242, 148.25454545454545, '[0. 0. 0. ... 0. 0. 0.] <= 0.098\\nentropy = 1.673\\nsamples = 11\\nvalue = [0, 0, 0 ... 0, 0, 0]'),\n",
       " Text(897.1293103448277, 49.41818181818189, 'entropy = 2.0\\nsamples = 4\\nvalue = [0, 0, 0 ... 0, 0, 0]'),\n",
       " Text(899.5344827586208, 49.41818181818189, 'entropy = 0.0\\nsamples = 7\\nvalue = [0, 0, 0 ... 0, 0, 0]'),\n",
       " Text(904.344827586207, 247.09090909090912, '[0. 0. 0. ... 0. 0. 0.] <= 0.342\\nentropy = 0.575\\nsamples = 29\\nvalue = [0, 0, 0 ... 0, 0, 0]'),\n",
       " Text(903.1422413793105, 148.25454545454545, '[0. 0. 0. ... 0. 0. 0.] <= 0.162\\nentropy = 0.229\\nsamples = 27\\nvalue = [0, 0, 0 ... 0, 0, 0]'),\n",
       " Text(901.9396551724138, 49.41818181818189, 'entropy = 0.0\\nsamples = 25\\nvalue = [0, 0, 0 ... 0, 0, 0]'),\n",
       " Text(904.344827586207, 49.41818181818189, 'entropy = 1.0\\nsamples = 2\\nvalue = [0, 0, 0 ... 0, 0, 0]'),\n",
       " Text(905.5474137931035, 148.25454545454545, 'entropy = 1.0\\nsamples = 2\\nvalue = [0, 0, 0 ... 0, 0, 0]'),\n",
       " Text(916.3706896551724, 444.76363636363635, '[0. 0. 0. ... 0. 0. 0.] <= 0.154\\nentropy = 5.127\\nsamples = 444\\nvalue = [0, 1, 0 ... 0, 0, 0]'),\n",
       " Text(915.1681034482759, 345.9272727272727, '[0. 0. 0. ... 0. 0. 0.] <= 0.115\\nentropy = 5.296\\nsamples = 380\\nvalue = [0, 1, 0 ... 0, 0, 0]'),\n",
       " Text(910.3577586206898, 247.09090909090912, '[0. 0. 0. ... 0. 0. 0.] <= 0.232\\nentropy = 5.133\\nsamples = 330\\nvalue = [0, 1, 0 ... 0, 0, 0]'),\n",
       " Text(907.9525862068966, 148.25454545454545, '[0. 0. 0. ... 0. 0. 0.] <= 0.176\\nentropy = 4.443\\nsamples = 177\\nvalue = [0, 1, 0 ... 0, 0, 0]'),\n",
       " Text(906.7500000000001, 49.41818181818189, 'entropy = 4.559\\nsamples = 147\\nvalue = [0, 1, 0 ... 0, 0, 0]'),\n",
       " Text(909.1551724137931, 49.41818181818189, 'entropy = 0.0\\nsamples = 30\\nvalue = [0, 0, 0 ... 0, 0, 0]'),\n",
       " Text(912.7629310344828, 148.25454545454545, '[0. 0. 0. ... 0. 0. 0.] <= 0.229\\nentropy = 4.827\\nsamples = 153\\nvalue = [0, 0, 0 ... 0, 0, 0]'),\n",
       " Text(911.5603448275863, 49.41818181818189, 'entropy = 4.917\\nsamples = 112\\nvalue = [0, 0, 0 ... 0, 0, 0]'),\n",
       " Text(913.9655172413794, 49.41818181818189, 'entropy = 3.404\\nsamples = 41\\nvalue = [0, 0, 0 ... 0, 0, 0]'),\n",
       " Text(919.9784482758621, 247.09090909090912, '[0. 0. 0. ... 0. 0. 0.] <= 0.065\\nentropy = 2.286\\nsamples = 50\\nvalue = [0, 0, 0 ... 0, 0, 0]'),\n",
       " Text(917.5732758620691, 148.25454545454545, '[0. 0. 0. ... 0. 0. 0.] <= 0.361\\nentropy = 1.897\\nsamples = 41\\nvalue = [0, 0, 0 ... 0, 0, 0]'),\n",
       " Text(916.3706896551724, 49.41818181818189, 'entropy = 2.871\\nsamples = 20\\nvalue = [0, 0, 0 ... 0, 0, 0]'),\n",
       " Text(918.7758620689656, 49.41818181818189, 'entropy = 0.0\\nsamples = 21\\nvalue = [0, 0, 0 ... 0, 0, 0]'),\n",
       " Text(922.3836206896552, 148.25454545454545, '[0. 0. 0. ... 0. 0. 0.] <= 0.521\\nentropy = 0.503\\nsamples = 9\\nvalue = [0, 0, 0 ... 0, 0, 0]'),\n",
       " Text(921.1810344827587, 49.41818181818189, 'entropy = 0.0\\nsamples = 7\\nvalue = [0, 0, 0 ... 0, 0, 0]'),\n",
       " Text(923.5862068965519, 49.41818181818189, 'entropy = 1.0\\nsamples = 2\\nvalue = [0, 0, 0 ... 0, 0, 0]'),\n",
       " Text(917.5732758620691, 345.9272727272727, 'entropy = 0.0\\nsamples = 64\\nvalue = [0, 0, 0 ... 0, 0, 0]'),\n",
       " Text(937.4159482758621, 543.6, '[0. 0. 0. ... 0. 0. 0.] <= 0.156\\nentropy = 0.599\\nsamples = 695\\nvalue = [0, 0, 0 ... 0, 0, 0]'),\n",
       " Text(933.2068965517242, 444.76363636363635, '[0. 0. 0. ... 0. 0. 0.] <= 0.029\\nentropy = 0.324\\nsamples = 653\\nvalue = [0, 0, 0 ... 0, 0, 0]'),\n",
       " Text(930.8017241379312, 345.9272727272727, '[0. 0. 0. ... 0. 0. 0.] <= 0.302\\nentropy = 0.231\\nsamples = 645\\nvalue = [0, 0, 0 ... 0, 0, 0]'),\n",
       " Text(929.5991379310345, 247.09090909090912, '[0. 0. 0. ... 0. 0. 0.] <= 0.144\\nentropy = 0.202\\nsamples = 642\\nvalue = [0, 0, 0 ... 0, 0, 0]'),\n",
       " Text(927.1939655172415, 148.25454545454545, '[0. 0. 0. ... 0. 0. 0.] <= 0.244\\nentropy = 0.169\\nsamples = 636\\nvalue = [0, 0, 0 ... 0, 0, 0]'),\n",
       " Text(925.9913793103449, 49.41818181818189, 'entropy = 0.116\\nsamples = 605\\nvalue = [0, 0, 0 ... 0, 0, 0]'),\n",
       " Text(928.396551724138, 49.41818181818189, 'entropy = 0.709\\nsamples = 31\\nvalue = [0, 0, 0 ... 0, 0, 0]'),\n",
       " Text(932.0043103448277, 148.25454545454545, '[0. 0. 0. ... 0. 0. 0.] <= 0.163\\nentropy = 0.918\\nsamples = 6\\nvalue = [0, 0, 0 ... 0, 0, 0]'),\n",
       " Text(930.8017241379312, 49.41818181818189, 'entropy = 0.0\\nsamples = 3\\nvalue = [0, 0, 0 ... 0, 0, 0]'),\n",
       " Text(933.2068965517242, 49.41818181818189, 'entropy = 0.918\\nsamples = 3\\nvalue = [0, 0, 0 ... 0, 0, 0]'),\n",
       " Text(932.0043103448277, 247.09090909090912, 'entropy = 0.918\\nsamples = 3\\nvalue = [0, 0, 0 ... 0, 0, 0]'),\n",
       " Text(935.6120689655173, 345.9272727272727, '[0. 0. 0. ... 0. 0. 0.] <= 0.198\\nentropy = 0.544\\nsamples = 8\\nvalue = [0, 0, 0 ... 0, 0, 0]'),\n",
       " Text(934.4094827586208, 247.09090909090912, 'entropy = 1.0\\nsamples = 2\\nvalue = [0, 0, 0 ... 0, 0, 0]'),\n",
       " Text(936.8146551724138, 247.09090909090912, 'entropy = 0.0\\nsamples = 6\\nvalue = [0, 0, 0 ... 0, 0, 0]'),\n",
       " Text(941.6250000000001, 444.76363636363635, '[0. 0. 0. ... 0. 0. 0.] <= 0.254\\nentropy = 0.592\\nsamples = 42\\nvalue = [0, 0, 0 ... 0, 0, 0]'),\n",
       " Text(940.4224137931035, 345.9272727272727, '[0. 0. 0. ... 0. 0. 0.] <= 0.162\\nentropy = 0.469\\nsamples = 40\\nvalue = [0, 0, 0 ... 0, 0, 0]'),\n",
       " Text(939.219827586207, 247.09090909090912, 'entropy = 0.0\\nsamples = 25\\nvalue = [0, 0, 0 ... 0, 0, 0]'),\n",
       " Text(941.6250000000001, 247.09090909090912, '[0. 0. 0. ... 0. 0. 0.] <= 0.22\\nentropy = 0.837\\nsamples = 15\\nvalue = [0, 0, 0 ... 0, 0, 0]'),\n",
       " Text(940.4224137931035, 148.25454545454545, '[0. 0. 0. ... 0. 0. 0.] <= 0.153\\nentropy = 0.946\\nsamples = 11\\nvalue = [0, 0, 0 ... 0, 0, 0]'),\n",
       " Text(939.219827586207, 49.41818181818189, 'entropy = 0.991\\nsamples = 9\\nvalue = [0, 0, 0 ... 0, 0, 0]'),\n",
       " Text(941.6250000000001, 49.41818181818189, 'entropy = 0.0\\nsamples = 2\\nvalue = [0, 0, 0 ... 0, 0, 0]'),\n",
       " Text(942.8275862068966, 148.25454545454545, 'entropy = 0.0\\nsamples = 4\\nvalue = [0, 0, 0 ... 0, 0, 0]'),\n",
       " Text(942.8275862068966, 345.9272727272727, 'entropy = 0.0\\nsamples = 2\\nvalue = [0, 0, 0 ... 0, 0, 0]'),\n",
       " Text(1199.2790948275863, 938.9454545454546, '[0. 0. 0. ... 0. 0. 0.] <= 0.074\\nentropy = 7.47\\nsamples = 62549\\nvalue = [0, 0, 0 ... 0, 0, 0]'),\n",
       " Text(1085.803811961207, 840.1090909090909, '[0. 0. 0. ... 0. 0. 0.] <= 0.016\\nentropy = 7.54\\nsamples = 40958\\nvalue = [0, 0, 0 ... 0, 0, 0]'),\n",
       " Text(1028.737338362069, 741.2727272727273, '[0. 0. 0. ... 0. 0. 0.] <= 0.065\\nentropy = 7.777\\nsamples = 27415\\nvalue = [0, 0, 0 ... 0, 0, 0]'),\n",
       " Text(997.5452586206898, 642.4363636363637, '[0. 0. 0. ... 0. 0. 0.] <= 0.054\\nentropy = 7.986\\nsamples = 24266\\nvalue = [0, 0, 0 ... 0, 0, 0]'),\n",
       " Text(977.1012931034484, 543.6, '[0. 0. 0. ... 0. 0. 0.] <= 0.072\\nentropy = 8.18\\nsamples = 21436\\nvalue = [0, 0, 0 ... 0, 0, 0]'),\n",
       " Text(962.0689655172415, 444.76363636363635, '[0. 0. 0. ... 0. 0. 0.] <= 0.063\\nentropy = 8.341\\nsamples = 18696\\nvalue = [0, 0, 0 ... 0, 0, 0]'),\n",
       " Text(952.4482758620691, 345.9272727272727, '[0. 0. 0. ... 0. 0. 0.] <= 0.039\\nentropy = 8.188\\nsamples = 16375\\nvalue = [0, 0, 0 ... 0, 0, 0]'),\n",
       " Text(947.6379310344828, 247.09090909090912, '[0. 0. 0. ... 0. 0. 0.] <= 0.054\\nentropy = 8.189\\nsamples = 13934\\nvalue = [0, 0, 0 ... 0, 0, 0]'),\n",
       " Text(945.2327586206898, 148.25454545454545, '[0. 0. 0. ... 0. 0. 0.] <= 0.15\\nentropy = 8.524\\nsamples = 11714\\nvalue = [0, 0, 0 ... 0, 0, 0]'),\n",
       " Text(944.0301724137931, 49.41818181818189, 'entropy = 8.316\\nsamples = 10214\\nvalue = [0, 0, 0 ... 0, 0, 0]'),\n",
       " Text(946.4353448275863, 49.41818181818189, 'entropy = 7.271\\nsamples = 1500\\nvalue = [0, 0, 0 ... 0, 0, 0]'),\n",
       " Text(950.0431034482759, 148.25454545454545, '[0. 0. 0. ... 0. 0. 0.] <= 0.088\\nentropy = 4.244\\nsamples = 2220\\nvalue = [0, 0, 0 ... 0, 0, 0]'),\n",
       " Text(948.8405172413794, 49.41818181818189, 'entropy = 4.262\\nsamples = 1999\\nvalue = [0, 0, 0 ... 0, 0, 0]'),\n",
       " Text(951.2456896551724, 49.41818181818189, 'entropy = 0.083\\nsamples = 221\\nvalue = [0, 0, 0 ... 0, 0, 0]'),\n",
       " Text(957.2586206896552, 247.09090909090912, '[0. 0. 0. ... 0. 0. 0.] <= 0.07\\nentropy = 5.672\\nsamples = 2441\\nvalue = [0, 0, 0 ... 0, 0, 0]'),\n",
       " Text(954.8534482758621, 148.25454545454545, '[0. 0. 0. ... 0. 0. 0.] <= 0.107\\nentropy = 5.352\\nsamples = 1248\\nvalue = [0, 0, 0 ... 0, 0, 0]'),\n",
       " Text(953.6508620689656, 49.41818181818189, 'entropy = 5.879\\nsamples = 965\\nvalue = [0, 0, 0 ... 0, 0, 0]'),\n",
       " Text(956.0560344827587, 49.41818181818189, 'entropy = 0.477\\nsamples = 283\\nvalue = [0, 0, 0 ... 0, 0, 0]'),\n",
       " Text(959.6637931034484, 148.25454545454545, '[0. 0. 0. ... 0. 0. 0.] <= 0.14\\nentropy = 4.152\\nsamples = 1193\\nvalue = [0, 0, 0 ... 0, 0, 0]'),\n",
       " Text(958.4612068965519, 49.41818181818189, 'entropy = 4.11\\nsamples = 982\\nvalue = [0, 0, 0 ... 0, 0, 0]'),\n",
       " Text(960.8663793103449, 49.41818181818189, 'entropy = 0.676\\nsamples = 211\\nvalue = [0, 0, 0 ... 0, 0, 0]'),\n",
       " Text(971.6896551724138, 345.9272727272727, '[0. 0. 0. ... 0. 0. 0.] <= 0.081\\nentropy = 6.402\\nsamples = 2321\\nvalue = [0, 0, 0 ... 0, 0, 0]'),\n",
       " Text(966.8793103448277, 247.09090909090912, '[0. 0. 0. ... 0. 0. 0.] <= 0.37\\nentropy = 6.421\\nsamples = 2107\\nvalue = [0, 0, 0 ... 0, 0, 0]'),\n",
       " Text(964.4741379310345, 148.25454545454545, '[0. 0. 0. ... 0. 0. 0.] <= 0.132\\nentropy = 5.355\\nsamples = 1096\\nvalue = [0, 0, 0 ... 0, 0, 0]'),\n",
       " Text(963.271551724138, 49.41818181818189, 'entropy = 5.431\\nsamples = 947\\nvalue = [0, 0, 0 ... 0, 0, 0]'),\n",
       " Text(965.6767241379312, 49.41818181818189, 'entropy = 0.953\\nsamples = 149\\nvalue = [0, 0, 0 ... 0, 0, 0]'),\n",
       " Text(969.2844827586208, 148.25454545454545, '[0. 0. 0. ... 0. 0. 0.] <= 0.131\\nentropy = 6.692\\nsamples = 1011\\nvalue = [0, 0, 0 ... 0, 0, 0]'),\n",
       " Text(968.0818965517242, 49.41818181818189, 'entropy = 5.386\\nsamples = 366\\nvalue = [0, 0, 0 ... 0, 0, 0]'),\n",
       " Text(970.4870689655173, 49.41818181818189, 'entropy = 6.63\\nsamples = 645\\nvalue = [0, 0, 0 ... 0, 0, 0]'),\n",
       " Text(976.5000000000001, 247.09090909090912, '[0. 0. 0. ... 0. 0. 0.] <= 0.101\\nentropy = 1.847\\nsamples = 214\\nvalue = [0, 0, 0 ... 0, 0, 0]'),\n",
       " Text(974.094827586207, 148.25454545454545, '[0. 0. 0. ... 0. 0. 0.] <= 0.167\\nentropy = 2.706\\nsamples = 77\\nvalue = [0, 0, 0 ... 0, 0, 0]'),\n",
       " Text(972.8922413793105, 49.41818181818189, 'entropy = 2.92\\nsamples = 54\\nvalue = [0, 0, 0 ... 0, 0, 0]'),\n",
       " Text(975.2974137931035, 49.41818181818189, 'entropy = 0.258\\nsamples = 23\\nvalue = [0, 0, 0 ... 0, 0, 0]'),\n",
       " Text(978.9051724137931, 148.25454545454545, '[0. 0. 0. ... 0. 0. 0.] <= 0.209\\nentropy = 0.656\\nsamples = 137\\nvalue = [0, 0, 0 ... 0, 0, 0]'),\n",
       " Text(977.7025862068966, 49.41818181818189, 'entropy = 0.819\\nsamples = 44\\nvalue = [0, 0, 0 ... 0, 0, 0]'),\n",
       " Text(980.1077586206898, 49.41818181818189, 'entropy = 0.43\\nsamples = 93\\nvalue = [0, 0, 0 ... 0, 0, 0]'),\n",
       " Text(992.1336206896552, 444.76363636363635, '[0. 0. 0. ... 0. 0. 0.] <= 0.108\\nentropy = 3.682\\nsamples = 2740\\nvalue = [0, 0, 0 ... 0, 0, 0]'),\n",
       " Text(990.9310344827587, 345.9272727272727, '[0. 0. 0. ... 0. 0. 0.] <= 0.174\\nentropy = 5.056\\nsamples = 1729\\nvalue = [0, 0, 0 ... 0, 0, 0]'),\n",
       " Text(986.1206896551724, 247.09090909090912, '[0. 0. 0. ... 0. 0. 0.] <= 0.068\\nentropy = 4.793\\nsamples = 1513\\nvalue = [0, 0, 0 ... 0, 0, 0]'),\n",
       " Text(983.7155172413794, 148.25454545454545, '[0. 0. 0. ... 0. 0. 0.] <= 0.158\\nentropy = 5.222\\nsamples = 1260\\nvalue = [0, 0, 0 ... 0, 0, 0]'),\n",
       " Text(982.5129310344828, 49.41818181818189, 'entropy = 5.355\\nsamples = 1123\\nvalue = [0, 0, 0 ... 0, 0, 0]'),\n",
       " Text(984.9181034482759, 49.41818181818189, 'entropy = 0.405\\nsamples = 137\\nvalue = [0, 0, 0 ... 0, 0, 0]'),\n",
       " Text(988.5258620689656, 148.25454545454545, '[0. 0. 0. ... 0. 0. 0.] <= 0.263\\nentropy = 0.466\\nsamples = 253\\nvalue = [0, 0, 0 ... 0, 0, 0]'),\n",
       " Text(987.3232758620691, 49.41818181818189, 'entropy = 0.999\\nsamples = 68\\nvalue = [0, 0, 0 ... 0, 0, 0]'),\n",
       " Text(989.7284482758622, 49.41818181818189, 'entropy = 0.145\\nsamples = 185\\nvalue = [0, 0, 0 ... 0, 0, 0]'),\n",
       " Text(995.7413793103449, 247.09090909090912, '[0. 0. 0. ... 0. 0. 0.] <= 0.184\\nentropy = 3.507\\nsamples = 216\\nvalue = [0, 0, 0 ... 0, 0, 0]'),\n",
       " Text(993.3362068965519, 148.25454545454545, '[0. 0. 0. ... 0. 0. 0.] <= 0.153\\nentropy = 4.618\\nsamples = 111\\nvalue = [0, 0, 0 ... 0, 0, 0]'),\n",
       " Text(992.1336206896552, 49.41818181818189, 'entropy = 4.627\\nsamples = 76\\nvalue = [0, 0, 0 ... 0, 0, 0]'),\n",
       " Text(994.5387931034484, 49.41818181818189, 'entropy = 2.082\\nsamples = 35\\nvalue = [0, 0, 0 ... 0, 0, 0]'),\n",
       " Text(998.146551724138, 148.25454545454545, '[0. 0. 0. ... 0. 0. 0.] <= 0.155\\nentropy = 0.445\\nsamples = 105\\nvalue = [0, 0, 0 ... 0, 0, 0]'),\n",
       " Text(996.9439655172415, 49.41818181818189, 'entropy = 0.082\\nsamples = 98\\nvalue = [0, 0, 0 ... 0, 0, 0]'),\n",
       " Text(999.3491379310345, 49.41818181818189, 'entropy = 1.379\\nsamples = 7\\nvalue = [0, 0, 0 ... 0, 0, 0]'),\n",
       " Text(993.3362068965519, 345.9272727272727, 'entropy = 0.0\\nsamples = 1011\\nvalue = [0, 0, 0 ... 0, 0, 0]'),\n",
       " Text(1017.9892241379312, 543.6, '[0. 0. 0. ... 0. 0. 0.] <= 0.086\\nentropy = 2.99\\nsamples = 2830\\nvalue = [0, 0, 0 ... 0, 0, 0]'),\n",
       " Text(1016.7866379310345, 444.76363636363635, '[0. 0. 0. ... 0. 0. 0.] <= 0.203\\nentropy = 4.509\\nsamples = 1442\\nvalue = [0, 0, 0 ... 0, 0, 0]'),\n",
       " Text(1009.5711206896552, 345.9272727272727, '[0. 0. 0. ... 0. 0. 0.] <= 0.101\\nentropy = 4.721\\nsamples = 780\\nvalue = [0, 0, 0 ... 0, 0, 0]'),\n",
       " Text(1005.3620689655173, 247.09090909090912, '[0. 0. 0. ... 0. 0. 0.] <= 0.138\\nentropy = 4.878\\nsamples = 672\\nvalue = [0, 0, 0 ... 0, 0, 0]'),\n",
       " Text(1002.9568965517242, 148.25454545454545, '[0. 0. 0. ... 0. 0. 0.] <= 0.373\\nentropy = 5.358\\nsamples = 533\\nvalue = [0, 0, 0 ... 0, 0, 0]'),\n",
       " Text(1001.7543103448277, 49.41818181818189, 'entropy = 4.309\\nsamples = 277\\nvalue = [0, 0, 0 ... 0, 0, 0]'),\n",
       " Text(1004.1594827586208, 49.41818181818189, 'entropy = 5.533\\nsamples = 256\\nvalue = [0, 0, 0 ... 0, 0, 0]'),\n",
       " Text(1007.7672413793105, 148.25454545454545, '[0. 0. 0. ... 0. 0. 0.] <= 0.09\\nentropy = 1.23\\nsamples = 139\\nvalue = [0, 0, 0 ... 0, 0, 0]'),\n",
       " Text(1006.5646551724138, 49.41818181818189, 'entropy = 0.738\\nsamples = 106\\nvalue = [0, 0, 0 ... 0, 0, 0]'),\n",
       " Text(1008.969827586207, 49.41818181818189, 'entropy = 0.715\\nsamples = 33\\nvalue = [0, 0, 0 ... 0, 0, 0]'),\n",
       " Text(1013.7801724137931, 247.09090909090912, '[0. 0. 0. ... 0. 0. 0.] <= 0.149\\nentropy = 0.183\\nsamples = 108\\nvalue = [0, 0, 0 ... 0, 0, 0]'),\n",
       " Text(1012.5775862068966, 148.25454545454545, '[0. 0. 0. ... 0. 0. 0.] <= 0.265\\nentropy = 0.078\\nsamples = 105\\nvalue = [0, 0, 0 ... 0, 0, 0]'),\n",
       " Text(1011.3750000000001, 49.41818181818189, 'entropy = 0.0\\nsamples = 103\\nvalue = [0, 0, 0 ... 0, 0, 0]'),\n",
       " Text(1013.7801724137931, 49.41818181818189, 'entropy = 1.0\\nsamples = 2\\nvalue = [0, 0, 0 ... 0, 0, 0]'),\n",
       " Text(1014.9827586206898, 148.25454545454545, 'entropy = 0.918\\nsamples = 3\\nvalue = [0, 0, 0 ... 0, 0, 0]'),\n",
       " Text(1024.002155172414, 345.9272727272727, '[0. 0. 0. ... 0. 0. 0.] <= 0.056\\nentropy = 3.415\\nsamples = 662\\nvalue = [0, 0, 0 ... 0, 0, 0]'),\n",
       " Text(1019.7931034482759, 247.09090909090912, '[0. 0. 0. ... 0. 0. 0.] <= 0.059\\nentropy = 4.259\\nsamples = 439\\nvalue = [0, 0, 0 ... 0, 0, 0]'),\n",
       " Text(1017.3879310344828, 148.25454545454545, '[0. 0. 0. ... 0. 0. 0.] <= 0.12\\nentropy = 4.826\\nsamples = 317\\nvalue = [0, 0, 0 ... 0, 0, 0]'),\n",
       " Text(1016.1853448275863, 49.41818181818189, 'entropy = 4.653\\nsamples = 265\\nvalue = [0, 0, 0 ... 0, 0, 0]'),\n",
       " Text(1018.5905172413794, 49.41818181818189, 'entropy = 2.945\\nsamples = 52\\nvalue = [0, 0, 0 ... 0, 0, 0]'),\n",
       " Text(1022.1982758620691, 148.25454545454545, '[0. 0. 0. ... 0. 0. 0.] <= 0.219\\nentropy = 0.836\\nsamples = 122\\nvalue = [0, 0, 0 ... 0, 0, 0]'),\n",
       " Text(1020.9956896551726, 49.41818181818189, 'entropy = 0.467\\nsamples = 86\\nvalue = [0, 0, 0 ... 0, 0, 0]'),\n",
       " Text(1023.4008620689656, 49.41818181818189, 'entropy = 1.167\\nsamples = 36\\nvalue = [0, 0, 0 ... 0, 0, 0]'),\n",
       " Text(1028.2112068965519, 247.09090909090912, '[0. 0. 0. ... 0. 0. 0.] <= 0.184\\nentropy = 0.636\\nsamples = 223\\nvalue = [0, 0, 0 ... 0, 0, 0]'),\n",
       " Text(1027.0086206896553, 148.25454545454545, '[0. 0. 0. ... 0. 0. 0.] <= 0.487\\nentropy = 0.469\\nsamples = 216\\nvalue = [0, 0, 0 ... 0, 0, 0]'),\n",
       " Text(1025.8060344827586, 49.41818181818189, 'entropy = 0.354\\nsamples = 207\\nvalue = [0, 0, 0 ... 0, 0, 0]'),\n",
       " Text(1028.2112068965519, 49.41818181818189, 'entropy = 1.436\\nsamples = 9\\nvalue = [0, 0, 0 ... 0, 0, 0]'),\n",
       " Text(1029.4137931034484, 148.25454545454545, 'entropy = 0.0\\nsamples = 7\\nvalue = [0, 0, 0 ... 0, 0, 0]'),\n",
       " Text(1019.1918103448277, 444.76363636363635, 'entropy = 0.0\\nsamples = 1388\\nvalue = [0, 0, 0 ... 0, 0, 0]'),\n",
       " Text(1059.9294181034484, 642.4363636363637, '[0. 0. 0. ... 0. 0. 0.] <= 0.089\\nentropy = 2.364\\nsamples = 3149\\nvalue = [0, 0, 0 ... 0, 0, 0]'),\n",
       " Text(1054.3674568965519, 543.6, '[0. 0. 0. ... 0. 0. 0.] <= 0.125\\nentropy = 4.416\\nsamples = 1345\\nvalue = [0, 0, 0 ... 0, 0, 0]'),\n",
       " Text(1046.8512931034484, 444.76363636363635, '[0. 0. 0. ... 0. 0. 0.] <= 0.163\\nentropy = 4.533\\nsamples = 1190\\nvalue = [0, 0, 0 ... 0, 0, 0]'),\n",
       " Text(1039.0344827586207, 345.9272727272727, '[0. 0. 0. ... 0. 0. 0.] <= 0.369\\nentropy = 4.478\\nsamples = 1095\\nvalue = [0, 0, 0 ... 0, 0, 0]'),\n",
       " Text(1034.2241379310346, 247.09090909090912, '[0. 0. 0. ... 0. 0. 0.] <= 0.097\\nentropy = 3.755\\nsamples = 776\\nvalue = [0, 0, 0 ... 0, 0, 0]'),\n",
       " Text(1031.8189655172414, 148.25454545454545, '[0. 0. 0. ... 0. 0. 0.] <= 0.172\\nentropy = 4.641\\nsamples = 568\\nvalue = [0, 0, 0 ... 0, 0, 0]'),\n",
       " Text(1030.6163793103449, 49.41818181818189, 'entropy = 4.075\\nsamples = 327\\nvalue = [0, 0, 0 ... 0, 0, 0]'),\n",
       " Text(1033.021551724138, 49.41818181818189, 'entropy = 4.452\\nsamples = 241\\nvalue = [0, 0, 0 ... 0, 0, 0]'),\n",
       " Text(1036.6293103448277, 148.25454545454545, '[0. 0. 0. ... 0. 0. 0.] <= 0.166\\nentropy = 0.044\\nsamples = 208\\nvalue = [0, 0, 0 ... 0, 0, 0]'),\n",
       " Text(1035.4267241379312, 49.41818181818189, 'entropy = 0.0\\nsamples = 206\\nvalue = [0, 0, 0 ... 0, 0, 0]'),\n",
       " Text(1037.8318965517242, 49.41818181818189, 'entropy = 1.0\\nsamples = 2\\nvalue = [0, 0, 0 ... 0, 0, 0]'),\n",
       " Text(1043.844827586207, 247.09090909090912, '[0. 0. 0. ... 0. 0. 0.] <= 0.146\\nentropy = 5.135\\nsamples = 319\\nvalue = [0, 0, 0 ... 0, 0, 0]'),\n",
       " Text(1041.439655172414, 148.25454545454545, '[0. 0. 0. ... 0. 0. 0.] <= 0.143\\nentropy = 3.54\\nsamples = 112\\nvalue = [0, 0, 0 ... 0, 0, 0]'),\n",
       " Text(1040.2370689655174, 49.41818181818189, 'entropy = 3.881\\nsamples = 76\\nvalue = [0, 0, 0 ... 0, 0, 0]'),\n",
       " Text(1042.6422413793105, 49.41818181818189, 'entropy = 0.0\\nsamples = 36\\nvalue = [0, 0, 0 ... 0, 0, 0]'),\n",
       " Text(1046.25, 148.25454545454545, '[0. 0. 0. ... 0. 0. 0.] <= 0.447\\nentropy = 4.987\\nsamples = 207\\nvalue = [0, 0, 0 ... 0, 0, 0]'),\n",
       " Text(1045.0474137931035, 49.41818181818189, 'entropy = 4.249\\nsamples = 105\\nvalue = [0, 0, 0 ... 0, 0, 0]'),\n",
       " Text(1047.4525862068967, 49.41818181818189, 'entropy = 4.8\\nsamples = 102\\nvalue = [0, 0, 0 ... 0, 0, 0]'),\n",
       " Text(1054.668103448276, 345.9272727272727, '[0. 0. 0. ... 0. 0. 0.] <= 0.284\\nentropy = 0.399\\nsamples = 95\\nvalue = [0, 0, 0 ... 0, 0, 0]'),\n",
       " Text(1052.2629310344828, 247.09090909090912, '[0. 0. 0. ... 0. 0. 0.] <= 0.453\\nentropy = 0.211\\nsamples = 72\\nvalue = [0, 0, 0 ... 0, 0, 0]'),\n",
       " Text(1051.0603448275863, 148.25454545454545, '[0. 0. 0. ... 0. 0. 0.] <= 0.338\\nentropy = 0.108\\nsamples = 70\\nvalue = [0, 0, 0 ... 0, 0, 0]'),\n",
       " Text(1049.8577586206898, 49.41818181818189, 'entropy = 0.0\\nsamples = 67\\nvalue = [0, 0, 0 ... 0, 0, 0]'),\n",
       " Text(1052.2629310344828, 49.41818181818189, 'entropy = 0.918\\nsamples = 3\\nvalue = [0, 0, 0 ... 0, 0, 0]'),\n",
       " Text(1053.4655172413793, 148.25454545454545, 'entropy = 1.0\\nsamples = 2\\nvalue = [0, 0, 0 ... 0, 0, 0]'),\n",
       " Text(1057.073275862069, 247.09090909090912, '[0. 0. 0. ... 0. 0. 0.] <= 0.464\\nentropy = 0.678\\nsamples = 23\\nvalue = [0, 0, 0 ... 0, 0, 0]'),\n",
       " Text(1055.8706896551726, 148.25454545454545, 'entropy = 0.0\\nsamples = 2\\nvalue = [0, 0, 0 ... 0, 0, 0]'),\n",
       " Text(1058.2758620689656, 148.25454545454545, '[0. 0. 0. ... 0. 0. 0.] <= 0.273\\nentropy = 0.276\\nsamples = 21\\nvalue = [0, 0, 0 ... 0, 0, 0]'),\n",
       " Text(1057.073275862069, 49.41818181818189, 'entropy = 0.918\\nsamples = 3\\nvalue = [0, 0, 0 ... 0, 0, 0]'),\n",
       " Text(1059.478448275862, 49.41818181818189, 'entropy = 0.0\\nsamples = 18\\nvalue = [0, 0, 0 ... 0, 0, 0]'),\n",
       " Text(1061.8836206896553, 444.76363636363635, '[0. 0. 0. ... 0. 0. 0.] <= 0.151\\nentropy = 0.112\\nsamples = 155\\nvalue = [0, 0, 0 ... 0, 0, 0]'),\n",
       " Text(1060.6810344827586, 345.9272727272727, '[0. 0. 0. ... 0. 0. 0.] <= 0.103\\nentropy = 0.057\\nsamples = 153\\nvalue = [0, 0, 0 ... 0, 0, 0]'),\n",
       " Text(1059.478448275862, 247.09090909090912, 'entropy = 0.0\\nsamples = 151\\nvalue = [0, 0, 0 ... 0, 0, 0]'),\n",
       " Text(1061.8836206896553, 247.09090909090912, 'entropy = 1.0\\nsamples = 2\\nvalue = [0, 0, 0 ... 0, 0, 0]'),\n",
       " Text(1063.0862068965519, 345.9272727272727, 'entropy = 1.0\\nsamples = 2\\nvalue = [0, 0, 0 ... 0, 0, 0]'),\n",
       " Text(1065.4913793103449, 543.6, '[0. 0. 0. ... 0. 0. 0.] <= 0.153\\nentropy = 0.007\\nsamples = 1804\\nvalue = [0, 0, 0 ... 0, 0, 0]'),\n",
       " Text(1064.2887931034484, 444.76363636363635, 'entropy = 0.0\\nsamples = 1780\\nvalue = [0, 0, 0 ... 0, 0, 0]'),\n",
       " Text(1066.6939655172414, 444.76363636363635, '[0. 0. 0. ... 0. 0. 0.] <= 0.071\\nentropy = 0.25\\nsamples = 24\\nvalue = [0, 0, 0 ... 0, 0, 0]'),\n",
       " Text(1065.4913793103449, 345.9272727272727, 'entropy = 1.0\\nsamples = 2\\nvalue = [0, 0, 0 ... 0, 0, 0]'),\n",
       " Text(1067.896551724138, 345.9272727272727, 'entropy = 0.0\\nsamples = 22\\nvalue = [0, 0, 0 ... 0, 0, 0]'),\n",
       " Text(1142.8702855603449, 741.2727272727273, '[0. 0. 0. ... 0. 0. 0.] <= 0.124\\nentropy = 5.091\\nsamples = 13543\\nvalue = [0, 0, 0 ... 0, 0, 0]'),\n",
       " Text(1113.745150862069, 642.4363636363637, '[0. 0. 0. ... 0. 0. 0.] <= 0.106\\nentropy = 5.228\\nsamples = 10915\\nvalue = [0, 0, 0 ... 0, 0, 0]'),\n",
       " Text(1091.6476293103449, 543.6, '[0. 0. 0. ... 0. 0. 0.] <= 0.065\\nentropy = 5.29\\nsamples = 9496\\nvalue = [0, 0, 0 ... 0, 0, 0]'),\n",
       " Text(1079.0204741379312, 444.76363636363635, '[0. 0. 0. ... 0. 0. 0.] <= 0.09\\nentropy = 5.374\\nsamples = 8022\\nvalue = [0, 0, 0 ... 0, 0, 0]'),\n",
       " Text(1070.3017241379312, 345.9272727272727, '[0. 0. 0. ... 0. 0. 0.] <= 0.192\\nentropy = 5.599\\nsamples = 6858\\nvalue = [0, 0, 0 ... 0, 0, 0]'),\n",
       " Text(1065.4913793103449, 247.09090909090912, '[0. 0. 0. ... 0. 0. 0.] <= 0.182\\nentropy = 5.531\\nsamples = 6264\\nvalue = [0, 0, 0 ... 0, 0, 0]'),\n",
       " Text(1063.0862068965519, 148.25454545454545, '[0. 0. 0. ... 0. 0. 0.] <= 0.108\\nentropy = 5.551\\nsamples = 5755\\nvalue = [0, 0, 0 ... 0, 0, 0]'),\n",
       " Text(1061.8836206896553, 49.41818181818189, 'entropy = 5.448\\nsamples = 5046\\nvalue = [0, 0, 0 ... 0, 0, 0]'),\n",
       " Text(1064.2887931034484, 49.41818181818189, 'entropy = 3.383\\nsamples = 709\\nvalue = [0, 0, 0 ... 0, 0, 0]'),\n",
       " Text(1067.896551724138, 148.25454545454545, '[0. 0. 0. ... 0. 0. 0.] <= 0.053\\nentropy = 1.005\\nsamples = 509\\nvalue = [0, 0, 0 ... 0, 0, 0]'),\n",
       " Text(1066.6939655172414, 49.41818181818189, 'entropy = 0.611\\nsamples = 467\\nvalue = [0, 0, 0 ... 0, 0, 0]'),\n",
       " Text(1069.0991379310346, 49.41818181818189, 'entropy = 0.88\\nsamples = 42\\nvalue = [0, 0, 0 ... 0, 0, 0]'),\n",
       " Text(1075.1120689655174, 247.09090909090912, '[0. 0. 0. ... 0. 0. 0.] <= 0.091\\nentropy = 1.644\\nsamples = 594\\nvalue = [0, 0, 0 ... 0, 0, 0]'),\n",
       " Text(1072.7068965517242, 148.25454545454545, '[0. 0. 0. ... 0. 0. 0.] <= 0.127\\nentropy = 0.667\\nsamples = 235\\nvalue = [0, 0, 0 ... 0, 0, 0]'),\n",
       " Text(1071.5043103448277, 49.41818181818189, 'entropy = 0.413\\nsamples = 224\\nvalue = [0, 0, 0 ... 0, 0, 0]'),\n",
       " Text(1073.9094827586207, 49.41818181818189, 'entropy = 0.439\\nsamples = 11\\nvalue = [0, 0, 0 ... 0, 0, 0]'),\n",
       " Text(1077.5172413793105, 148.25454545454545, '[0. 0. 0. ... 0. 0. 0.] <= 0.162\\nentropy = 0.91\\nsamples = 359\\nvalue = [0, 0, 0 ... 0, 0, 0]'),\n",
       " Text(1076.314655172414, 49.41818181818189, 'entropy = 0.521\\nsamples = 328\\nvalue = [0, 0, 0 ... 0, 0, 0]'),\n",
       " Text(1078.719827586207, 49.41818181818189, 'entropy = 0.206\\nsamples = 31\\nvalue = [0, 0, 0 ... 0, 0, 0]'),\n",
       " Text(1087.7392241379312, 345.9272727272727, '[0. 0. 0. ... 0. 0. 0.] <= 0.165\\nentropy = 0.119\\nsamples = 1164\\nvalue = [0, 0, 0 ... 0, 0, 0]'),\n",
       " Text(1084.7327586206898, 247.09090909090912, '[0. 0. 0. ... 0. 0. 0.] <= 0.074\\nentropy = 0.049\\nsamples = 1152\\nvalue = [0, 0, 0 ... 0, 0, 0]'),\n",
       " Text(1082.3275862068967, 148.25454545454545, '[0. 0. 0. ... 0. 0. 0.] <= 0.109\\nentropy = 0.01\\nsamples = 1146\\nvalue = [0, 0, 0 ... 0, 0, 0]'),\n",
       " Text(1081.125, 49.41818181818189, 'entropy = 0.0\\nsamples = 1144\\nvalue = [0, 0, 0 ... 0, 0, 0]'),\n",
       " Text(1083.5301724137933, 49.41818181818189, 'entropy = 1.0\\nsamples = 2\\nvalue = [0, 0, 0 ... 0, 0, 0]'),\n",
       " Text(1087.1379310344828, 148.25454545454545, '[0. 0. 0. ... 0. 0. 0.] <= 0.157\\nentropy = 1.918\\nsamples = 6\\nvalue = [0, 0, 0 ... 0, 0, 0]'),\n",
       " Text(1085.9353448275863, 49.41818181818189, 'entropy = 0.918\\nsamples = 3\\nvalue = [0, 0, 0 ... 0, 0, 0]'),\n",
       " Text(1088.3405172413793, 49.41818181818189, 'entropy = 0.918\\nsamples = 3\\nvalue = [0, 0, 0 ... 0, 0, 0]'),\n",
       " Text(1090.7456896551726, 247.09090909090912, '[0. 0. 0. ... 0. 0. 0.] <= 0.079\\nentropy = 1.384\\nsamples = 12\\nvalue = [0, 0, 0 ... 0, 0, 0]'),\n",
       " Text(1089.543103448276, 148.25454545454545, 'entropy = 0.0\\nsamples = 3\\nvalue = [0, 0, 0 ... 0, 0, 0]'),\n",
       " Text(1091.948275862069, 148.25454545454545, '[0. 0. 0. ... 0. 0. 0.] <= 0.329\\nentropy = 0.764\\nsamples = 9\\nvalue = [0, 0, 0 ... 0, 0, 0]'),\n",
       " Text(1090.7456896551726, 49.41818181818189, 'entropy = 0.0\\nsamples = 7\\nvalue = [0, 0, 0 ... 0, 0, 0]'),\n",
       " ...]"
      ]
     },
     "execution_count": 118,
     "metadata": {},
     "output_type": "execute_result"
    },
    {
     "data": {
      "image/png": "[encoded data removed]",
      "text/plain": [
       "<Figure size 1800x1440 with 1 Axes>"
      ]
     },
     "metadata": {
      "needs_background": "light"
     },
     "output_type": "display_data"
    }
   ],
   "source": [
    "%pylab inline\n",
    "pylab.figure(figsize=(25,20))\n",
    "plot_tree(modelo, feature_names=X_treino)"
   ]
  }
 ],
 "metadata": {
  "kernelspec": {
   "display_name": "Python 3 (ipykernel)",
   "language": "python",
   "name": "python3"
  },
  "language_info": {
   "codemirror_mode": {
    "name": "ipython",
    "version": 3
   },
   "file_extension": ".py",
   "mimetype": "text/x-python",
   "name": "python",
   "nbconvert_exporter": "python",
   "pygments_lexer": "ipython3",
   "version": "3.7.12"
  }
 },
 "nbformat": 4,
 "nbformat_minor": 5
}
