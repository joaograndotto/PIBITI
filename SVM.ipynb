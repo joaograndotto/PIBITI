{
 "cells": [
  {
   "cell_type": "markdown",
   "id": "c5dbd12c",
   "metadata": {
    "id": "c5dbd12c"
   },
   "source": [
    "# Reconhecimento de nomes de instituições utilizando Inteligência Artificial\n",
    "\n",
    "## Projeto PIBITI  \n",
    "\n",
    "### Edital 18/2021-PROPPG-IFG\n",
    "\n",
    "#### Estudante (bolsista): João Gabriel Grandotto Viana\n",
    "#### Orientador: Waldeyr Mendes Cordeiro da Silva"
   ]
  },
  {
   "cell_type": "markdown",
   "id": "bd417891",
   "metadata": {
    "id": "bd417891"
   },
   "source": [
    "## Parte 01 Coleta e tratamento de dados das fontes primárias"
   ]
  },
  {
   "cell_type": "code",
   "execution_count": 36,
   "id": "ec9c73fc",
   "metadata": {
    "id": "ec9c73fc"
   },
   "outputs": [],
   "source": [
    "import numpy as np\n",
    "import matplotlib.pyplot as plt\n",
    "from sklearn import svm\n",
    "import pandas as pd"
   ]
  },
  {
   "cell_type": "code",
   "execution_count": 37,
   "id": "7c4fae1b",
   "metadata": {
    "id": "7c4fae1b"
   },
   "outputs": [],
   "source": [
    "url1 ='https://raw.githubusercontent.com/joaograndotto/PIBITI/main/Datasets/scopus.csv'\n",
    "url2 = 'https://raw.githubusercontent.com/joaograndotto/PIBITI/main/Datasets/webscience.csv'\n",
    "\n",
    "scopus = pd.read_csv(url1)\n",
    "web_of_science = pd.read_csv(url2, sep=\"\\t\" )"
   ]
  },
  {
   "cell_type": "code",
   "execution_count": 38,
   "id": "7bdf5ef9",
   "metadata": {
    "colab": {
     "base_uri": "https://localhost:8080/"
    },
    "id": "7bdf5ef9",
    "outputId": "ae68d718-ea9b-40b2-a7ca-e3d88d7c2c8d"
   },
   "outputs": [
    {
     "data": {
      "text/plain": [
       "(31, 67)"
      ]
     },
     "execution_count": 38,
     "metadata": {},
     "output_type": "execute_result"
    }
   ],
   "source": [
    "web_of_science.shape"
   ]
  },
  {
   "cell_type": "code",
   "execution_count": 39,
   "id": "566813c6",
   "metadata": {
    "colab": {
     "base_uri": "https://localhost:8080/"
    },
    "id": "566813c6",
    "outputId": "53d44e22-d316-423e-8fe1-34c465d20e48"
   },
   "outputs": [
    {
     "data": {
      "text/plain": [
       "(1276, 50)"
      ]
     },
     "execution_count": 39,
     "metadata": {},
     "output_type": "execute_result"
    }
   ],
   "source": [
    "scopus.shape"
   ]
  },
  {
   "cell_type": "code",
   "execution_count": 42,
   "id": "89ba49c6",
   "metadata": {
    "id": "89ba49c6"
   },
   "outputs": [],
   "source": [
    "#Renomeie as Colunas relacionadas porque estavam com os nomes diferentes\n",
    "web_of_science.rename(columns={'Publication Year': 'Year'}, inplace = True)\n",
    "web_of_science.rename(columns={'Article Title': 'Title'}, inplace = True)\n",
    "web_of_science.rename(columns={'Publisher': 'Affiliations'}, inplace = True)"
   ]
  },
  {
   "cell_type": "code",
   "execution_count": 43,
   "id": "26a86703",
   "metadata": {
    "colab": {
     "base_uri": "https://localhost:8080/"
    },
    "id": "26a86703",
    "outputId": "a40c73dd-a580-4ce5-fe12-e2a6bc503122"
   },
   "outputs": [
    {
     "data": {
      "text/plain": [
       "0    Instituto Federal de Goiás-IFG, Campus Goiânia...\n",
       "1    Instituto Federal de Goiás (IFG), Aparecida de...\n",
       "2    Instituto Federal de Educação, Ciência e Tecno...\n",
       "3    Universidade Federal de Goiás – UFG, Rede Pró ...\n",
       "4    Department of Agronomy, Universidade Federal R...\n",
       "5    Institute for Hygiene and Public Health, Medic...\n",
       "6    Department of Environmental Informatics, Helmh...\n",
       "7    Grupo de Estudos em Geomática (GEO), Instituto...\n",
       "8    Laboratory of Environmental Biotechnology and ...\n",
       "9    Universidade Federal de Goiás (UFG), Instituto...\n",
       "Name: Affiliations, dtype: object"
      ]
     },
     "execution_count": 43,
     "metadata": {},
     "output_type": "execute_result"
    }
   ],
   "source": [
    "scopus[\"Affiliations\"].head(10)"
   ]
  },
  {
   "cell_type": "code",
   "execution_count": 44,
   "id": "16b8e5c1",
   "metadata": {
    "colab": {
     "base_uri": "https://localhost:8080/"
    },
    "id": "16b8e5c1",
    "outputId": "4b8451d1-fb60-4cba-ab86-2c76270267b8"
   },
   "outputs": [
    {
     "data": {
      "text/plain": [
       "0    INST FED EDUCATION, SCIENCE & TECHNOLOGY OF GO...\n",
       "1    INST FED EDUCATION, SCIENCE & TECHNOLOGY OF GO...\n",
       "2                        UNIV DO VALE DO RIO DOS SINOS\n",
       "3    INST FED EDUCATION, SCIENCE & TECHNOLOGY OF GO...\n",
       "4                                             ELSEVIER\n",
       "5                          UNIV FEDERAL CAMPINA GRANDE\n",
       "6    INST FED EDUCATION, SCIENCE & TECHNOLOGY OF GO...\n",
       "7                PONTIFICIA UNIV CATOLICA PARANA-PUCPR\n",
       "8                             UNIV FEDERAL SANTA MARIA\n",
       "9                                      INST AGRONOMICO\n",
       "Name: Affiliations, dtype: object"
      ]
     },
     "execution_count": 44,
     "metadata": {},
     "output_type": "execute_result"
    }
   ],
   "source": [
    "web_of_science[\"Affiliations\"].head(10)"
   ]
  },
  {
   "cell_type": "code",
   "execution_count": 45,
   "id": "ce40cbae",
   "metadata": {
    "id": "ce40cbae"
   },
   "outputs": [],
   "source": [
    "#juntando os três dataframes\n",
    "result = pd.concat([scopus, web_of_science])"
   ]
  },
  {
   "cell_type": "code",
   "execution_count": 46,
   "id": "fe76de0f",
   "metadata": {
    "id": "fe76de0f"
   },
   "outputs": [],
   "source": [
    "nulos = result.loc[result['DOI'].isnull()] # somente registros sem DOI\n",
    "nulos.index[0]\n",
    "result = result.drop([nulos.index[0]])"
   ]
  },
  {
   "cell_type": "code",
   "execution_count": 47,
   "id": "ab50c874",
   "metadata": {
    "id": "ab50c874"
   },
   "outputs": [],
   "source": [
    "total_artigos = result.shape[0]"
   ]
  },
  {
   "cell_type": "code",
   "execution_count": 48,
   "id": "d6aab840",
   "metadata": {
    "colab": {
     "base_uri": "https://localhost:8080/"
    },
    "id": "d6aab840",
    "outputId": "4aeb99b0-5e49-4620-c010-255591aa7459"
   },
   "outputs": [
    {
     "data": {
      "text/plain": [
       "Index(['Authors', 'Author(s) ID', 'Title', 'Year', 'Source title', 'Volume',\n",
       "       'Issue', 'Art. No.', 'Page start', 'Page end',\n",
       "       ...\n",
       "       'Number of Pages', 'WoS Categories', 'Research Areas', 'IDS Number',\n",
       "       'UT (Unique WOS ID)', 'Pubmed Id', 'Open Access Designations',\n",
       "       'Highly Cited Status', 'Hot Paper Status', 'Date of Export'],\n",
       "      dtype='object', length=105)"
      ]
     },
     "execution_count": 48,
     "metadata": {},
     "output_type": "execute_result"
    }
   ],
   "source": [
    "result.columns"
   ]
  },
  {
   "cell_type": "code",
   "execution_count": 49,
   "id": "7ExyJuUfkJV4",
   "metadata": {
    "colab": {
     "base_uri": "https://localhost:8080/"
    },
    "id": "7ExyJuUfkJV4",
    "outputId": "c3a5e805-532b-4593-c577-20bdfa411908"
   },
   "outputs": [
    {
     "data": {
      "text/plain": [
       "0     Instituto Federal de Goiás-IFG, Campus Goiânia...\n",
       "1     Instituto Federal de Goiás (IFG), Aparecida de...\n",
       "2     Instituto Federal de Educação, Ciência e Tecno...\n",
       "3     Universidade Federal de Goiás – UFG, Rede Pró ...\n",
       "4     Department of Agronomy, Universidade Federal R...\n",
       "                            ...                        \n",
       "26                                      UNIV NOVE JULHO\n",
       "27                                                  NaN\n",
       "28                                                  NaN\n",
       "29                                                  NaN\n",
       "30                                                  NaN\n",
       "Name: Affiliations, Length: 1306, dtype: object"
      ]
     },
     "execution_count": 49,
     "metadata": {},
     "output_type": "execute_result"
    }
   ],
   "source": [
    "result['Affiliations']"
   ]
  },
  {
   "cell_type": "code",
   "execution_count": 50,
   "id": "3b7cf69f",
   "metadata": {
    "colab": {
     "base_uri": "https://localhost:8080/"
    },
    "id": "3b7cf69f",
    "outputId": "feb834bf-56b9-4e26-c559-7f0a86a242fb"
   },
   "outputs": [
    {
     "data": {
      "text/plain": [
       "(1162, 105)"
      ]
     },
     "execution_count": 50,
     "metadata": {},
     "output_type": "execute_result"
    }
   ],
   "source": [
    "#Verificando duplicados na coluna DOI e apagando as linhas com DOI duplicado\n",
    "result = result.drop_duplicates(subset=['DOI'], keep='first')\n",
    "result \n",
    "result.shape"
   ]
  },
  {
   "cell_type": "code",
   "execution_count": 51,
   "id": "1ac0b2c1",
   "metadata": {
    "colab": {
     "base_uri": "https://localhost:8080/"
    },
    "id": "1ac0b2c1",
    "outputId": "2b8747a6-af64-4247-b517-05bdf2ae30d7"
   },
   "outputs": [
    {
     "data": {
      "text/plain": [
       "144"
      ]
     },
     "execution_count": 51,
     "metadata": {},
     "output_type": "execute_result"
    }
   ],
   "source": [
    "duplicados_eliminados = total_artigos - result.shape[0]\n",
    "duplicados_eliminados"
   ]
  },
  {
   "cell_type": "code",
   "execution_count": 52,
   "id": "e582e5c5",
   "metadata": {
    "id": "e582e5c5"
   },
   "outputs": [],
   "source": [
    "# nomear os indices do tamanho do novo dataframe\n",
    "index =[]  \n",
    "for i in range(result.shape[0]): \n",
    "    index.append(i)\n",
    "result.index = index"
   ]
  },
  {
   "cell_type": "code",
   "execution_count": 53,
   "id": "a5151517",
   "metadata": {
    "colab": {
     "base_uri": "https://localhost:8080/",
     "height": 424
    },
    "id": "a5151517",
    "outputId": "5993a74b-0bf9-475a-a933-2344db5cb9fa"
   },
   "outputs": [
    {
     "data": {
      "text/html": [
       "<div>\n",
       "<style scoped>\n",
       "    .dataframe tbody tr th:only-of-type {\n",
       "        vertical-align: middle;\n",
       "    }\n",
       "\n",
       "    .dataframe tbody tr th {\n",
       "        vertical-align: top;\n",
       "    }\n",
       "\n",
       "    .dataframe thead th {\n",
       "        text-align: right;\n",
       "    }\n",
       "</style>\n",
       "<table border=\"1\" class=\"dataframe\">\n",
       "  <thead>\n",
       "    <tr style=\"text-align: right;\">\n",
       "      <th></th>\n",
       "      <th>DOI</th>\n",
       "      <th>Title</th>\n",
       "      <th>Affiliations</th>\n",
       "    </tr>\n",
       "  </thead>\n",
       "  <tbody>\n",
       "    <tr>\n",
       "      <th>0</th>\n",
       "      <td>10.1016/j.nonrwa.2021.103406</td>\n",
       "      <td>Classical solution for a nonlinear hybrid syst...</td>\n",
       "      <td>Instituto Federal de Goiás-IFG, Campus Goiânia...</td>\n",
       "    </tr>\n",
       "    <tr>\n",
       "      <th>1</th>\n",
       "      <td>10.1007/978-3-030-79165-0_25</td>\n",
       "      <td>An Innovative Textile Product Proposal Based o...</td>\n",
       "      <td>Instituto Federal de Goiás (IFG), Aparecida de...</td>\n",
       "    </tr>\n",
       "    <tr>\n",
       "      <th>2</th>\n",
       "      <td>10.1590/1519-6984.245368</td>\n",
       "      <td>Detection of enteroparasites in foliar vegetab...</td>\n",
       "      <td>Instituto Federal de Educação, Ciência e Tecno...</td>\n",
       "    </tr>\n",
       "    <tr>\n",
       "      <th>3</th>\n",
       "      <td>10.1590/1519-6984.234476</td>\n",
       "      <td>Phytochemical characterization, and antioxidan...</td>\n",
       "      <td>Universidade Federal de Goiás – UFG, Rede Pró ...</td>\n",
       "    </tr>\n",
       "    <tr>\n",
       "      <th>4</th>\n",
       "      <td>10.1038/s41598-021-97854-8</td>\n",
       "      <td>Stability analysis of reference genes for RT-q...</td>\n",
       "      <td>Department of Agronomy, Universidade Federal R...</td>\n",
       "    </tr>\n",
       "    <tr>\n",
       "      <th>...</th>\n",
       "      <td>...</td>\n",
       "      <td>...</td>\n",
       "      <td>...</td>\n",
       "    </tr>\n",
       "    <tr>\n",
       "      <th>1157</th>\n",
       "      <td>10.31977/grirfi.v16i2.774</td>\n",
       "      <td>HUMAN RIGHTS: FROM THE UNIFORMITY OF THE SPECI...</td>\n",
       "      <td>UNIV FED RECONCAVO BAHIA, CENTRO FORMACAO PROF...</td>\n",
       "    </tr>\n",
       "    <tr>\n",
       "      <th>1158</th>\n",
       "      <td>10.1590/S0101-31732015000400002</td>\n",
       "      <td>PRESENTATION OF THE DOSSIER ROUSSEAU</td>\n",
       "      <td>UNESP-MARILIA</td>\n",
       "    </tr>\n",
       "    <tr>\n",
       "      <th>1159</th>\n",
       "      <td>10.1590/S1415-43662014000400013</td>\n",
       "      <td>Physiological quality of soybean seeds stored ...</td>\n",
       "      <td>UNIV FEDERAL CAMPINA GRANDE</td>\n",
       "    </tr>\n",
       "    <tr>\n",
       "      <th>1160</th>\n",
       "      <td>10.1590/S0034-89102010005000053</td>\n",
       "      <td>Ethics in the publication of studies on human ...</td>\n",
       "      <td>REVISTA DE SAUDE PUBLICA</td>\n",
       "    </tr>\n",
       "    <tr>\n",
       "      <th>1161</th>\n",
       "      <td>10.5585/iji.v4i1.67</td>\n",
       "      <td>SYSTEMATIC REVIEW OF THE LITERATURE SOCIAL ENT...</td>\n",
       "      <td>UNIV NOVE JULHO</td>\n",
       "    </tr>\n",
       "  </tbody>\n",
       "</table>\n",
       "<p>1162 rows × 3 columns</p>\n",
       "</div>"
      ],
      "text/plain": [
       "                                  DOI  \\\n",
       "0        10.1016/j.nonrwa.2021.103406   \n",
       "1        10.1007/978-3-030-79165-0_25   \n",
       "2            10.1590/1519-6984.245368   \n",
       "3            10.1590/1519-6984.234476   \n",
       "4          10.1038/s41598-021-97854-8   \n",
       "...                               ...   \n",
       "1157        10.31977/grirfi.v16i2.774   \n",
       "1158  10.1590/S0101-31732015000400002   \n",
       "1159  10.1590/S1415-43662014000400013   \n",
       "1160  10.1590/S0034-89102010005000053   \n",
       "1161              10.5585/iji.v4i1.67   \n",
       "\n",
       "                                                  Title  \\\n",
       "0     Classical solution for a nonlinear hybrid syst...   \n",
       "1     An Innovative Textile Product Proposal Based o...   \n",
       "2     Detection of enteroparasites in foliar vegetab...   \n",
       "3     Phytochemical characterization, and antioxidan...   \n",
       "4     Stability analysis of reference genes for RT-q...   \n",
       "...                                                 ...   \n",
       "1157  HUMAN RIGHTS: FROM THE UNIFORMITY OF THE SPECI...   \n",
       "1158               PRESENTATION OF THE DOSSIER ROUSSEAU   \n",
       "1159  Physiological quality of soybean seeds stored ...   \n",
       "1160  Ethics in the publication of studies on human ...   \n",
       "1161  SYSTEMATIC REVIEW OF THE LITERATURE SOCIAL ENT...   \n",
       "\n",
       "                                           Affiliations  \n",
       "0     Instituto Federal de Goiás-IFG, Campus Goiânia...  \n",
       "1     Instituto Federal de Goiás (IFG), Aparecida de...  \n",
       "2     Instituto Federal de Educação, Ciência e Tecno...  \n",
       "3     Universidade Federal de Goiás – UFG, Rede Pró ...  \n",
       "4     Department of Agronomy, Universidade Federal R...  \n",
       "...                                                 ...  \n",
       "1157  UNIV FED RECONCAVO BAHIA, CENTRO FORMACAO PROF...  \n",
       "1158                                      UNESP-MARILIA  \n",
       "1159                        UNIV FEDERAL CAMPINA GRANDE  \n",
       "1160                           REVISTA DE SAUDE PUBLICA  \n",
       "1161                                    UNIV NOVE JULHO  \n",
       "\n",
       "[1162 rows x 3 columns]"
      ]
     },
     "execution_count": 53,
     "metadata": {},
     "output_type": "execute_result"
    }
   ],
   "source": [
    "result[['DOI', 'Title', 'Affiliations']]"
   ]
  },
  {
   "cell_type": "code",
   "execution_count": 54,
   "id": "d1d2aaad",
   "metadata": {
    "id": "d1d2aaad"
   },
   "outputs": [],
   "source": [
    "result[['DOI','Affiliations']].to_csv(\"dados_para_label.tsv\", sep = \"\\t\", index=False)"
   ]
  },
  {
   "cell_type": "markdown",
   "id": "0284381d",
   "metadata": {
    "id": "0284381d"
   },
   "source": [
    "## Parte 02 - Tratamento dos dados etiquetados\n",
    "\n",
    "Os dados slecionados foram etiquetados manualmente e salvos no dataset [dados com label](https://raw.githubusercontent.com/joaograndotto/PIBITI/main/Datasets/dados_com_label.csv)"
   ]
  },
  {
   "cell_type": "code",
   "execution_count": 56,
   "id": "jAHm1hykaTot",
   "metadata": {
    "colab": {
     "base_uri": "https://localhost:8080/",
     "height": 240
    },
    "id": "jAHm1hykaTot",
    "outputId": "5ec13ff7-4bc5-4fe8-8d02-5c7e24682252"
   },
   "outputs": [
    {
     "data": {
      "text/html": [
       "<div>\n",
       "<style scoped>\n",
       "    .dataframe tbody tr th:only-of-type {\n",
       "        vertical-align: middle;\n",
       "    }\n",
       "\n",
       "    .dataframe tbody tr th {\n",
       "        vertical-align: top;\n",
       "    }\n",
       "\n",
       "    .dataframe thead th {\n",
       "        text-align: right;\n",
       "    }\n",
       "</style>\n",
       "<table border=\"1\" class=\"dataframe\">\n",
       "  <thead>\n",
       "    <tr style=\"text-align: right;\">\n",
       "      <th></th>\n",
       "      <th>DOI</th>\n",
       "      <th>Title</th>\n",
       "      <th>Year</th>\n",
       "      <th>Affiliations</th>\n",
       "      <th>Campus</th>\n",
       "      <th>Institution</th>\n",
       "    </tr>\n",
       "  </thead>\n",
       "  <tbody>\n",
       "    <tr>\n",
       "      <th>340</th>\n",
       "      <td>10.1038/s41467-018-06829-3</td>\n",
       "      <td>Anisotropic energy transfer in crystalline chr...</td>\n",
       "      <td>2018</td>\n",
       "      <td>Karlsruhe Institute of Technology (KIT) Instit...</td>\n",
       "      <td>Eggenstein-Leopoldshafen</td>\n",
       "      <td>Institute of Functional Interfaces</td>\n",
       "    </tr>\n",
       "    <tr>\n",
       "      <th>1050</th>\n",
       "      <td>10.1109/NSSMIC.2009.5402239</td>\n",
       "      <td>Performance assessment of a high resolution X-...</td>\n",
       "      <td>2009</td>\n",
       "      <td>Dipartimento di Fisica, Universita' degli Stud...</td>\n",
       "      <td>Berlin</td>\n",
       "      <td>Institute for Scientific Instruments GmbH</td>\n",
       "    </tr>\n",
       "    <tr>\n",
       "      <th>632</th>\n",
       "      <td>10.1039/c6cp01843b</td>\n",
       "      <td>Correlating structure and electronic band-edge...</td>\n",
       "      <td>2016</td>\n",
       "      <td>Department of Synchrotron Radiation Instrument...</td>\n",
       "      <td>Germany</td>\n",
       "      <td>Structural Dynamics of (Bio)chemical Systems</td>\n",
       "    </tr>\n",
       "  </tbody>\n",
       "</table>\n",
       "</div>"
      ],
      "text/plain": [
       "                              DOI  \\\n",
       "340    10.1038/s41467-018-06829-3   \n",
       "1050  10.1109/NSSMIC.2009.5402239   \n",
       "632            10.1039/c6cp01843b   \n",
       "\n",
       "                                                  Title  Year  \\\n",
       "340   Anisotropic energy transfer in crystalline chr...  2018   \n",
       "1050  Performance assessment of a high resolution X-...  2009   \n",
       "632   Correlating structure and electronic band-edge...  2016   \n",
       "\n",
       "                                           Affiliations  \\\n",
       "340   Karlsruhe Institute of Technology (KIT) Instit...   \n",
       "1050  Dipartimento di Fisica, Universita' degli Stud...   \n",
       "632   Department of Synchrotron Radiation Instrument...   \n",
       "\n",
       "                         Campus                                   Institution  \n",
       "340    Eggenstein-Leopoldshafen            Institute of Functional Interfaces  \n",
       "1050                     Berlin    Institute for Scientific Instruments GmbH   \n",
       "632                     Germany  Structural Dynamics of (Bio)chemical Systems  "
      ]
     },
     "execution_count": 56,
     "metadata": {},
     "output_type": "execute_result"
    }
   ],
   "source": [
    "url = 'https://raw.githubusercontent.com/joaograndotto/PIBITI/main/Datasets/dados_com_label.csv'\n",
    "\n",
    "dataset = pd.read_csv(url, sep=\",\" )\n",
    "dataset.sample(n=3)"
   ]
  },
  {
   "cell_type": "markdown",
   "id": "839bde0c",
   "metadata": {
    "id": "839bde0c"
   },
   "source": [
    "### Estratégia 01 - Saco de palavras\n",
    "\n",
    "Os arquivos de texto precisam ser convertidos em arquivos numéricos para serem utilizaod por algoritmos de machine learning.\n",
    "\n",
    "A primeira estratégia que utilizaremos e aquela conhecida como saco de palavras, onde um texto é segmentado em palavras (separadas por espaço), calcula-se a frequência dessas pavras em cada documento e finalmente é atribuído um ID para cada palavra."
   ]
  },
  {
   "cell_type": "code",
   "execution_count": 57,
   "id": "101be259",
   "metadata": {
    "id": "101be259"
   },
   "outputs": [],
   "source": [
    "dataset = pd.read_csv('https://raw.githubusercontent.com/joaograndotto/PIBITI/main/Datasets/dados_com_label.csv')\n",
    "\n",
    "dataset['IFG'] = dataset['Institution'].apply(lambda x: 1 if str(x).strip() == \"Instituto Federal de Goiás\" else 0)"
   ]
  },
  {
   "cell_type": "code",
   "execution_count": 58,
   "id": "ZfzUZlWzNb4b",
   "metadata": {
    "colab": {
     "base_uri": "https://localhost:8080/",
     "height": 240
    },
    "id": "ZfzUZlWzNb4b",
    "outputId": "d9910243-cac3-4b6c-abbe-b94161561bf1"
   },
   "outputs": [
    {
     "data": {
      "text/html": [
       "<div>\n",
       "<style scoped>\n",
       "    .dataframe tbody tr th:only-of-type {\n",
       "        vertical-align: middle;\n",
       "    }\n",
       "\n",
       "    .dataframe tbody tr th {\n",
       "        vertical-align: top;\n",
       "    }\n",
       "\n",
       "    .dataframe thead th {\n",
       "        text-align: right;\n",
       "    }\n",
       "</style>\n",
       "<table border=\"1\" class=\"dataframe\">\n",
       "  <thead>\n",
       "    <tr style=\"text-align: right;\">\n",
       "      <th></th>\n",
       "      <th>DOI</th>\n",
       "      <th>Title</th>\n",
       "      <th>Year</th>\n",
       "      <th>Affiliations</th>\n",
       "      <th>Campus</th>\n",
       "      <th>Institution</th>\n",
       "      <th>IFG</th>\n",
       "    </tr>\n",
       "  </thead>\n",
       "  <tbody>\n",
       "    <tr>\n",
       "      <th>1032</th>\n",
       "      <td>10.1007/s10273-010-1076-7</td>\n",
       "      <td>Das komplexe System der sozialen Sicherung</td>\n",
       "      <td>2010</td>\n",
       "      <td>Institut für Gerontologie (IfG) der Hochschule...</td>\n",
       "      <td>Germany</td>\n",
       "      <td>Institut für Gerontologie</td>\n",
       "      <td>0</td>\n",
       "    </tr>\n",
       "    <tr>\n",
       "      <th>669</th>\n",
       "      <td>10.1109/TLA.2015.7332150</td>\n",
       "      <td>A Systematic Review on Methods and Techniques ...</td>\n",
       "      <td>2015</td>\n",
       "      <td>Universidade Federal de Uberlândia (UFU), Uber...</td>\n",
       "      <td>Goiânia</td>\n",
       "      <td>Instituto Federal de Goiás</td>\n",
       "      <td>1</td>\n",
       "    </tr>\n",
       "    <tr>\n",
       "      <th>623</th>\n",
       "      <td>10.1021/acs.biomac.5b01391</td>\n",
       "      <td>Thermoresponsive Agarose Based Microparticles ...</td>\n",
       "      <td>2016</td>\n",
       "      <td>Institute for Functional Interfaces (IFG), Kar...</td>\n",
       "      <td>Eggenstein-Leopoldshafen</td>\n",
       "      <td>Institute of Functional Interfaces</td>\n",
       "      <td>0</td>\n",
       "    </tr>\n",
       "  </tbody>\n",
       "</table>\n",
       "</div>"
      ],
      "text/plain": [
       "                             DOI  \\\n",
       "1032   10.1007/s10273-010-1076-7   \n",
       "669     10.1109/TLA.2015.7332150   \n",
       "623   10.1021/acs.biomac.5b01391   \n",
       "\n",
       "                                                  Title  Year  \\\n",
       "1032         Das komplexe System der sozialen Sicherung  2010   \n",
       "669   A Systematic Review on Methods and Techniques ...  2015   \n",
       "623   Thermoresponsive Agarose Based Microparticles ...  2016   \n",
       "\n",
       "                                           Affiliations  \\\n",
       "1032  Institut für Gerontologie (IfG) der Hochschule...   \n",
       "669   Universidade Federal de Uberlândia (UFU), Uber...   \n",
       "623   Institute for Functional Interfaces (IFG), Kar...   \n",
       "\n",
       "                         Campus                         Institution  IFG  \n",
       "1032                    Germany           Institut für Gerontologie    0  \n",
       "669                     Goiânia         Instituto Federal de Goiás     1  \n",
       "623    Eggenstein-Leopoldshafen  Institute of Functional Interfaces    0  "
      ]
     },
     "execution_count": 58,
     "metadata": {},
     "output_type": "execute_result"
    }
   ],
   "source": [
    "dataset.sample(n=3)"
   ]
  },
  {
   "cell_type": "code",
   "execution_count": 59,
   "id": "knb9vGqsZ1jt",
   "metadata": {
    "id": "knb9vGqsZ1jt"
   },
   "outputs": [],
   "source": [
    "X, y = dataset['Affiliations'], dataset['IFG']"
   ]
  },
  {
   "cell_type": "code",
   "execution_count": 60,
   "id": "7RWgT34HPiiE",
   "metadata": {
    "colab": {
     "base_uri": "https://localhost:8080/"
    },
    "id": "7RWgT34HPiiE",
    "outputId": "727cecf3-f7d3-41ae-f92e-b64c37e4b702"
   },
   "outputs": [
    {
     "name": "stderr",
     "output_type": "stream",
     "text": [
      "[nltk_data] Downloading package stopwords to\n",
      "[nltk_data]     /home/waldeyr/nltk_data...\n",
      "[nltk_data]   Package stopwords is already up-to-date!\n"
     ]
    }
   ],
   "source": [
    "import numpy as np\n",
    "import re\n",
    "import nltk\n",
    "from sklearn.datasets import load_files\n",
    "nltk.download('stopwords')\n",
    "import pickle\n",
    "from nltk.corpus import stopwords"
   ]
  },
  {
   "cell_type": "code",
   "execution_count": 61,
   "id": "cUDmSd_MPdvU",
   "metadata": {
    "id": "cUDmSd_MPdvU"
   },
   "outputs": [],
   "source": [
    "palavrasIgnoradas = \\\n",
    "    stopwords.words('portuguese') + \\\n",
    "    stopwords.words('english') + \\\n",
    "    stopwords.words('german') + \\\n",
    "    stopwords.words('spanish')"
   ]
  },
  {
   "cell_type": "code",
   "execution_count": 62,
   "id": "9b2b4JTgPIJ2",
   "metadata": {
    "id": "9b2b4JTgPIJ2"
   },
   "outputs": [],
   "source": [
    "from sklearn.feature_extraction.text import CountVectorizer\n",
    "vectorizer = CountVectorizer(\n",
    "    max_features = 1500, # vocabulário considera top max_features ordenadas por freq do termo no texto \n",
    "    min_df = 5, # ignorar termos com frequencia menr do que x, onde 0<=x<=1\n",
    "    max_df = 0.7, # ignorar termos com frequencia maior do que x, onde 0<=x<=1\n",
    "    stop_words = palavrasIgnoradas\n",
    ")\n",
    "X = vectorizer.fit_transform(X).toarray()\n"
   ]
  },
  {
   "cell_type": "markdown",
   "id": "3284ce9c",
   "metadata": {
    "id": "3284ce9c"
   },
   "source": [
    "*TF* $\\rightarrow$ Term frequencies (frquências de termos) $\\rightarrow$ count(palavra/total de palavras)\n",
    "\n",
    "*TF-IDF* $\\rightarrow$ Term Frequency times inverse document frequency $\\rightarrow$ reduz o peso de palavras repetitivas"
   ]
  },
  {
   "cell_type": "code",
   "execution_count": 63,
   "id": "vLb2-VDZa1I1",
   "metadata": {
    "id": "vLb2-VDZa1I1"
   },
   "outputs": [],
   "source": [
    "from sklearn.feature_extraction.text import TfidfTransformer\n",
    "tfidfconverter = TfidfTransformer()\n",
    "X = tfidfconverter.fit_transform(X).toarray()"
   ]
  },
  {
   "cell_type": "code",
   "execution_count": 64,
   "id": "b6eff3ac",
   "metadata": {
    "colab": {
     "base_uri": "https://localhost:8080/"
    },
    "id": "b6eff3ac",
    "outputId": "829ab757-fb69-418e-ce97-bada179f993f"
   },
   "outputs": [
    {
     "data": {
      "text/plain": [
       "((813, 1033), (349, 1033))"
      ]
     },
     "execution_count": 64,
     "metadata": {},
     "output_type": "execute_result"
    }
   ],
   "source": [
    "from sklearn.model_selection import train_test_split\n",
    "x_train, x_test, y_train, y_test = train_test_split(X, y,  \n",
    "                                                    random_state=1, \n",
    "                                                    test_size=0.3, shuffle=True)\n",
    "x_train.shape, x_test.shape"
   ]
  },
  {
   "cell_type": "markdown",
   "id": "007fETXDQ-SD",
   "metadata": {
    "id": "007fETXDQ-SD"
   },
   "source": [
    "#### **Kernel Linear**"
   ]
  },
  {
   "cell_type": "code",
   "execution_count": 65,
   "id": "bfdc68b1",
   "metadata": {
    "id": "bfdc68b1"
   },
   "outputs": [],
   "source": [
    "from sklearn import svm\n",
    "svm_kernel_linear = svm.SVC(kernel = 'linear')\n",
    "prob_linear = svm_kernel_linear.fit(x_train, y_train)\n",
    "pred_svm_linear = svm_kernel_linear.predict(x_test)"
   ]
  },
  {
   "cell_type": "code",
   "execution_count": 66,
   "id": "16fa5f50",
   "metadata": {
    "colab": {
     "base_uri": "https://localhost:8080/"
    },
    "id": "16fa5f50",
    "outputId": "ee8986c9-3bc5-4181-ddf9-3e7e229c1b45"
   },
   "outputs": [
    {
     "name": "stdout",
     "output_type": "stream",
     "text": [
      "Acurácia = 97.70773638968481 %\n"
     ]
    }
   ],
   "source": [
    "from sklearn.metrics import confusion_matrix, accuracy_score\n",
    "print(\"Acurácia =\", accuracy_score(y_test, pred_svm_linear) * 100, '%')"
   ]
  },
  {
   "cell_type": "code",
   "execution_count": 67,
   "id": "Wto0axuwPtcr",
   "metadata": {
    "id": "Wto0axuwPtcr"
   },
   "outputs": [],
   "source": [
    "import sklearn.metrics as metrics\n",
    "fpr, tpr, threshold = metrics.roc_curve(y_test, pred_svm_linear)\n",
    "roc_auc = metrics.auc(fpr, tpr)"
   ]
  },
  {
   "cell_type": "code",
   "execution_count": 68,
   "id": "oxoN8ulDPwiT",
   "metadata": {
    "colab": {
     "base_uri": "https://localhost:8080/",
     "height": 295
    },
    "id": "oxoN8ulDPwiT",
    "outputId": "11c60420-71f3-46a4-a394-c6c58affe282"
   },
   "outputs": [
    {
     "data": {
      "image/png": "[encoded data removed]",
      "text/plain": [
       "<Figure size 432x288 with 1 Axes>"
      ]
     },
     "metadata": {
      "needs_background": "light"
     },
     "output_type": "display_data"
    }
   ],
   "source": [
    "# method I: plt\n",
    "import matplotlib.pyplot as plt\n",
    "plt.title('Curva ROC Kernel Linear')\n",
    "plt.plot(fpr, tpr, 'b', label = 'AUC = %0.2f' % roc_auc)\n",
    "plt.legend(loc = 'lower right')\n",
    "plt.plot([0, 1], [0, 1],'r--')\n",
    "plt.xlim([0, 1])\n",
    "plt.ylim([0, 1])\n",
    "plt.ylabel('True Positive Rate')\n",
    "plt.xlabel('False Positive Rate')\n",
    "plt.show()"
   ]
  },
  {
   "cell_type": "markdown",
   "id": "mVp7AOlnRQr9",
   "metadata": {
    "id": "mVp7AOlnRQr9"
   },
   "source": [
    "#### **Kernel Poly**"
   ]
  },
  {
   "cell_type": "code",
   "execution_count": 69,
   "id": "cVmNxp0TQQHq",
   "metadata": {
    "id": "cVmNxp0TQQHq"
   },
   "outputs": [],
   "source": [
    "from sklearn import svm\n",
    "svm_kernel_poly = svm.SVC(kernel = 'poly')\n",
    "prob_poly = svm_kernel_poly.fit(x_train, y_train)\n",
    "pred_svm_poly = svm_kernel_poly.predict(x_test)\n"
   ]
  },
  {
   "cell_type": "code",
   "execution_count": 70,
   "id": "LB3FXIdEQXMB",
   "metadata": {
    "colab": {
     "base_uri": "https://localhost:8080/"
    },
    "id": "LB3FXIdEQXMB",
    "outputId": "209a54d4-548e-4afd-c295-f372886a3902"
   },
   "outputs": [
    {
     "name": "stdout",
     "output_type": "stream",
     "text": [
      "Acurácia = 96.84813753581662 %\n"
     ]
    }
   ],
   "source": [
    "from sklearn.metrics import confusion_matrix, accuracy_score\n",
    "print(\"Acurácia =\", accuracy_score(y_test, pred_svm_poly) * 100, '%')"
   ]
  },
  {
   "cell_type": "code",
   "execution_count": 71,
   "id": "fgTzHJo4QZlz",
   "metadata": {
    "id": "fgTzHJo4QZlz"
   },
   "outputs": [],
   "source": [
    "import sklearn.metrics as metrics\n",
    "fpr, tpr, threshold = metrics.roc_curve(y_test, pred_svm_poly)\n",
    "roc_auc = metrics.auc(fpr, tpr)"
   ]
  },
  {
   "cell_type": "code",
   "execution_count": 72,
   "id": "scfIo4OzQbQK",
   "metadata": {
    "colab": {
     "base_uri": "https://localhost:8080/",
     "height": 295
    },
    "id": "scfIo4OzQbQK",
    "outputId": "3003aafc-7e96-4cbe-d3b1-4b42c6e5a720"
   },
   "outputs": [
    {
     "data": {
      "image/png": "[encoded data removed]",
      "text/plain": [
       "<Figure size 432x288 with 1 Axes>"
      ]
     },
     "metadata": {
      "needs_background": "light"
     },
     "output_type": "display_data"
    }
   ],
   "source": [
    "import matplotlib.pyplot as plt\n",
    "plt.title('Curva ROC Kernel Poly')\n",
    "plt.plot(fpr, tpr, 'b', label = 'AUC = %0.2f' % roc_auc)\n",
    "plt.legend(loc = 'lower right')\n",
    "plt.plot([0, 1], [0, 1],'r--')\n",
    "plt.xlim([0, 1])\n",
    "plt.ylim([0, 1])\n",
    "plt.ylabel('True Positive Rate')\n",
    "plt.xlabel('False Positive Rate')\n",
    "plt.show()"
   ]
  },
  {
   "cell_type": "markdown",
   "id": "XkS41VGeRkCG",
   "metadata": {
    "id": "XkS41VGeRkCG"
   },
   "source": [
    "#### **Kernel RBF**"
   ]
  },
  {
   "cell_type": "code",
   "execution_count": 73,
   "id": "Vhrx6EMiRWYM",
   "metadata": {
    "id": "Vhrx6EMiRWYM"
   },
   "outputs": [],
   "source": [
    "from sklearn import svm\n",
    "svm_kernel_rbf = svm.SVC(kernel = 'rbf')\n",
    "\n",
    "prob_rbf = svm_kernel_rbf.fit(x_train, y_train)\n",
    "pred_svm_rbf = svm_kernel_rbf.predict(x_test)"
   ]
  },
  {
   "cell_type": "code",
   "execution_count": 74,
   "id": "ImWyUqnjRQSu",
   "metadata": {
    "colab": {
     "base_uri": "https://localhost:8080/"
    },
    "id": "ImWyUqnjRQSu",
    "outputId": "f1837ada-2ff8-4aae-d973-63712db7fe60"
   },
   "outputs": [
    {
     "name": "stdout",
     "output_type": "stream",
     "text": [
      "Acurácia = 97.134670487106 %\n"
     ]
    }
   ],
   "source": [
    "from sklearn.metrics import confusion_matrix, accuracy_score\n",
    "print(\"Acurácia =\", accuracy_score(y_test, pred_svm_rbf) * 100, '%')"
   ]
  },
  {
   "cell_type": "code",
   "execution_count": 75,
   "id": "J6Lp_lX3Rq7e",
   "metadata": {
    "id": "J6Lp_lX3Rq7e"
   },
   "outputs": [],
   "source": [
    "import sklearn.metrics as metrics\n",
    "fpr, tpr, threshold = metrics.roc_curve(y_test, pred_svm_rbf)\n",
    "roc_auc = metrics.auc(fpr, tpr)"
   ]
  },
  {
   "cell_type": "code",
   "execution_count": 76,
   "id": "Cr5YqP5ZRs8m",
   "metadata": {
    "colab": {
     "base_uri": "https://localhost:8080/",
     "height": 295
    },
    "id": "Cr5YqP5ZRs8m",
    "outputId": "f86590a2-fcdf-401c-d166-cfd7ee4ffb41"
   },
   "outputs": [
    {
     "data": {
      "image/png": "[encoded data removed]",
      "text/plain": [
       "<Figure size 432x288 with 1 Axes>"
      ]
     },
     "metadata": {
      "needs_background": "light"
     },
     "output_type": "display_data"
    }
   ],
   "source": [
    "import matplotlib.pyplot as plt\n",
    "plt.title('Curva ROC Kernel rbf')\n",
    "plt.plot(fpr, tpr, 'b', label = 'AUC = %0.2f' % roc_auc)\n",
    "plt.legend(loc = 'lower right')\n",
    "plt.plot([0, 1], [0, 1],'r--')\n",
    "plt.xlim([0, 1])\n",
    "plt.ylim([0, 1])\n",
    "plt.ylabel('True Positive Rate')\n",
    "plt.xlabel('False Positive Rate')\n",
    "plt.show()"
   ]
  },
  {
   "cell_type": "markdown",
   "id": "zWjLySGGRzQI",
   "metadata": {
    "id": "zWjLySGGRzQI"
   },
   "source": [
    "#### **Kernel Sigmoid**"
   ]
  },
  {
   "cell_type": "code",
   "execution_count": 77,
   "id": "GzTh6tClRxmm",
   "metadata": {
    "id": "GzTh6tClRxmm"
   },
   "outputs": [],
   "source": [
    "from sklearn import svm\n",
    "svm_kernel_sigmoid = svm.SVC(kernel = 'sigmoid')\n",
    "\n",
    "prob_sigmoid = svm_kernel_sigmoid.fit(x_train, y_train)\n",
    "pred_svm_sigmoid = svm_kernel_sigmoid.predict(x_test)"
   ]
  },
  {
   "cell_type": "code",
   "execution_count": 78,
   "id": "rDXhbqpiSF8U",
   "metadata": {
    "colab": {
     "base_uri": "https://localhost:8080/"
    },
    "id": "rDXhbqpiSF8U",
    "outputId": "080f80fd-9366-4786-d0c7-8b6fc39f7d0c"
   },
   "outputs": [
    {
     "name": "stdout",
     "output_type": "stream",
     "text": [
      "Acurácia = 98.28080229226362 %\n"
     ]
    }
   ],
   "source": [
    "from sklearn.metrics import confusion_matrix, accuracy_score\n",
    "print(\"Acurácia =\", accuracy_score(y_test, pred_svm_sigmoid) * 100, '%')"
   ]
  },
  {
   "cell_type": "code",
   "execution_count": 79,
   "id": "5MaOvn9cSHcD",
   "metadata": {
    "id": "5MaOvn9cSHcD"
   },
   "outputs": [],
   "source": [
    "import sklearn.metrics as metrics\n",
    "fpr, tpr, threshold = metrics.roc_curve(y_test, pred_svm_sigmoid)\n",
    "roc_auc = metrics.auc(fpr, tpr)"
   ]
  },
  {
   "cell_type": "code",
   "execution_count": 80,
   "id": "cI9_EoGzSJNb",
   "metadata": {
    "colab": {
     "base_uri": "https://localhost:8080/",
     "height": 295
    },
    "id": "cI9_EoGzSJNb",
    "outputId": "6e9d6594-e732-4511-e5e2-7217a07dd374"
   },
   "outputs": [
    {
     "data": {
      "image/png": "[encoded data removed]",
      "text/plain": [
       "<Figure size 432x288 with 1 Axes>"
      ]
     },
     "metadata": {
      "needs_background": "light"
     },
     "output_type": "display_data"
    }
   ],
   "source": [
    "import matplotlib.pyplot as plt\n",
    "plt.title('Curva ROC Kernel Sigmoid')\n",
    "plt.plot(fpr, tpr, 'b', label = 'AUC = %0.2f' % roc_auc)\n",
    "plt.legend(loc = 'lower right')\n",
    "plt.plot([0, 1], [0, 1],'r--')\n",
    "plt.xlim([0, 1])\n",
    "plt.ylim([0, 1])\n",
    "plt.ylabel('True Positive Rate')\n",
    "plt.xlabel('False Positive Rate')\n",
    "plt.show()"
   ]
  },
  {
   "cell_type": "markdown",
   "id": "mkV-Xl0belfL",
   "metadata": {
    "id": "mkV-Xl0belfL"
   },
   "source": [
    "## Multiclassificação"
   ]
  },
  {
   "cell_type": "code",
   "execution_count": 81,
   "id": "ijLPSRcUXWOy",
   "metadata": {
    "id": "ijLPSRcUXWOy"
   },
   "outputs": [],
   "source": [
    "import numpy as np \n",
    "import pandas as pd\n",
    "import matplotlib.pyplot as plt\n",
    "from sklearn.tree import DecisionTreeClassifier, export_graphviz, plot_tree\n",
    "from sklearn import preprocessing, metrics\n",
    "from sklearn.model_selection import train_test_split\n",
    "import matplotlib.image as mpimg\n",
    "from sklearn.metrics import classification_report, confusion_matrix\n",
    "from IPython.display import Image \n",
    "from six import StringIO"
   ]
  },
  {
   "cell_type": "code",
   "execution_count": 82,
   "id": "mJQfRymqyBhs",
   "metadata": {
    "id": "mJQfRymqyBhs"
   },
   "outputs": [],
   "source": [
    "url = \"https://raw.githubusercontent.com/joaograndotto/PIBITI/main/Datasets/dados_multi_classe.csv\"\n",
    "df = pd.read_csv(url, delimiter=',')"
   ]
  },
  {
   "cell_type": "code",
   "execution_count": 83,
   "id": "iWudAa-syFzR",
   "metadata": {
    "id": "iWudAa-syFzR"
   },
   "outputs": [],
   "source": [
    "df['Affiliations'] = df['Affiliations'].apply( lambda x : str(x).lower() )\n",
    "df['Institution'] = df['Institution'].apply( lambda x : str(x).lower() )"
   ]
  },
  {
   "cell_type": "code",
   "execution_count": 84,
   "id": "C9r2ltdHyD6L",
   "metadata": {
    "colab": {
     "base_uri": "https://localhost:8080/"
    },
    "id": "C9r2ltdHyD6L",
    "outputId": "493c083f-ce95-4de9-e3f7-0ec4b610fad7"
   },
   "outputs": [
    {
     "data": {
      "text/plain": [
       "((121778,), (121778,))"
      ]
     },
     "execution_count": 84,
     "metadata": {},
     "output_type": "execute_result"
    }
   ],
   "source": [
    "X, y = df['Affiliations'], df['Institution']\n",
    "X.shape, y.shape"
   ]
  },
  {
   "cell_type": "code",
   "execution_count": 85,
   "id": "vbrLl4tWyHto",
   "metadata": {
    "colab": {
     "base_uri": "https://localhost:8080/"
    },
    "id": "vbrLl4tWyHto",
    "outputId": "c3910e12-45c6-4afa-e054-e45212f902fd"
   },
   "outputs": [
    {
     "name": "stderr",
     "output_type": "stream",
     "text": [
      "[nltk_data] Downloading package stopwords to\n",
      "[nltk_data]     /home/waldeyr/nltk_data...\n",
      "[nltk_data]   Package stopwords is already up-to-date!\n"
     ]
    }
   ],
   "source": [
    "import nltk\n",
    "from sklearn.datasets import load_files\n",
    "nltk.download('stopwords')\n",
    "import pickle\n",
    "from nltk.corpus import stopwords"
   ]
  },
  {
   "cell_type": "code",
   "execution_count": 86,
   "id": "_RMYOfJqyKwY",
   "metadata": {
    "id": "_RMYOfJqyKwY"
   },
   "outputs": [],
   "source": [
    "palavrasIgnoradas = \\\n",
    "    stopwords.words('portuguese') + \\\n",
    "    stopwords.words('english') + \\\n",
    "    stopwords.words('german') + \\\n",
    "    stopwords.words('spanish')"
   ]
  },
  {
   "cell_type": "code",
   "execution_count": 87,
   "id": "yhonsN-9yMsw",
   "metadata": {
    "id": "yhonsN-9yMsw"
   },
   "outputs": [],
   "source": [
    "from sklearn.feature_extraction.text import CountVectorizer\n",
    "vectorizer = CountVectorizer(\n",
    "    max_features = 1500, # vocabulário considera top max_features ordenadas por freq do termo no texto \n",
    "    min_df = 5, # ignorar termos com frequencia menor do que x, onde 0<=x<=1\n",
    "    max_df = 0.7, # ignorar termos com frequencia maior do que x, onde 0<=x<=1\n",
    "    stop_words = palavrasIgnoradas\n",
    ")"
   ]
  },
  {
   "cell_type": "code",
   "execution_count": 88,
   "id": "5PAfHvTbyONq",
   "metadata": {
    "colab": {
     "base_uri": "https://localhost:8080/"
    },
    "id": "5PAfHvTbyONq",
    "outputId": "712232ec-0782-4e24-fe74-683b561a92fd"
   },
   "outputs": [
    {
     "data": {
      "text/plain": [
       "<121778x1500 sparse matrix of type '<class 'numpy.int64'>'\n",
       "\twith 552759 stored elements in Compressed Sparse Row format>"
      ]
     },
     "execution_count": 88,
     "metadata": {},
     "output_type": "execute_result"
    }
   ],
   "source": [
    "vectorizer.fit_transform(X)"
   ]
  },
  {
   "cell_type": "code",
   "execution_count": 89,
   "id": "no14soeOyPxp",
   "metadata": {
    "id": "no14soeOyPxp"
   },
   "outputs": [],
   "source": [
    "X = vectorizer.fit_transform(X).toarray()"
   ]
  },
  {
   "cell_type": "code",
   "execution_count": 90,
   "id": "p_sBfeilyRbU",
   "metadata": {
    "id": "p_sBfeilyRbU"
   },
   "outputs": [],
   "source": [
    "from sklearn.feature_extraction.text import TfidfTransformer\n",
    "tfidfconverter = TfidfTransformer()\n",
    "X = tfidfconverter.fit_transform(X).toarray()"
   ]
  },
  {
   "cell_type": "code",
   "execution_count": 91,
   "id": "gK5jCyG2yR5Y",
   "metadata": {
    "id": "gK5jCyG2yR5Y"
   },
   "outputs": [],
   "source": [
    "X_treino, X_teste, y_treino, y_teste = train_test_split(X, y, test_size=0.1, random_state=0)"
   ]
  },
  {
   "cell_type": "code",
   "execution_count": 92,
   "id": "v35GF4Fqz4kI",
   "metadata": {
    "colab": {
     "base_uri": "https://localhost:8080/"
    },
    "id": "v35GF4Fqz4kI",
    "outputId": "173eb762-a6a2-4633-fc61-769b5e9f9a90"
   },
   "outputs": [
    {
     "data": {
      "text/plain": [
       "((109600, 1500), (12178,))"
      ]
     },
     "execution_count": 92,
     "metadata": {},
     "output_type": "execute_result"
    }
   ],
   "source": [
    "X_treino.shape, y_teste.shape"
   ]
  },
  {
   "cell_type": "code",
   "execution_count": null,
   "id": "JoBPgVuOyTuI",
   "metadata": {
    "id": "JoBPgVuOyTuI"
   },
   "outputs": [],
   "source": [
    "from sklearn import svm\n",
    "svm_kernel_linear = svm.SVC(kernel = 'linear',gamma=0.5, C=0.1)\n",
    "prob_linear = svm_kernel_linear.fit(X_treino, y_treino)"
   ]
  },
  {
   "cell_type": "code",
   "execution_count": null,
   "id": "BXZhJJu_vDRY",
   "metadata": {
    "id": "BXZhJJu_vDRY"
   },
   "outputs": [],
   "source": [
    "pred_svm_linear = svm_kernel_linear.predict(X_teste)\n",
    "from sklearn.metrics import confusion_matrix, accuracy_score\n",
    "print(\"Acurácia =\", accuracy_score(y_teste, pred_svm_linear) * 100, '%')"
   ]
  },
  {
   "cell_type": "code",
   "execution_count": null,
   "id": "rB_OMVm200qs",
   "metadata": {
    "id": "rB_OMVm200qs"
   },
   "outputs": [],
   "source": [
    "from sklearn.metrics import confusion_matrix, accuracy_score\n",
    "print(\"Acurácia =\", accuracy_score(y_teste, pred_svm_linear) * 100, '%')"
   ]
  }
 ],
 "metadata": {
  "colab": {
   "collapsed_sections": [],
   "name": "SVM.ipynb",
   "provenance": []
  },
  "kernelspec": {
   "display_name": "Python 3 (ipykernel)",
   "language": "python",
   "name": "python3"
  },
  "language_info": {
   "codemirror_mode": {
    "name": "ipython",
    "version": 3
   },
   "file_extension": ".py",
   "mimetype": "text/x-python",
   "name": "python",
   "nbconvert_exporter": "python",
   "pygments_lexer": "ipython3",
   "version": "3.7.12"
  }
 },
 "nbformat": 4,
 "nbformat_minor": 5
}
