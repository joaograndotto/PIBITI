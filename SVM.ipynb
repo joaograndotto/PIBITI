{
  "nbformat": 4,
  "nbformat_minor": 5,
  "metadata": {
    "kernelspec": {
      "display_name": "Python 3",
      "language": "python",
      "name": "python3"
    },
    "language_info": {
      "codemirror_mode": {
        "name": "ipython",
        "version": 3
      },
      "file_extension": ".py",
      "mimetype": "text/x-python",
      "name": "python",
      "nbconvert_exporter": "python",
      "pygments_lexer": "ipython3",
      "version": "3.6.13"
    },
    "colab": {
      "name": "SVM.ipynb",
      "provenance": [],
      "collapsed_sections": []
    }
  },
  "cells": [
    {
      "cell_type": "markdown",
      "metadata": {
        "id": "c5dbd12c"
      },
      "source": [
        "# Reconhecimento de nomes de instituições utilizando Inteligência Artificial\n",
        "\n",
        "## Projeto PIBITI  \n",
        "\n",
        "### Edital 18/2021-PROPPG-IFG\n",
        "\n",
        "#### Estudante (bolsista): João Gabriel Grandotto Viana\n",
        "#### Orientador: Waldeyr Mendes Cordeiro da Silva"
      ],
      "id": "c5dbd12c"
    },
    {
      "cell_type": "markdown",
      "metadata": {
        "id": "bd417891"
      },
      "source": [
        "## Parte 01 Coleta e tratamento de dados das fontes primárias"
      ],
      "id": "bd417891"
    },
    {
      "cell_type": "code",
      "metadata": {
        "id": "ec9c73fc"
      },
      "source": [
        "import numpy as np\n",
        "import matplotlib.pyplot as plt\n",
        "from sklearn import svm\n",
        "from sklearn.datasets import make_blobs\n",
        "import pandas as pd"
      ],
      "id": "ec9c73fc",
      "execution_count": 2,
      "outputs": []
    },
    {
      "cell_type": "code",
      "metadata": {
        "id": "7c4fae1b"
      },
      "source": [
        "url1 ='https://raw.githubusercontent.com/joaograndotto/PIBITI/main/Datasets/scopus.csv'\n",
        "url2 = 'https://raw.githubusercontent.com/joaograndotto/PIBITI/main/Datasets/webscience.csv'\n",
        "\n",
        "scopus = pd.read_csv(url1)\n",
        "web_of_science = pd.read_csv(url2, sep=\"\\t\" )"
      ],
      "id": "7c4fae1b",
      "execution_count": 3,
      "outputs": []
    },
    {
      "cell_type": "code",
      "metadata": {
        "id": "7bdf5ef9",
        "colab": {
          "base_uri": "https://localhost:8080/"
        },
        "outputId": "ae68d718-ea9b-40b2-a7ca-e3d88d7c2c8d"
      },
      "source": [
        "web_of_science.shape"
      ],
      "id": "7bdf5ef9",
      "execution_count": 4,
      "outputs": [
        {
          "output_type": "execute_result",
          "data": {
            "text/plain": [
              "(31, 67)"
            ]
          },
          "metadata": {},
          "execution_count": 4
        }
      ]
    },
    {
      "cell_type": "code",
      "metadata": {
        "id": "566813c6",
        "colab": {
          "base_uri": "https://localhost:8080/"
        },
        "outputId": "53d44e22-d316-423e-8fe1-34c465d20e48"
      },
      "source": [
        "scopus.shape"
      ],
      "id": "566813c6",
      "execution_count": 5,
      "outputs": [
        {
          "output_type": "execute_result",
          "data": {
            "text/plain": [
              "(1276, 50)"
            ]
          },
          "metadata": {},
          "execution_count": 5
        }
      ]
    },
    {
      "cell_type": "code",
      "metadata": {
        "id": "89ba49c6"
      },
      "source": [
        "#Renomeie as Colunas relacionadas porque estavam com os nomes diferentes\n",
        "web_of_science.rename(columns={'Publication Year': 'Year'}, inplace = True)\n",
        "web_of_science.rename(columns={'Article Title': 'Title'}, inplace = True)\n",
        "web_of_science.rename(columns={'Publisher': 'Affiliations'}, inplace = True)"
      ],
      "id": "89ba49c6",
      "execution_count": 6,
      "outputs": []
    },
    {
      "cell_type": "code",
      "metadata": {
        "id": "26a86703",
        "colab": {
          "base_uri": "https://localhost:8080/"
        },
        "outputId": "a40c73dd-a580-4ce5-fe12-e2a6bc503122"
      },
      "source": [
        "scopus[\"Affiliations\"].head(10)"
      ],
      "id": "26a86703",
      "execution_count": 7,
      "outputs": [
        {
          "output_type": "execute_result",
          "data": {
            "text/plain": [
              "0    Instituto Federal de Goiás-IFG, Campus Goiânia...\n",
              "1    Instituto Federal de Goiás (IFG), Aparecida de...\n",
              "2    Instituto Federal de Educação, Ciência e Tecno...\n",
              "3    Universidade Federal de Goiás – UFG, Rede Pró ...\n",
              "4    Department of Agronomy, Universidade Federal R...\n",
              "5    Institute for Hygiene and Public Health, Medic...\n",
              "6    Department of Environmental Informatics, Helmh...\n",
              "7    Grupo de Estudos em Geomática (GEO), Instituto...\n",
              "8    Laboratory of Environmental Biotechnology and ...\n",
              "9    Universidade Federal de Goiás (UFG), Instituto...\n",
              "Name: Affiliations, dtype: object"
            ]
          },
          "metadata": {},
          "execution_count": 7
        }
      ]
    },
    {
      "cell_type": "code",
      "metadata": {
        "id": "16b8e5c1",
        "colab": {
          "base_uri": "https://localhost:8080/"
        },
        "outputId": "4b8451d1-fb60-4cba-ab86-2c76270267b8"
      },
      "source": [
        "web_of_science[\"Affiliations\"].head(10)"
      ],
      "id": "16b8e5c1",
      "execution_count": 8,
      "outputs": [
        {
          "output_type": "execute_result",
          "data": {
            "text/plain": [
              "0    INST FED EDUCATION, SCIENCE & TECHNOLOGY OF GO...\n",
              "1    INST FED EDUCATION, SCIENCE & TECHNOLOGY OF GO...\n",
              "2                        UNIV DO VALE DO RIO DOS SINOS\n",
              "3    INST FED EDUCATION, SCIENCE & TECHNOLOGY OF GO...\n",
              "4                                             ELSEVIER\n",
              "5                          UNIV FEDERAL CAMPINA GRANDE\n",
              "6    INST FED EDUCATION, SCIENCE & TECHNOLOGY OF GO...\n",
              "7                PONTIFICIA UNIV CATOLICA PARANA-PUCPR\n",
              "8                             UNIV FEDERAL SANTA MARIA\n",
              "9                                      INST AGRONOMICO\n",
              "Name: Affiliations, dtype: object"
            ]
          },
          "metadata": {},
          "execution_count": 8
        }
      ]
    },
    {
      "cell_type": "code",
      "metadata": {
        "id": "ce40cbae"
      },
      "source": [
        "#juntando os três dataframes\n",
        "result = pd.concat([scopus, web_of_science])"
      ],
      "id": "ce40cbae",
      "execution_count": 9,
      "outputs": []
    },
    {
      "cell_type": "code",
      "metadata": {
        "id": "fe76de0f"
      },
      "source": [
        "nulos = result.loc[result['DOI'].isnull()] # somente registros sem DOI\n",
        "nulos.index[0]\n",
        "result = result.drop([nulos.index[0]])"
      ],
      "id": "fe76de0f",
      "execution_count": 10,
      "outputs": []
    },
    {
      "cell_type": "code",
      "metadata": {
        "id": "ab50c874"
      },
      "source": [
        "total_artigos = result.shape[0]"
      ],
      "id": "ab50c874",
      "execution_count": 11,
      "outputs": []
    },
    {
      "cell_type": "code",
      "metadata": {
        "id": "d6aab840",
        "colab": {
          "base_uri": "https://localhost:8080/"
        },
        "outputId": "4aeb99b0-5e49-4620-c010-255591aa7459"
      },
      "source": [
        "result.columns"
      ],
      "id": "d6aab840",
      "execution_count": 12,
      "outputs": [
        {
          "output_type": "execute_result",
          "data": {
            "text/plain": [
              "Index(['Authors', 'Author(s) ID', 'Title', 'Year', 'Source title', 'Volume',\n",
              "       'Issue', 'Art. No.', 'Page start', 'Page end',\n",
              "       ...\n",
              "       'Number of Pages', 'WoS Categories', 'Research Areas', 'IDS Number',\n",
              "       'UT (Unique WOS ID)', 'Pubmed Id', 'Open Access Designations',\n",
              "       'Highly Cited Status', 'Hot Paper Status', 'Date of Export'],\n",
              "      dtype='object', length=105)"
            ]
          },
          "metadata": {},
          "execution_count": 12
        }
      ]
    },
    {
      "cell_type": "code",
      "metadata": {
        "id": "7ExyJuUfkJV4",
        "colab": {
          "base_uri": "https://localhost:8080/"
        },
        "outputId": "c3a5e805-532b-4593-c577-20bdfa411908"
      },
      "source": [
        "result['Affiliations']"
      ],
      "id": "7ExyJuUfkJV4",
      "execution_count": 13,
      "outputs": [
        {
          "output_type": "execute_result",
          "data": {
            "text/plain": [
              "0     Instituto Federal de Goiás-IFG, Campus Goiânia...\n",
              "1     Instituto Federal de Goiás (IFG), Aparecida de...\n",
              "2     Instituto Federal de Educação, Ciência e Tecno...\n",
              "3     Universidade Federal de Goiás – UFG, Rede Pró ...\n",
              "4     Department of Agronomy, Universidade Federal R...\n",
              "                            ...                        \n",
              "26                                      UNIV NOVE JULHO\n",
              "27                                                  NaN\n",
              "28                                                  NaN\n",
              "29                                                  NaN\n",
              "30                                                  NaN\n",
              "Name: Affiliations, Length: 1306, dtype: object"
            ]
          },
          "metadata": {},
          "execution_count": 13
        }
      ]
    },
    {
      "cell_type": "code",
      "metadata": {
        "id": "3b7cf69f",
        "colab": {
          "base_uri": "https://localhost:8080/"
        },
        "outputId": "feb834bf-56b9-4e26-c559-7f0a86a242fb"
      },
      "source": [
        "#Verificando duplicados na coluna DOI e apagando as linhas com DOI duplicado\n",
        "result = result.drop_duplicates(subset=['DOI'], keep='first')\n",
        "result \n",
        "result.shape"
      ],
      "id": "3b7cf69f",
      "execution_count": 14,
      "outputs": [
        {
          "output_type": "execute_result",
          "data": {
            "text/plain": [
              "(1162, 105)"
            ]
          },
          "metadata": {},
          "execution_count": 14
        }
      ]
    },
    {
      "cell_type": "code",
      "metadata": {
        "id": "1ac0b2c1",
        "colab": {
          "base_uri": "https://localhost:8080/"
        },
        "outputId": "2b8747a6-af64-4247-b517-05bdf2ae30d7"
      },
      "source": [
        "duplicados_eliminados = total_artigos - result.shape[0]\n",
        "duplicados_eliminados"
      ],
      "id": "1ac0b2c1",
      "execution_count": 15,
      "outputs": [
        {
          "output_type": "execute_result",
          "data": {
            "text/plain": [
              "144"
            ]
          },
          "metadata": {},
          "execution_count": 15
        }
      ]
    },
    {
      "cell_type": "code",
      "metadata": {
        "id": "e582e5c5"
      },
      "source": [
        "# nomear os indices do tamanho do novo dataframe\n",
        "index =[]  \n",
        "for i in range(result.shape[0]): \n",
        "    index.append(i)\n",
        "result.index = index"
      ],
      "id": "e582e5c5",
      "execution_count": 16,
      "outputs": []
    },
    {
      "cell_type": "code",
      "metadata": {
        "id": "a5151517",
        "colab": {
          "base_uri": "https://localhost:8080/",
          "height": 424
        },
        "outputId": "5993a74b-0bf9-475a-a933-2344db5cb9fa"
      },
      "source": [
        "result[['DOI', 'Title', 'Affiliations']]"
      ],
      "id": "a5151517",
      "execution_count": 17,
      "outputs": [
        {
          "output_type": "execute_result",
          "data": {
            "text/html": [
              "\n",
              "  <div id=\"df-96bee685-be05-45ad-b823-4dabbb4d1eb2\">\n",
              "    <div class=\"colab-df-container\">\n",
              "      <div>\n",
              "<style scoped>\n",
              "    .dataframe tbody tr th:only-of-type {\n",
              "        vertical-align: middle;\n",
              "    }\n",
              "\n",
              "    .dataframe tbody tr th {\n",
              "        vertical-align: top;\n",
              "    }\n",
              "\n",
              "    .dataframe thead th {\n",
              "        text-align: right;\n",
              "    }\n",
              "</style>\n",
              "<table border=\"1\" class=\"dataframe\">\n",
              "  <thead>\n",
              "    <tr style=\"text-align: right;\">\n",
              "      <th></th>\n",
              "      <th>DOI</th>\n",
              "      <th>Title</th>\n",
              "      <th>Affiliations</th>\n",
              "    </tr>\n",
              "  </thead>\n",
              "  <tbody>\n",
              "    <tr>\n",
              "      <th>0</th>\n",
              "      <td>10.1016/j.nonrwa.2021.103406</td>\n",
              "      <td>Classical solution for a nonlinear hybrid syst...</td>\n",
              "      <td>Instituto Federal de Goiás-IFG, Campus Goiânia...</td>\n",
              "    </tr>\n",
              "    <tr>\n",
              "      <th>1</th>\n",
              "      <td>10.1007/978-3-030-79165-0_25</td>\n",
              "      <td>An Innovative Textile Product Proposal Based o...</td>\n",
              "      <td>Instituto Federal de Goiás (IFG), Aparecida de...</td>\n",
              "    </tr>\n",
              "    <tr>\n",
              "      <th>2</th>\n",
              "      <td>10.1590/1519-6984.245368</td>\n",
              "      <td>Detection of enteroparasites in foliar vegetab...</td>\n",
              "      <td>Instituto Federal de Educação, Ciência e Tecno...</td>\n",
              "    </tr>\n",
              "    <tr>\n",
              "      <th>3</th>\n",
              "      <td>10.1590/1519-6984.234476</td>\n",
              "      <td>Phytochemical characterization, and antioxidan...</td>\n",
              "      <td>Universidade Federal de Goiás – UFG, Rede Pró ...</td>\n",
              "    </tr>\n",
              "    <tr>\n",
              "      <th>4</th>\n",
              "      <td>10.1038/s41598-021-97854-8</td>\n",
              "      <td>Stability analysis of reference genes for RT-q...</td>\n",
              "      <td>Department of Agronomy, Universidade Federal R...</td>\n",
              "    </tr>\n",
              "    <tr>\n",
              "      <th>...</th>\n",
              "      <td>...</td>\n",
              "      <td>...</td>\n",
              "      <td>...</td>\n",
              "    </tr>\n",
              "    <tr>\n",
              "      <th>1157</th>\n",
              "      <td>10.31977/grirfi.v16i2.774</td>\n",
              "      <td>HUMAN RIGHTS: FROM THE UNIFORMITY OF THE SPECI...</td>\n",
              "      <td>UNIV FED RECONCAVO BAHIA, CENTRO FORMACAO PROF...</td>\n",
              "    </tr>\n",
              "    <tr>\n",
              "      <th>1158</th>\n",
              "      <td>10.1590/S0101-31732015000400002</td>\n",
              "      <td>PRESENTATION OF THE DOSSIER ROUSSEAU</td>\n",
              "      <td>UNESP-MARILIA</td>\n",
              "    </tr>\n",
              "    <tr>\n",
              "      <th>1159</th>\n",
              "      <td>10.1590/S1415-43662014000400013</td>\n",
              "      <td>Physiological quality of soybean seeds stored ...</td>\n",
              "      <td>UNIV FEDERAL CAMPINA GRANDE</td>\n",
              "    </tr>\n",
              "    <tr>\n",
              "      <th>1160</th>\n",
              "      <td>10.1590/S0034-89102010005000053</td>\n",
              "      <td>Ethics in the publication of studies on human ...</td>\n",
              "      <td>REVISTA DE SAUDE PUBLICA</td>\n",
              "    </tr>\n",
              "    <tr>\n",
              "      <th>1161</th>\n",
              "      <td>10.5585/iji.v4i1.67</td>\n",
              "      <td>SYSTEMATIC REVIEW OF THE LITERATURE SOCIAL ENT...</td>\n",
              "      <td>UNIV NOVE JULHO</td>\n",
              "    </tr>\n",
              "  </tbody>\n",
              "</table>\n",
              "<p>1162 rows × 3 columns</p>\n",
              "</div>\n",
              "      <button class=\"colab-df-convert\" onclick=\"convertToInteractive('df-96bee685-be05-45ad-b823-4dabbb4d1eb2')\"\n",
              "              title=\"Convert this dataframe to an interactive table.\"\n",
              "              style=\"display:none;\">\n",
              "        \n",
              "  <svg xmlns=\"http://www.w3.org/2000/svg\" height=\"24px\"viewBox=\"0 0 24 24\"\n",
              "       width=\"24px\">\n",
              "    <path d=\"M0 0h24v24H0V0z\" fill=\"none\"/>\n",
              "    <path d=\"M18.56 5.44l.94 2.06.94-2.06 2.06-.94-2.06-.94-.94-2.06-.94 2.06-2.06.94zm-11 1L8.5 8.5l.94-2.06 2.06-.94-2.06-.94L8.5 2.5l-.94 2.06-2.06.94zm10 10l.94 2.06.94-2.06 2.06-.94-2.06-.94-.94-2.06-.94 2.06-2.06.94z\"/><path d=\"M17.41 7.96l-1.37-1.37c-.4-.4-.92-.59-1.43-.59-.52 0-1.04.2-1.43.59L10.3 9.45l-7.72 7.72c-.78.78-.78 2.05 0 2.83L4 21.41c.39.39.9.59 1.41.59.51 0 1.02-.2 1.41-.59l7.78-7.78 2.81-2.81c.8-.78.8-2.07 0-2.86zM5.41 20L4 18.59l7.72-7.72 1.47 1.35L5.41 20z\"/>\n",
              "  </svg>\n",
              "      </button>\n",
              "      \n",
              "  <style>\n",
              "    .colab-df-container {\n",
              "      display:flex;\n",
              "      flex-wrap:wrap;\n",
              "      gap: 12px;\n",
              "    }\n",
              "\n",
              "    .colab-df-convert {\n",
              "      background-color: #E8F0FE;\n",
              "      border: none;\n",
              "      border-radius: 50%;\n",
              "      cursor: pointer;\n",
              "      display: none;\n",
              "      fill: #1967D2;\n",
              "      height: 32px;\n",
              "      padding: 0 0 0 0;\n",
              "      width: 32px;\n",
              "    }\n",
              "\n",
              "    .colab-df-convert:hover {\n",
              "      background-color: #E2EBFA;\n",
              "      box-shadow: 0px 1px 2px rgba(60, 64, 67, 0.3), 0px 1px 3px 1px rgba(60, 64, 67, 0.15);\n",
              "      fill: #174EA6;\n",
              "    }\n",
              "\n",
              "    [theme=dark] .colab-df-convert {\n",
              "      background-color: #3B4455;\n",
              "      fill: #D2E3FC;\n",
              "    }\n",
              "\n",
              "    [theme=dark] .colab-df-convert:hover {\n",
              "      background-color: #434B5C;\n",
              "      box-shadow: 0px 1px 3px 1px rgba(0, 0, 0, 0.15);\n",
              "      filter: drop-shadow(0px 1px 2px rgba(0, 0, 0, 0.3));\n",
              "      fill: #FFFFFF;\n",
              "    }\n",
              "  </style>\n",
              "\n",
              "      <script>\n",
              "        const buttonEl =\n",
              "          document.querySelector('#df-96bee685-be05-45ad-b823-4dabbb4d1eb2 button.colab-df-convert');\n",
              "        buttonEl.style.display =\n",
              "          google.colab.kernel.accessAllowed ? 'block' : 'none';\n",
              "\n",
              "        async function convertToInteractive(key) {\n",
              "          const element = document.querySelector('#df-96bee685-be05-45ad-b823-4dabbb4d1eb2');\n",
              "          const dataTable =\n",
              "            await google.colab.kernel.invokeFunction('convertToInteractive',\n",
              "                                                     [key], {});\n",
              "          if (!dataTable) return;\n",
              "\n",
              "          const docLinkHtml = 'Like what you see? Visit the ' +\n",
              "            '<a target=\"_blank\" href=https://colab.research.google.com/notebooks/data_table.ipynb>data table notebook</a>'\n",
              "            + ' to learn more about interactive tables.';\n",
              "          element.innerHTML = '';\n",
              "          dataTable['output_type'] = 'display_data';\n",
              "          await google.colab.output.renderOutput(dataTable, element);\n",
              "          const docLink = document.createElement('div');\n",
              "          docLink.innerHTML = docLinkHtml;\n",
              "          element.appendChild(docLink);\n",
              "        }\n",
              "      </script>\n",
              "    </div>\n",
              "  </div>\n",
              "  "
            ],
            "text/plain": [
              "                                  DOI  ...                                       Affiliations\n",
              "0        10.1016/j.nonrwa.2021.103406  ...  Instituto Federal de Goiás-IFG, Campus Goiânia...\n",
              "1        10.1007/978-3-030-79165-0_25  ...  Instituto Federal de Goiás (IFG), Aparecida de...\n",
              "2            10.1590/1519-6984.245368  ...  Instituto Federal de Educação, Ciência e Tecno...\n",
              "3            10.1590/1519-6984.234476  ...  Universidade Federal de Goiás – UFG, Rede Pró ...\n",
              "4          10.1038/s41598-021-97854-8  ...  Department of Agronomy, Universidade Federal R...\n",
              "...                               ...  ...                                                ...\n",
              "1157        10.31977/grirfi.v16i2.774  ...  UNIV FED RECONCAVO BAHIA, CENTRO FORMACAO PROF...\n",
              "1158  10.1590/S0101-31732015000400002  ...                                      UNESP-MARILIA\n",
              "1159  10.1590/S1415-43662014000400013  ...                        UNIV FEDERAL CAMPINA GRANDE\n",
              "1160  10.1590/S0034-89102010005000053  ...                           REVISTA DE SAUDE PUBLICA\n",
              "1161              10.5585/iji.v4i1.67  ...                                    UNIV NOVE JULHO\n",
              "\n",
              "[1162 rows x 3 columns]"
            ]
          },
          "metadata": {},
          "execution_count": 17
        }
      ]
    },
    {
      "cell_type": "code",
      "metadata": {
        "id": "d1d2aaad"
      },
      "source": [
        "result[['DOI','Affiliations']].to_csv(\"dados_para_label.tsv\", sep = \"\\t\", index=False)"
      ],
      "id": "d1d2aaad",
      "execution_count": 18,
      "outputs": []
    },
    {
      "cell_type": "markdown",
      "metadata": {
        "id": "0284381d"
      },
      "source": [
        "## Parte 02 - Tratamento dos dados etiquetados\n",
        "\n",
        "Os dados slecionados foram etiquetados manualmente e salvos no dataset [dados com label](https://raw.githubusercontent.com/joaograndotto/PIBITI/main/Datasets/dados_com_label.csv)"
      ],
      "id": "0284381d"
    },
    {
      "cell_type": "code",
      "metadata": {
        "id": "jAHm1hykaTot",
        "colab": {
          "base_uri": "https://localhost:8080/",
          "height": 240
        },
        "outputId": "5ec13ff7-4bc5-4fe8-8d02-5c7e24682252"
      },
      "source": [
        "url = 'https://raw.githubusercontent.com/joaograndotto/PIBITI/main/Datasets/dados_com_label.csv'\n",
        "\n",
        "dataset = pd.read_csv(url, sep=\",\" )\n",
        "dataset.sample(n=3)"
      ],
      "id": "jAHm1hykaTot",
      "execution_count": 19,
      "outputs": [
        {
          "output_type": "execute_result",
          "data": {
            "text/html": [
              "\n",
              "  <div id=\"df-579a9ff9-71c0-47f9-847c-ed48592ee8ee\">\n",
              "    <div class=\"colab-df-container\">\n",
              "      <div>\n",
              "<style scoped>\n",
              "    .dataframe tbody tr th:only-of-type {\n",
              "        vertical-align: middle;\n",
              "    }\n",
              "\n",
              "    .dataframe tbody tr th {\n",
              "        vertical-align: top;\n",
              "    }\n",
              "\n",
              "    .dataframe thead th {\n",
              "        text-align: right;\n",
              "    }\n",
              "</style>\n",
              "<table border=\"1\" class=\"dataframe\">\n",
              "  <thead>\n",
              "    <tr style=\"text-align: right;\">\n",
              "      <th></th>\n",
              "      <th>DOI</th>\n",
              "      <th>Title</th>\n",
              "      <th>Year</th>\n",
              "      <th>Affiliations</th>\n",
              "      <th>Campus</th>\n",
              "      <th>Institution</th>\n",
              "    </tr>\n",
              "  </thead>\n",
              "  <tbody>\n",
              "    <tr>\n",
              "      <th>1038</th>\n",
              "      <td>10.3917/machr.203.0025</td>\n",
              "      <td>The geopolitical issues of the French cultural...</td>\n",
              "      <td>2010</td>\n",
              "      <td>L'Institut Français de Géopolitique (IFG), Par...</td>\n",
              "      <td>France</td>\n",
              "      <td>L'Institut Français de Géopolitique</td>\n",
              "    </tr>\n",
              "    <tr>\n",
              "      <th>74</th>\n",
              "      <td>10.1007/s12274-020-2953-z</td>\n",
              "      <td>Hierarchical assemblies of molecular framework...</td>\n",
              "      <td>2021</td>\n",
              "      <td>Institute of Functional Interfaces (IFG), Karl...</td>\n",
              "      <td>Eggenstein-Leopoldshafen</td>\n",
              "      <td>Institute of Functional Interfaces</td>\n",
              "    </tr>\n",
              "    <tr>\n",
              "      <th>1034</th>\n",
              "      <td>10.1021/jz100115k</td>\n",
              "      <td>Photoluminescence properties of a molecular or...</td>\n",
              "      <td>2010</td>\n",
              "      <td>Max Planck Institute for Biophysical Chemistry...</td>\n",
              "      <td>Germany</td>\n",
              "      <td>Structural Dynamics of (Bio)chemical Systems</td>\n",
              "    </tr>\n",
              "  </tbody>\n",
              "</table>\n",
              "</div>\n",
              "      <button class=\"colab-df-convert\" onclick=\"convertToInteractive('df-579a9ff9-71c0-47f9-847c-ed48592ee8ee')\"\n",
              "              title=\"Convert this dataframe to an interactive table.\"\n",
              "              style=\"display:none;\">\n",
              "        \n",
              "  <svg xmlns=\"http://www.w3.org/2000/svg\" height=\"24px\"viewBox=\"0 0 24 24\"\n",
              "       width=\"24px\">\n",
              "    <path d=\"M0 0h24v24H0V0z\" fill=\"none\"/>\n",
              "    <path d=\"M18.56 5.44l.94 2.06.94-2.06 2.06-.94-2.06-.94-.94-2.06-.94 2.06-2.06.94zm-11 1L8.5 8.5l.94-2.06 2.06-.94-2.06-.94L8.5 2.5l-.94 2.06-2.06.94zm10 10l.94 2.06.94-2.06 2.06-.94-2.06-.94-.94-2.06-.94 2.06-2.06.94z\"/><path d=\"M17.41 7.96l-1.37-1.37c-.4-.4-.92-.59-1.43-.59-.52 0-1.04.2-1.43.59L10.3 9.45l-7.72 7.72c-.78.78-.78 2.05 0 2.83L4 21.41c.39.39.9.59 1.41.59.51 0 1.02-.2 1.41-.59l7.78-7.78 2.81-2.81c.8-.78.8-2.07 0-2.86zM5.41 20L4 18.59l7.72-7.72 1.47 1.35L5.41 20z\"/>\n",
              "  </svg>\n",
              "      </button>\n",
              "      \n",
              "  <style>\n",
              "    .colab-df-container {\n",
              "      display:flex;\n",
              "      flex-wrap:wrap;\n",
              "      gap: 12px;\n",
              "    }\n",
              "\n",
              "    .colab-df-convert {\n",
              "      background-color: #E8F0FE;\n",
              "      border: none;\n",
              "      border-radius: 50%;\n",
              "      cursor: pointer;\n",
              "      display: none;\n",
              "      fill: #1967D2;\n",
              "      height: 32px;\n",
              "      padding: 0 0 0 0;\n",
              "      width: 32px;\n",
              "    }\n",
              "\n",
              "    .colab-df-convert:hover {\n",
              "      background-color: #E2EBFA;\n",
              "      box-shadow: 0px 1px 2px rgba(60, 64, 67, 0.3), 0px 1px 3px 1px rgba(60, 64, 67, 0.15);\n",
              "      fill: #174EA6;\n",
              "    }\n",
              "\n",
              "    [theme=dark] .colab-df-convert {\n",
              "      background-color: #3B4455;\n",
              "      fill: #D2E3FC;\n",
              "    }\n",
              "\n",
              "    [theme=dark] .colab-df-convert:hover {\n",
              "      background-color: #434B5C;\n",
              "      box-shadow: 0px 1px 3px 1px rgba(0, 0, 0, 0.15);\n",
              "      filter: drop-shadow(0px 1px 2px rgba(0, 0, 0, 0.3));\n",
              "      fill: #FFFFFF;\n",
              "    }\n",
              "  </style>\n",
              "\n",
              "      <script>\n",
              "        const buttonEl =\n",
              "          document.querySelector('#df-579a9ff9-71c0-47f9-847c-ed48592ee8ee button.colab-df-convert');\n",
              "        buttonEl.style.display =\n",
              "          google.colab.kernel.accessAllowed ? 'block' : 'none';\n",
              "\n",
              "        async function convertToInteractive(key) {\n",
              "          const element = document.querySelector('#df-579a9ff9-71c0-47f9-847c-ed48592ee8ee');\n",
              "          const dataTable =\n",
              "            await google.colab.kernel.invokeFunction('convertToInteractive',\n",
              "                                                     [key], {});\n",
              "          if (!dataTable) return;\n",
              "\n",
              "          const docLinkHtml = 'Like what you see? Visit the ' +\n",
              "            '<a target=\"_blank\" href=https://colab.research.google.com/notebooks/data_table.ipynb>data table notebook</a>'\n",
              "            + ' to learn more about interactive tables.';\n",
              "          element.innerHTML = '';\n",
              "          dataTable['output_type'] = 'display_data';\n",
              "          await google.colab.output.renderOutput(dataTable, element);\n",
              "          const docLink = document.createElement('div');\n",
              "          docLink.innerHTML = docLinkHtml;\n",
              "          element.appendChild(docLink);\n",
              "        }\n",
              "      </script>\n",
              "    </div>\n",
              "  </div>\n",
              "  "
            ],
            "text/plain": [
              "                            DOI  ...                                    Institution\n",
              "1038     10.3917/machr.203.0025  ...            L'Institut Français de Géopolitique\n",
              "74    10.1007/s12274-020-2953-z  ...             Institute of Functional Interfaces\n",
              "1034          10.1021/jz100115k  ...   Structural Dynamics of (Bio)chemical Systems\n",
              "\n",
              "[3 rows x 6 columns]"
            ]
          },
          "metadata": {},
          "execution_count": 19
        }
      ]
    },
    {
      "cell_type": "markdown",
      "metadata": {
        "id": "839bde0c"
      },
      "source": [
        "### Estratégia 01 - Saco de palavras\n",
        "\n",
        "Os arquivos de texto precisam ser convertidos em arquivos numéricos para serem utilizaod por algoritmos de machine learning.\n",
        "\n",
        "A primeira estratégia que utilizaremos e aquela conhecida como saco de palavras, onde um texto é segmentado em palavras (separadas por espaço), calcula-se a frequência dessas pavras em cada documento e finalmente é atribuído um ID para cada palavra."
      ],
      "id": "839bde0c"
    },
    {
      "cell_type": "code",
      "metadata": {
        "id": "101be259"
      },
      "source": [
        "dataset = pd.read_csv('https://raw.githubusercontent.com/joaograndotto/PIBITI/main/Datasets/dados_com_label.csv')\n",
        "\n",
        "dataset['IFG'] = dataset['Institution'].apply(lambda x: 1 if str(x).strip() == \"Instituto Federal de Goiás\" else 0)"
      ],
      "id": "101be259",
      "execution_count": 20,
      "outputs": []
    },
    {
      "cell_type": "code",
      "metadata": {
        "id": "ZfzUZlWzNb4b",
        "colab": {
          "base_uri": "https://localhost:8080/",
          "height": 240
        },
        "outputId": "d9910243-cac3-4b6c-abbe-b94161561bf1"
      },
      "source": [
        "dataset.sample(n=3)"
      ],
      "id": "ZfzUZlWzNb4b",
      "execution_count": 21,
      "outputs": [
        {
          "output_type": "execute_result",
          "data": {
            "text/html": [
              "\n",
              "  <div id=\"df-5fb8fd86-aec4-4ffc-af8d-9f89942aaa66\">\n",
              "    <div class=\"colab-df-container\">\n",
              "      <div>\n",
              "<style scoped>\n",
              "    .dataframe tbody tr th:only-of-type {\n",
              "        vertical-align: middle;\n",
              "    }\n",
              "\n",
              "    .dataframe tbody tr th {\n",
              "        vertical-align: top;\n",
              "    }\n",
              "\n",
              "    .dataframe thead th {\n",
              "        text-align: right;\n",
              "    }\n",
              "</style>\n",
              "<table border=\"1\" class=\"dataframe\">\n",
              "  <thead>\n",
              "    <tr style=\"text-align: right;\">\n",
              "      <th></th>\n",
              "      <th>DOI</th>\n",
              "      <th>Title</th>\n",
              "      <th>Year</th>\n",
              "      <th>Affiliations</th>\n",
              "      <th>Campus</th>\n",
              "      <th>Institution</th>\n",
              "      <th>IFG</th>\n",
              "    </tr>\n",
              "  </thead>\n",
              "  <tbody>\n",
              "    <tr>\n",
              "      <th>468</th>\n",
              "      <td>10.1590/1980-4415v31n58a14</td>\n",
              "      <td>Formation of the concept of volume in the earl...</td>\n",
              "      <td>2017</td>\n",
              "      <td>Universidade Estadual Paulista (UNESP), Instit...</td>\n",
              "      <td>Goiânia</td>\n",
              "      <td>Instituto Federal de Goiás</td>\n",
              "      <td>1</td>\n",
              "    </tr>\n",
              "    <tr>\n",
              "      <th>34</th>\n",
              "      <td>10.1145/3466933.3466964</td>\n",
              "      <td>A Measurement Approach to the Bourdieusian Soc...</td>\n",
              "      <td>2021</td>\n",
              "      <td>NETI-Numbers, Inhumas Campus, Federal Institut...</td>\n",
              "      <td>Inhumas</td>\n",
              "      <td>Instituto Federal de Goiás</td>\n",
              "      <td>1</td>\n",
              "    </tr>\n",
              "    <tr>\n",
              "      <th>422</th>\n",
              "      <td>10.1590/0104-070720180004570017</td>\n",
              "      <td>Hand hygiene and influenza prevention: Knowled...</td>\n",
              "      <td>2018</td>\n",
              "      <td>Instituto Federal de Educação, Ciência e Tecno...</td>\n",
              "      <td>Goiânia</td>\n",
              "      <td>Instituto Federal de Goiás</td>\n",
              "      <td>1</td>\n",
              "    </tr>\n",
              "  </tbody>\n",
              "</table>\n",
              "</div>\n",
              "      <button class=\"colab-df-convert\" onclick=\"convertToInteractive('df-5fb8fd86-aec4-4ffc-af8d-9f89942aaa66')\"\n",
              "              title=\"Convert this dataframe to an interactive table.\"\n",
              "              style=\"display:none;\">\n",
              "        \n",
              "  <svg xmlns=\"http://www.w3.org/2000/svg\" height=\"24px\"viewBox=\"0 0 24 24\"\n",
              "       width=\"24px\">\n",
              "    <path d=\"M0 0h24v24H0V0z\" fill=\"none\"/>\n",
              "    <path d=\"M18.56 5.44l.94 2.06.94-2.06 2.06-.94-2.06-.94-.94-2.06-.94 2.06-2.06.94zm-11 1L8.5 8.5l.94-2.06 2.06-.94-2.06-.94L8.5 2.5l-.94 2.06-2.06.94zm10 10l.94 2.06.94-2.06 2.06-.94-2.06-.94-.94-2.06-.94 2.06-2.06.94z\"/><path d=\"M17.41 7.96l-1.37-1.37c-.4-.4-.92-.59-1.43-.59-.52 0-1.04.2-1.43.59L10.3 9.45l-7.72 7.72c-.78.78-.78 2.05 0 2.83L4 21.41c.39.39.9.59 1.41.59.51 0 1.02-.2 1.41-.59l7.78-7.78 2.81-2.81c.8-.78.8-2.07 0-2.86zM5.41 20L4 18.59l7.72-7.72 1.47 1.35L5.41 20z\"/>\n",
              "  </svg>\n",
              "      </button>\n",
              "      \n",
              "  <style>\n",
              "    .colab-df-container {\n",
              "      display:flex;\n",
              "      flex-wrap:wrap;\n",
              "      gap: 12px;\n",
              "    }\n",
              "\n",
              "    .colab-df-convert {\n",
              "      background-color: #E8F0FE;\n",
              "      border: none;\n",
              "      border-radius: 50%;\n",
              "      cursor: pointer;\n",
              "      display: none;\n",
              "      fill: #1967D2;\n",
              "      height: 32px;\n",
              "      padding: 0 0 0 0;\n",
              "      width: 32px;\n",
              "    }\n",
              "\n",
              "    .colab-df-convert:hover {\n",
              "      background-color: #E2EBFA;\n",
              "      box-shadow: 0px 1px 2px rgba(60, 64, 67, 0.3), 0px 1px 3px 1px rgba(60, 64, 67, 0.15);\n",
              "      fill: #174EA6;\n",
              "    }\n",
              "\n",
              "    [theme=dark] .colab-df-convert {\n",
              "      background-color: #3B4455;\n",
              "      fill: #D2E3FC;\n",
              "    }\n",
              "\n",
              "    [theme=dark] .colab-df-convert:hover {\n",
              "      background-color: #434B5C;\n",
              "      box-shadow: 0px 1px 3px 1px rgba(0, 0, 0, 0.15);\n",
              "      filter: drop-shadow(0px 1px 2px rgba(0, 0, 0, 0.3));\n",
              "      fill: #FFFFFF;\n",
              "    }\n",
              "  </style>\n",
              "\n",
              "      <script>\n",
              "        const buttonEl =\n",
              "          document.querySelector('#df-5fb8fd86-aec4-4ffc-af8d-9f89942aaa66 button.colab-df-convert');\n",
              "        buttonEl.style.display =\n",
              "          google.colab.kernel.accessAllowed ? 'block' : 'none';\n",
              "\n",
              "        async function convertToInteractive(key) {\n",
              "          const element = document.querySelector('#df-5fb8fd86-aec4-4ffc-af8d-9f89942aaa66');\n",
              "          const dataTable =\n",
              "            await google.colab.kernel.invokeFunction('convertToInteractive',\n",
              "                                                     [key], {});\n",
              "          if (!dataTable) return;\n",
              "\n",
              "          const docLinkHtml = 'Like what you see? Visit the ' +\n",
              "            '<a target=\"_blank\" href=https://colab.research.google.com/notebooks/data_table.ipynb>data table notebook</a>'\n",
              "            + ' to learn more about interactive tables.';\n",
              "          element.innerHTML = '';\n",
              "          dataTable['output_type'] = 'display_data';\n",
              "          await google.colab.output.renderOutput(dataTable, element);\n",
              "          const docLink = document.createElement('div');\n",
              "          docLink.innerHTML = docLinkHtml;\n",
              "          element.appendChild(docLink);\n",
              "        }\n",
              "      </script>\n",
              "    </div>\n",
              "  </div>\n",
              "  "
            ],
            "text/plain": [
              "                                 DOI  ... IFG\n",
              "468       10.1590/1980-4415v31n58a14  ...   1\n",
              "34           10.1145/3466933.3466964  ...   1\n",
              "422  10.1590/0104-070720180004570017  ...   1\n",
              "\n",
              "[3 rows x 7 columns]"
            ]
          },
          "metadata": {},
          "execution_count": 21
        }
      ]
    },
    {
      "cell_type": "code",
      "metadata": {
        "id": "knb9vGqsZ1jt"
      },
      "source": [
        "X, y = dataset['Affiliations'], dataset['IFG']"
      ],
      "id": "knb9vGqsZ1jt",
      "execution_count": 22,
      "outputs": []
    },
    {
      "cell_type": "code",
      "metadata": {
        "id": "7RWgT34HPiiE",
        "colab": {
          "base_uri": "https://localhost:8080/"
        },
        "outputId": "727cecf3-f7d3-41ae-f92e-b64c37e4b702"
      },
      "source": [
        "import numpy as np\n",
        "import re\n",
        "import nltk\n",
        "from sklearn.datasets import load_files\n",
        "nltk.download('stopwords')\n",
        "import pickle\n",
        "from nltk.corpus import stopwords"
      ],
      "id": "7RWgT34HPiiE",
      "execution_count": 23,
      "outputs": [
        {
          "output_type": "stream",
          "name": "stdout",
          "text": [
            "[nltk_data] Downloading package stopwords to /root/nltk_data...\n",
            "[nltk_data]   Package stopwords is already up-to-date!\n"
          ]
        }
      ]
    },
    {
      "cell_type": "code",
      "metadata": {
        "id": "cUDmSd_MPdvU"
      },
      "source": [
        "palavrasIgnoradas = \\\n",
        "    stopwords.words('portuguese') + \\\n",
        "    stopwords.words('english') + \\\n",
        "    stopwords.words('german') + \\\n",
        "    stopwords.words('spanish')"
      ],
      "id": "cUDmSd_MPdvU",
      "execution_count": 24,
      "outputs": []
    },
    {
      "cell_type": "code",
      "metadata": {
        "id": "9b2b4JTgPIJ2"
      },
      "source": [
        "from sklearn.feature_extraction.text import CountVectorizer\n",
        "vectorizer = CountVectorizer(\n",
        "    max_features = 1500, # vocabulário considera top max_features ordenadas por freq do termo no texto \n",
        "    min_df = 5, # ignorar termos com frequencia menr do que x, onde 0<=x<=1\n",
        "    max_df = 0.7, # ignorar termos com frequencia maior do que x, onde 0<=x<=1\n",
        "    stop_words = palavrasIgnoradas\n",
        ")\n",
        "X = vectorizer.fit_transform(X).toarray()\n"
      ],
      "id": "9b2b4JTgPIJ2",
      "execution_count": 25,
      "outputs": []
    },
    {
      "cell_type": "markdown",
      "metadata": {
        "id": "3284ce9c"
      },
      "source": [
        "*TF* $\\rightarrow$ Term frequencies (frquências de termos) $\\rightarrow$ count(palavra/total de palavras)\n",
        "\n",
        "*TF-IDF* $\\rightarrow$ Term Frequency times inverse document frequency $\\rightarrow$ reduz o peso de palavras repetitivas"
      ],
      "id": "3284ce9c"
    },
    {
      "cell_type": "code",
      "metadata": {
        "id": "vLb2-VDZa1I1"
      },
      "source": [
        "from sklearn.feature_extraction.text import TfidfTransformer\n",
        "tfidfconverter = TfidfTransformer()\n",
        "X = tfidfconverter.fit_transform(X).toarray()"
      ],
      "id": "vLb2-VDZa1I1",
      "execution_count": 26,
      "outputs": []
    },
    {
      "cell_type": "code",
      "metadata": {
        "id": "b6eff3ac",
        "colab": {
          "base_uri": "https://localhost:8080/"
        },
        "outputId": "829ab757-fb69-418e-ce97-bada179f993f"
      },
      "source": [
        "from sklearn.model_selection import train_test_split\n",
        "x_train, x_test, y_train, y_test = train_test_split(X, y,  \n",
        "                                                    random_state=1, \n",
        "                                                    test_size=0.3, shuffle=True)\n",
        "x_train.shape, x_test.shape"
      ],
      "id": "b6eff3ac",
      "execution_count": 27,
      "outputs": [
        {
          "output_type": "execute_result",
          "data": {
            "text/plain": [
              "((813, 1033), (349, 1033))"
            ]
          },
          "metadata": {},
          "execution_count": 27
        }
      ]
    },
    {
      "cell_type": "markdown",
      "metadata": {
        "id": "007fETXDQ-SD"
      },
      "source": [
        "#### **Kernel Linear**"
      ],
      "id": "007fETXDQ-SD"
    },
    {
      "cell_type": "code",
      "metadata": {
        "id": "bfdc68b1"
      },
      "source": [
        "from sklearn import svm\n",
        "svm_kernel_linear = svm.SVC(kernel = 'linear')\n",
        "prob_linear = svm_kernel_linear.fit(x_train, y_train)\n",
        "pred_svm_linear = svm_kernel_linear.predict(x_test)"
      ],
      "id": "bfdc68b1",
      "execution_count": 28,
      "outputs": []
    },
    {
      "cell_type": "code",
      "metadata": {
        "id": "16fa5f50",
        "colab": {
          "base_uri": "https://localhost:8080/"
        },
        "outputId": "ee8986c9-3bc5-4181-ddf9-3e7e229c1b45"
      },
      "source": [
        "from sklearn.metrics import confusion_matrix, accuracy_score\n",
        "print(\"Acurácia =\", accuracy_score(y_test, pred_svm_linear) * 100, '%')"
      ],
      "id": "16fa5f50",
      "execution_count": 29,
      "outputs": [
        {
          "output_type": "stream",
          "name": "stdout",
          "text": [
            "Acurácia = 97.70773638968481 %\n"
          ]
        }
      ]
    },
    {
      "cell_type": "code",
      "metadata": {
        "id": "Wto0axuwPtcr"
      },
      "source": [
        "import sklearn.metrics as metrics\n",
        "fpr, tpr, threshold = metrics.roc_curve(y_test, pred_svm_linear)\n",
        "roc_auc = metrics.auc(fpr, tpr)"
      ],
      "id": "Wto0axuwPtcr",
      "execution_count": 30,
      "outputs": []
    },
    {
      "cell_type": "code",
      "metadata": {
        "id": "oxoN8ulDPwiT",
        "colab": {
          "base_uri": "https://localhost:8080/",
          "height": 295
        },
        "outputId": "11c60420-71f3-46a4-a394-c6c58affe282"
      },
      "source": [
        "# method I: plt\n",
        "import matplotlib.pyplot as plt\n",
        "plt.title('Curva ROC Kernel Linear')\n",
        "plt.plot(fpr, tpr, 'b', label = 'AUC = %0.2f' % roc_auc)\n",
        "plt.legend(loc = 'lower right')\n",
        "plt.plot([0, 1], [0, 1],'r--')\n",
        "plt.xlim([0, 1])\n",
        "plt.ylim([0, 1])\n",
        "plt.ylabel('True Positive Rate')\n",
        "plt.xlabel('False Positive Rate')\n",
        "plt.show()"
      ],
      "id": "oxoN8ulDPwiT",
      "execution_count": 31,
      "outputs": [
        {
          "output_type": "display_data",
          "data": {
            "image/png": "[encoded data removed]",
            "text/plain": [
              "<Figure size 432x288 with 1 Axes>"
            ]
          },
          "metadata": {
            "needs_background": "light"
          }
        }
      ]
    },
    {
      "cell_type": "markdown",
      "metadata": {
        "id": "mVp7AOlnRQr9"
      },
      "source": [
        "#### **Kernel Poly**"
      ],
      "id": "mVp7AOlnRQr9"
    },
    {
      "cell_type": "code",
      "metadata": {
        "id": "cVmNxp0TQQHq"
      },
      "source": [
        "from sklearn import svm\n",
        "svm_kernel_poly = svm.SVC(kernel = 'poly')\n",
        "prob_poly = svm_kernel_poly.fit(x_train, y_train)\n",
        "pred_svm_poly = svm_kernel_poly.predict(x_test)\n"
      ],
      "id": "cVmNxp0TQQHq",
      "execution_count": 32,
      "outputs": []
    },
    {
      "cell_type": "code",
      "metadata": {
        "id": "LB3FXIdEQXMB",
        "colab": {
          "base_uri": "https://localhost:8080/"
        },
        "outputId": "209a54d4-548e-4afd-c295-f372886a3902"
      },
      "source": [
        "from sklearn.metrics import confusion_matrix, accuracy_score\n",
        "print(\"Acurácia =\", accuracy_score(y_test, pred_svm_poly) * 100, '%')"
      ],
      "id": "LB3FXIdEQXMB",
      "execution_count": 33,
      "outputs": [
        {
          "output_type": "stream",
          "name": "stdout",
          "text": [
            "Acurácia = 96.84813753581662 %\n"
          ]
        }
      ]
    },
    {
      "cell_type": "code",
      "metadata": {
        "id": "fgTzHJo4QZlz"
      },
      "source": [
        "import sklearn.metrics as metrics\n",
        "fpr, tpr, threshold = metrics.roc_curve(y_test, pred_svm_poly)\n",
        "roc_auc = metrics.auc(fpr, tpr)"
      ],
      "id": "fgTzHJo4QZlz",
      "execution_count": 34,
      "outputs": []
    },
    {
      "cell_type": "code",
      "metadata": {
        "id": "scfIo4OzQbQK",
        "colab": {
          "base_uri": "https://localhost:8080/",
          "height": 295
        },
        "outputId": "3003aafc-7e96-4cbe-d3b1-4b42c6e5a720"
      },
      "source": [
        "import matplotlib.pyplot as plt\n",
        "plt.title('Curva ROC Kernel Poly')\n",
        "plt.plot(fpr, tpr, 'b', label = 'AUC = %0.2f' % roc_auc)\n",
        "plt.legend(loc = 'lower right')\n",
        "plt.plot([0, 1], [0, 1],'r--')\n",
        "plt.xlim([0, 1])\n",
        "plt.ylim([0, 1])\n",
        "plt.ylabel('True Positive Rate')\n",
        "plt.xlabel('False Positive Rate')\n",
        "plt.show()"
      ],
      "id": "scfIo4OzQbQK",
      "execution_count": 35,
      "outputs": [
        {
          "output_type": "display_data",
          "data": {
            "image/png": "[encoded data removed]",
            "text/plain": [
              "<Figure size 432x288 with 1 Axes>"
            ]
          },
          "metadata": {
            "needs_background": "light"
          }
        }
      ]
    },
    {
      "cell_type": "markdown",
      "metadata": {
        "id": "XkS41VGeRkCG"
      },
      "source": [
        "#### **Kernel RBF**"
      ],
      "id": "XkS41VGeRkCG"
    },
    {
      "cell_type": "code",
      "metadata": {
        "id": "Vhrx6EMiRWYM"
      },
      "source": [
        "from sklearn import svm\n",
        "svm_kernel_rbf = svm.SVC(kernel = 'rbf')\n",
        "\n",
        "prob_rbf = svm_kernel_rbf.fit(x_train, y_train)\n",
        "pred_svm_rbf = svm_kernel_rbf.predict(x_test)"
      ],
      "id": "Vhrx6EMiRWYM",
      "execution_count": 36,
      "outputs": []
    },
    {
      "cell_type": "code",
      "metadata": {
        "id": "ImWyUqnjRQSu",
        "colab": {
          "base_uri": "https://localhost:8080/"
        },
        "outputId": "f1837ada-2ff8-4aae-d973-63712db7fe60"
      },
      "source": [
        "from sklearn.metrics import confusion_matrix, accuracy_score\n",
        "print(\"Acurácia =\", accuracy_score(y_test, pred_svm_rbf) * 100, '%')"
      ],
      "id": "ImWyUqnjRQSu",
      "execution_count": 37,
      "outputs": [
        {
          "output_type": "stream",
          "name": "stdout",
          "text": [
            "Acurácia = 97.134670487106 %\n"
          ]
        }
      ]
    },
    {
      "cell_type": "code",
      "metadata": {
        "id": "J6Lp_lX3Rq7e"
      },
      "source": [
        "import sklearn.metrics as metrics\n",
        "fpr, tpr, threshold = metrics.roc_curve(y_test, pred_svm_rbf)\n",
        "roc_auc = metrics.auc(fpr, tpr)"
      ],
      "id": "J6Lp_lX3Rq7e",
      "execution_count": 38,
      "outputs": []
    },
    {
      "cell_type": "code",
      "metadata": {
        "id": "Cr5YqP5ZRs8m",
        "colab": {
          "base_uri": "https://localhost:8080/",
          "height": 295
        },
        "outputId": "f86590a2-fcdf-401c-d166-cfd7ee4ffb41"
      },
      "source": [
        "import matplotlib.pyplot as plt\n",
        "plt.title('Curva ROC Kernel rbf')\n",
        "plt.plot(fpr, tpr, 'b', label = 'AUC = %0.2f' % roc_auc)\n",
        "plt.legend(loc = 'lower right')\n",
        "plt.plot([0, 1], [0, 1],'r--')\n",
        "plt.xlim([0, 1])\n",
        "plt.ylim([0, 1])\n",
        "plt.ylabel('True Positive Rate')\n",
        "plt.xlabel('False Positive Rate')\n",
        "plt.show()"
      ],
      "id": "Cr5YqP5ZRs8m",
      "execution_count": 39,
      "outputs": [
        {
          "output_type": "display_data",
          "data": {
            "image/png": "[encoded data removed]",
            "text/plain": [
              "<Figure size 432x288 with 1 Axes>"
            ]
          },
          "metadata": {
            "needs_background": "light"
          }
        }
      ]
    },
    {
      "cell_type": "markdown",
      "metadata": {
        "id": "zWjLySGGRzQI"
      },
      "source": [
        "#### **Kernel Sigmoid**"
      ],
      "id": "zWjLySGGRzQI"
    },
    {
      "cell_type": "code",
      "metadata": {
        "id": "GzTh6tClRxmm"
      },
      "source": [
        "from sklearn import svm\n",
        "svm_kernel_sigmoid = svm.SVC(kernel = 'sigmoid')\n",
        "\n",
        "prob_sigmoid = svm_kernel_sigmoid.fit(x_train, y_train)\n",
        "pred_svm_sigmoid = svm_kernel_sigmoid.predict(x_test)"
      ],
      "id": "GzTh6tClRxmm",
      "execution_count": 40,
      "outputs": []
    },
    {
      "cell_type": "code",
      "metadata": {
        "id": "rDXhbqpiSF8U",
        "colab": {
          "base_uri": "https://localhost:8080/"
        },
        "outputId": "080f80fd-9366-4786-d0c7-8b6fc39f7d0c"
      },
      "source": [
        "from sklearn.metrics import confusion_matrix, accuracy_score\n",
        "print(\"Acurácia =\", accuracy_score(y_test, pred_svm_sigmoid) * 100, '%')"
      ],
      "id": "rDXhbqpiSF8U",
      "execution_count": 41,
      "outputs": [
        {
          "output_type": "stream",
          "name": "stdout",
          "text": [
            "Acurácia = 98.28080229226362 %\n"
          ]
        }
      ]
    },
    {
      "cell_type": "code",
      "metadata": {
        "id": "5MaOvn9cSHcD"
      },
      "source": [
        "import sklearn.metrics as metrics\n",
        "fpr, tpr, threshold = metrics.roc_curve(y_test, pred_svm_sigmoid)\n",
        "roc_auc = metrics.auc(fpr, tpr)"
      ],
      "id": "5MaOvn9cSHcD",
      "execution_count": 42,
      "outputs": []
    },
    {
      "cell_type": "code",
      "metadata": {
        "id": "cI9_EoGzSJNb",
        "colab": {
          "base_uri": "https://localhost:8080/",
          "height": 295
        },
        "outputId": "6e9d6594-e732-4511-e5e2-7217a07dd374"
      },
      "source": [
        "import matplotlib.pyplot as plt\n",
        "plt.title('Curva ROC Kernel Sigmoid')\n",
        "plt.plot(fpr, tpr, 'b', label = 'AUC = %0.2f' % roc_auc)\n",
        "plt.legend(loc = 'lower right')\n",
        "plt.plot([0, 1], [0, 1],'r--')\n",
        "plt.xlim([0, 1])\n",
        "plt.ylim([0, 1])\n",
        "plt.ylabel('True Positive Rate')\n",
        "plt.xlabel('False Positive Rate')\n",
        "plt.show()"
      ],
      "id": "cI9_EoGzSJNb",
      "execution_count": 43,
      "outputs": [
        {
          "output_type": "display_data",
          "data": {
            "image/png": "[encoded data removed]",
            "text/plain": [
              "<Figure size 432x288 with 1 Axes>"
            ]
          },
          "metadata": {
            "needs_background": "light"
          }
        }
      ]
    },
    {
      "cell_type": "markdown",
      "source": [
        "## Multiclassificação"
      ],
      "metadata": {
        "id": "mkV-Xl0belfL"
      },
      "id": "mkV-Xl0belfL"
    },
    {
      "cell_type": "code",
      "source": [
        "import numpy as np \n",
        "import pandas as pd\n",
        "import matplotlib.pyplot as plt\n",
        "from sklearn.tree import DecisionTreeClassifier, export_graphviz, plot_tree\n",
        "from sklearn import preprocessing, metrics\n",
        "from sklearn.model_selection import train_test_split\n",
        "import matplotlib.image as mpimg\n",
        "from sklearn.metrics import classification_report, confusion_matrix\n",
        "from IPython.display import Image \n",
        "from six import StringIO"
      ],
      "metadata": {
        "id": "ijLPSRcUXWOy"
      },
      "id": "ijLPSRcUXWOy",
      "execution_count": 1,
      "outputs": []
    },
    {
      "cell_type": "code",
      "source": [
        "url = \"https://raw.githubusercontent.com/joaograndotto/PIBITI/main/Datasets/dados_multi_classe.csv\"\n",
        "df = pd.read_csv(url, delimiter=',')"
      ],
      "metadata": {
        "id": "mJQfRymqyBhs"
      },
      "id": "mJQfRymqyBhs",
      "execution_count": 2,
      "outputs": []
    },
    {
      "cell_type": "code",
      "source": [
        "df['Affiliations'] = df['Affiliations'].apply( lambda x : str(x).lower() )\n",
        "df['Institution'] = df['Institution'].apply( lambda x : str(x).lower() )"
      ],
      "metadata": {
        "id": "iWudAa-syFzR"
      },
      "id": "iWudAa-syFzR",
      "execution_count": 3,
      "outputs": []
    },
    {
      "cell_type": "code",
      "source": [
        "X, y = df['Affiliations'], df['Institution']\n",
        "X.shape, y.shape"
      ],
      "metadata": {
        "id": "C9r2ltdHyD6L",
        "colab": {
          "base_uri": "https://localhost:8080/"
        },
        "outputId": "493c083f-ce95-4de9-e3f7-0ec4b610fad7"
      },
      "id": "C9r2ltdHyD6L",
      "execution_count": 4,
      "outputs": [
        {
          "output_type": "execute_result",
          "data": {
            "text/plain": [
              "((121778,), (121778,))"
            ]
          },
          "metadata": {},
          "execution_count": 4
        }
      ]
    },
    {
      "cell_type": "code",
      "source": [
        "import nltk\n",
        "from sklearn.datasets import load_files\n",
        "nltk.download('stopwords')\n",
        "import pickle\n",
        "from nltk.corpus import stopwords"
      ],
      "metadata": {
        "id": "vbrLl4tWyHto",
        "colab": {
          "base_uri": "https://localhost:8080/"
        },
        "outputId": "c3910e12-45c6-4afa-e054-e45212f902fd"
      },
      "id": "vbrLl4tWyHto",
      "execution_count": 5,
      "outputs": [
        {
          "output_type": "stream",
          "name": "stdout",
          "text": [
            "[nltk_data] Downloading package stopwords to /root/nltk_data...\n",
            "[nltk_data]   Package stopwords is already up-to-date!\n"
          ]
        }
      ]
    },
    {
      "cell_type": "code",
      "source": [
        "palavrasIgnoradas = \\\n",
        "    stopwords.words('portuguese') + \\\n",
        "    stopwords.words('english') + \\\n",
        "    stopwords.words('german') + \\\n",
        "    stopwords.words('spanish')"
      ],
      "metadata": {
        "id": "_RMYOfJqyKwY"
      },
      "id": "_RMYOfJqyKwY",
      "execution_count": 6,
      "outputs": []
    },
    {
      "cell_type": "code",
      "source": [
        "from sklearn.feature_extraction.text import CountVectorizer\n",
        "vectorizer = CountVectorizer(\n",
        "    max_features = 1500, # vocabulário considera top max_features ordenadas por freq do termo no texto \n",
        "    min_df = 5, # ignorar termos com frequencia menor do que x, onde 0<=x<=1\n",
        "    max_df = 0.7, # ignorar termos com frequencia maior do que x, onde 0<=x<=1\n",
        "    stop_words = palavrasIgnoradas\n",
        ")"
      ],
      "metadata": {
        "id": "yhonsN-9yMsw"
      },
      "id": "yhonsN-9yMsw",
      "execution_count": 7,
      "outputs": []
    },
    {
      "cell_type": "code",
      "source": [
        "vectorizer.fit_transform(X)"
      ],
      "metadata": {
        "id": "5PAfHvTbyONq",
        "colab": {
          "base_uri": "https://localhost:8080/"
        },
        "outputId": "712232ec-0782-4e24-fe74-683b561a92fd"
      },
      "id": "5PAfHvTbyONq",
      "execution_count": 8,
      "outputs": [
        {
          "output_type": "execute_result",
          "data": {
            "text/plain": [
              "<121778x1500 sparse matrix of type '<class 'numpy.int64'>'\n",
              "\twith 552759 stored elements in Compressed Sparse Row format>"
            ]
          },
          "metadata": {},
          "execution_count": 8
        }
      ]
    },
    {
      "cell_type": "code",
      "source": [
        "X = vectorizer.fit_transform(X).toarray()"
      ],
      "metadata": {
        "id": "no14soeOyPxp"
      },
      "id": "no14soeOyPxp",
      "execution_count": 9,
      "outputs": []
    },
    {
      "cell_type": "code",
      "source": [
        "from sklearn.feature_extraction.text import TfidfTransformer\n",
        "tfidfconverter = TfidfTransformer()\n",
        "X = tfidfconverter.fit_transform(X).toarray()"
      ],
      "metadata": {
        "id": "p_sBfeilyRbU"
      },
      "id": "p_sBfeilyRbU",
      "execution_count": 10,
      "outputs": []
    },
    {
      "cell_type": "code",
      "source": [
        "X_treino, X_teste, y_treino, y_teste = train_test_split(X, y, test_size=0.1, random_state=0)"
      ],
      "metadata": {
        "id": "gK5jCyG2yR5Y"
      },
      "id": "gK5jCyG2yR5Y",
      "execution_count": 11,
      "outputs": []
    },
    {
      "cell_type": "code",
      "source": [
        "X_treino.shape, y_teste.shape"
      ],
      "metadata": {
        "id": "v35GF4Fqz4kI",
        "colab": {
          "base_uri": "https://localhost:8080/"
        },
        "outputId": "173eb762-a6a2-4633-fc61-769b5e9f9a90"
      },
      "id": "v35GF4Fqz4kI",
      "execution_count": 55,
      "outputs": [
        {
          "output_type": "execute_result",
          "data": {
            "text/plain": [
              "((109600, 1500), (12178,))"
            ]
          },
          "metadata": {},
          "execution_count": 55
        }
      ]
    },
    {
      "cell_type": "code",
      "source": [
        "from sklearn import svm\n",
        "svm_kernel_linear = svm.SVC(kernel = 'linear',gamma=0.5, C=0.1)\n",
        "prob_linear = svm_kernel_linear.fit(X_treino, y_treino)"
      ],
      "metadata": {
        "id": "JoBPgVuOyTuI"
      },
      "id": "JoBPgVuOyTuI",
      "execution_count": null,
      "outputs": []
    },
    {
      "cell_type": "code",
      "source": [
        "pred_svm_linear = svm_kernel_linear.predict(X_teste)\n",
        "from sklearn.metrics import confusion_matrix, accuracy_score\n",
        "print(\"Acurácia =\", accuracy_score(y_teste, pred_svm_linear) * 100, '%')"
      ],
      "metadata": {
        "id": "BXZhJJu_vDRY"
      },
      "id": "BXZhJJu_vDRY",
      "execution_count": null,
      "outputs": []
    },
    {
      "cell_type": "code",
      "source": [
        "from sklearn.metrics import confusion_matrix, accuracy_score\n",
        "print(\"Acurácia =\", accuracy_score(y_teste, pred_svm_linear) * 100, '%')"
      ],
      "metadata": {
        "id": "rB_OMVm200qs"
      },
      "id": "rB_OMVm200qs",
      "execution_count": null,
      "outputs": []
    }
  ]
}