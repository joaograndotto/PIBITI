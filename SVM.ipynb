{
  "nbformat": 4,
  "nbformat_minor": 5,
  "metadata": {
    "kernelspec": {
      "display_name": "Python 3",
      "language": "python",
      "name": "python3"
    },
    "language_info": {
      "codemirror_mode": {
        "name": "ipython",
        "version": 3
      },
      "file_extension": ".py",
      "mimetype": "text/x-python",
      "name": "python",
      "nbconvert_exporter": "python",
      "pygments_lexer": "ipython3",
      "version": "3.6.13"
    },
    "colab": {
      "name": "SVM.ipynb",
      "provenance": [],
      "collapsed_sections": []
    }
  },
  "cells": [
    {
      "cell_type": "markdown",
      "metadata": {
        "id": "c5dbd12c"
      },
      "source": [
        "# Reconhecimento de nomes de instituições utilizando Inteligência Artificial\n",
        "\n",
        "## Projeto PIBITI  \n",
        "\n",
        "### Edital 18/2021-PROPPG-IFG\n",
        "\n",
        "#### Estudante (bolsista): João Gabriel Grandotto Viana\n",
        "#### Orientador: Waldeyr Mendes Cordeiro da Silva"
      ],
      "id": "c5dbd12c"
    },
    {
      "cell_type": "markdown",
      "metadata": {
        "id": "bd417891"
      },
      "source": [
        "## Parte 01 Coleta e tratamento de dados das fontes primárias"
      ],
      "id": "bd417891"
    },
    {
      "cell_type": "code",
      "metadata": {
        "id": "ec9c73fc"
      },
      "source": [
        "import numpy as np\n",
        "import matplotlib.pyplot as plt\n",
        "from sklearn import svm\n",
        "from sklearn.datasets import make_blobs\n",
        "import pandas as pd"
      ],
      "id": "ec9c73fc",
      "execution_count": 30,
      "outputs": []
    },
    {
      "cell_type": "code",
      "metadata": {
        "id": "7c4fae1b"
      },
      "source": [
        "url1 ='https://raw.githubusercontent.com/joaograndotto/PIBITI/main/Datasets/scopus.csv'\n",
        "url2 = 'https://raw.githubusercontent.com/joaograndotto/PIBITI/main/Datasets/webscience.csv'\n",
        "\n",
        "scopus = pd.read_csv(url1)\n",
        "web_of_science = pd.read_csv(url2, sep=\"\\t\" )"
      ],
      "id": "7c4fae1b",
      "execution_count": 31,
      "outputs": []
    },
    {
      "cell_type": "code",
      "metadata": {
        "id": "7bdf5ef9",
        "colab": {
          "base_uri": "https://localhost:8080/"
        },
        "outputId": "c054e9d7-9f77-4088-902f-d5267e64bbbd"
      },
      "source": [
        "web_of_science.shape"
      ],
      "id": "7bdf5ef9",
      "execution_count": 32,
      "outputs": [
        {
          "output_type": "execute_result",
          "data": {
            "text/plain": [
              "(31, 67)"
            ]
          },
          "metadata": {},
          "execution_count": 32
        }
      ]
    },
    {
      "cell_type": "code",
      "metadata": {
        "id": "566813c6",
        "colab": {
          "base_uri": "https://localhost:8080/"
        },
        "outputId": "3b46c5b8-00ec-47a1-f4d7-dec5454c00b2"
      },
      "source": [
        "scopus.shape"
      ],
      "id": "566813c6",
      "execution_count": 33,
      "outputs": [
        {
          "output_type": "execute_result",
          "data": {
            "text/plain": [
              "(1276, 50)"
            ]
          },
          "metadata": {},
          "execution_count": 33
        }
      ]
    },
    {
      "cell_type": "code",
      "metadata": {
        "id": "89ba49c6"
      },
      "source": [
        "#Renomeie as Colunas relacionadas porque estavam com os nomes diferentes\n",
        "web_of_science.rename(columns={'Publication Year': 'Year'}, inplace = True)\n",
        "web_of_science.rename(columns={'Article Title': 'Title'}, inplace = True)\n",
        "web_of_science.rename(columns={'Publisher': 'Affiliations'}, inplace = True)"
      ],
      "id": "89ba49c6",
      "execution_count": 34,
      "outputs": []
    },
    {
      "cell_type": "code",
      "metadata": {
        "id": "26a86703",
        "colab": {
          "base_uri": "https://localhost:8080/"
        },
        "outputId": "27deb9a4-8176-4737-fee5-b2b15159799a"
      },
      "source": [
        "scopus[\"Affiliations\"].head(10)"
      ],
      "id": "26a86703",
      "execution_count": 35,
      "outputs": [
        {
          "output_type": "execute_result",
          "data": {
            "text/plain": [
              "0    Instituto Federal de Goiás-IFG, Campus Goiânia...\n",
              "1    Instituto Federal de Goiás (IFG), Aparecida de...\n",
              "2    Instituto Federal de Educação, Ciência e Tecno...\n",
              "3    Universidade Federal de Goiás – UFG, Rede Pró ...\n",
              "4    Department of Agronomy, Universidade Federal R...\n",
              "5    Institute for Hygiene and Public Health, Medic...\n",
              "6    Department of Environmental Informatics, Helmh...\n",
              "7    Grupo de Estudos em Geomática (GEO), Instituto...\n",
              "8    Laboratory of Environmental Biotechnology and ...\n",
              "9    Universidade Federal de Goiás (UFG), Instituto...\n",
              "Name: Affiliations, dtype: object"
            ]
          },
          "metadata": {},
          "execution_count": 35
        }
      ]
    },
    {
      "cell_type": "code",
      "metadata": {
        "id": "16b8e5c1",
        "colab": {
          "base_uri": "https://localhost:8080/"
        },
        "outputId": "86e87359-1f3d-4a1e-87f6-b9e7fff5ff2f"
      },
      "source": [
        "web_of_science[\"Affiliations\"].head(10)"
      ],
      "id": "16b8e5c1",
      "execution_count": 36,
      "outputs": [
        {
          "output_type": "execute_result",
          "data": {
            "text/plain": [
              "0    INST FED EDUCATION, SCIENCE & TECHNOLOGY OF GO...\n",
              "1    INST FED EDUCATION, SCIENCE & TECHNOLOGY OF GO...\n",
              "2                        UNIV DO VALE DO RIO DOS SINOS\n",
              "3    INST FED EDUCATION, SCIENCE & TECHNOLOGY OF GO...\n",
              "4                                             ELSEVIER\n",
              "5                          UNIV FEDERAL CAMPINA GRANDE\n",
              "6    INST FED EDUCATION, SCIENCE & TECHNOLOGY OF GO...\n",
              "7                PONTIFICIA UNIV CATOLICA PARANA-PUCPR\n",
              "8                             UNIV FEDERAL SANTA MARIA\n",
              "9                                      INST AGRONOMICO\n",
              "Name: Affiliations, dtype: object"
            ]
          },
          "metadata": {},
          "execution_count": 36
        }
      ]
    },
    {
      "cell_type": "code",
      "metadata": {
        "id": "ce40cbae"
      },
      "source": [
        "#juntando os dois dataframes\n",
        "result = pd.concat([scopus, web_of_science])"
      ],
      "id": "ce40cbae",
      "execution_count": 37,
      "outputs": []
    },
    {
      "cell_type": "code",
      "metadata": {
        "id": "fe76de0f"
      },
      "source": [
        "nulos = result.loc[result['DOI'].isnull()] # somente registros sem DOI\n",
        "nulos.index[0]\n",
        "result = result.drop([nulos.index[0]])"
      ],
      "id": "fe76de0f",
      "execution_count": 38,
      "outputs": []
    },
    {
      "cell_type": "code",
      "metadata": {
        "id": "ab50c874"
      },
      "source": [
        "total_artigos = result.shape[0]"
      ],
      "id": "ab50c874",
      "execution_count": 39,
      "outputs": []
    },
    {
      "cell_type": "code",
      "metadata": {
        "id": "d6aab840",
        "colab": {
          "base_uri": "https://localhost:8080/"
        },
        "outputId": "c0306b7b-0888-4b9f-efe8-05b2541ed2bc"
      },
      "source": [
        "result.columns"
      ],
      "id": "d6aab840",
      "execution_count": 40,
      "outputs": [
        {
          "output_type": "execute_result",
          "data": {
            "text/plain": [
              "Index(['Authors', 'Author(s) ID', 'Title', 'Year', 'Source title', 'Volume',\n",
              "       'Issue', 'Art. No.', 'Page start', 'Page end',\n",
              "       ...\n",
              "       'Number of Pages', 'WoS Categories', 'Research Areas', 'IDS Number',\n",
              "       'UT (Unique WOS ID)', 'Pubmed Id', 'Open Access Designations',\n",
              "       'Highly Cited Status', 'Hot Paper Status', 'Date of Export'],\n",
              "      dtype='object', length=105)"
            ]
          },
          "metadata": {},
          "execution_count": 40
        }
      ]
    },
    {
      "cell_type": "code",
      "metadata": {
        "id": "3b7cf69f",
        "colab": {
          "base_uri": "https://localhost:8080/"
        },
        "outputId": "5c395774-ef06-44e2-c1f2-706d47c98086"
      },
      "source": [
        "#Verificando duplicados na coluna DOI e apagando as linhas com DOI duplicado\n",
        "result = result.drop_duplicates(subset=['DOI'], keep='first')\n",
        "result.shape"
      ],
      "id": "3b7cf69f",
      "execution_count": 41,
      "outputs": [
        {
          "output_type": "execute_result",
          "data": {
            "text/plain": [
              "(1162, 105)"
            ]
          },
          "metadata": {},
          "execution_count": 41
        }
      ]
    },
    {
      "cell_type": "code",
      "metadata": {
        "id": "1ac0b2c1",
        "colab": {
          "base_uri": "https://localhost:8080/"
        },
        "outputId": "af9b31e9-69df-4704-de00-7f640bfca5ae"
      },
      "source": [
        "duplicados_eliminados = total_artigos - result.shape[0]\n",
        "duplicados_eliminados"
      ],
      "id": "1ac0b2c1",
      "execution_count": 42,
      "outputs": [
        {
          "output_type": "execute_result",
          "data": {
            "text/plain": [
              "144"
            ]
          },
          "metadata": {},
          "execution_count": 42
        }
      ]
    },
    {
      "cell_type": "code",
      "metadata": {
        "id": "e582e5c5"
      },
      "source": [
        "# nomear os indices do tamanho do novo dataframe\n",
        "index =[]  \n",
        "for i in range(result.shape[0]): \n",
        "    index.append(i)\n",
        "result.index = index"
      ],
      "id": "e582e5c5",
      "execution_count": 43,
      "outputs": []
    },
    {
      "cell_type": "code",
      "metadata": {
        "id": "a5151517",
        "colab": {
          "base_uri": "https://localhost:8080/",
          "height": 419
        },
        "outputId": "26963d4a-bcaf-4843-bf0a-10a38b4bcaa9"
      },
      "source": [
        "result[['DOI', 'Title', 'Affiliations']]"
      ],
      "id": "a5151517",
      "execution_count": 44,
      "outputs": [
        {
          "output_type": "execute_result",
          "data": {
            "text/html": [
              "<div>\n",
              "<style scoped>\n",
              "    .dataframe tbody tr th:only-of-type {\n",
              "        vertical-align: middle;\n",
              "    }\n",
              "\n",
              "    .dataframe tbody tr th {\n",
              "        vertical-align: top;\n",
              "    }\n",
              "\n",
              "    .dataframe thead th {\n",
              "        text-align: right;\n",
              "    }\n",
              "</style>\n",
              "<table border=\"1\" class=\"dataframe\">\n",
              "  <thead>\n",
              "    <tr style=\"text-align: right;\">\n",
              "      <th></th>\n",
              "      <th>DOI</th>\n",
              "      <th>Title</th>\n",
              "      <th>Affiliations</th>\n",
              "    </tr>\n",
              "  </thead>\n",
              "  <tbody>\n",
              "    <tr>\n",
              "      <th>0</th>\n",
              "      <td>10.1016/j.nonrwa.2021.103406</td>\n",
              "      <td>Classical solution for a nonlinear hybrid syst...</td>\n",
              "      <td>Instituto Federal de Goiás-IFG, Campus Goiânia...</td>\n",
              "    </tr>\n",
              "    <tr>\n",
              "      <th>1</th>\n",
              "      <td>10.1007/978-3-030-79165-0_25</td>\n",
              "      <td>An Innovative Textile Product Proposal Based o...</td>\n",
              "      <td>Instituto Federal de Goiás (IFG), Aparecida de...</td>\n",
              "    </tr>\n",
              "    <tr>\n",
              "      <th>2</th>\n",
              "      <td>10.1590/1519-6984.245368</td>\n",
              "      <td>Detection of enteroparasites in foliar vegetab...</td>\n",
              "      <td>Instituto Federal de Educação, Ciência e Tecno...</td>\n",
              "    </tr>\n",
              "    <tr>\n",
              "      <th>3</th>\n",
              "      <td>10.1590/1519-6984.234476</td>\n",
              "      <td>Phytochemical characterization, and antioxidan...</td>\n",
              "      <td>Universidade Federal de Goiás – UFG, Rede Pró ...</td>\n",
              "    </tr>\n",
              "    <tr>\n",
              "      <th>4</th>\n",
              "      <td>10.1038/s41598-021-97854-8</td>\n",
              "      <td>Stability analysis of reference genes for RT-q...</td>\n",
              "      <td>Department of Agronomy, Universidade Federal R...</td>\n",
              "    </tr>\n",
              "    <tr>\n",
              "      <th>...</th>\n",
              "      <td>...</td>\n",
              "      <td>...</td>\n",
              "      <td>...</td>\n",
              "    </tr>\n",
              "    <tr>\n",
              "      <th>1157</th>\n",
              "      <td>10.31977/grirfi.v16i2.774</td>\n",
              "      <td>HUMAN RIGHTS: FROM THE UNIFORMITY OF THE SPECI...</td>\n",
              "      <td>UNIV FED RECONCAVO BAHIA, CENTRO FORMACAO PROF...</td>\n",
              "    </tr>\n",
              "    <tr>\n",
              "      <th>1158</th>\n",
              "      <td>10.1590/S0101-31732015000400002</td>\n",
              "      <td>PRESENTATION OF THE DOSSIER ROUSSEAU</td>\n",
              "      <td>UNESP-MARILIA</td>\n",
              "    </tr>\n",
              "    <tr>\n",
              "      <th>1159</th>\n",
              "      <td>10.1590/S1415-43662014000400013</td>\n",
              "      <td>Physiological quality of soybean seeds stored ...</td>\n",
              "      <td>UNIV FEDERAL CAMPINA GRANDE</td>\n",
              "    </tr>\n",
              "    <tr>\n",
              "      <th>1160</th>\n",
              "      <td>10.1590/S0034-89102010005000053</td>\n",
              "      <td>Ethics in the publication of studies on human ...</td>\n",
              "      <td>REVISTA DE SAUDE PUBLICA</td>\n",
              "    </tr>\n",
              "    <tr>\n",
              "      <th>1161</th>\n",
              "      <td>10.5585/iji.v4i1.67</td>\n",
              "      <td>SYSTEMATIC REVIEW OF THE LITERATURE SOCIAL ENT...</td>\n",
              "      <td>UNIV NOVE JULHO</td>\n",
              "    </tr>\n",
              "  </tbody>\n",
              "</table>\n",
              "<p>1162 rows × 3 columns</p>\n",
              "</div>"
            ],
            "text/plain": [
              "                                  DOI  ...                                       Affiliations\n",
              "0        10.1016/j.nonrwa.2021.103406  ...  Instituto Federal de Goiás-IFG, Campus Goiânia...\n",
              "1        10.1007/978-3-030-79165-0_25  ...  Instituto Federal de Goiás (IFG), Aparecida de...\n",
              "2            10.1590/1519-6984.245368  ...  Instituto Federal de Educação, Ciência e Tecno...\n",
              "3            10.1590/1519-6984.234476  ...  Universidade Federal de Goiás – UFG, Rede Pró ...\n",
              "4          10.1038/s41598-021-97854-8  ...  Department of Agronomy, Universidade Federal R...\n",
              "...                               ...  ...                                                ...\n",
              "1157        10.31977/grirfi.v16i2.774  ...  UNIV FED RECONCAVO BAHIA, CENTRO FORMACAO PROF...\n",
              "1158  10.1590/S0101-31732015000400002  ...                                      UNESP-MARILIA\n",
              "1159  10.1590/S1415-43662014000400013  ...                        UNIV FEDERAL CAMPINA GRANDE\n",
              "1160  10.1590/S0034-89102010005000053  ...                           REVISTA DE SAUDE PUBLICA\n",
              "1161              10.5585/iji.v4i1.67  ...                                    UNIV NOVE JULHO\n",
              "\n",
              "[1162 rows x 3 columns]"
            ]
          },
          "metadata": {},
          "execution_count": 44
        }
      ]
    },
    {
      "cell_type": "code",
      "metadata": {
        "id": "d1d2aaad"
      },
      "source": [
        "result[['DOI','Affiliations']].to_csv(\"dados_para_label.tsv\", sep = \"\\t\", index=False)"
      ],
      "id": "d1d2aaad",
      "execution_count": 45,
      "outputs": []
    },
    {
      "cell_type": "markdown",
      "metadata": {
        "id": "0284381d"
      },
      "source": [
        "## Parte 02 - Tratamento dos dados etiquetados\n",
        "\n",
        "Os dados slecionados foram etiquetados manualmente e salvos no dataset [dados com label](https://raw.githubusercontent.com/joaograndotto/PIBITI/main/Datasets/dados_com_label.csv)"
      ],
      "id": "0284381d"
    },
    {
      "cell_type": "code",
      "metadata": {
        "id": "d5ca6f1e",
        "colab": {
          "base_uri": "https://localhost:8080/",
          "height": 589
        },
        "outputId": "689384fd-94cc-46c7-a749-e2d905d25198"
      },
      "source": [
        "url = 'https://raw.githubusercontent.com/joaograndotto/PIBITI/main/Datasets/dados_com_label.csv'\n",
        "\n",
        "scopus = pd.read_csv(url)\n",
        "dataset = pd.read_csv(url, sep=\",\" )\n",
        "dataset"
      ],
      "id": "d5ca6f1e",
      "execution_count": 46,
      "outputs": [
        {
          "output_type": "execute_result",
          "data": {
            "text/html": [
              "<div>\n",
              "<style scoped>\n",
              "    .dataframe tbody tr th:only-of-type {\n",
              "        vertical-align: middle;\n",
              "    }\n",
              "\n",
              "    .dataframe tbody tr th {\n",
              "        vertical-align: top;\n",
              "    }\n",
              "\n",
              "    .dataframe thead th {\n",
              "        text-align: right;\n",
              "    }\n",
              "</style>\n",
              "<table border=\"1\" class=\"dataframe\">\n",
              "  <thead>\n",
              "    <tr style=\"text-align: right;\">\n",
              "      <th></th>\n",
              "      <th>DOI</th>\n",
              "      <th>Title</th>\n",
              "      <th>Year</th>\n",
              "      <th>Affiliations</th>\n",
              "      <th>Campus</th>\n",
              "      <th>Institution</th>\n",
              "    </tr>\n",
              "  </thead>\n",
              "  <tbody>\n",
              "    <tr>\n",
              "      <th>0</th>\n",
              "      <td>10.1016/j.nonrwa.2021.103406</td>\n",
              "      <td>Classical solution for a nonlinear hybrid syst...</td>\n",
              "      <td>2022</td>\n",
              "      <td>Instituto Federal de Goiás-IFG, Campus Goiânia...</td>\n",
              "      <td>Goiânia</td>\n",
              "      <td>Instituto Federal de Goiás</td>\n",
              "    </tr>\n",
              "    <tr>\n",
              "      <th>1</th>\n",
              "      <td>10.1007/978-3-030-79165-0_25</td>\n",
              "      <td>An Innovative Textile Product Proposal Based o...</td>\n",
              "      <td>2022</td>\n",
              "      <td>Instituto Federal de Goiás (IFG), Aparecida de...</td>\n",
              "      <td>Aparecida de Goiânia</td>\n",
              "      <td>Instituto Federal de Goiás</td>\n",
              "    </tr>\n",
              "    <tr>\n",
              "      <th>2</th>\n",
              "      <td>10.1590/1519-6984.245368</td>\n",
              "      <td>Detection of enteroparasites in foliar vegetab...</td>\n",
              "      <td>2022</td>\n",
              "      <td>Instituto Federal de Educação, Ciência e Tecno...</td>\n",
              "      <td>Aparecida de Goiânia</td>\n",
              "      <td>Instituto Federal de Goiás</td>\n",
              "    </tr>\n",
              "    <tr>\n",
              "      <th>3</th>\n",
              "      <td>10.1590/1519-6984.234476</td>\n",
              "      <td>Phytochemical characterization, and antioxidan...</td>\n",
              "      <td>2022</td>\n",
              "      <td>Universidade Federal de Goiás – UFG, Rede Pró ...</td>\n",
              "      <td>Goiânia</td>\n",
              "      <td>Instituto Federal de Goiás</td>\n",
              "    </tr>\n",
              "    <tr>\n",
              "      <th>4</th>\n",
              "      <td>10.1038/s41598-021-97854-8</td>\n",
              "      <td>Stability analysis of reference genes for RT-q...</td>\n",
              "      <td>2021</td>\n",
              "      <td>Department of Agronomy, Universidade Federal R...</td>\n",
              "      <td>Águas Lindas</td>\n",
              "      <td>Instituto Federal de Goiás</td>\n",
              "    </tr>\n",
              "    <tr>\n",
              "      <th>...</th>\n",
              "      <td>...</td>\n",
              "      <td>...</td>\n",
              "      <td>...</td>\n",
              "      <td>...</td>\n",
              "      <td>...</td>\n",
              "      <td>...</td>\n",
              "    </tr>\n",
              "    <tr>\n",
              "      <th>1157</th>\n",
              "      <td>10.31977/grirfi.v16i2.774</td>\n",
              "      <td>HUMAN RIGHTS: FROM THE UNIFORMITY OF THE SPECI...</td>\n",
              "      <td>2017</td>\n",
              "      <td>UNIV FED RECONCAVO BAHIA, CENTRO FORMACAO PROF...</td>\n",
              "      <td>Bahia</td>\n",
              "      <td>Universidade Federal Reconcavo</td>\n",
              "    </tr>\n",
              "    <tr>\n",
              "      <th>1158</th>\n",
              "      <td>10.1590/S0101-31732015000400002</td>\n",
              "      <td>PRESENTATION OF THE DOSSIER ROUSSEAU</td>\n",
              "      <td>2015</td>\n",
              "      <td>UNESP-MARILIA</td>\n",
              "      <td>Marilia</td>\n",
              "      <td>UNESP</td>\n",
              "    </tr>\n",
              "    <tr>\n",
              "      <th>1159</th>\n",
              "      <td>10.1590/S1415-43662014000400013</td>\n",
              "      <td>Physiological quality of soybean seeds stored ...</td>\n",
              "      <td>2014</td>\n",
              "      <td>UNIV FEDERAL CAMPINA GRANDE</td>\n",
              "      <td>Campina Grande</td>\n",
              "      <td>Universidade Federal Campina Grande</td>\n",
              "    </tr>\n",
              "    <tr>\n",
              "      <th>1160</th>\n",
              "      <td>10.1590/S0034-89102010005000053</td>\n",
              "      <td>Ethics in the publication of studies on human ...</td>\n",
              "      <td>2011</td>\n",
              "      <td>REVISTA DE SAUDE PUBLICA</td>\n",
              "      <td>Brasil</td>\n",
              "      <td>Revista Saude Publica</td>\n",
              "    </tr>\n",
              "    <tr>\n",
              "      <th>1161</th>\n",
              "      <td>10.5585/iji.v4i1.67</td>\n",
              "      <td>SYSTEMATIC REVIEW OF THE LITERATURE SOCIAL ENT...</td>\n",
              "      <td>2016</td>\n",
              "      <td>UNIV NOVE JULHO</td>\n",
              "      <td>Brasil</td>\n",
              "      <td>Universidade Nove Julho</td>\n",
              "    </tr>\n",
              "  </tbody>\n",
              "</table>\n",
              "<p>1162 rows × 6 columns</p>\n",
              "</div>"
            ],
            "text/plain": [
              "                                  DOI  ...                          Institution\n",
              "0        10.1016/j.nonrwa.2021.103406  ...           Instituto Federal de Goiás\n",
              "1        10.1007/978-3-030-79165-0_25  ...           Instituto Federal de Goiás\n",
              "2            10.1590/1519-6984.245368  ...           Instituto Federal de Goiás\n",
              "3            10.1590/1519-6984.234476  ...           Instituto Federal de Goiás\n",
              "4          10.1038/s41598-021-97854-8  ...           Instituto Federal de Goiás\n",
              "...                               ...  ...                                  ...\n",
              "1157        10.31977/grirfi.v16i2.774  ...       Universidade Federal Reconcavo\n",
              "1158  10.1590/S0101-31732015000400002  ...                                UNESP\n",
              "1159  10.1590/S1415-43662014000400013  ...  Universidade Federal Campina Grande\n",
              "1160  10.1590/S0034-89102010005000053  ...                Revista Saude Publica\n",
              "1161              10.5585/iji.v4i1.67  ...              Universidade Nove Julho\n",
              "\n",
              "[1162 rows x 6 columns]"
            ]
          },
          "metadata": {},
          "execution_count": 46
        }
      ]
    },
    {
      "cell_type": "markdown",
      "metadata": {
        "id": "839bde0c"
      },
      "source": [
        "### Estratégia 01 - Saco de palavras\n",
        "\n",
        "Os arquivos de texto precisam ser convertidos em arquivos numéricos para serem utilizaod por algoritmos de machine learning.\n",
        "\n",
        "A primeira estratégia que utilizaremos e aquela conhecida como saco de palavras, onde um texto é segmentado em palavras (separadas por espaço), calcula-se a frequência dessas pavras em cada documento e finalmente é atribuído um ID para cada palavra."
      ],
      "id": "839bde0c"
    },
    {
      "cell_type": "code",
      "metadata": {
        "id": "101be259",
        "colab": {
          "base_uri": "https://localhost:8080/",
          "height": 193
        },
        "outputId": "c6c07861-fec3-44c8-a94e-c3cfc37c2aa7"
      },
      "source": [
        "dataset = pd.read_csv('https://raw.githubusercontent.com/joaograndotto/PIBITI/main/Datasets/dados_com_label.csv')\n",
        "dataset.sample(n=3)\n",
        "dataset['target'] = dataset['Institution'].apply(lambda x: 1 if str(x).strip() == \"Instituto Federal de Goiás\" else 0)\n",
        "dataset.sample(n=3)"
      ],
      "id": "101be259",
      "execution_count": 47,
      "outputs": [
        {
          "output_type": "execute_result",
          "data": {
            "text/html": [
              "<div>\n",
              "<style scoped>\n",
              "    .dataframe tbody tr th:only-of-type {\n",
              "        vertical-align: middle;\n",
              "    }\n",
              "\n",
              "    .dataframe tbody tr th {\n",
              "        vertical-align: top;\n",
              "    }\n",
              "\n",
              "    .dataframe thead th {\n",
              "        text-align: right;\n",
              "    }\n",
              "</style>\n",
              "<table border=\"1\" class=\"dataframe\">\n",
              "  <thead>\n",
              "    <tr style=\"text-align: right;\">\n",
              "      <th></th>\n",
              "      <th>DOI</th>\n",
              "      <th>Title</th>\n",
              "      <th>Year</th>\n",
              "      <th>Affiliations</th>\n",
              "      <th>Campus</th>\n",
              "      <th>Institution</th>\n",
              "      <th>target</th>\n",
              "    </tr>\n",
              "  </thead>\n",
              "  <tbody>\n",
              "    <tr>\n",
              "      <th>152</th>\n",
              "      <td>10.1016/j.compositesa.2020.105939</td>\n",
              "      <td>Partially compacted polypropylene glass fiber ...</td>\n",
              "      <td>2020</td>\n",
              "      <td>Transfercenter für Kunststofftechnik GmbH, Fra...</td>\n",
              "      <td>Austria</td>\n",
              "      <td>Schachermayerstrasse</td>\n",
              "      <td>0</td>\n",
              "    </tr>\n",
              "    <tr>\n",
              "      <th>625</th>\n",
              "      <td>10.1590/1678-69712016/administracao.v17n4p108-129</td>\n",
              "      <td>The co-production of innovation: A case study ...</td>\n",
              "      <td>2016</td>\n",
              "      <td>Department of Academic Areas I, Instituto Fede...</td>\n",
              "      <td>Goiânia</td>\n",
              "      <td>Instituto Federal de Goiás</td>\n",
              "      <td>1</td>\n",
              "    </tr>\n",
              "    <tr>\n",
              "      <th>1122</th>\n",
              "      <td>10.1002/xrs.733</td>\n",
              "      <td>A modular system for XRF and XRD applications ...</td>\n",
              "      <td>2004</td>\n",
              "      <td>IfG - Inst. F. Gerätebau GmbH, Rudower Chausse...</td>\n",
              "      <td>Berlin</td>\n",
              "      <td>Institut für Geraetebau GmbH</td>\n",
              "      <td>0</td>\n",
              "    </tr>\n",
              "  </tbody>\n",
              "</table>\n",
              "</div>"
            ],
            "text/plain": [
              "                                                    DOI  ... target\n",
              "152                   10.1016/j.compositesa.2020.105939  ...      0\n",
              "625   10.1590/1678-69712016/administracao.v17n4p108-129  ...      1\n",
              "1122                                    10.1002/xrs.733  ...      0\n",
              "\n",
              "[3 rows x 7 columns]"
            ]
          },
          "metadata": {},
          "execution_count": 47
        }
      ]
    },
    {
      "cell_type": "code",
      "metadata": {
        "id": "ad971a7c"
      },
      "source": [
        "X, y = dataset['Institution'], dataset['target']\n",
        "\n",
        "train_dataset = dataset.sample(frac = 0.9, random_state = 25)\n",
        "test_dataset  = dataset.drop(train_dataset.index)"
      ],
      "id": "ad971a7c",
      "execution_count": 48,
      "outputs": []
    },
    {
      "cell_type": "code",
      "metadata": {
        "id": "b6eff3ac",
        "colab": {
          "base_uri": "https://localhost:8080/"
        },
        "outputId": "5447d1b3-a12d-4ae3-a174-cda95ae931d8"
      },
      "source": [
        "from sklearn.model_selection import train_test_split\n",
        "x_train, x_test, y_train, y_test = train_test_split(X, y,  \n",
        "                                                    random_state=1, \n",
        "                                                    test_size=0.2, shuffle=True)\n",
        "x_train.shape, x_test.shape"
      ],
      "id": "b6eff3ac",
      "execution_count": 49,
      "outputs": [
        {
          "output_type": "execute_result",
          "data": {
            "text/plain": [
              "((929,), (233,))"
            ]
          },
          "metadata": {},
          "execution_count": 49
        }
      ]
    },
    {
      "cell_type": "code",
      "metadata": {
        "id": "36d26082"
      },
      "source": [
        "from sklearn.feature_extraction.text import CountVectorizer\n",
        "countVectorizer = CountVectorizer()"
      ],
      "id": "36d26082",
      "execution_count": 50,
      "outputs": []
    },
    {
      "cell_type": "code",
      "metadata": {
        "id": "97360316"
      },
      "source": [
        "a = countVectorizer.fit(x_train.values.astype('U'))\n",
        "\n",
        "x_train_vec = countVectorizer.transform(x_train.values.astype('U'))\n",
        "x_test_vec = countVectorizer.transform(x_test.values.astype('U'))"
      ],
      "id": "97360316",
      "execution_count": 51,
      "outputs": []
    },
    {
      "cell_type": "code",
      "metadata": {
        "id": "da18c15b",
        "colab": {
          "base_uri": "https://localhost:8080/"
        },
        "outputId": "90c2ecdd-3cc7-45e2-9309-49ea073fe241"
      },
      "source": [
        "# Acessando parte da matriz esparsa\n",
        "x_train_vec[:, [0,1,2,3,4,5,6,7,8,9]].toarray()"
      ],
      "id": "da18c15b",
      "execution_count": 52,
      "outputs": [
        {
          "output_type": "execute_result",
          "data": {
            "text/plain": [
              "array([[0, 0, 0, ..., 0, 0, 0],\n",
              "       [0, 0, 0, ..., 0, 0, 0],\n",
              "       [0, 0, 0, ..., 0, 0, 0],\n",
              "       ...,\n",
              "       [0, 0, 0, ..., 0, 0, 0],\n",
              "       [0, 0, 0, ..., 0, 0, 0],\n",
              "       [0, 0, 0, ..., 0, 0, 0]])"
            ]
          },
          "metadata": {},
          "execution_count": 52
        }
      ]
    },
    {
      "cell_type": "code",
      "metadata": {
        "colab": {
          "base_uri": "https://localhost:8080/"
        },
        "id": "cR9bdqldsiBC",
        "outputId": "5ade40c5-5262-4b83-ac48-17919aed85f2"
      },
      "source": [
        "x_test_vec[:, [0,1,2,3,4,5,6,7,8,9]].toarray()"
      ],
      "id": "cR9bdqldsiBC",
      "execution_count": 53,
      "outputs": [
        {
          "output_type": "execute_result",
          "data": {
            "text/plain": [
              "array([[0, 0, 0, ..., 0, 0, 0],\n",
              "       [0, 0, 0, ..., 0, 0, 0],\n",
              "       [0, 0, 0, ..., 0, 0, 0],\n",
              "       ...,\n",
              "       [0, 0, 0, ..., 0, 0, 0],\n",
              "       [0, 0, 0, ..., 0, 0, 0],\n",
              "       [0, 0, 0, ..., 0, 0, 0]])"
            ]
          },
          "metadata": {},
          "execution_count": 53
        }
      ]
    },
    {
      "cell_type": "markdown",
      "metadata": {
        "id": "3284ce9c"
      },
      "source": [
        "*TF* $\\rightarrow$ Term frequencies (frquências de termos) $\\rightarrow$ count(palavra/total de palavras)\n",
        "\n",
        "*TF-IDF* $\\rightarrow$ Term Frequency times inverse document frequency $\\rightarrow$ reduz o peso de palavras repetitivas"
      ],
      "id": "3284ce9c"
    },
    {
      "cell_type": "code",
      "metadata": {
        "id": "a7db7409"
      },
      "source": [
        "from sklearn.feature_extraction.text import TfidfTransformer\n",
        "tfidfTransformer= TfidfTransformer()"
      ],
      "id": "a7db7409",
      "execution_count": 54,
      "outputs": []
    },
    {
      "cell_type": "code",
      "metadata": {
        "id": "eb01a403"
      },
      "source": [
        "X_train_tfidf = tfidfTransformer.fit_transform(x_train_vec)\n",
        "X_test_tdidf = tfidfTransformer.fit_transform(x_test_vec)\n"
      ],
      "id": "eb01a403",
      "execution_count": 55,
      "outputs": []
    },
    {
      "cell_type": "code",
      "metadata": {
        "id": "bfdc68b1"
      },
      "source": [
        "from sklearn import svm\n",
        "svm = svm.SVC(kernel = 'linear')\n",
        "\n",
        "prob = svm.fit(X_train_tfidf, y_train)\n",
        "pred_svm = svm.predict(x_test_vec)"
      ],
      "id": "bfdc68b1",
      "execution_count": 56,
      "outputs": []
    },
    {
      "cell_type": "code",
      "metadata": {
        "id": "16fa5f50",
        "colab": {
          "base_uri": "https://localhost:8080/"
        },
        "outputId": "78614231-06b7-4c02-bbd2-34a7899919fb"
      },
      "source": [
        "from sklearn.metrics import confusion_matrix, accuracy_score\n",
        "\n",
        "\n",
        "print(\"Acurácia =\", accuracy_score(y_test, pred_svm) * 100, '%')"
      ],
      "id": "16fa5f50",
      "execution_count": 57,
      "outputs": [
        {
          "output_type": "stream",
          "name": "stdout",
          "text": [
            "Acurácia = 98.71244635193133 %\n"
          ]
        }
      ]
    },
    {
      "cell_type": "code",
      "metadata": {
        "colab": {
          "base_uri": "https://localhost:8080/"
        },
        "id": "7yxFmQYq9PZU",
        "outputId": "5361dc20-8c60-47dd-bf71-c3cf2ed1b7de"
      },
      "source": [
        "cm = confusion_matrix(y_test, pred_svm)\n",
        "TN, FP, FN, TP = confusion_matrix(y_test, pred_svm).ravel()\n",
        "print('True Positive(TP) = ', TP)\n",
        "print('False Positive(FP) = ', FP)\n",
        "print('True Negative(TN) = ', TN)\n",
        "print('False Negative(FN) = ', FN)\n",
        "accuracy = (TP+TN) /(TP+FP+TN+FN)\n",
        "\n",
        "print('Acurácia da classificação binária = {:0.3f}%'.format(accuracy*100))"
      ],
      "id": "7yxFmQYq9PZU",
      "execution_count": 58,
      "outputs": [
        {
          "output_type": "stream",
          "name": "stdout",
          "text": [
            "True Positive(TP) =  61\n",
            "False Positive(FP) =  3\n",
            "True Negative(TN) =  169\n",
            "False Negative(FN) =  0\n",
            "Acurácia da classificação binária = 98.712%\n"
          ]
        }
      ]
    }
  ]
}