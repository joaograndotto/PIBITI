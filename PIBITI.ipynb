{
  "cells": [
    {
      "cell_type": "markdown",
      "id": "c5dbd12c",
      "metadata": {
        "id": "c5dbd12c"
      },
      "source": [
        "# Reconhecimento de nomes de instituições utilizando Inteligência Artificial\n",
        "\n",
        "## Projeto PIBITI  \n",
        "\n",
        "### Edital 18/2021-PROPPG-IFG\n",
        "\n",
        "#### Estudante (bolsista): João Gabriel Grandoto Viana\n",
        "#### Orientador: Waldeyr Mendes Cordeiro da Silva"
      ]
    },
    {
      "cell_type": "markdown",
      "id": "bd417891",
      "metadata": {
        "id": "bd417891"
      },
      "source": [
        "## Parte 01 Coleta e tratamento de dados das fontes primárias"
      ]
    },
    {
      "cell_type": "code",
      "execution_count": null,
      "id": "ec9c73fc",
      "metadata": {
        "id": "ec9c73fc"
      },
      "outputs": [],
      "source": [
        "import numpy as np\n",
        "import matplotlib.pyplot as plt\n",
        "from sklearn import svm\n",
        "from sklearn.datasets import make_blobs\n",
        "import pandas as pd"
      ]
    },
    {
      "cell_type": "code",
      "execution_count": null,
      "id": "7c4fae1b",
      "metadata": {
        "id": "7c4fae1b"
      },
      "outputs": [],
      "source": [
        "url1 ='https://raw.githubusercontent.com/joaograndotto/PIBITI/main/Datasets/scopus.csv'\n",
        "url2 = 'https://raw.githubusercontent.com/joaograndotto/PIBITI/main/Datasets/webscience.csv'\n",
        "\n",
        "scopus = pd.read_csv(url1)\n",
        "web_of_science = pd.read_csv(url2, sep=\"\\t\" )"
      ]
    },
    {
      "cell_type": "code",
      "execution_count": null,
      "id": "7bdf5ef9",
      "metadata": {
        "id": "7bdf5ef9",
        "outputId": "3d1b1b40-285c-4830-989c-57803dabf8bd"
      },
      "outputs": [
        {
          "data": {
            "text/plain": [
              "(31, 67)"
            ]
          },
          "execution_count": 3,
          "metadata": {},
          "output_type": "execute_result"
        }
      ],
      "source": [
        "web_of_science.shape"
      ]
    },
    {
      "cell_type": "code",
      "execution_count": null,
      "id": "566813c6",
      "metadata": {
        "id": "566813c6",
        "outputId": "b3585f4b-d1e9-4510-ff12-dd2cb63f0c0f"
      },
      "outputs": [
        {
          "data": {
            "text/plain": [
              "(1276, 50)"
            ]
          },
          "execution_count": 4,
          "metadata": {},
          "output_type": "execute_result"
        }
      ],
      "source": [
        "scopus.shape"
      ]
    },
    {
      "cell_type": "code",
      "execution_count": null,
      "id": "89ba49c6",
      "metadata": {
        "id": "89ba49c6"
      },
      "outputs": [],
      "source": [
        "#Renomeie as Colunas relacionadas porque estavam com os nomes diferentes\n",
        "web_of_science.rename(columns={'Publication Year': 'Year'}, inplace = True)\n",
        "web_of_science.rename(columns={'Article Title': 'Title'}, inplace = True)\n",
        "web_of_science.rename(columns={'Publisher': 'Affiliations'}, inplace = True)"
      ]
    },
    {
      "cell_type": "code",
      "execution_count": null,
      "id": "26a86703",
      "metadata": {
        "id": "26a86703",
        "outputId": "7ca821e7-27f4-4196-9336-a6809260d441"
      },
      "outputs": [
        {
          "data": {
            "text/plain": [
              "0    Instituto Federal de Goiás-IFG, Campus Goiânia...\n",
              "1    Instituto Federal de Goiás (IFG), Aparecida de...\n",
              "2    Instituto Federal de Educação, Ciência e Tecno...\n",
              "3    Universidade Federal de Goiás – UFG, Rede Pró ...\n",
              "4    Department of Agronomy, Universidade Federal R...\n",
              "5    Institute for Hygiene and Public Health, Medic...\n",
              "6    Department of Environmental Informatics, Helmh...\n",
              "7    Grupo de Estudos em Geomática (GEO), Instituto...\n",
              "8    Laboratory of Environmental Biotechnology and ...\n",
              "9    Universidade Federal de Goiás (UFG), Instituto...\n",
              "Name: Affiliations, dtype: object"
            ]
          },
          "execution_count": 6,
          "metadata": {},
          "output_type": "execute_result"
        }
      ],
      "source": [
        "scopus[\"Affiliations\"].head(10)"
      ]
    },
    {
      "cell_type": "code",
      "execution_count": null,
      "id": "16b8e5c1",
      "metadata": {
        "id": "16b8e5c1",
        "outputId": "2b1368cd-ce57-4538-ae2e-ffed1fe6594e"
      },
      "outputs": [
        {
          "data": {
            "text/plain": [
              "0    INST FED EDUCATION, SCIENCE & TECHNOLOGY OF GO...\n",
              "1    INST FED EDUCATION, SCIENCE & TECHNOLOGY OF GO...\n",
              "2                        UNIV DO VALE DO RIO DOS SINOS\n",
              "3    INST FED EDUCATION, SCIENCE & TECHNOLOGY OF GO...\n",
              "4                                             ELSEVIER\n",
              "5                          UNIV FEDERAL CAMPINA GRANDE\n",
              "6    INST FED EDUCATION, SCIENCE & TECHNOLOGY OF GO...\n",
              "7                PONTIFICIA UNIV CATOLICA PARANA-PUCPR\n",
              "8                             UNIV FEDERAL SANTA MARIA\n",
              "9                                      INST AGRONOMICO\n",
              "Name: Affiliations, dtype: object"
            ]
          },
          "execution_count": 7,
          "metadata": {},
          "output_type": "execute_result"
        }
      ],
      "source": [
        "web_of_science[\"Affiliations\"].head(10)"
      ]
    },
    {
      "cell_type": "code",
      "execution_count": null,
      "id": "ce40cbae",
      "metadata": {
        "id": "ce40cbae"
      },
      "outputs": [],
      "source": [
        "#juntando os dois dataframes\n",
        "result = pd.concat([scopus, web_of_science])"
      ]
    },
    {
      "cell_type": "code",
      "execution_count": null,
      "id": "fe76de0f",
      "metadata": {
        "id": "fe76de0f"
      },
      "outputs": [],
      "source": [
        "nulos = result.loc[result['DOI'].isnull()] # somente registros sem DOI\n",
        "nulos.index[0]\n",
        "result = result.drop([nulos.index[0]])"
      ]
    },
    {
      "cell_type": "code",
      "execution_count": null,
      "id": "ab50c874",
      "metadata": {
        "id": "ab50c874"
      },
      "outputs": [],
      "source": [
        "total_artigos = result.shape[0]"
      ]
    },
    {
      "cell_type": "code",
      "execution_count": null,
      "id": "d6aab840",
      "metadata": {
        "id": "d6aab840",
        "outputId": "7e129103-393d-48fa-e647-4589da1a0749"
      },
      "outputs": [
        {
          "data": {
            "text/plain": [
              "Index(['Authors', 'Author(s) ID', 'Title', 'Year', 'Source title', 'Volume',\n",
              "       'Issue', 'Art. No.', 'Page start', 'Page end',\n",
              "       ...\n",
              "       'Number of Pages', 'WoS Categories', 'Research Areas', 'IDS Number',\n",
              "       'UT (Unique WOS ID)', 'Pubmed Id', 'Open Access Designations',\n",
              "       'Highly Cited Status', 'Hot Paper Status', 'Date of Export'],\n",
              "      dtype='object', length=105)"
            ]
          },
          "execution_count": 11,
          "metadata": {},
          "output_type": "execute_result"
        }
      ],
      "source": [
        "result.columns"
      ]
    },
    {
      "cell_type": "code",
      "execution_count": null,
      "id": "3b7cf69f",
      "metadata": {
        "id": "3b7cf69f",
        "outputId": "bf320bc8-98ce-4106-9131-d3063b93e570"
      },
      "outputs": [
        {
          "data": {
            "text/plain": [
              "(1162, 105)"
            ]
          },
          "execution_count": 12,
          "metadata": {},
          "output_type": "execute_result"
        }
      ],
      "source": [
        "#Verificando duplicados na coluna DOI e apagando as linhas com DOI duplicado\n",
        "result = result.drop_duplicates(subset=['DOI'], keep='first')\n",
        "result.shape"
      ]
    },
    {
      "cell_type": "code",
      "execution_count": null,
      "id": "1ac0b2c1",
      "metadata": {
        "id": "1ac0b2c1",
        "outputId": "a8d0bdb9-83bb-4c04-8501-4e58782e7853"
      },
      "outputs": [
        {
          "data": {
            "text/plain": [
              "144"
            ]
          },
          "execution_count": 13,
          "metadata": {},
          "output_type": "execute_result"
        }
      ],
      "source": [
        "duplicados_eliminados = total_artigos - result.shape[0]\n",
        "duplicados_eliminados"
      ]
    },
    {
      "cell_type": "code",
      "execution_count": null,
      "id": "e582e5c5",
      "metadata": {
        "id": "e582e5c5"
      },
      "outputs": [],
      "source": [
        "# nomear os indices do tamanho do novo dataframe\n",
        "index =[]  \n",
        "for i in range(result.shape[0]): \n",
        "    index.append(i)\n",
        "result.index = index"
      ]
    },
    {
      "cell_type": "code",
      "execution_count": null,
      "id": "a5151517",
      "metadata": {
        "id": "a5151517",
        "outputId": "f234654e-749e-44d8-d7e5-1a134395de50"
      },
      "outputs": [
        {
          "data": {
            "text/html": [
              "<div>\n",
              "<style scoped>\n",
              "    .dataframe tbody tr th:only-of-type {\n",
              "        vertical-align: middle;\n",
              "    }\n",
              "\n",
              "    .dataframe tbody tr th {\n",
              "        vertical-align: top;\n",
              "    }\n",
              "\n",
              "    .dataframe thead th {\n",
              "        text-align: right;\n",
              "    }\n",
              "</style>\n",
              "<table border=\"1\" class=\"dataframe\">\n",
              "  <thead>\n",
              "    <tr style=\"text-align: right;\">\n",
              "      <th></th>\n",
              "      <th>DOI</th>\n",
              "      <th>Title</th>\n",
              "      <th>Affiliations</th>\n",
              "    </tr>\n",
              "  </thead>\n",
              "  <tbody>\n",
              "    <tr>\n",
              "      <th>0</th>\n",
              "      <td>10.1016/j.nonrwa.2021.103406</td>\n",
              "      <td>Classical solution for a nonlinear hybrid syst...</td>\n",
              "      <td>Instituto Federal de Goiás-IFG, Campus Goiânia...</td>\n",
              "    </tr>\n",
              "    <tr>\n",
              "      <th>1</th>\n",
              "      <td>10.1007/978-3-030-79165-0_25</td>\n",
              "      <td>An Innovative Textile Product Proposal Based o...</td>\n",
              "      <td>Instituto Federal de Goiás (IFG), Aparecida de...</td>\n",
              "    </tr>\n",
              "    <tr>\n",
              "      <th>2</th>\n",
              "      <td>10.1590/1519-6984.245368</td>\n",
              "      <td>Detection of enteroparasites in foliar vegetab...</td>\n",
              "      <td>Instituto Federal de Educação, Ciência e Tecno...</td>\n",
              "    </tr>\n",
              "    <tr>\n",
              "      <th>3</th>\n",
              "      <td>10.1590/1519-6984.234476</td>\n",
              "      <td>Phytochemical characterization, and antioxidan...</td>\n",
              "      <td>Universidade Federal de Goiás – UFG, Rede Pró ...</td>\n",
              "    </tr>\n",
              "    <tr>\n",
              "      <th>4</th>\n",
              "      <td>10.1038/s41598-021-97854-8</td>\n",
              "      <td>Stability analysis of reference genes for RT-q...</td>\n",
              "      <td>Department of Agronomy, Universidade Federal R...</td>\n",
              "    </tr>\n",
              "    <tr>\n",
              "      <th>...</th>\n",
              "      <td>...</td>\n",
              "      <td>...</td>\n",
              "      <td>...</td>\n",
              "    </tr>\n",
              "    <tr>\n",
              "      <th>1157</th>\n",
              "      <td>10.31977/grirfi.v16i2.774</td>\n",
              "      <td>HUMAN RIGHTS: FROM THE UNIFORMITY OF THE SPECI...</td>\n",
              "      <td>UNIV FED RECONCAVO BAHIA, CENTRO FORMACAO PROF...</td>\n",
              "    </tr>\n",
              "    <tr>\n",
              "      <th>1158</th>\n",
              "      <td>10.1590/S0101-31732015000400002</td>\n",
              "      <td>PRESENTATION OF THE DOSSIER ROUSSEAU</td>\n",
              "      <td>UNESP-MARILIA</td>\n",
              "    </tr>\n",
              "    <tr>\n",
              "      <th>1159</th>\n",
              "      <td>10.1590/S1415-43662014000400013</td>\n",
              "      <td>Physiological quality of soybean seeds stored ...</td>\n",
              "      <td>UNIV FEDERAL CAMPINA GRANDE</td>\n",
              "    </tr>\n",
              "    <tr>\n",
              "      <th>1160</th>\n",
              "      <td>10.1590/S0034-89102010005000053</td>\n",
              "      <td>Ethics in the publication of studies on human ...</td>\n",
              "      <td>REVISTA DE SAUDE PUBLICA</td>\n",
              "    </tr>\n",
              "    <tr>\n",
              "      <th>1161</th>\n",
              "      <td>10.5585/iji.v4i1.67</td>\n",
              "      <td>SYSTEMATIC REVIEW OF THE LITERATURE SOCIAL ENT...</td>\n",
              "      <td>UNIV NOVE JULHO</td>\n",
              "    </tr>\n",
              "  </tbody>\n",
              "</table>\n",
              "<p>1162 rows × 3 columns</p>\n",
              "</div>"
            ],
            "text/plain": [
              "                                  DOI  \\\n",
              "0        10.1016/j.nonrwa.2021.103406   \n",
              "1        10.1007/978-3-030-79165-0_25   \n",
              "2            10.1590/1519-6984.245368   \n",
              "3            10.1590/1519-6984.234476   \n",
              "4          10.1038/s41598-021-97854-8   \n",
              "...                               ...   \n",
              "1157        10.31977/grirfi.v16i2.774   \n",
              "1158  10.1590/S0101-31732015000400002   \n",
              "1159  10.1590/S1415-43662014000400013   \n",
              "1160  10.1590/S0034-89102010005000053   \n",
              "1161              10.5585/iji.v4i1.67   \n",
              "\n",
              "                                                  Title  \\\n",
              "0     Classical solution for a nonlinear hybrid syst...   \n",
              "1     An Innovative Textile Product Proposal Based o...   \n",
              "2     Detection of enteroparasites in foliar vegetab...   \n",
              "3     Phytochemical characterization, and antioxidan...   \n",
              "4     Stability analysis of reference genes for RT-q...   \n",
              "...                                                 ...   \n",
              "1157  HUMAN RIGHTS: FROM THE UNIFORMITY OF THE SPECI...   \n",
              "1158               PRESENTATION OF THE DOSSIER ROUSSEAU   \n",
              "1159  Physiological quality of soybean seeds stored ...   \n",
              "1160  Ethics in the publication of studies on human ...   \n",
              "1161  SYSTEMATIC REVIEW OF THE LITERATURE SOCIAL ENT...   \n",
              "\n",
              "                                           Affiliations  \n",
              "0     Instituto Federal de Goiás-IFG, Campus Goiânia...  \n",
              "1     Instituto Federal de Goiás (IFG), Aparecida de...  \n",
              "2     Instituto Federal de Educação, Ciência e Tecno...  \n",
              "3     Universidade Federal de Goiás – UFG, Rede Pró ...  \n",
              "4     Department of Agronomy, Universidade Federal R...  \n",
              "...                                                 ...  \n",
              "1157  UNIV FED RECONCAVO BAHIA, CENTRO FORMACAO PROF...  \n",
              "1158                                      UNESP-MARILIA  \n",
              "1159                        UNIV FEDERAL CAMPINA GRANDE  \n",
              "1160                           REVISTA DE SAUDE PUBLICA  \n",
              "1161                                    UNIV NOVE JULHO  \n",
              "\n",
              "[1162 rows x 3 columns]"
            ]
          },
          "execution_count": 18,
          "metadata": {},
          "output_type": "execute_result"
        }
      ],
      "source": [
        "result[['DOI', 'Title', 'Affiliations']]"
      ]
    },
    {
      "cell_type": "code",
      "execution_count": null,
      "id": "d1d2aaad",
      "metadata": {
        "id": "d1d2aaad"
      },
      "outputs": [],
      "source": [
        "result[['DOI','Affiliations']].to_csv(\"dados_para_label.tsv\", sep = \"\\t\", index=False)"
      ]
    },
    {
      "cell_type": "markdown",
      "id": "0284381d",
      "metadata": {
        "id": "0284381d"
      },
      "source": [
        "## Parte 02 - Tratamento dos dados etiquetados\n",
        "\n",
        "Os dados slecionados foram etiquetados manualmente e salvos no dataset [dados com label](https://raw.githubusercontent.com/joaograndotto/PIBITI/main/Datasets/dados_com_label.csv)"
      ]
    },
    {
      "cell_type": "code",
      "execution_count": null,
      "id": "d5ca6f1e",
      "metadata": {
        "id": "d5ca6f1e",
        "outputId": "766b3087-a5eb-44e6-bc81-dde677be9193"
      },
      "outputs": [
        {
          "data": {
            "text/html": [
              "<div>\n",
              "<style scoped>\n",
              "    .dataframe tbody tr th:only-of-type {\n",
              "        vertical-align: middle;\n",
              "    }\n",
              "\n",
              "    .dataframe tbody tr th {\n",
              "        vertical-align: top;\n",
              "    }\n",
              "\n",
              "    .dataframe thead th {\n",
              "        text-align: right;\n",
              "    }\n",
              "</style>\n",
              "<table border=\"1\" class=\"dataframe\">\n",
              "  <thead>\n",
              "    <tr style=\"text-align: right;\">\n",
              "      <th></th>\n",
              "      <th>DOI</th>\n",
              "      <th>Title</th>\n",
              "      <th>Year</th>\n",
              "      <th>Affiliations</th>\n",
              "      <th>Campus</th>\n",
              "      <th>Institution</th>\n",
              "    </tr>\n",
              "  </thead>\n",
              "  <tbody>\n",
              "    <tr>\n",
              "      <th>0</th>\n",
              "      <td>10.1016/j.nonrwa.2021.103406</td>\n",
              "      <td>Classical solution for a nonlinear hybrid syst...</td>\n",
              "      <td>2022</td>\n",
              "      <td>Instituto Federal de Goiás-IFG, Campus Goiânia...</td>\n",
              "      <td>Goiânia</td>\n",
              "      <td>Instituto Federal de Goiás</td>\n",
              "    </tr>\n",
              "    <tr>\n",
              "      <th>1</th>\n",
              "      <td>10.1007/978-3-030-79165-0_25</td>\n",
              "      <td>An Innovative Textile Product Proposal Based o...</td>\n",
              "      <td>2022</td>\n",
              "      <td>Instituto Federal de Goiás (IFG), Aparecida de...</td>\n",
              "      <td>Aparecida de Goiânia</td>\n",
              "      <td>Instituto Federal de Goiás</td>\n",
              "    </tr>\n",
              "    <tr>\n",
              "      <th>2</th>\n",
              "      <td>10.1590/1519-6984.245368</td>\n",
              "      <td>Detection of enteroparasites in foliar vegetab...</td>\n",
              "      <td>2022</td>\n",
              "      <td>Instituto Federal de Educação, Ciência e Tecno...</td>\n",
              "      <td>Aparecida de Goiânia</td>\n",
              "      <td>Instituto Federal de Goiás</td>\n",
              "    </tr>\n",
              "    <tr>\n",
              "      <th>3</th>\n",
              "      <td>10.1590/1519-6984.234476</td>\n",
              "      <td>Phytochemical characterization, and antioxidan...</td>\n",
              "      <td>2022</td>\n",
              "      <td>Universidade Federal de Goiás – UFG, Rede Pró ...</td>\n",
              "      <td>Goiânia</td>\n",
              "      <td>Instituto Federal de Goiás</td>\n",
              "    </tr>\n",
              "    <tr>\n",
              "      <th>4</th>\n",
              "      <td>10.1038/s41598-021-97854-8</td>\n",
              "      <td>Stability analysis of reference genes for RT-q...</td>\n",
              "      <td>2021</td>\n",
              "      <td>Department of Agronomy, Universidade Federal R...</td>\n",
              "      <td>Águas Lindas</td>\n",
              "      <td>Instituto Federal de Goiás</td>\n",
              "    </tr>\n",
              "    <tr>\n",
              "      <th>...</th>\n",
              "      <td>...</td>\n",
              "      <td>...</td>\n",
              "      <td>...</td>\n",
              "      <td>...</td>\n",
              "      <td>...</td>\n",
              "      <td>...</td>\n",
              "    </tr>\n",
              "    <tr>\n",
              "      <th>1157</th>\n",
              "      <td>10.31977/grirfi.v16i2.774</td>\n",
              "      <td>HUMAN RIGHTS: FROM THE UNIFORMITY OF THE SPECI...</td>\n",
              "      <td>2017</td>\n",
              "      <td>UNIV FED RECONCAVO BAHIA, CENTRO FORMACAO PROF...</td>\n",
              "      <td>Bahia</td>\n",
              "      <td>Universidade Federal Reconcavo</td>\n",
              "    </tr>\n",
              "    <tr>\n",
              "      <th>1158</th>\n",
              "      <td>10.1590/S0101-31732015000400002</td>\n",
              "      <td>PRESENTATION OF THE DOSSIER ROUSSEAU</td>\n",
              "      <td>2015</td>\n",
              "      <td>UNESP-MARILIA</td>\n",
              "      <td>Marilia</td>\n",
              "      <td>UNESP</td>\n",
              "    </tr>\n",
              "    <tr>\n",
              "      <th>1159</th>\n",
              "      <td>10.1590/S1415-43662014000400013</td>\n",
              "      <td>Physiological quality of soybean seeds stored ...</td>\n",
              "      <td>2014</td>\n",
              "      <td>UNIV FEDERAL CAMPINA GRANDE</td>\n",
              "      <td>Campina Grande</td>\n",
              "      <td>Universidade Federal Campina Grande</td>\n",
              "    </tr>\n",
              "    <tr>\n",
              "      <th>1160</th>\n",
              "      <td>10.1590/S0034-89102010005000053</td>\n",
              "      <td>Ethics in the publication of studies on human ...</td>\n",
              "      <td>2011</td>\n",
              "      <td>REVISTA DE SAUDE PUBLICA</td>\n",
              "      <td>Brasil</td>\n",
              "      <td>Revista Saude Publica</td>\n",
              "    </tr>\n",
              "    <tr>\n",
              "      <th>1161</th>\n",
              "      <td>10.5585/iji.v4i1.67</td>\n",
              "      <td>SYSTEMATIC REVIEW OF THE LITERATURE SOCIAL ENT...</td>\n",
              "      <td>2016</td>\n",
              "      <td>UNIV NOVE JULHO</td>\n",
              "      <td>Brasil</td>\n",
              "      <td>Universidade Nove Julho</td>\n",
              "    </tr>\n",
              "  </tbody>\n",
              "</table>\n",
              "<p>1162 rows × 6 columns</p>\n",
              "</div>"
            ],
            "text/plain": [
              "                                  DOI  \\\n",
              "0        10.1016/j.nonrwa.2021.103406   \n",
              "1        10.1007/978-3-030-79165-0_25   \n",
              "2            10.1590/1519-6984.245368   \n",
              "3            10.1590/1519-6984.234476   \n",
              "4          10.1038/s41598-021-97854-8   \n",
              "...                               ...   \n",
              "1157        10.31977/grirfi.v16i2.774   \n",
              "1158  10.1590/S0101-31732015000400002   \n",
              "1159  10.1590/S1415-43662014000400013   \n",
              "1160  10.1590/S0034-89102010005000053   \n",
              "1161              10.5585/iji.v4i1.67   \n",
              "\n",
              "                                                  Title  Year  \\\n",
              "0     Classical solution for a nonlinear hybrid syst...  2022   \n",
              "1     An Innovative Textile Product Proposal Based o...  2022   \n",
              "2     Detection of enteroparasites in foliar vegetab...  2022   \n",
              "3     Phytochemical characterization, and antioxidan...  2022   \n",
              "4     Stability analysis of reference genes for RT-q...  2021   \n",
              "...                                                 ...   ...   \n",
              "1157  HUMAN RIGHTS: FROM THE UNIFORMITY OF THE SPECI...  2017   \n",
              "1158               PRESENTATION OF THE DOSSIER ROUSSEAU  2015   \n",
              "1159  Physiological quality of soybean seeds stored ...  2014   \n",
              "1160  Ethics in the publication of studies on human ...  2011   \n",
              "1161  SYSTEMATIC REVIEW OF THE LITERATURE SOCIAL ENT...  2016   \n",
              "\n",
              "                                           Affiliations  \\\n",
              "0     Instituto Federal de Goiás-IFG, Campus Goiânia...   \n",
              "1     Instituto Federal de Goiás (IFG), Aparecida de...   \n",
              "2     Instituto Federal de Educação, Ciência e Tecno...   \n",
              "3     Universidade Federal de Goiás – UFG, Rede Pró ...   \n",
              "4     Department of Agronomy, Universidade Federal R...   \n",
              "...                                                 ...   \n",
              "1157  UNIV FED RECONCAVO BAHIA, CENTRO FORMACAO PROF...   \n",
              "1158                                      UNESP-MARILIA   \n",
              "1159                        UNIV FEDERAL CAMPINA GRANDE   \n",
              "1160                           REVISTA DE SAUDE PUBLICA   \n",
              "1161                                    UNIV NOVE JULHO   \n",
              "\n",
              "                     Campus                          Institution  \n",
              "0                   Goiânia           Instituto Federal de Goiás  \n",
              "1     Aparecida de Goiânia            Instituto Federal de Goiás  \n",
              "2     Aparecida de Goiânia            Instituto Federal de Goiás  \n",
              "3                   Goiânia           Instituto Federal de Goiás  \n",
              "4              Águas Lindas           Instituto Federal de Goiás  \n",
              "...                     ...                                  ...  \n",
              "1157                  Bahia       Universidade Federal Reconcavo  \n",
              "1158                Marilia                                UNESP  \n",
              "1159         Campina Grande  Universidade Federal Campina Grande  \n",
              "1160                 Brasil                Revista Saude Publica  \n",
              "1161                 Brasil              Universidade Nove Julho  \n",
              "\n",
              "[1162 rows x 6 columns]"
            ]
          },
          "execution_count": 5,
          "metadata": {},
          "output_type": "execute_result"
        }
      ],
      "source": [
        "url = 'https://raw.githubusercontent.com/joaograndotto/PIBITI/main/Datasets/dados_com_label.csv'\n",
        "dataset = pd.read_csv(url, sep=\",\" )\n",
        "dataset"
      ]
    },
    {
      "cell_type": "markdown",
      "id": "8d85d498",
      "metadata": {
        "id": "8d85d498"
      },
      "source": [
        "### Separando o dataset em treino e teste"
      ]
    },
    {
      "cell_type": "code",
      "execution_count": null,
      "id": "101be259",
      "metadata": {
        "id": "101be259"
      },
      "outputs": [],
      "source": [
        "train_dataset = dataset.sample(frac = 0.9, random_state = 25)\n",
        "test_dataset  = dataset.drop(train_dataset.index)"
      ]
    },
    {
      "cell_type": "code",
      "execution_count": null,
      "id": "ad971a7c",
      "metadata": {
        "id": "ad971a7c",
        "outputId": "aa3e0ff9-c372-445e-fe77-b2c2322d28fe"
      },
      "outputs": [
        {
          "data": {
            "text/plain": [
              "(1046, 6)"
            ]
          },
          "execution_count": 51,
          "metadata": {},
          "output_type": "execute_result"
        }
      ],
      "source": [
        "train_dataset.shape"
      ]
    },
    {
      "cell_type": "code",
      "execution_count": null,
      "id": "b6eff3ac",
      "metadata": {
        "id": "b6eff3ac",
        "outputId": "79aef259-72f6-4848-8b92-74fe9e62f555"
      },
      "outputs": [
        {
          "data": {
            "text/plain": [
              "(116, 6)"
            ]
          },
          "execution_count": 52,
          "metadata": {},
          "output_type": "execute_result"
        }
      ],
      "source": [
        "test_dataset.shape"
      ]
    },
    {
      "cell_type": "markdown",
      "id": "7f644f78",
      "metadata": {
        "id": "7f644f78"
      },
      "source": [
        "# Classificação de texto [prova de conceito]\n",
        "\n",
        "## Classificação\n",
        "\n",
        "Em aprendizado de máquina, a classificação é a tarefa de agrupamento dos dados em diferentes classes, grupos ou partes. \n",
        "\n",
        "Por exemplo, se tomarmos os dados de vitórias, empates ou derrotas de um jogador de bilhar ao longo do tempo, podemos classificá-lo em um dado período como \"em forma\" ou \"fora de forma\" de acordo com seu desempenho. Uma vez que o modelo aprende a classificar com este jogador, é possível aplicar o mesmo modelo a outros jogadores de bilhar.\n",
        "\n",
        "### Classificação binária\n",
        "\n",
        "É o processo de classificação no qual elementos de um conjunto de dados são classificados em 2 classes. Um dos exemplos mais recorrentes é a classificação de e-mails como \"*spam*\" ou \"não *spam*\" com base em palavras-chave. A partir de um conjunto de textos de e-mail previamente etiquetados como *spam* ou não, constrói-se um modelo capaz de reconhecer características do texto e separar o texto no conjunto *spam* ou não *spam*. Uma vez construído o modelo, ele pode ser aplicado a qualquer outro texto para classificá-lo como *spam* ou não."
      ]
    },
    {
      "cell_type": "code",
      "execution_count": null,
      "id": "acfb7a5e",
      "metadata": {
        "id": "acfb7a5e"
      },
      "outputs": [],
      "source": [
        "#! pip install nltk"
      ]
    },
    {
      "cell_type": "code",
      "execution_count": null,
      "id": "20618ee2",
      "metadata": {
        "id": "20618ee2",
        "outputId": "0ce2bce2-c446-4259-ea7d-5fda40134da7"
      },
      "outputs": [
        {
          "name": "stderr",
          "output_type": "stream",
          "text": [
            "[nltk_data] Downloading package stopwords to\n",
            "[nltk_data]     /home/waldeyr/nltk_data...\n",
            "[nltk_data]   Package stopwords is already up-to-date!\n"
          ]
        }
      ],
      "source": [
        "import numpy as np\n",
        "import re\n",
        "import nltk\n",
        "from sklearn.datasets import load_files\n",
        "nltk.download('stopwords')\n",
        "import pickle\n",
        "from nltk.corpus import stopwords"
      ]
    },
    {
      "cell_type": "code",
      "execution_count": null,
      "id": "aec84b23",
      "metadata": {
        "id": "aec84b23",
        "outputId": "b1338442-8ca3-4dae-bf2b-fa051a125cb7"
      },
      "outputs": [
        {
          "data": {
            "text/plain": [
              "['de', 'a', 'o', 'que', 'e', 'é', 'do', 'da', 'em', 'um']"
            ]
          },
          "execution_count": 49,
          "metadata": {},
          "output_type": "execute_result"
        }
      ],
      "source": [
        "stopwords.words('portuguese')[:10]"
      ]
    },
    {
      "cell_type": "code",
      "execution_count": null,
      "id": "720a28db",
      "metadata": {
        "id": "720a28db",
        "outputId": "d79d766c-9e70-4aad-9585-a872c4b09882"
      },
      "outputs": [
        {
          "data": {
            "text/plain": [
              "['i', 'me', 'my', 'myself', 'we', 'our', 'ours', 'ourselves', 'you', \"you're\"]"
            ]
          },
          "execution_count": 50,
          "metadata": {},
          "output_type": "execute_result"
        }
      ],
      "source": [
        "stopwords.words('english')[:10]"
      ]
    },
    {
      "cell_type": "code",
      "execution_count": null,
      "id": "0275bf3a",
      "metadata": {
        "id": "0275bf3a",
        "outputId": "bcd6a569-3136-4e71-e50c-e90279ac649b"
      },
      "outputs": [
        {
          "data": {
            "text/plain": [
              "['aber', 'alle', 'allem', 'allen', 'aller', 'alles', 'als', 'also', 'am', 'an']"
            ]
          },
          "execution_count": 51,
          "metadata": {},
          "output_type": "execute_result"
        }
      ],
      "source": [
        "stopwords.words('german')[:10]"
      ]
    },
    {
      "cell_type": "code",
      "execution_count": null,
      "id": "f9b386c1",
      "metadata": {
        "id": "f9b386c1",
        "outputId": "b1bd2d65-be55-4847-dabb-e01a96609ec3"
      },
      "outputs": [
        {
          "data": {
            "text/plain": [
              "['de', 'la', 'que', 'el', 'en', 'y', 'a', 'los', 'del', 'se']"
            ]
          },
          "execution_count": 52,
          "metadata": {},
          "output_type": "execute_result"
        }
      ],
      "source": [
        "stopwords.words('spanish')[:10]"
      ]
    },
    {
      "cell_type": "code",
      "execution_count": null,
      "id": "bbb7e9fc",
      "metadata": {
        "id": "bbb7e9fc"
      },
      "outputs": [],
      "source": [
        "palavrasIgnoradas = \\\n",
        "    stopwords.words('portuguese') + \\\n",
        "    stopwords.words('english') + \\\n",
        "    stopwords.words('german') + \\\n",
        "    stopwords.words('spanish')"
      ]
    },
    {
      "cell_type": "code",
      "execution_count": null,
      "id": "cbf7ba94",
      "metadata": {
        "id": "cbf7ba94",
        "outputId": "cbbb4c10-d36f-47f5-a55f-90bf78cfcd83"
      },
      "outputs": [
        {
          "data": {
            "text/plain": [
              "['nor',\n",
              " 'there',\n",
              " 'because',\n",
              " 'les',\n",
              " 'teria',\n",
              " 'isto',\n",
              " 'da',\n",
              " 'seas',\n",
              " 'dass',\n",
              " 'fôramos']"
            ]
          },
          "execution_count": 54,
          "metadata": {},
          "output_type": "execute_result"
        }
      ],
      "source": [
        "import random\n",
        "random.sample(palavrasIgnoradas, 10)"
      ]
    },
    {
      "cell_type": "markdown",
      "id": "11943a3e",
      "metadata": {
        "id": "11943a3e"
      },
      "source": [
        "### Dataset com dados etiquetados (apredizado supervisionado)"
      ]
    },
    {
      "cell_type": "code",
      "execution_count": null,
      "id": "c1514dde",
      "metadata": {
        "id": "c1514dde"
      },
      "outputs": [],
      "source": [
        "import numpy as np\n",
        "import matplotlib.pyplot as plt\n",
        "from sklearn import svm\n",
        "from sklearn.datasets import make_blobs\n",
        "import pandas as pd"
      ]
    },
    {
      "cell_type": "code",
      "execution_count": null,
      "id": "5dc95691",
      "metadata": {
        "id": "5dc95691"
      },
      "outputs": [],
      "source": [
        "url = 'https://raw.githubusercontent.com/joaograndotto/PIBITI/main/Datasets/dados_com_label.csv'\n",
        "dataset = pd.read_csv(url, sep=\",\" )"
      ]
    },
    {
      "cell_type": "code",
      "execution_count": null,
      "id": "0ccf66cb",
      "metadata": {
        "id": "0ccf66cb",
        "outputId": "5ab23e27-02b3-4f52-9a9f-eb44e738bf02"
      },
      "outputs": [
        {
          "data": {
            "text/html": [
              "<div>\n",
              "<style scoped>\n",
              "    .dataframe tbody tr th:only-of-type {\n",
              "        vertical-align: middle;\n",
              "    }\n",
              "\n",
              "    .dataframe tbody tr th {\n",
              "        vertical-align: top;\n",
              "    }\n",
              "\n",
              "    .dataframe thead th {\n",
              "        text-align: right;\n",
              "    }\n",
              "</style>\n",
              "<table border=\"1\" class=\"dataframe\">\n",
              "  <thead>\n",
              "    <tr style=\"text-align: right;\">\n",
              "      <th></th>\n",
              "      <th>DOI</th>\n",
              "      <th>Title</th>\n",
              "      <th>Year</th>\n",
              "      <th>Affiliations</th>\n",
              "      <th>Campus</th>\n",
              "      <th>Institution</th>\n",
              "    </tr>\n",
              "  </thead>\n",
              "  <tbody>\n",
              "    <tr>\n",
              "      <th>153</th>\n",
              "      <td>10.1016/j.jclepro.2020.121443</td>\n",
              "      <td>Bio-acidification and enhanced crusting as an ...</td>\n",
              "      <td>2020</td>\n",
              "      <td>LEAF, Instituto Superior de Agronomia, Univers...</td>\n",
              "      <td>Inhumas</td>\n",
              "      <td>Instituto Federal de Goiás</td>\n",
              "    </tr>\n",
              "    <tr>\n",
              "      <th>654</th>\n",
              "      <td>10.1007/s00603-015-0839-2</td>\n",
              "      <td>Steady-State Creep of Rock Salt: Improved Appr...</td>\n",
              "      <td>2015</td>\n",
              "      <td>IfG, Institut für Gebirgsmechanik GmbH, Leipzi...</td>\n",
              "      <td>Germany</td>\n",
              "      <td>Institut für Gebirgsmechanik GmbH</td>\n",
              "    </tr>\n",
              "    <tr>\n",
              "      <th>1086</th>\n",
              "      <td>10.1111/j.1365-246X.2007.03580.x</td>\n",
              "      <td>Fault interactions in the Sea of Marmara pull-...</td>\n",
              "      <td>2007</td>\n",
              "      <td>Laboratoire de Tectonique, IPGP, CNRS-UMR 7578...</td>\n",
              "      <td>Paris</td>\n",
              "      <td>L'Institut Français de Géopolitique</td>\n",
              "    </tr>\n",
              "  </tbody>\n",
              "</table>\n",
              "</div>"
            ],
            "text/plain": [
              "                                   DOI  \\\n",
              "153      10.1016/j.jclepro.2020.121443   \n",
              "654          10.1007/s00603-015-0839-2   \n",
              "1086  10.1111/j.1365-246X.2007.03580.x   \n",
              "\n",
              "                                                  Title  Year  \\\n",
              "153   Bio-acidification and enhanced crusting as an ...  2020   \n",
              "654   Steady-State Creep of Rock Salt: Improved Appr...  2015   \n",
              "1086  Fault interactions in the Sea of Marmara pull-...  2007   \n",
              "\n",
              "                                           Affiliations   Campus  \\\n",
              "153   LEAF, Instituto Superior de Agronomia, Univers...  Inhumas   \n",
              "654   IfG, Institut für Gebirgsmechanik GmbH, Leipzi...  Germany   \n",
              "1086  Laboratoire de Tectonique, IPGP, CNRS-UMR 7578...    Paris   \n",
              "\n",
              "                              Institution  \n",
              "153           Instituto Federal de Goiás   \n",
              "654     Institut für Gebirgsmechanik GmbH  \n",
              "1086  L'Institut Français de Géopolitique  "
            ]
          },
          "execution_count": 57,
          "metadata": {},
          "output_type": "execute_result"
        }
      ],
      "source": [
        "dataset.sample(n=3)"
      ]
    },
    {
      "cell_type": "code",
      "execution_count": null,
      "id": "3d8343f9",
      "metadata": {
        "id": "3d8343f9"
      },
      "outputs": [],
      "source": [
        "dataset['IFG'] = dataset['Institution'].apply(lambda x: 1 if str(x).strip() == \"Instituto Federal de Goiás\" else 0)"
      ]
    },
    {
      "cell_type": "code",
      "execution_count": null,
      "id": "e16793a8",
      "metadata": {
        "id": "e16793a8",
        "outputId": "4deeecba-38b0-4e26-f287-526c4ef36ca1"
      },
      "outputs": [
        {
          "data": {
            "text/html": [
              "<div>\n",
              "<style scoped>\n",
              "    .dataframe tbody tr th:only-of-type {\n",
              "        vertical-align: middle;\n",
              "    }\n",
              "\n",
              "    .dataframe tbody tr th {\n",
              "        vertical-align: top;\n",
              "    }\n",
              "\n",
              "    .dataframe thead th {\n",
              "        text-align: right;\n",
              "    }\n",
              "</style>\n",
              "<table border=\"1\" class=\"dataframe\">\n",
              "  <thead>\n",
              "    <tr style=\"text-align: right;\">\n",
              "      <th></th>\n",
              "      <th>DOI</th>\n",
              "      <th>Title</th>\n",
              "      <th>Year</th>\n",
              "      <th>Affiliations</th>\n",
              "      <th>Campus</th>\n",
              "      <th>Institution</th>\n",
              "      <th>IFG</th>\n",
              "    </tr>\n",
              "  </thead>\n",
              "  <tbody>\n",
              "    <tr>\n",
              "      <th>231</th>\n",
              "      <td>10.1038/s41598-019-49263-1</td>\n",
              "      <td>Dissemination prevention of antibiotic resista...</td>\n",
              "      <td>2019</td>\n",
              "      <td>Karlsruhe Institute of Technology (KIT), Insti...</td>\n",
              "      <td>Eggenstein-Leopoldshafen</td>\n",
              "      <td>Institute of Functional Interfaces</td>\n",
              "      <td>0</td>\n",
              "    </tr>\n",
              "    <tr>\n",
              "      <th>405</th>\n",
              "      <td>10.1109/TLA.2018.8358662</td>\n",
              "      <td>Method for Optimized Analysis of Electrical Te...</td>\n",
              "      <td>2018</td>\n",
              "      <td>Enel, EMC/UFG, IFG, Goiania, Brazil; IF Goiano...</td>\n",
              "      <td>Trindade</td>\n",
              "      <td>Instituto Federal Goiano</td>\n",
              "      <td>0</td>\n",
              "    </tr>\n",
              "    <tr>\n",
              "      <th>61</th>\n",
              "      <td>10.1590/2179-10742021V20I1874</td>\n",
              "      <td>Mathematical Analysis and Improvement of the M...</td>\n",
              "      <td>2021</td>\n",
              "      <td>Universidade Federal de Goiás-UFG, Goiânia, Go...</td>\n",
              "      <td>Goiânia</td>\n",
              "      <td>Instituto Federal de Goiás</td>\n",
              "      <td>1</td>\n",
              "    </tr>\n",
              "  </tbody>\n",
              "</table>\n",
              "</div>"
            ],
            "text/plain": [
              "                               DOI  \\\n",
              "231     10.1038/s41598-019-49263-1   \n",
              "405       10.1109/TLA.2018.8358662   \n",
              "61   10.1590/2179-10742021V20I1874   \n",
              "\n",
              "                                                 Title  Year  \\\n",
              "231  Dissemination prevention of antibiotic resista...  2019   \n",
              "405  Method for Optimized Analysis of Electrical Te...  2018   \n",
              "61   Mathematical Analysis and Improvement of the M...  2021   \n",
              "\n",
              "                                          Affiliations  \\\n",
              "231  Karlsruhe Institute of Technology (KIT), Insti...   \n",
              "405  Enel, EMC/UFG, IFG, Goiania, Brazil; IF Goiano...   \n",
              "61   Universidade Federal de Goiás-UFG, Goiânia, Go...   \n",
              "\n",
              "                        Campus                         Institution  IFG  \n",
              "231   Eggenstein-Leopoldshafen  Institute of Functional Interfaces    0  \n",
              "405                   Trindade            Instituto Federal Goiano    0  \n",
              "61                     Goiânia         Instituto Federal de Goiás     1  "
            ]
          },
          "execution_count": 66,
          "metadata": {},
          "output_type": "execute_result"
        }
      ],
      "source": [
        "dataset.sample(n=3)"
      ]
    },
    {
      "cell_type": "code",
      "execution_count": null,
      "id": "9396edbe",
      "metadata": {
        "id": "9396edbe",
        "outputId": "7ef7dca1-6b8d-4bb0-a0f2-fc6c67dee644"
      },
      "outputs": [
        {
          "data": {
            "text/plain": [
              "((1162,), (1162,))"
            ]
          },
          "execution_count": 67,
          "metadata": {},
          "output_type": "execute_result"
        }
      ],
      "source": [
        "X, y = dataset['Affiliations'], dataset['IFG']\n",
        "X.shape, y.shape"
      ]
    },
    {
      "cell_type": "code",
      "execution_count": null,
      "id": "cbbf1fdd",
      "metadata": {
        "id": "cbbf1fdd",
        "outputId": "83e53b70-0f22-44c0-c053-23925fcc7895"
      },
      "outputs": [
        {
          "data": {
            "text/plain": [
              "0       Instituto Federal de Goiás-IFG, Campus Goiânia...\n",
              "1       Instituto Federal de Goiás (IFG), Aparecida de...\n",
              "2       Instituto Federal de Educação, Ciência e Tecno...\n",
              "3       Universidade Federal de Goiás – UFG, Rede Pró ...\n",
              "4       Department of Agronomy, Universidade Federal R...\n",
              "                              ...                        \n",
              "1157    UNIV FED RECONCAVO BAHIA, CENTRO FORMACAO PROF...\n",
              "1158                                        UNESP-MARILIA\n",
              "1159                          UNIV FEDERAL CAMPINA GRANDE\n",
              "1160                             REVISTA DE SAUDE PUBLICA\n",
              "1161                                      UNIV NOVE JULHO\n",
              "Name: Affiliations, Length: 1162, dtype: object"
            ]
          },
          "execution_count": 68,
          "metadata": {},
          "output_type": "execute_result"
        }
      ],
      "source": [
        "X"
      ]
    },
    {
      "cell_type": "markdown",
      "id": "9947e154",
      "metadata": {
        "id": "9947e154"
      },
      "source": [
        "#### Bag of Words\n",
        "\n",
        "É uma matriz esparsa com a ocorrência ou não de um termo em cada texto ou documento."
      ]
    },
    {
      "cell_type": "code",
      "execution_count": null,
      "id": "c52ed896",
      "metadata": {
        "id": "c52ed896"
      },
      "outputs": [],
      "source": [
        "from sklearn.feature_extraction.text import CountVectorizer\n",
        "vectorizer = CountVectorizer(\n",
        "    max_features = 1500, # vocabulário considera top max_features ordenadas por freq do termo no texto \n",
        "    min_df = 5, # ignorar termos com frequencia menor do que x, onde 0<=x<=1\n",
        "    max_df = 0.7, # ignorar termos com frequencia maior do que x, onde 0<=x<=1\n",
        "    stop_words = palavrasIgnoradas\n",
        ")"
      ]
    },
    {
      "cell_type": "code",
      "execution_count": null,
      "id": "7e3d1b12",
      "metadata": {
        "id": "7e3d1b12",
        "outputId": "96d9495c-c024-4b75-b188-576fd33b75c5"
      },
      "outputs": [
        {
          "data": {
            "text/plain": [
              "CountVectorizer(max_df=0.7, max_features=1500, min_df=5,\n",
              "                stop_words=['de', 'a', 'o', 'que', 'e', 'é', 'do', 'da', 'em',\n",
              "                            'um', 'para', 'com', 'não', 'uma', 'os', 'no', 'se',\n",
              "                            'na', 'por', 'mais', 'as', 'dos', 'como', 'mas',\n",
              "                            'ao', 'ele', 'das', 'à', 'seu', 'sua', ...])"
            ]
          },
          "execution_count": 62,
          "metadata": {},
          "output_type": "execute_result"
        }
      ],
      "source": [
        "vectorizer"
      ]
    },
    {
      "cell_type": "code",
      "execution_count": null,
      "id": "9504c813",
      "metadata": {
        "id": "9504c813",
        "outputId": "595a09dc-7421-4557-909c-4826dfdbee5e"
      },
      "outputs": [
        {
          "data": {
            "text/plain": [
              "array([[0, 0, 0, ..., 0, 0, 0],\n",
              "       [0, 0, 0, ..., 0, 0, 0],\n",
              "       [0, 0, 0, ..., 0, 0, 0],\n",
              "       ...,\n",
              "       [0, 0, 0, ..., 0, 0, 0],\n",
              "       [0, 0, 0, ..., 0, 0, 0],\n",
              "       [0, 0, 0, ..., 0, 0, 0]])"
            ]
          },
          "execution_count": 64,
          "metadata": {},
          "output_type": "execute_result"
        }
      ],
      "source": [
        "X"
      ]
    },
    {
      "cell_type": "code",
      "execution_count": null,
      "id": "cab295c6",
      "metadata": {
        "id": "cab295c6"
      },
      "outputs": [],
      "source": [
        "X = vectorizer.fit_transform(X).toarray()"
      ]
    },
    {
      "cell_type": "code",
      "execution_count": null,
      "id": "10b107d7",
      "metadata": {
        "id": "10b107d7",
        "outputId": "bd1a6c77-0f0e-4abd-a4cd-882715061117"
      },
      "outputs": [
        {
          "data": {
            "text/plain": [
              "(1162, 1033)"
            ]
          },
          "execution_count": 46,
          "metadata": {},
          "output_type": "execute_result"
        }
      ],
      "source": [
        "X.shape"
      ]
    },
    {
      "cell_type": "markdown",
      "id": "dc925511",
      "metadata": {
        "id": "dc925511"
      },
      "source": [
        "#### TFIDF (term frequency–inverse document frequency)\n",
        "\n",
        "É uma medida estatística que almeja refletir a importância (peso) de um termo em um conjunto de documentos através de sua frequência.\n",
        "O peso de um termo que ocorre em um documento é diretamente proporcional à sua frequência.\n",
        "Quanto mais um termo aparece no conjunto de documentos, mais importante ele é.\n",
        "Entretanto, quando o tamanho dos documentos varia muito, é natural que um termo possa aparecer mais. Por isso algum ajuste precisa ser feito a variedade. Termos como \"do\", \"de\" na língua portuguesa ou \"the\", \"of\" na língua inglesa tendem a aparecer mais que outros.\n",
        "\n",
        "TFIDF procura resolver este problema multiplicando a frequência do termo pelo inverso da frequência do termo em um conjunto de textos.\n",
        "\n",
        "$$ idf(t, D) = log\\frac{N}{count(d~\\in~D:t~\\in~d)}$$"
      ]
    },
    {
      "cell_type": "code",
      "execution_count": null,
      "id": "2efafd5c",
      "metadata": {
        "id": "2efafd5c"
      },
      "outputs": [],
      "source": [
        "from sklearn.feature_extraction.text import TfidfTransformer\n",
        "tfidfconverter = TfidfTransformer()\n",
        "X = tfidfconverter.fit_transform(X).toarray()"
      ]
    },
    {
      "cell_type": "markdown",
      "id": "2813ae6b",
      "metadata": {
        "id": "2813ae6b"
      },
      "source": [
        "##### Separando o dataset em 2 partes (treino e teste)"
      ]
    },
    {
      "cell_type": "code",
      "execution_count": null,
      "id": "5dea65fe",
      "metadata": {
        "id": "5dea65fe"
      },
      "outputs": [],
      "source": [
        "from sklearn.model_selection import train_test_split\n",
        "X_train, X_test, y_train, y_test = train_test_split(X, y, test_size = 0.1, random_state = 3)"
      ]
    },
    {
      "cell_type": "markdown",
      "id": "443a38ad",
      "metadata": {
        "id": "443a38ad"
      },
      "source": [
        "##### Criando e treinando o modelo com os dados de treino"
      ]
    },
    {
      "cell_type": "code",
      "execution_count": null,
      "id": "f32ad2ff",
      "metadata": {
        "id": "f32ad2ff",
        "outputId": "49b45688-dfd6-45e5-9d02-a5d87fa99ccb"
      },
      "outputs": [
        {
          "data": {
            "text/plain": [
              "LogisticRegression()"
            ]
          },
          "execution_count": 56,
          "metadata": {},
          "output_type": "execute_result"
        }
      ],
      "source": [
        "from sklearn.linear_model import LogisticRegression\n",
        "modeloRegressaoLogistica = LogisticRegression()\n",
        "modeloRegressaoLogistica.fit(X_train, y_train)"
      ]
    },
    {
      "cell_type": "markdown",
      "id": "97d744ae",
      "metadata": {
        "id": "97d744ae"
      },
      "source": [
        "##### Testando o modelo com o conjunto de teste"
      ]
    },
    {
      "cell_type": "code",
      "execution_count": null,
      "id": "9840d21f",
      "metadata": {
        "id": "9840d21f"
      },
      "outputs": [],
      "source": [
        "predictions = modeloRegressaoLogistica.predict(X_test)"
      ]
    },
    {
      "cell_type": "markdown",
      "id": "404d71f0",
      "metadata": {
        "id": "404d71f0"
      },
      "source": [
        "### Avaliação da classificação\n",
        "\n",
        "Algumas métricas são utilizadas para avaliar o quão bom um modelo é capaz de classificar.\n",
        "\n",
        "#### Acurácia\n",
        "\n",
        "* True positive (TP): quando um elemento pertence a uma classe e o modelo diz que ele pertence.\n",
        "* False positive (FP): quando o elemento não pertence a uma classe e o modelo diz que ele pertence;\n",
        "* True negative (TN): quando um elemento não pertence a uma classe e o modelo diz que ele não pertence;\n",
        "* False negative (FN): quando um elemento pertence a uma classe e o modelo diz que ele não pertence;\n",
        "    \n",
        "A acuária é obtida como se segue:\n",
        "    \n",
        "$$ acurária = \\frac{TP + TN}{TP + FP + TN + FN} $$\n",
        "\n",
        "A acurácia pode ser representada por uma matriz de confusão.\n",
        "\n",
        "#### Precisão\n",
        "\n",
        "A precisão é a métrica que indica qual a proporção de identificações positivas foi correta. Ou seja, entre todas as identificações positivas, em que proporção o modelo realmente acertou. A precisão é dada pela fórmula:\n",
        "\n",
        "$$ Precisão = \\frac{TP}{TP + FP} $$\n",
        "\n",
        "\n",
        "#### Recall\n",
        "\n",
        "O *recall* indica a proporção de verdadeiros positivos corretamente identificados. A fórmula para cacular o *recall* é dada por:\n",
        "\n",
        "$$ Recall = \\frac{TP}{TP + FN} $$\n"
      ]
    },
    {
      "cell_type": "code",
      "execution_count": null,
      "id": "00db3a3d",
      "metadata": {
        "id": "00db3a3d",
        "outputId": "2a4a3f0b-a550-48cd-d2fe-744233d973fb"
      },
      "outputs": [
        {
          "name": "stdout",
          "output_type": "stream",
          "text": [
            "[[81  2]\n",
            " [ 1 33]]\n",
            "              precision    recall  f1-score   support\n",
            "\n",
            "           0       0.99      0.98      0.98        83\n",
            "           1       0.94      0.97      0.96        34\n",
            "\n",
            "    accuracy                           0.97       117\n",
            "   macro avg       0.97      0.97      0.97       117\n",
            "weighted avg       0.97      0.97      0.97       117\n",
            "\n",
            "0.9743589743589743\n"
          ]
        }
      ],
      "source": [
        "from sklearn.metrics import classification_report, confusion_matrix, accuracy_score\n",
        "\n",
        "print(confusion_matrix(y_test,predictions))\n",
        "print(classification_report(y_test,predictions))\n",
        "print(accuracy_score(y_test, predictions))"
      ]
    },
    {
      "cell_type": "code",
      "execution_count": null,
      "id": "91b58989",
      "metadata": {
        "id": "91b58989",
        "outputId": "c6b068d3-379d-40a7-c93b-78e44132dd75"
      },
      "outputs": [
        {
          "name": "stdout",
          "output_type": "stream",
          "text": [
            "True Positive(TP)  =  33\n",
            "False Positive(FP) =  2\n",
            "True Negative(TN)  =  81\n",
            "False Negative(FN) =  1\n",
            "Acurácia da classificação binária = 97.436%\n"
          ]
        }
      ],
      "source": [
        "cm = confusion_matrix(y_test, predictions)\n",
        "\n",
        "TN, FP, FN, TP = confusion_matrix(y_test, predictions).ravel()\n",
        "\n",
        "print('True Positive(TP)  = ', TP)\n",
        "print('False Positive(FP) = ', FP)\n",
        "print('True Negative(TN)  = ', TN)\n",
        "print('False Negative(FN) = ', FN)\n",
        "\n",
        "accuracy =  (TP+TN) /(TP+FP+TN+FN)\n",
        "\n",
        "print('Acurácia da classificação binária = {:0.3f}%'.format(accuracy*100))"
      ]
    },
    {
      "cell_type": "code",
      "execution_count": null,
      "id": "509ee9b1",
      "metadata": {
        "id": "509ee9b1"
      },
      "outputs": [],
      "source": [
        "import sklearn.metrics as metrics\n",
        "fpr, tpr, threshold = metrics.roc_curve(y_test, predictions)\n",
        "roc_auc = metrics.auc(fpr, tpr)"
      ]
    },
    {
      "cell_type": "code",
      "execution_count": null,
      "id": "c7c89d8c",
      "metadata": {
        "id": "c7c89d8c",
        "outputId": "ea388af2-f007-49b2-f872-c5eed2106a89"
      },
      "outputs": [
        {
          "data": {
            "image/png": "[encoded data removed]",
            "text/plain": [
              "<Figure size 432x288 with 1 Axes>"
            ]
          },
          "metadata": {
            "needs_background": "light"
          },
          "output_type": "display_data"
        }
      ],
      "source": [
        "# method I: plt\n",
        "import matplotlib.pyplot as plt\n",
        "plt.title('Receiver Operating Characteristic')\n",
        "plt.plot(fpr, tpr, 'b', label = 'AUC = %0.2f' % roc_auc)\n",
        "plt.legend(loc = 'lower right')\n",
        "plt.plot([0, 1], [0, 1],'r--')\n",
        "plt.xlim([0, 1])\n",
        "plt.ylim([0, 1])\n",
        "plt.ylabel('True Positive Rate')\n",
        "plt.xlabel('False Positive Rate')\n",
        "plt.show()"
      ]
    },
    {
      "cell_type": "markdown",
      "id": "8922deb2",
      "metadata": {
        "id": "8922deb2"
      },
      "source": [
        "## Multiclassificação"
      ]
    },
    {
      "cell_type": "code",
      "execution_count": 1,
      "id": "e83f0d1d",
      "metadata": {
        "id": "e83f0d1d"
      },
      "outputs": [],
      "source": [
        "import numpy as np \n",
        "import pandas as pd\n",
        "import matplotlib.pyplot as plt\n",
        "from sklearn.tree import DecisionTreeClassifier, export_graphviz, plot_tree\n",
        "from sklearn import preprocessing, metrics\n",
        "from sklearn.model_selection import train_test_split\n",
        "import matplotlib.image as mpimg\n",
        "from sklearn.metrics import classification_report, confusion_matrix\n",
        "from IPython.display import Image \n",
        "from six import StringIO\n",
        "from sklearn.neighbors import KNeighborsClassifier\n",
        "from sklearn.metrics import confusion_matrix, accuracy_score\n",
        "from sklearn.ensemble import RandomForestClassifier"
      ]
    },
    {
      "cell_type": "code",
      "execution_count": 2,
      "id": "34fe2826",
      "metadata": {
        "id": "34fe2826"
      },
      "outputs": [],
      "source": [
        "url = \"https://raw.githubusercontent.com/joaograndotto/PIBITI/main/Datasets/dados_multi_classe.csv\"\n",
        "df = pd.read_csv(url, delimiter=',')"
      ]
    },
    {
      "cell_type": "code",
      "execution_count": null,
      "id": "7ffed5c8",
      "metadata": {
        "id": "7ffed5c8",
        "outputId": "095fbe31-5d85-4922-bdb6-8ecbdbe5e16f",
        "colab": {
          "base_uri": "https://localhost:8080/",
          "height": 143
        }
      },
      "outputs": [
        {
          "output_type": "execute_result",
          "data": {
            "text/html": [
              "\n",
              "  <div id=\"df-7efefa08-285a-4b4e-9bd9-d08787e9bbd6\">\n",
              "    <div class=\"colab-df-container\">\n",
              "      <div>\n",
              "<style scoped>\n",
              "    .dataframe tbody tr th:only-of-type {\n",
              "        vertical-align: middle;\n",
              "    }\n",
              "\n",
              "    .dataframe tbody tr th {\n",
              "        vertical-align: top;\n",
              "    }\n",
              "\n",
              "    .dataframe thead th {\n",
              "        text-align: right;\n",
              "    }\n",
              "</style>\n",
              "<table border=\"1\" class=\"dataframe\">\n",
              "  <thead>\n",
              "    <tr style=\"text-align: right;\">\n",
              "      <th></th>\n",
              "      <th>Institution</th>\n",
              "      <th>Affiliations</th>\n",
              "    </tr>\n",
              "  </thead>\n",
              "  <tbody>\n",
              "    <tr>\n",
              "      <th>24132</th>\n",
              "      <td>fiocruz  mg  rené rachou  cpqrr</td>\n",
              "      <td>laboratório de triatomíneos  centro de pesquis...</td>\n",
              "    </tr>\n",
              "    <tr>\n",
              "      <th>113494</th>\n",
              "      <td>university of montpellier umr 5235 montpellier...</td>\n",
              "      <td>university of montpellier cnrsumr5235 lphi mon...</td>\n",
              "    </tr>\n",
              "    <tr>\n",
              "      <th>90501</th>\n",
              "      <td>ufrj  universidade federal do rio de janeiro</td>\n",
              "      <td>fed univ rio de janeiro eq ufrj rio de janeiro...</td>\n",
              "    </tr>\n",
              "  </tbody>\n",
              "</table>\n",
              "</div>\n",
              "      <button class=\"colab-df-convert\" onclick=\"convertToInteractive('df-7efefa08-285a-4b4e-9bd9-d08787e9bbd6')\"\n",
              "              title=\"Convert this dataframe to an interactive table.\"\n",
              "              style=\"display:none;\">\n",
              "        \n",
              "  <svg xmlns=\"http://www.w3.org/2000/svg\" height=\"24px\"viewBox=\"0 0 24 24\"\n",
              "       width=\"24px\">\n",
              "    <path d=\"M0 0h24v24H0V0z\" fill=\"none\"/>\n",
              "    <path d=\"M18.56 5.44l.94 2.06.94-2.06 2.06-.94-2.06-.94-.94-2.06-.94 2.06-2.06.94zm-11 1L8.5 8.5l.94-2.06 2.06-.94-2.06-.94L8.5 2.5l-.94 2.06-2.06.94zm10 10l.94 2.06.94-2.06 2.06-.94-2.06-.94-.94-2.06-.94 2.06-2.06.94z\"/><path d=\"M17.41 7.96l-1.37-1.37c-.4-.4-.92-.59-1.43-.59-.52 0-1.04.2-1.43.59L10.3 9.45l-7.72 7.72c-.78.78-.78 2.05 0 2.83L4 21.41c.39.39.9.59 1.41.59.51 0 1.02-.2 1.41-.59l7.78-7.78 2.81-2.81c.8-.78.8-2.07 0-2.86zM5.41 20L4 18.59l7.72-7.72 1.47 1.35L5.41 20z\"/>\n",
              "  </svg>\n",
              "      </button>\n",
              "      \n",
              "  <style>\n",
              "    .colab-df-container {\n",
              "      display:flex;\n",
              "      flex-wrap:wrap;\n",
              "      gap: 12px;\n",
              "    }\n",
              "\n",
              "    .colab-df-convert {\n",
              "      background-color: #E8F0FE;\n",
              "      border: none;\n",
              "      border-radius: 50%;\n",
              "      cursor: pointer;\n",
              "      display: none;\n",
              "      fill: #1967D2;\n",
              "      height: 32px;\n",
              "      padding: 0 0 0 0;\n",
              "      width: 32px;\n",
              "    }\n",
              "\n",
              "    .colab-df-convert:hover {\n",
              "      background-color: #E2EBFA;\n",
              "      box-shadow: 0px 1px 2px rgba(60, 64, 67, 0.3), 0px 1px 3px 1px rgba(60, 64, 67, 0.15);\n",
              "      fill: #174EA6;\n",
              "    }\n",
              "\n",
              "    [theme=dark] .colab-df-convert {\n",
              "      background-color: #3B4455;\n",
              "      fill: #D2E3FC;\n",
              "    }\n",
              "\n",
              "    [theme=dark] .colab-df-convert:hover {\n",
              "      background-color: #434B5C;\n",
              "      box-shadow: 0px 1px 3px 1px rgba(0, 0, 0, 0.15);\n",
              "      filter: drop-shadow(0px 1px 2px rgba(0, 0, 0, 0.3));\n",
              "      fill: #FFFFFF;\n",
              "    }\n",
              "  </style>\n",
              "\n",
              "      <script>\n",
              "        const buttonEl =\n",
              "          document.querySelector('#df-7efefa08-285a-4b4e-9bd9-d08787e9bbd6 button.colab-df-convert');\n",
              "        buttonEl.style.display =\n",
              "          google.colab.kernel.accessAllowed ? 'block' : 'none';\n",
              "\n",
              "        async function convertToInteractive(key) {\n",
              "          const element = document.querySelector('#df-7efefa08-285a-4b4e-9bd9-d08787e9bbd6');\n",
              "          const dataTable =\n",
              "            await google.colab.kernel.invokeFunction('convertToInteractive',\n",
              "                                                     [key], {});\n",
              "          if (!dataTable) return;\n",
              "\n",
              "          const docLinkHtml = 'Like what you see? Visit the ' +\n",
              "            '<a target=\"_blank\" href=https://colab.research.google.com/notebooks/data_table.ipynb>data table notebook</a>'\n",
              "            + ' to learn more about interactive tables.';\n",
              "          element.innerHTML = '';\n",
              "          dataTable['output_type'] = 'display_data';\n",
              "          await google.colab.output.renderOutput(dataTable, element);\n",
              "          const docLink = document.createElement('div');\n",
              "          docLink.innerHTML = docLinkHtml;\n",
              "          element.appendChild(docLink);\n",
              "        }\n",
              "      </script>\n",
              "    </div>\n",
              "  </div>\n",
              "  "
            ],
            "text/plain": [
              "                                              Institution                                       Affiliations\n",
              "24132                     fiocruz  mg  rené rachou  cpqrr  laboratório de triatomíneos  centro de pesquis...\n",
              "113494  university of montpellier umr 5235 montpellier...  university of montpellier cnrsumr5235 lphi mon...\n",
              "90501        ufrj  universidade federal do rio de janeiro  fed univ rio de janeiro eq ufrj rio de janeiro..."
            ]
          },
          "metadata": {},
          "execution_count": 8
        }
      ],
      "source": [
        "df.sample(n=3)"
      ]
    },
    {
      "cell_type": "code",
      "execution_count": 3,
      "id": "3e866af1",
      "metadata": {
        "id": "3e866af1",
        "outputId": "73c78b35-cded-4a3d-ef38-b723a20b5bcd",
        "colab": {
          "base_uri": "https://localhost:8080/"
        }
      },
      "outputs": [
        {
          "output_type": "execute_result",
          "data": {
            "text/plain": [
              "((122934,), (122934,))"
            ]
          },
          "metadata": {},
          "execution_count": 3
        }
      ],
      "source": [
        "X, y = df['Affiliations'],df['Institution']\n",
        "X.shape, y.shape"
      ]
    },
    {
      "cell_type": "code",
      "execution_count": null,
      "id": "471da419",
      "metadata": {
        "id": "471da419",
        "outputId": "971a5eac-7fd1-449d-f090-3bc82831e919",
        "colab": {
          "base_uri": "https://localhost:8080/"
        }
      },
      "outputs": [
        {
          "output_type": "execute_result",
          "data": {
            "text/plain": [
              "0         1st department of ophthalmology aristotle univ...\n",
              "1                        aristotle univ thessaloniki greece\n",
              "2           aristotle univ thessaloniki thessaloniki greece\n",
              "3               aristotle university of thessaloniki greece\n",
              "4         aristotle university of thessaloniki thessalon...\n",
              "                                ...                        \n",
              "122929    univ fed reconcavo bahia, centro formacao prof...\n",
              "122930                                        unesp-marilia\n",
              "122931                          univ federal campina grande\n",
              "122932                             revista de saude publica\n",
              "122933                                      univ nove julho\n",
              "Name: Affiliations, Length: 122934, dtype: object"
            ]
          },
          "metadata": {},
          "execution_count": 10
        }
      ],
      "source": [
        "X"
      ]
    },
    {
      "cell_type": "code",
      "execution_count": 4,
      "id": "cd850f1b",
      "metadata": {
        "id": "cd850f1b",
        "outputId": "3ee7de39-0209-4495-ea2a-0e9f1d74467f",
        "colab": {
          "base_uri": "https://localhost:8080/"
        }
      },
      "outputs": [
        {
          "output_type": "stream",
          "name": "stdout",
          "text": [
            "[nltk_data] Downloading package stopwords to /root/nltk_data...\n",
            "[nltk_data]   Package stopwords is already up-to-date!\n"
          ]
        }
      ],
      "source": [
        "import nltk\n",
        "from sklearn.datasets import load_files\n",
        "nltk.download('stopwords')\n",
        "import pickle\n",
        "from nltk.corpus import stopwords"
      ]
    },
    {
      "cell_type": "code",
      "execution_count": 5,
      "id": "e6c35e58",
      "metadata": {
        "id": "e6c35e58"
      },
      "outputs": [],
      "source": [
        "palavrasIgnoradas = \\\n",
        "    stopwords.words('portuguese') + \\\n",
        "    stopwords.words('english') + \\\n",
        "    stopwords.words('german') + \\\n",
        "    stopwords.words('spanish')"
      ]
    },
    {
      "cell_type": "code",
      "execution_count": 6,
      "id": "eedfd627",
      "metadata": {
        "id": "eedfd627"
      },
      "outputs": [],
      "source": [
        "from sklearn.feature_extraction.text import CountVectorizer\n",
        "vectorizer = CountVectorizer(\n",
        "    max_features = 1500, # vocabulário considera top max_features ordenadas por freq do termo no texto \n",
        "    min_df = 5, # ignorar termos com frequencia menor do que x, onde 0<=x<=1\n",
        "    max_df = 0.7, # ignorar termos com frequencia maior do que x, onde 0<=x<=1\n",
        "    stop_words = palavrasIgnoradas\n",
        ")"
      ]
    },
    {
      "cell_type": "code",
      "execution_count": 7,
      "id": "9b87dcae",
      "metadata": {
        "id": "9b87dcae",
        "outputId": "e4f989db-9838-4fe1-e05b-b539c132fd31",
        "colab": {
          "base_uri": "https://localhost:8080/"
        }
      },
      "outputs": [
        {
          "output_type": "execute_result",
          "data": {
            "text/plain": [
              "<122934x1500 sparse matrix of type '<class 'numpy.int64'>'\n",
              "\twith 1014838 stored elements in Compressed Sparse Row format>"
            ]
          },
          "metadata": {},
          "execution_count": 7
        }
      ],
      "source": [
        "vectorizer.fit_transform(X)"
      ]
    },
    {
      "cell_type": "code",
      "execution_count": 8,
      "id": "feaad565",
      "metadata": {
        "id": "feaad565"
      },
      "outputs": [],
      "source": [
        "X = vectorizer.fit_transform(X).toarray()"
      ]
    },
    {
      "cell_type": "code",
      "execution_count": 9,
      "id": "077261f8",
      "metadata": {
        "id": "077261f8"
      },
      "outputs": [],
      "source": [
        "from sklearn.feature_extraction.text import TfidfTransformer\n",
        "tfidfconverter = TfidfTransformer()\n",
        "X = tfidfconverter.fit_transform(X).toarray()"
      ]
    },
    {
      "cell_type": "code",
      "execution_count": 10,
      "id": "a47a5591",
      "metadata": {
        "id": "a47a5591"
      },
      "outputs": [],
      "source": [
        "X_treino, X_teste, y_treino, y_teste = train_test_split(X, y, test_size=0.1, random_state=0, shuffle=True)"
      ]
    },
    {
      "cell_type": "markdown",
      "source": [
        "### K-Nearest Neighbors"
      ],
      "metadata": {
        "id": "y87EJvcWRTHu"
      },
      "id": "y87EJvcWRTHu"
    },
    {
      "cell_type": "code",
      "source": [
        "knn = KNeighborsClassifier()\n",
        "knn.fit(X_treino, y_treino)\n",
        "resultado_knn = knn.predict(X_teste)"
      ],
      "metadata": {
        "id": "Jy7mz7Z5mDZi"
      },
      "id": "Jy7mz7Z5mDZi",
      "execution_count": 11,
      "outputs": []
    },
    {
      "cell_type": "code",
      "source": [
        "print(f\"Acurácia: {metrics.accuracy_score(y_teste, resultado_knn) * 100}\")"
      ],
      "metadata": {
        "colab": {
          "base_uri": "https://localhost:8080/"
        },
        "id": "UX1zbDrJsBRL",
        "outputId": "f3aec9d0-122b-43ac-8dd6-4ed9d6385804"
      },
      "id": "UX1zbDrJsBRL",
      "execution_count": 12,
      "outputs": [
        {
          "output_type": "stream",
          "name": "stdout",
          "text": [
            "Acurácia: 69.49731576378721\n"
          ]
        }
      ]
    },
    {
      "cell_type": "markdown",
      "source": [
        "### DecisionTree"
      ],
      "metadata": {
        "id": "aLRXfUmtRqNz"
      },
      "id": "aLRXfUmtRqNz"
    },
    {
      "cell_type": "code",
      "execution_count": 13,
      "id": "3989f8d1",
      "metadata": {
        "id": "3989f8d1"
      },
      "outputs": [],
      "source": [
        "arvore = DecisionTreeClassifier(criterion='entropy', max_depth=10, min_samples_leaf=2, random_state=0)\n",
        "dt = arvore.fit(X_treino, y_treino)\n",
        "resultado_dt = dt.predict(X_teste)"
      ]
    },
    {
      "cell_type": "code",
      "source": [
        "print(f\"Acurácia: {metrics.accuracy_score(y_teste, resultado_dt)}\")"
      ],
      "metadata": {
        "colab": {
          "base_uri": "https://localhost:8080/"
        },
        "id": "dMORwDJbSEEv",
        "outputId": "6f0eb246-85b4-4ecf-f345-c706f33089fd"
      },
      "id": "dMORwDJbSEEv",
      "execution_count": 14,
      "outputs": [
        {
          "output_type": "stream",
          "name": "stdout",
          "text": [
            "Acurácia: 0.349194729136164\n"
          ]
        }
      ]
    },
    {
      "cell_type": "markdown",
      "source": [
        "### RandomForest"
      ],
      "metadata": {
        "id": "VV0MdovlR_IZ"
      },
      "id": "VV0MdovlR_IZ"
    },
    {
      "cell_type": "code",
      "source": [
        "floresta = RandomForestClassifier(criterion='entropy', max_depth=10, min_samples_leaf=2, random_state=0)\n",
        "floresta.fit(X_treino, y_treino)\n",
        "resultado_rd = floresta.predict(X_teste)"
      ],
      "metadata": {
        "id": "0HyvhqnsPXib"
      },
      "id": "0HyvhqnsPXib",
      "execution_count": 15,
      "outputs": []
    },
    {
      "cell_type": "code",
      "source": [
        "print(f\"Acurácia: {metrics.accuracy_score(y_teste, resultado_rd)}\")"
      ],
      "metadata": {
        "id": "Qj3MlTb7gjKr",
        "colab": {
          "base_uri": "https://localhost:8080/"
        },
        "outputId": "b1dce628-eea9-4b7f-f3e0-073805ee0c41"
      },
      "id": "Qj3MlTb7gjKr",
      "execution_count": 16,
      "outputs": [
        {
          "output_type": "stream",
          "name": "stdout",
          "text": [
            "Acurácia: 0.3866926956238816\n"
          ]
        }
      ]
    },
    {
      "cell_type": "markdown",
      "source": [
        "### MultinomialNB"
      ],
      "metadata": {
        "id": "VeqEHO4lGYAJ"
      },
      "id": "VeqEHO4lGYAJ"
    },
    {
      "cell_type": "code",
      "source": [
        "from sklearn.naive_bayes import MultinomialNB\n",
        "nb = MultinomialNB()\n",
        "nb.fit(X_treino, y_treino)\n",
        "resultado_nb = nb.predict(X_teste)"
      ],
      "metadata": {
        "id": "uy26x50cFGGG"
      },
      "id": "uy26x50cFGGG",
      "execution_count": 17,
      "outputs": []
    },
    {
      "cell_type": "code",
      "source": [
        "print(f\"Acurácia: {metrics.accuracy_score(y_teste, resultado_nb)}\")"
      ],
      "metadata": {
        "colab": {
          "base_uri": "https://localhost:8080/"
        },
        "id": "VxAlFkGpFhwB",
        "outputId": "e867ad7b-1ff5-44cc-c5f7-aa1db28fc8cf"
      },
      "id": "VxAlFkGpFhwB",
      "execution_count": 18,
      "outputs": [
        {
          "output_type": "stream",
          "name": "stdout",
          "text": [
            "Acurácia: 0.5351390922401171\n"
          ]
        }
      ]
    }
  ],
  "metadata": {
    "kernelspec": {
      "display_name": "Python 3 (ipykernel)",
      "language": "python",
      "name": "python3"
    },
    "language_info": {
      "codemirror_mode": {
        "name": "ipython",
        "version": 3
      },
      "file_extension": ".py",
      "mimetype": "text/x-python",
      "name": "python",
      "nbconvert_exporter": "python",
      "pygments_lexer": "ipython3",
      "version": "3.7.12"
    },
    "colab": {
      "name": "Copy of ProvaDeConceito.ipynb",
      "provenance": [],
      "collapsed_sections": [
        "0284381d",
        "8d85d498",
        "9947e154",
        "dc925511",
        "404d71f0"
      ],
      "toc_visible": true,
      "machine_shape": "hm"
    }
  },
  "nbformat": 4,
  "nbformat_minor": 5
}