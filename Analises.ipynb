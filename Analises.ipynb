{
 "cells": [
  {
   "cell_type": "markdown",
   "id": "c5dbd12c",
   "metadata": {},
   "source": [
    "# Reconhecimento de nomes de instituições utilizando Inteligência Artificial\n",
    "\n",
    "## Projeto PIBITI  \n",
    "\n",
    "### Edital 18/2021-PROPPG-IFG\n",
    "\n",
    "#### Estudante (bolsista): João Gabriel Grandoto Viana\n",
    "#### Orientador: Waldeyr Mendes Cordeiro da Silva"
   ]
  },
  {
   "cell_type": "markdown",
   "id": "bd417891",
   "metadata": {},
   "source": [
    "## Parte 01 Coleta e tratamento de dados das fontes primárias"
   ]
  },
  {
   "cell_type": "code",
   "execution_count": 4,
   "id": "ec9c73fc",
   "metadata": {},
   "outputs": [],
   "source": [
    "import numpy as np\n",
    "import matplotlib.pyplot as plt\n",
    "from sklearn import svm\n",
    "from sklearn.datasets import make_blobs\n",
    "import pandas as pd"
   ]
  },
  {
   "cell_type": "code",
   "execution_count": 2,
   "id": "7c4fae1b",
   "metadata": {},
   "outputs": [],
   "source": [
    "url1 ='https://raw.githubusercontent.com/joaograndotto/PIBITI/main/Datasets/scopus.csv'\n",
    "url2 = 'https://raw.githubusercontent.com/joaograndotto/PIBITI/main/Datasets/webscience.csv'\n",
    "\n",
    "scopus = pd.read_csv(url1)\n",
    "web_of_science = pd.read_csv(url2, sep=\"\\t\" )"
   ]
  },
  {
   "cell_type": "code",
   "execution_count": 3,
   "id": "7bdf5ef9",
   "metadata": {},
   "outputs": [
    {
     "data": {
      "text/plain": [
       "(31, 67)"
      ]
     },
     "execution_count": 3,
     "metadata": {},
     "output_type": "execute_result"
    }
   ],
   "source": [
    "web_of_science.shape"
   ]
  },
  {
   "cell_type": "code",
   "execution_count": 4,
   "id": "566813c6",
   "metadata": {},
   "outputs": [
    {
     "data": {
      "text/plain": [
       "(1276, 50)"
      ]
     },
     "execution_count": 4,
     "metadata": {},
     "output_type": "execute_result"
    }
   ],
   "source": [
    "scopus.shape"
   ]
  },
  {
   "cell_type": "code",
   "execution_count": 5,
   "id": "89ba49c6",
   "metadata": {},
   "outputs": [],
   "source": [
    "#Renomeie as Colunas relacionadas porque estavam com os nomes diferentes\n",
    "web_of_science.rename(columns={'Publication Year': 'Year'}, inplace = True)\n",
    "web_of_science.rename(columns={'Article Title': 'Title'}, inplace = True)\n",
    "web_of_science.rename(columns={'Publisher': 'Affiliations'}, inplace = True)"
   ]
  },
  {
   "cell_type": "code",
   "execution_count": 6,
   "id": "26a86703",
   "metadata": {},
   "outputs": [
    {
     "data": {
      "text/plain": [
       "0    Instituto Federal de Goiás-IFG, Campus Goiânia...\n",
       "1    Instituto Federal de Goiás (IFG), Aparecida de...\n",
       "2    Instituto Federal de Educação, Ciência e Tecno...\n",
       "3    Universidade Federal de Goiás – UFG, Rede Pró ...\n",
       "4    Department of Agronomy, Universidade Federal R...\n",
       "5    Institute for Hygiene and Public Health, Medic...\n",
       "6    Department of Environmental Informatics, Helmh...\n",
       "7    Grupo de Estudos em Geomática (GEO), Instituto...\n",
       "8    Laboratory of Environmental Biotechnology and ...\n",
       "9    Universidade Federal de Goiás (UFG), Instituto...\n",
       "Name: Affiliations, dtype: object"
      ]
     },
     "execution_count": 6,
     "metadata": {},
     "output_type": "execute_result"
    }
   ],
   "source": [
    "scopus[\"Affiliations\"].head(10)"
   ]
  },
  {
   "cell_type": "code",
   "execution_count": 7,
   "id": "16b8e5c1",
   "metadata": {},
   "outputs": [
    {
     "data": {
      "text/plain": [
       "0    INST FED EDUCATION, SCIENCE & TECHNOLOGY OF GO...\n",
       "1    INST FED EDUCATION, SCIENCE & TECHNOLOGY OF GO...\n",
       "2                        UNIV DO VALE DO RIO DOS SINOS\n",
       "3    INST FED EDUCATION, SCIENCE & TECHNOLOGY OF GO...\n",
       "4                                             ELSEVIER\n",
       "5                          UNIV FEDERAL CAMPINA GRANDE\n",
       "6    INST FED EDUCATION, SCIENCE & TECHNOLOGY OF GO...\n",
       "7                PONTIFICIA UNIV CATOLICA PARANA-PUCPR\n",
       "8                             UNIV FEDERAL SANTA MARIA\n",
       "9                                      INST AGRONOMICO\n",
       "Name: Affiliations, dtype: object"
      ]
     },
     "execution_count": 7,
     "metadata": {},
     "output_type": "execute_result"
    }
   ],
   "source": [
    "web_of_science[\"Affiliations\"].head(10)"
   ]
  },
  {
   "cell_type": "code",
   "execution_count": 8,
   "id": "ce40cbae",
   "metadata": {},
   "outputs": [],
   "source": [
    "#juntando os dois dataframes\n",
    "result = pd.concat([scopus, web_of_science])"
   ]
  },
  {
   "cell_type": "code",
   "execution_count": 9,
   "id": "fe76de0f",
   "metadata": {},
   "outputs": [],
   "source": [
    "nulos = result.loc[result['DOI'].isnull()] # somente registros sem DOI\n",
    "nulos.index[0]\n",
    "result = result.drop([nulos.index[0]])"
   ]
  },
  {
   "cell_type": "code",
   "execution_count": 10,
   "id": "ab50c874",
   "metadata": {},
   "outputs": [],
   "source": [
    "total_artigos = result.shape[0]"
   ]
  },
  {
   "cell_type": "code",
   "execution_count": 11,
   "id": "d6aab840",
   "metadata": {},
   "outputs": [
    {
     "data": {
      "text/plain": [
       "Index(['Authors', 'Author(s) ID', 'Title', 'Year', 'Source title', 'Volume',\n",
       "       'Issue', 'Art. No.', 'Page start', 'Page end',\n",
       "       ...\n",
       "       'Number of Pages', 'WoS Categories', 'Research Areas', 'IDS Number',\n",
       "       'UT (Unique WOS ID)', 'Pubmed Id', 'Open Access Designations',\n",
       "       'Highly Cited Status', 'Hot Paper Status', 'Date of Export'],\n",
       "      dtype='object', length=105)"
      ]
     },
     "execution_count": 11,
     "metadata": {},
     "output_type": "execute_result"
    }
   ],
   "source": [
    "result.columns"
   ]
  },
  {
   "cell_type": "code",
   "execution_count": 12,
   "id": "3b7cf69f",
   "metadata": {},
   "outputs": [
    {
     "data": {
      "text/plain": [
       "(1162, 105)"
      ]
     },
     "execution_count": 12,
     "metadata": {},
     "output_type": "execute_result"
    }
   ],
   "source": [
    "#Verificando duplicados na coluna DOI e apagando as linhas com DOI duplicado\n",
    "result = result.drop_duplicates(subset=['DOI'], keep='first')\n",
    "result.shape"
   ]
  },
  {
   "cell_type": "code",
   "execution_count": 13,
   "id": "1ac0b2c1",
   "metadata": {},
   "outputs": [
    {
     "data": {
      "text/plain": [
       "144"
      ]
     },
     "execution_count": 13,
     "metadata": {},
     "output_type": "execute_result"
    }
   ],
   "source": [
    "duplicados_eliminados = total_artigos - result.shape[0]\n",
    "duplicados_eliminados"
   ]
  },
  {
   "cell_type": "code",
   "execution_count": 14,
   "id": "e582e5c5",
   "metadata": {},
   "outputs": [],
   "source": [
    "# nomear os indices do tamanho do novo dataframe\n",
    "index =[]  \n",
    "for i in range(result.shape[0]): \n",
    "    index.append(i)\n",
    "result.index = index"
   ]
  },
  {
   "cell_type": "code",
   "execution_count": 18,
   "id": "a5151517",
   "metadata": {},
   "outputs": [
    {
     "data": {
      "text/html": [
       "<div>\n",
       "<style scoped>\n",
       "    .dataframe tbody tr th:only-of-type {\n",
       "        vertical-align: middle;\n",
       "    }\n",
       "\n",
       "    .dataframe tbody tr th {\n",
       "        vertical-align: top;\n",
       "    }\n",
       "\n",
       "    .dataframe thead th {\n",
       "        text-align: right;\n",
       "    }\n",
       "</style>\n",
       "<table border=\"1\" class=\"dataframe\">\n",
       "  <thead>\n",
       "    <tr style=\"text-align: right;\">\n",
       "      <th></th>\n",
       "      <th>DOI</th>\n",
       "      <th>Title</th>\n",
       "      <th>Affiliations</th>\n",
       "    </tr>\n",
       "  </thead>\n",
       "  <tbody>\n",
       "    <tr>\n",
       "      <th>0</th>\n",
       "      <td>10.1016/j.nonrwa.2021.103406</td>\n",
       "      <td>Classical solution for a nonlinear hybrid syst...</td>\n",
       "      <td>Instituto Federal de Goiás-IFG, Campus Goiânia...</td>\n",
       "    </tr>\n",
       "    <tr>\n",
       "      <th>1</th>\n",
       "      <td>10.1007/978-3-030-79165-0_25</td>\n",
       "      <td>An Innovative Textile Product Proposal Based o...</td>\n",
       "      <td>Instituto Federal de Goiás (IFG), Aparecida de...</td>\n",
       "    </tr>\n",
       "    <tr>\n",
       "      <th>2</th>\n",
       "      <td>10.1590/1519-6984.245368</td>\n",
       "      <td>Detection of enteroparasites in foliar vegetab...</td>\n",
       "      <td>Instituto Federal de Educação, Ciência e Tecno...</td>\n",
       "    </tr>\n",
       "    <tr>\n",
       "      <th>3</th>\n",
       "      <td>10.1590/1519-6984.234476</td>\n",
       "      <td>Phytochemical characterization, and antioxidan...</td>\n",
       "      <td>Universidade Federal de Goiás – UFG, Rede Pró ...</td>\n",
       "    </tr>\n",
       "    <tr>\n",
       "      <th>4</th>\n",
       "      <td>10.1038/s41598-021-97854-8</td>\n",
       "      <td>Stability analysis of reference genes for RT-q...</td>\n",
       "      <td>Department of Agronomy, Universidade Federal R...</td>\n",
       "    </tr>\n",
       "    <tr>\n",
       "      <th>...</th>\n",
       "      <td>...</td>\n",
       "      <td>...</td>\n",
       "      <td>...</td>\n",
       "    </tr>\n",
       "    <tr>\n",
       "      <th>1157</th>\n",
       "      <td>10.31977/grirfi.v16i2.774</td>\n",
       "      <td>HUMAN RIGHTS: FROM THE UNIFORMITY OF THE SPECI...</td>\n",
       "      <td>UNIV FED RECONCAVO BAHIA, CENTRO FORMACAO PROF...</td>\n",
       "    </tr>\n",
       "    <tr>\n",
       "      <th>1158</th>\n",
       "      <td>10.1590/S0101-31732015000400002</td>\n",
       "      <td>PRESENTATION OF THE DOSSIER ROUSSEAU</td>\n",
       "      <td>UNESP-MARILIA</td>\n",
       "    </tr>\n",
       "    <tr>\n",
       "      <th>1159</th>\n",
       "      <td>10.1590/S1415-43662014000400013</td>\n",
       "      <td>Physiological quality of soybean seeds stored ...</td>\n",
       "      <td>UNIV FEDERAL CAMPINA GRANDE</td>\n",
       "    </tr>\n",
       "    <tr>\n",
       "      <th>1160</th>\n",
       "      <td>10.1590/S0034-89102010005000053</td>\n",
       "      <td>Ethics in the publication of studies on human ...</td>\n",
       "      <td>REVISTA DE SAUDE PUBLICA</td>\n",
       "    </tr>\n",
       "    <tr>\n",
       "      <th>1161</th>\n",
       "      <td>10.5585/iji.v4i1.67</td>\n",
       "      <td>SYSTEMATIC REVIEW OF THE LITERATURE SOCIAL ENT...</td>\n",
       "      <td>UNIV NOVE JULHO</td>\n",
       "    </tr>\n",
       "  </tbody>\n",
       "</table>\n",
       "<p>1162 rows × 3 columns</p>\n",
       "</div>"
      ],
      "text/plain": [
       "                                  DOI  \\\n",
       "0        10.1016/j.nonrwa.2021.103406   \n",
       "1        10.1007/978-3-030-79165-0_25   \n",
       "2            10.1590/1519-6984.245368   \n",
       "3            10.1590/1519-6984.234476   \n",
       "4          10.1038/s41598-021-97854-8   \n",
       "...                               ...   \n",
       "1157        10.31977/grirfi.v16i2.774   \n",
       "1158  10.1590/S0101-31732015000400002   \n",
       "1159  10.1590/S1415-43662014000400013   \n",
       "1160  10.1590/S0034-89102010005000053   \n",
       "1161              10.5585/iji.v4i1.67   \n",
       "\n",
       "                                                  Title  \\\n",
       "0     Classical solution for a nonlinear hybrid syst...   \n",
       "1     An Innovative Textile Product Proposal Based o...   \n",
       "2     Detection of enteroparasites in foliar vegetab...   \n",
       "3     Phytochemical characterization, and antioxidan...   \n",
       "4     Stability analysis of reference genes for RT-q...   \n",
       "...                                                 ...   \n",
       "1157  HUMAN RIGHTS: FROM THE UNIFORMITY OF THE SPECI...   \n",
       "1158               PRESENTATION OF THE DOSSIER ROUSSEAU   \n",
       "1159  Physiological quality of soybean seeds stored ...   \n",
       "1160  Ethics in the publication of studies on human ...   \n",
       "1161  SYSTEMATIC REVIEW OF THE LITERATURE SOCIAL ENT...   \n",
       "\n",
       "                                           Affiliations  \n",
       "0     Instituto Federal de Goiás-IFG, Campus Goiânia...  \n",
       "1     Instituto Federal de Goiás (IFG), Aparecida de...  \n",
       "2     Instituto Federal de Educação, Ciência e Tecno...  \n",
       "3     Universidade Federal de Goiás – UFG, Rede Pró ...  \n",
       "4     Department of Agronomy, Universidade Federal R...  \n",
       "...                                                 ...  \n",
       "1157  UNIV FED RECONCAVO BAHIA, CENTRO FORMACAO PROF...  \n",
       "1158                                      UNESP-MARILIA  \n",
       "1159                        UNIV FEDERAL CAMPINA GRANDE  \n",
       "1160                           REVISTA DE SAUDE PUBLICA  \n",
       "1161                                    UNIV NOVE JULHO  \n",
       "\n",
       "[1162 rows x 3 columns]"
      ]
     },
     "execution_count": 18,
     "metadata": {},
     "output_type": "execute_result"
    }
   ],
   "source": [
    "result[['DOI', 'Title', 'Affiliations']]"
   ]
  },
  {
   "cell_type": "code",
   "execution_count": null,
   "id": "d1d2aaad",
   "metadata": {},
   "outputs": [],
   "source": [
    "result[['DOI','Affiliations']].to_csv(\"dados_para_label.tsv\", sep = \"\\t\", index=False)"
   ]
  },
  {
   "cell_type": "markdown",
   "id": "0284381d",
   "metadata": {},
   "source": [
    "## Parte 02 - Tratamento dos dados etiquetados\n",
    "\n",
    "Os dados slecionados foram etiquetados manualmente e salvos no dataset [dados com label](https://raw.githubusercontent.com/joaograndotto/PIBITI/main/Datasets/dados_com_label.csv)"
   ]
  },
  {
   "cell_type": "code",
   "execution_count": 5,
   "id": "d5ca6f1e",
   "metadata": {},
   "outputs": [
    {
     "data": {
      "text/html": [
       "<div>\n",
       "<style scoped>\n",
       "    .dataframe tbody tr th:only-of-type {\n",
       "        vertical-align: middle;\n",
       "    }\n",
       "\n",
       "    .dataframe tbody tr th {\n",
       "        vertical-align: top;\n",
       "    }\n",
       "\n",
       "    .dataframe thead th {\n",
       "        text-align: right;\n",
       "    }\n",
       "</style>\n",
       "<table border=\"1\" class=\"dataframe\">\n",
       "  <thead>\n",
       "    <tr style=\"text-align: right;\">\n",
       "      <th></th>\n",
       "      <th>DOI</th>\n",
       "      <th>Title</th>\n",
       "      <th>Year</th>\n",
       "      <th>Affiliations</th>\n",
       "      <th>Campus</th>\n",
       "      <th>Institution</th>\n",
       "    </tr>\n",
       "  </thead>\n",
       "  <tbody>\n",
       "    <tr>\n",
       "      <th>0</th>\n",
       "      <td>10.1016/j.nonrwa.2021.103406</td>\n",
       "      <td>Classical solution for a nonlinear hybrid syst...</td>\n",
       "      <td>2022</td>\n",
       "      <td>Instituto Federal de Goiás-IFG, Campus Goiânia...</td>\n",
       "      <td>Goiânia</td>\n",
       "      <td>Instituto Federal de Goiás</td>\n",
       "    </tr>\n",
       "    <tr>\n",
       "      <th>1</th>\n",
       "      <td>10.1007/978-3-030-79165-0_25</td>\n",
       "      <td>An Innovative Textile Product Proposal Based o...</td>\n",
       "      <td>2022</td>\n",
       "      <td>Instituto Federal de Goiás (IFG), Aparecida de...</td>\n",
       "      <td>Aparecida de Goiânia</td>\n",
       "      <td>Instituto Federal de Goiás</td>\n",
       "    </tr>\n",
       "    <tr>\n",
       "      <th>2</th>\n",
       "      <td>10.1590/1519-6984.245368</td>\n",
       "      <td>Detection of enteroparasites in foliar vegetab...</td>\n",
       "      <td>2022</td>\n",
       "      <td>Instituto Federal de Educação, Ciência e Tecno...</td>\n",
       "      <td>Aparecida de Goiânia</td>\n",
       "      <td>Instituto Federal de Goiás</td>\n",
       "    </tr>\n",
       "    <tr>\n",
       "      <th>3</th>\n",
       "      <td>10.1590/1519-6984.234476</td>\n",
       "      <td>Phytochemical characterization, and antioxidan...</td>\n",
       "      <td>2022</td>\n",
       "      <td>Universidade Federal de Goiás – UFG, Rede Pró ...</td>\n",
       "      <td>Goiânia</td>\n",
       "      <td>Instituto Federal de Goiás</td>\n",
       "    </tr>\n",
       "    <tr>\n",
       "      <th>4</th>\n",
       "      <td>10.1038/s41598-021-97854-8</td>\n",
       "      <td>Stability analysis of reference genes for RT-q...</td>\n",
       "      <td>2021</td>\n",
       "      <td>Department of Agronomy, Universidade Federal R...</td>\n",
       "      <td>Águas Lindas</td>\n",
       "      <td>Instituto Federal de Goiás</td>\n",
       "    </tr>\n",
       "    <tr>\n",
       "      <th>...</th>\n",
       "      <td>...</td>\n",
       "      <td>...</td>\n",
       "      <td>...</td>\n",
       "      <td>...</td>\n",
       "      <td>...</td>\n",
       "      <td>...</td>\n",
       "    </tr>\n",
       "    <tr>\n",
       "      <th>1157</th>\n",
       "      <td>10.31977/grirfi.v16i2.774</td>\n",
       "      <td>HUMAN RIGHTS: FROM THE UNIFORMITY OF THE SPECI...</td>\n",
       "      <td>2017</td>\n",
       "      <td>UNIV FED RECONCAVO BAHIA, CENTRO FORMACAO PROF...</td>\n",
       "      <td>Bahia</td>\n",
       "      <td>Universidade Federal Reconcavo</td>\n",
       "    </tr>\n",
       "    <tr>\n",
       "      <th>1158</th>\n",
       "      <td>10.1590/S0101-31732015000400002</td>\n",
       "      <td>PRESENTATION OF THE DOSSIER ROUSSEAU</td>\n",
       "      <td>2015</td>\n",
       "      <td>UNESP-MARILIA</td>\n",
       "      <td>Marilia</td>\n",
       "      <td>UNESP</td>\n",
       "    </tr>\n",
       "    <tr>\n",
       "      <th>1159</th>\n",
       "      <td>10.1590/S1415-43662014000400013</td>\n",
       "      <td>Physiological quality of soybean seeds stored ...</td>\n",
       "      <td>2014</td>\n",
       "      <td>UNIV FEDERAL CAMPINA GRANDE</td>\n",
       "      <td>Campina Grande</td>\n",
       "      <td>Universidade Federal Campina Grande</td>\n",
       "    </tr>\n",
       "    <tr>\n",
       "      <th>1160</th>\n",
       "      <td>10.1590/S0034-89102010005000053</td>\n",
       "      <td>Ethics in the publication of studies on human ...</td>\n",
       "      <td>2011</td>\n",
       "      <td>REVISTA DE SAUDE PUBLICA</td>\n",
       "      <td>Brasil</td>\n",
       "      <td>Revista Saude Publica</td>\n",
       "    </tr>\n",
       "    <tr>\n",
       "      <th>1161</th>\n",
       "      <td>10.5585/iji.v4i1.67</td>\n",
       "      <td>SYSTEMATIC REVIEW OF THE LITERATURE SOCIAL ENT...</td>\n",
       "      <td>2016</td>\n",
       "      <td>UNIV NOVE JULHO</td>\n",
       "      <td>Brasil</td>\n",
       "      <td>Universidade Nove Julho</td>\n",
       "    </tr>\n",
       "  </tbody>\n",
       "</table>\n",
       "<p>1162 rows × 6 columns</p>\n",
       "</div>"
      ],
      "text/plain": [
       "                                  DOI  \\\n",
       "0        10.1016/j.nonrwa.2021.103406   \n",
       "1        10.1007/978-3-030-79165-0_25   \n",
       "2            10.1590/1519-6984.245368   \n",
       "3            10.1590/1519-6984.234476   \n",
       "4          10.1038/s41598-021-97854-8   \n",
       "...                               ...   \n",
       "1157        10.31977/grirfi.v16i2.774   \n",
       "1158  10.1590/S0101-31732015000400002   \n",
       "1159  10.1590/S1415-43662014000400013   \n",
       "1160  10.1590/S0034-89102010005000053   \n",
       "1161              10.5585/iji.v4i1.67   \n",
       "\n",
       "                                                  Title  Year  \\\n",
       "0     Classical solution for a nonlinear hybrid syst...  2022   \n",
       "1     An Innovative Textile Product Proposal Based o...  2022   \n",
       "2     Detection of enteroparasites in foliar vegetab...  2022   \n",
       "3     Phytochemical characterization, and antioxidan...  2022   \n",
       "4     Stability analysis of reference genes for RT-q...  2021   \n",
       "...                                                 ...   ...   \n",
       "1157  HUMAN RIGHTS: FROM THE UNIFORMITY OF THE SPECI...  2017   \n",
       "1158               PRESENTATION OF THE DOSSIER ROUSSEAU  2015   \n",
       "1159  Physiological quality of soybean seeds stored ...  2014   \n",
       "1160  Ethics in the publication of studies on human ...  2011   \n",
       "1161  SYSTEMATIC REVIEW OF THE LITERATURE SOCIAL ENT...  2016   \n",
       "\n",
       "                                           Affiliations  \\\n",
       "0     Instituto Federal de Goiás-IFG, Campus Goiânia...   \n",
       "1     Instituto Federal de Goiás (IFG), Aparecida de...   \n",
       "2     Instituto Federal de Educação, Ciência e Tecno...   \n",
       "3     Universidade Federal de Goiás – UFG, Rede Pró ...   \n",
       "4     Department of Agronomy, Universidade Federal R...   \n",
       "...                                                 ...   \n",
       "1157  UNIV FED RECONCAVO BAHIA, CENTRO FORMACAO PROF...   \n",
       "1158                                      UNESP-MARILIA   \n",
       "1159                        UNIV FEDERAL CAMPINA GRANDE   \n",
       "1160                           REVISTA DE SAUDE PUBLICA   \n",
       "1161                                    UNIV NOVE JULHO   \n",
       "\n",
       "                     Campus                          Institution  \n",
       "0                   Goiânia           Instituto Federal de Goiás  \n",
       "1     Aparecida de Goiânia            Instituto Federal de Goiás  \n",
       "2     Aparecida de Goiânia            Instituto Federal de Goiás  \n",
       "3                   Goiânia           Instituto Federal de Goiás  \n",
       "4              Águas Lindas           Instituto Federal de Goiás  \n",
       "...                     ...                                  ...  \n",
       "1157                  Bahia       Universidade Federal Reconcavo  \n",
       "1158                Marilia                                UNESP  \n",
       "1159         Campina Grande  Universidade Federal Campina Grande  \n",
       "1160                 Brasil                Revista Saude Publica  \n",
       "1161                 Brasil              Universidade Nove Julho  \n",
       "\n",
       "[1162 rows x 6 columns]"
      ]
     },
     "execution_count": 5,
     "metadata": {},
     "output_type": "execute_result"
    }
   ],
   "source": [
    "url = 'https://raw.githubusercontent.com/joaograndotto/PIBITI/main/Datasets/dados_com_label.csv'\n",
    "dataset = pd.read_csv(url, sep=\",\" )\n",
    "dataset"
   ]
  },
  {
   "cell_type": "markdown",
   "id": "8d85d498",
   "metadata": {},
   "source": [
    "### Separando o dataset em treino e teste"
   ]
  },
  {
   "cell_type": "code",
   "execution_count": 50,
   "id": "101be259",
   "metadata": {},
   "outputs": [],
   "source": [
    "train_dataset = dataset.sample(frac = 0.9, random_state = 25)\n",
    "test_dataset  = dataset.drop(train_dataset.index)"
   ]
  },
  {
   "cell_type": "code",
   "execution_count": 51,
   "id": "ad971a7c",
   "metadata": {},
   "outputs": [
    {
     "data": {
      "text/plain": [
       "(1046, 6)"
      ]
     },
     "execution_count": 51,
     "metadata": {},
     "output_type": "execute_result"
    }
   ],
   "source": [
    "train_dataset.shape"
   ]
  },
  {
   "cell_type": "code",
   "execution_count": 52,
   "id": "b6eff3ac",
   "metadata": {},
   "outputs": [
    {
     "data": {
      "text/plain": [
       "(116, 6)"
      ]
     },
     "execution_count": 52,
     "metadata": {},
     "output_type": "execute_result"
    }
   ],
   "source": [
    "test_dataset.shape"
   ]
  },
  {
   "cell_type": "markdown",
   "id": "7f644f78",
   "metadata": {},
   "source": [
    "# Classificação de texto [prova de conceito]\n",
    "\n",
    "## Classificação\n",
    "\n",
    "Em aprendizado de máquina, a classificação é a tarefa de agrupamento dos dados em diferentes classes, grupos ou partes. \n",
    "\n",
    "Por exemplo, se tomarmos os dados de vitórias, empates ou derrotas de um jogador de bilhar ao longo do tempo, podemos classificá-lo em um dado período como \"em forma\" ou \"fora de forma\" de acordo com seu desempenho. Uma vez que o modelo aprende a classificar com este jogador, é possível aplicar o mesmo modelo a outros jogadores de bilhar.\n",
    "\n",
    "### Classificação binária\n",
    "\n",
    "É o processo de classificação no qual elementos de um conjunto de dados são classificados em 2 classes. Um dos exemplos mais recorrentes é a classificação de e-mails como \"*spam*\" ou \"não *spam*\" com base em palavras-chave. A partir de um conjunto de textos de e-mail previamente etiquetados como *spam* ou não, constrói-se um modelo capaz de reconhecer características do texto e separar o texto no conjunto *spam* ou não *spam*. Uma vez construído o modelo, ele pode ser aplicado a qualquer outro texto para classificá-lo como *spam* ou não."
   ]
  },
  {
   "cell_type": "code",
   "execution_count": 1,
   "id": "acfb7a5e",
   "metadata": {},
   "outputs": [],
   "source": [
    "#! pip install nltk"
   ]
  },
  {
   "cell_type": "code",
   "execution_count": 2,
   "id": "20618ee2",
   "metadata": {},
   "outputs": [
    {
     "name": "stderr",
     "output_type": "stream",
     "text": [
      "[nltk_data] Downloading package stopwords to\n",
      "[nltk_data]     /home/waldeyr/nltk_data...\n",
      "[nltk_data]   Package stopwords is already up-to-date!\n"
     ]
    }
   ],
   "source": [
    "import numpy as np\n",
    "import re\n",
    "import nltk\n",
    "from sklearn.datasets import load_files\n",
    "nltk.download('stopwords')\n",
    "import pickle\n",
    "from nltk.corpus import stopwords"
   ]
  },
  {
   "cell_type": "code",
   "execution_count": 3,
   "id": "aec84b23",
   "metadata": {},
   "outputs": [
    {
     "data": {
      "text/plain": [
       "['de', 'a', 'o', 'que', 'e', 'é', 'do', 'da', 'em', 'um']"
      ]
     },
     "execution_count": 3,
     "metadata": {},
     "output_type": "execute_result"
    }
   ],
   "source": [
    "stopwords.words('portuguese')[:10]"
   ]
  },
  {
   "cell_type": "code",
   "execution_count": 4,
   "id": "720a28db",
   "metadata": {},
   "outputs": [
    {
     "data": {
      "text/plain": [
       "['i', 'me', 'my', 'myself', 'we', 'our', 'ours', 'ourselves', 'you', \"you're\"]"
      ]
     },
     "execution_count": 4,
     "metadata": {},
     "output_type": "execute_result"
    }
   ],
   "source": [
    "stopwords.words('english')[:10]"
   ]
  },
  {
   "cell_type": "code",
   "execution_count": 5,
   "id": "0275bf3a",
   "metadata": {},
   "outputs": [
    {
     "data": {
      "text/plain": [
       "['aber', 'alle', 'allem', 'allen', 'aller', 'alles', 'als', 'also', 'am', 'an']"
      ]
     },
     "execution_count": 5,
     "metadata": {},
     "output_type": "execute_result"
    }
   ],
   "source": [
    "stopwords.words('german')[:10]"
   ]
  },
  {
   "cell_type": "code",
   "execution_count": 6,
   "id": "f9b386c1",
   "metadata": {},
   "outputs": [
    {
     "data": {
      "text/plain": [
       "['de', 'la', 'que', 'el', 'en', 'y', 'a', 'los', 'del', 'se']"
      ]
     },
     "execution_count": 6,
     "metadata": {},
     "output_type": "execute_result"
    }
   ],
   "source": [
    "stopwords.words('spanish')[:10]"
   ]
  },
  {
   "cell_type": "code",
   "execution_count": 7,
   "id": "bbb7e9fc",
   "metadata": {},
   "outputs": [],
   "source": [
    "palavrasIgnoradas = \\\n",
    "    stopwords.words('portuguese') + \\\n",
    "    stopwords.words('english') + \\\n",
    "    stopwords.words('german') + \\\n",
    "    stopwords.words('spanish')"
   ]
  },
  {
   "cell_type": "code",
   "execution_count": 8,
   "id": "cbf7ba94",
   "metadata": {},
   "outputs": [
    {
     "data": {
      "text/plain": [
       "['aquela',\n",
       " 'zur',\n",
       " 'being',\n",
       " 'hayas',\n",
       " 'unsere',\n",
       " 'above',\n",
       " 'keiner',\n",
       " 'teriam',\n",
       " 'selbst',\n",
       " 'same']"
      ]
     },
     "execution_count": 8,
     "metadata": {},
     "output_type": "execute_result"
    }
   ],
   "source": [
    "import random\n",
    "random.sample(palavrasIgnoradas, 10)"
   ]
  },
  {
   "cell_type": "markdown",
   "id": "11943a3e",
   "metadata": {},
   "source": [
    "### Dataset com dados etiquetados (apredizado supervisionado)"
   ]
  },
  {
   "cell_type": "code",
   "execution_count": 9,
   "id": "c1514dde",
   "metadata": {},
   "outputs": [],
   "source": [
    "import numpy as np\n",
    "import matplotlib.pyplot as plt\n",
    "from sklearn import svm\n",
    "from sklearn.datasets import make_blobs\n",
    "import pandas as pd"
   ]
  },
  {
   "cell_type": "code",
   "execution_count": 10,
   "id": "5dc95691",
   "metadata": {},
   "outputs": [
    {
     "data": {
      "text/html": [
       "<div>\n",
       "<style scoped>\n",
       "    .dataframe tbody tr th:only-of-type {\n",
       "        vertical-align: middle;\n",
       "    }\n",
       "\n",
       "    .dataframe tbody tr th {\n",
       "        vertical-align: top;\n",
       "    }\n",
       "\n",
       "    .dataframe thead th {\n",
       "        text-align: right;\n",
       "    }\n",
       "</style>\n",
       "<table border=\"1\" class=\"dataframe\">\n",
       "  <thead>\n",
       "    <tr style=\"text-align: right;\">\n",
       "      <th></th>\n",
       "      <th>DOI</th>\n",
       "      <th>Title</th>\n",
       "      <th>Year</th>\n",
       "      <th>Affiliations</th>\n",
       "      <th>Campus</th>\n",
       "      <th>Institution</th>\n",
       "    </tr>\n",
       "  </thead>\n",
       "  <tbody>\n",
       "    <tr>\n",
       "      <th>187</th>\n",
       "      <td>10.3390/ma13061427</td>\n",
       "      <td>Reactivity of gypsum-based materials subjected...</td>\n",
       "      <td>2020</td>\n",
       "      <td>Karlsruhe Institute of Technology (KIT), Insti...</td>\n",
       "      <td>Eggenstein-Leopoldshafen</td>\n",
       "      <td>Institute of Functional Interfaces</td>\n",
       "    </tr>\n",
       "    <tr>\n",
       "      <th>459</th>\n",
       "      <td>10.1002/chem.201702968</td>\n",
       "      <td>Excitonically Coupled States in Crystalline Co...</td>\n",
       "      <td>2017</td>\n",
       "      <td>Karlsruhe Institute of Technology (KIT), Insti...</td>\n",
       "      <td>Eggenstein-Leopoldshafen</td>\n",
       "      <td>Institute of Functional Interfaces</td>\n",
       "    </tr>\n",
       "    <tr>\n",
       "      <th>276</th>\n",
       "      <td>10.1002/smll.201900083</td>\n",
       "      <td>Biopebble Containers: DNA-Directed Surface Ass...</td>\n",
       "      <td>2019</td>\n",
       "      <td>Karlsruhe Institute of Technology (KIT), Insti...</td>\n",
       "      <td>Eggenstein-Leopoldshafen</td>\n",
       "      <td>Institute of Functional Interfaces</td>\n",
       "    </tr>\n",
       "  </tbody>\n",
       "</table>\n",
       "</div>"
      ],
      "text/plain": [
       "                        DOI  \\\n",
       "187      10.3390/ma13061427   \n",
       "459  10.1002/chem.201702968   \n",
       "276  10.1002/smll.201900083   \n",
       "\n",
       "                                                 Title  Year  \\\n",
       "187  Reactivity of gypsum-based materials subjected...  2020   \n",
       "459  Excitonically Coupled States in Crystalline Co...  2017   \n",
       "276  Biopebble Containers: DNA-Directed Surface Ass...  2019   \n",
       "\n",
       "                                          Affiliations  \\\n",
       "187  Karlsruhe Institute of Technology (KIT), Insti...   \n",
       "459  Karlsruhe Institute of Technology (KIT), Insti...   \n",
       "276  Karlsruhe Institute of Technology (KIT), Insti...   \n",
       "\n",
       "                        Campus                         Institution  \n",
       "187   Eggenstein-Leopoldshafen  Institute of Functional Interfaces  \n",
       "459   Eggenstein-Leopoldshafen  Institute of Functional Interfaces  \n",
       "276   Eggenstein-Leopoldshafen  Institute of Functional Interfaces  "
      ]
     },
     "execution_count": 10,
     "metadata": {},
     "output_type": "execute_result"
    }
   ],
   "source": [
    "url = 'https://raw.githubusercontent.com/joaograndotto/PIBITI/main/Datasets/dados_com_label.csv'\n",
    "dataset = pd.read_csv(url, sep=\",\" )\n",
    "dataset.sample(n=3)"
   ]
  },
  {
   "cell_type": "code",
   "execution_count": 11,
   "id": "3d8343f9",
   "metadata": {},
   "outputs": [
    {
     "data": {
      "text/html": [
       "<div>\n",
       "<style scoped>\n",
       "    .dataframe tbody tr th:only-of-type {\n",
       "        vertical-align: middle;\n",
       "    }\n",
       "\n",
       "    .dataframe tbody tr th {\n",
       "        vertical-align: top;\n",
       "    }\n",
       "\n",
       "    .dataframe thead th {\n",
       "        text-align: right;\n",
       "    }\n",
       "</style>\n",
       "<table border=\"1\" class=\"dataframe\">\n",
       "  <thead>\n",
       "    <tr style=\"text-align: right;\">\n",
       "      <th></th>\n",
       "      <th>DOI</th>\n",
       "      <th>Title</th>\n",
       "      <th>Year</th>\n",
       "      <th>Affiliations</th>\n",
       "      <th>Campus</th>\n",
       "      <th>Institution</th>\n",
       "      <th>IFG</th>\n",
       "    </tr>\n",
       "  </thead>\n",
       "  <tbody>\n",
       "    <tr>\n",
       "      <th>1089</th>\n",
       "      <td>10.1016/j.sab.2007.03.003</td>\n",
       "      <td>X-ray analysis with a highly oriented pyrolyti...</td>\n",
       "      <td>2007</td>\n",
       "      <td>IAP-Institut für angewandte Photonik e.V., Rud...</td>\n",
       "      <td>Berlin</td>\n",
       "      <td>Institute for Scientific Instruments GmbH</td>\n",
       "      <td>0</td>\n",
       "    </tr>\n",
       "    <tr>\n",
       "      <th>1023</th>\n",
       "      <td>10.1109/TNS.2010.2057517</td>\n",
       "      <td>Experimental qualification of a novel X-ray di...</td>\n",
       "      <td>2010</td>\n",
       "      <td>Dipartimento di Elettronica e Informazione, Po...</td>\n",
       "      <td>Berlin</td>\n",
       "      <td>Institute for Scientific Instruments GmbH</td>\n",
       "      <td>0</td>\n",
       "    </tr>\n",
       "    <tr>\n",
       "      <th>1031</th>\n",
       "      <td>10.1016/j.nimb.2010.02.100</td>\n",
       "      <td>External scanning micro-PIXE for the character...</td>\n",
       "      <td>2010</td>\n",
       "      <td>INFN, Sezione di Firenze, Dipartimento di Fisi...</td>\n",
       "      <td>Germany</td>\n",
       "      <td>Institute for Scientific Instruments GmbH</td>\n",
       "      <td>0</td>\n",
       "    </tr>\n",
       "  </tbody>\n",
       "</table>\n",
       "</div>"
      ],
      "text/plain": [
       "                             DOI  \\\n",
       "1089   10.1016/j.sab.2007.03.003   \n",
       "1023    10.1109/TNS.2010.2057517   \n",
       "1031  10.1016/j.nimb.2010.02.100   \n",
       "\n",
       "                                                  Title  Year  \\\n",
       "1089  X-ray analysis with a highly oriented pyrolyti...  2007   \n",
       "1023  Experimental qualification of a novel X-ray di...  2010   \n",
       "1031  External scanning micro-PIXE for the character...  2010   \n",
       "\n",
       "                                           Affiliations   Campus  \\\n",
       "1089  IAP-Institut für angewandte Photonik e.V., Rud...   Berlin   \n",
       "1023  Dipartimento di Elettronica e Informazione, Po...   Berlin   \n",
       "1031  INFN, Sezione di Firenze, Dipartimento di Fisi...  Germany   \n",
       "\n",
       "                                      Institution  IFG  \n",
       "1089   Institute for Scientific Instruments GmbH     0  \n",
       "1023   Institute for Scientific Instruments GmbH     0  \n",
       "1031   Institute for Scientific Instruments GmbH     0  "
      ]
     },
     "execution_count": 11,
     "metadata": {},
     "output_type": "execute_result"
    }
   ],
   "source": [
    "dataset['IFG'] = dataset['Institution'].apply(lambda x: 1 if str(x).strip() == \"Instituto Federal de Goiás\" else 0)\n",
    "dataset.sample(n=3)"
   ]
  },
  {
   "cell_type": "code",
   "execution_count": 12,
   "id": "9396edbe",
   "metadata": {},
   "outputs": [
    {
     "data": {
      "text/plain": [
       "((1162,), (1162,))"
      ]
     },
     "execution_count": 12,
     "metadata": {},
     "output_type": "execute_result"
    }
   ],
   "source": [
    "X, y = dataset['Affiliations'], dataset['IFG']\n",
    "X.shape, y.shape"
   ]
  },
  {
   "cell_type": "markdown",
   "id": "9947e154",
   "metadata": {},
   "source": [
    "#### Bag of Words\n",
    "\n",
    "É uma matriz esparsa com a ocorrência ou não de um termo em cada texto ou documento."
   ]
  },
  {
   "cell_type": "code",
   "execution_count": 13,
   "id": "c52ed896",
   "metadata": {},
   "outputs": [],
   "source": [
    "from sklearn.feature_extraction.text import CountVectorizer\n",
    "vectorizer = CountVectorizer(\n",
    "    max_features = 1500, # vocabulário considera top max_features ordenadas por freq do termo no texto \n",
    "    min_df = 5, # ignorar termos com frequencia menr do que x, onde 0<=x<=1\n",
    "    max_df = 0.7, # ignorar termos com frequencia maior do que x, onde 0<=x<=1\n",
    "    stop_words = palavrasIgnoradas\n",
    ")\n",
    "X = vectorizer.fit_transform(X).toarray()"
   ]
  },
  {
   "cell_type": "code",
   "execution_count": 14,
   "id": "10b107d7",
   "metadata": {},
   "outputs": [
    {
     "data": {
      "text/plain": [
       "(1162, 1033)"
      ]
     },
     "execution_count": 14,
     "metadata": {},
     "output_type": "execute_result"
    }
   ],
   "source": [
    "X.shape"
   ]
  },
  {
   "cell_type": "markdown",
   "id": "dc925511",
   "metadata": {},
   "source": [
    "#### TFIDF (term frequency–inverse document frequency)\n",
    "\n",
    "É uma medida estatística que almeja refletir a importância (peso) de um termo em um conjunto de documentos através de sua frequência.\n",
    "O peso de um termo que ocorre em um documento é diretamente proporcional à sua frequência.\n",
    "Quanto mais um termo aparece no conjunto de documentos, mais importante ele é.\n",
    "Entretanto, quando o tamanho dos documentos varia muito, é natural que um termo possa aparecer mais. Por isso algum ajuste precisa ser feito a variedade. Termos como \"do\", \"de\" na língua portuguesa ou \"the\", \"of\" na língua inglesa tendem a aparecer mais que outros.\n",
    "\n",
    "TFIDF procura resolver este problema multiplicando a frequência do termo pelo inverso da frequência do termo em um conjunto de textos.\n",
    "\n",
    "$$ idf(t, D) = log\\frac{N}{count(d~\\in~D:t~\\in~d)}$$"
   ]
  },
  {
   "cell_type": "code",
   "execution_count": 15,
   "id": "2efafd5c",
   "metadata": {},
   "outputs": [],
   "source": [
    "from sklearn.feature_extraction.text import TfidfTransformer\n",
    "tfidfconverter = TfidfTransformer()\n",
    "X = tfidfconverter.fit_transform(X).toarray()"
   ]
  },
  {
   "cell_type": "markdown",
   "id": "2813ae6b",
   "metadata": {},
   "source": [
    "##### Separando o dataset em 2 partes (treino e teste)"
   ]
  },
  {
   "cell_type": "code",
   "execution_count": 16,
   "id": "5dea65fe",
   "metadata": {},
   "outputs": [],
   "source": [
    "from sklearn.model_selection import train_test_split\n",
    "X_train, X_test, y_train, y_test = train_test_split(X, y, test_size = 0.1, random_state = 0)"
   ]
  },
  {
   "cell_type": "markdown",
   "id": "443a38ad",
   "metadata": {},
   "source": [
    "##### Criando e treinando o modelo com os dados de treino"
   ]
  },
  {
   "cell_type": "code",
   "execution_count": 17,
   "id": "f32ad2ff",
   "metadata": {},
   "outputs": [
    {
     "data": {
      "text/plain": [
       "LogisticRegression()"
      ]
     },
     "execution_count": 17,
     "metadata": {},
     "output_type": "execute_result"
    }
   ],
   "source": [
    "from sklearn.linear_model import LogisticRegression\n",
    "modeloRegressaoLogistica = LogisticRegression()\n",
    "modeloRegressaoLogistica.fit(X_train, y_train)"
   ]
  },
  {
   "cell_type": "markdown",
   "id": "97d744ae",
   "metadata": {},
   "source": [
    "##### Testando o modelo com o conjunto de teste"
   ]
  },
  {
   "cell_type": "code",
   "execution_count": 18,
   "id": "9840d21f",
   "metadata": {},
   "outputs": [],
   "source": [
    "predictions = modeloRegressaoLogistica.predict(X_test)"
   ]
  },
  {
   "cell_type": "markdown",
   "id": "404d71f0",
   "metadata": {},
   "source": [
    "### Avaliação da classificação\n",
    "\n",
    "Algumas métricas são utilizadas para avaliar o quão bom um modelo é capaz de classificar.\n",
    "\n",
    "#### Acurácia\n",
    "\n",
    "* True positive (TP): quando um elemento pertence a uma classe e o modelo diz que ele pertence.\n",
    "* False positive (FP): quando o elemento não pertence a uma classe e o modelo diz que ele pertence;\n",
    "* True negative (TN): quando um elemento não pertence a uma classe e o modelo diz que ele não pertence;\n",
    "* False negative (FN): quando um elemento pertence a uma classe e o modelo diz que ele não pertence;\n",
    "    \n",
    "A acuária é obtida como se segue:\n",
    "    \n",
    "$$ acurária = \\frac{TP + TN}{TP + FP + TN + FN} $$\n",
    "\n",
    "A acurácia pode ser representada por uma matriz de confusão.\n",
    "\n",
    "#### Precisão\n",
    "\n",
    "A precisão é a métrica que indica qual a proporção de identificações positivas foi correta. Ou seja, entre todas as identificações positivas, em que proporção o modelo realmente acertou. A precisão é dada pela fórmula:\n",
    "\n",
    "$$ Precisão = \\frac{TP}{TP + FP} $$\n",
    "\n",
    "\n",
    "#### Recall\n",
    "\n",
    "O *recall* indica a proporção de verdadeiros positivos corretamente identificados. A fórmula para cacular o *recall* é dada por:\n",
    "\n",
    "$$ Recall = \\frac{TP}{TP + FN} $$\n"
   ]
  },
  {
   "cell_type": "code",
   "execution_count": 19,
   "id": "00db3a3d",
   "metadata": {},
   "outputs": [
    {
     "name": "stdout",
     "output_type": "stream",
     "text": [
      "[[82  1]\n",
      " [ 0 34]]\n",
      "              precision    recall  f1-score   support\n",
      "\n",
      "           0       1.00      0.99      0.99        83\n",
      "           1       0.97      1.00      0.99        34\n",
      "\n",
      "    accuracy                           0.99       117\n",
      "   macro avg       0.99      0.99      0.99       117\n",
      "weighted avg       0.99      0.99      0.99       117\n",
      "\n",
      "0.9914529914529915\n"
     ]
    }
   ],
   "source": [
    "from sklearn.metrics import classification_report, confusion_matrix, accuracy_score\n",
    "\n",
    "print(confusion_matrix(y_test,predictions))\n",
    "print(classification_report(y_test,predictions))\n",
    "print(accuracy_score(y_test, predictions))"
   ]
  },
  {
   "cell_type": "code",
   "execution_count": 20,
   "id": "91b58989",
   "metadata": {},
   "outputs": [
    {
     "name": "stdout",
     "output_type": "stream",
     "text": [
      "True Positive(TP)  =  34\n",
      "False Positive(FP) =  1\n",
      "True Negative(TN)  =  82\n",
      "False Negative(FN) =  0\n",
      "Acurácia da classificação binária = 99.145%\n"
     ]
    }
   ],
   "source": [
    "cm = confusion_matrix(y_test, predictions)\n",
    "\n",
    "TN, FP, FN, TP = confusion_matrix(y_test, predictions).ravel()\n",
    "\n",
    "print('True Positive(TP)  = ', TP)\n",
    "print('False Positive(FP) = ', FP)\n",
    "print('True Negative(TN)  = ', TN)\n",
    "print('False Negative(FN) = ', FN)\n",
    "\n",
    "accuracy =  (TP+TN) /(TP+FP+TN+FN)\n",
    "\n",
    "print('Acurácia da classificação binária = {:0.3f}%'.format(accuracy*100))"
   ]
  }
 ],
 "metadata": {
  "kernelspec": {
   "display_name": "Python 3",
   "language": "python",
   "name": "python3"
  },
  "language_info": {
   "codemirror_mode": {
    "name": "ipython",
    "version": 3
   },
   "file_extension": ".py",
   "mimetype": "text/x-python",
   "name": "python",
   "nbconvert_exporter": "python",
   "pygments_lexer": "ipython3",
   "version": "3.6.13"
  }
 },
 "nbformat": 4,
 "nbformat_minor": 5
}
