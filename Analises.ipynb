{
 "cells": [
  {
   "cell_type": "code",
   "execution_count": 1,
   "id": "ec9c73fc",
   "metadata": {},
   "outputs": [],
   "source": [
    "import numpy as np\n",
    "import matplotlib.pyplot as plt\n",
    "from sklearn import svm\n",
    "from sklearn.datasets import make_blobs\n",
    "import pandas as pd"
   ]
  },
  {
   "cell_type": "code",
   "execution_count": 2,
   "id": "7c4fae1b",
   "metadata": {},
   "outputs": [],
   "source": [
    "url1 ='https://raw.githubusercontent.com/joaograndotto/PIBITI/main/Datasets/scopus.csv'\n",
    "url2 = 'https://raw.githubusercontent.com/joaograndotto/PIBITI/main/Datasets/webscience.csv'\n",
    "\n",
    "scopus = pd.read_csv(url1)\n",
    "web_of_science = pd.read_csv(url2, sep=\"\\t\" )"
   ]
  },
  {
   "cell_type": "code",
   "execution_count": 3,
   "id": "7bdf5ef9",
   "metadata": {},
   "outputs": [
    {
     "data": {
      "text/plain": [
       "(31, 67)"
      ]
     },
     "execution_count": 3,
     "metadata": {},
     "output_type": "execute_result"
    }
   ],
   "source": [
    "web_of_science.shape"
   ]
  },
  {
   "cell_type": "code",
   "execution_count": 4,
   "id": "566813c6",
   "metadata": {},
   "outputs": [
    {
     "data": {
      "text/plain": [
       "(1276, 50)"
      ]
     },
     "execution_count": 4,
     "metadata": {},
     "output_type": "execute_result"
    }
   ],
   "source": [
    "scopus.shape"
   ]
  },
  {
   "cell_type": "code",
   "execution_count": 5,
   "id": "89ba49c6",
   "metadata": {},
   "outputs": [],
   "source": [
    "#Renomeie as Colunas relacionadas porque estavam com os nomes diferentes\n",
    "web_of_science.rename(columns={'Publication Year': 'Year'}, inplace = True)\n",
    "web_of_science.rename(columns={'Article Title': 'Title'}, inplace = True)\n",
    "web_of_science.rename(columns={'Publisher': 'Affiliations'}, inplace = True)"
   ]
  },
  {
   "cell_type": "code",
   "execution_count": 6,
   "id": "26a86703",
   "metadata": {},
   "outputs": [
    {
     "data": {
      "text/plain": [
       "0    Instituto Federal de Goiás-IFG, Campus Goiânia...\n",
       "1    Instituto Federal de Goiás (IFG), Aparecida de...\n",
       "2    Instituto Federal de Educação, Ciência e Tecno...\n",
       "3    Universidade Federal de Goiás – UFG, Rede Pró ...\n",
       "4    Department of Agronomy, Universidade Federal R...\n",
       "5    Institute for Hygiene and Public Health, Medic...\n",
       "6    Department of Environmental Informatics, Helmh...\n",
       "7    Grupo de Estudos em Geomática (GEO), Instituto...\n",
       "8    Laboratory of Environmental Biotechnology and ...\n",
       "9    Universidade Federal de Goiás (UFG), Instituto...\n",
       "Name: Affiliations, dtype: object"
      ]
     },
     "execution_count": 6,
     "metadata": {},
     "output_type": "execute_result"
    }
   ],
   "source": [
    "scopus[\"Affiliations\"].head(10)"
   ]
  },
  {
   "cell_type": "code",
   "execution_count": 7,
   "id": "16b8e5c1",
   "metadata": {},
   "outputs": [
    {
     "data": {
      "text/plain": [
       "0    INST FED EDUCATION, SCIENCE & TECHNOLOGY OF GO...\n",
       "1    INST FED EDUCATION, SCIENCE & TECHNOLOGY OF GO...\n",
       "2                        UNIV DO VALE DO RIO DOS SINOS\n",
       "3    INST FED EDUCATION, SCIENCE & TECHNOLOGY OF GO...\n",
       "4                                             ELSEVIER\n",
       "5                          UNIV FEDERAL CAMPINA GRANDE\n",
       "6    INST FED EDUCATION, SCIENCE & TECHNOLOGY OF GO...\n",
       "7                PONTIFICIA UNIV CATOLICA PARANA-PUCPR\n",
       "8                             UNIV FEDERAL SANTA MARIA\n",
       "9                                      INST AGRONOMICO\n",
       "Name: Affiliations, dtype: object"
      ]
     },
     "execution_count": 7,
     "metadata": {},
     "output_type": "execute_result"
    }
   ],
   "source": [
    "web_of_science[\"Affiliations\"].head(10)"
   ]
  },
  {
   "cell_type": "code",
   "execution_count": 8,
   "id": "ce40cbae",
   "metadata": {},
   "outputs": [],
   "source": [
    "#juntando os dois dataframes\n",
    "result = pd.concat([scopus, web_of_science])"
   ]
  },
  {
   "cell_type": "code",
   "execution_count": 9,
   "id": "fe76de0f",
   "metadata": {},
   "outputs": [],
   "source": [
    "nulos = result.loc[result['DOI'].isnull()] # somente registros sem DOI\n",
    "nulos.index[0]\n",
    "result = result.drop([nulos.index[0]])"
   ]
  },
  {
   "cell_type": "code",
   "execution_count": 10,
   "id": "ab50c874",
   "metadata": {},
   "outputs": [],
   "source": [
    "total_artigos = result.shape[0]"
   ]
  },
  {
   "cell_type": "code",
   "execution_count": 11,
   "id": "d6aab840",
   "metadata": {},
   "outputs": [
    {
     "data": {
      "text/plain": [
       "Index(['Authors', 'Author(s) ID', 'Title', 'Year', 'Source title', 'Volume',\n",
       "       'Issue', 'Art. No.', 'Page start', 'Page end',\n",
       "       ...\n",
       "       'Number of Pages', 'WoS Categories', 'Research Areas', 'IDS Number',\n",
       "       'UT (Unique WOS ID)', 'Pubmed Id', 'Open Access Designations',\n",
       "       'Highly Cited Status', 'Hot Paper Status', 'Date of Export'],\n",
       "      dtype='object', length=105)"
      ]
     },
     "execution_count": 11,
     "metadata": {},
     "output_type": "execute_result"
    }
   ],
   "source": [
    "result.columns"
   ]
  },
  {
   "cell_type": "code",
   "execution_count": 12,
   "id": "3b7cf69f",
   "metadata": {},
   "outputs": [
    {
     "data": {
      "text/plain": [
       "(1162, 105)"
      ]
     },
     "execution_count": 12,
     "metadata": {},
     "output_type": "execute_result"
    }
   ],
   "source": [
    "#Verificando duplicados na coluna DOI e apagando as linhas com DOI duplicado\n",
    "result = result.drop_duplicates(subset=['DOI'], keep='first')\n",
    "result.shape"
   ]
  },
  {
   "cell_type": "code",
   "execution_count": 13,
   "id": "1ac0b2c1",
   "metadata": {},
   "outputs": [
    {
     "data": {
      "text/plain": [
       "144"
      ]
     },
     "execution_count": 13,
     "metadata": {},
     "output_type": "execute_result"
    }
   ],
   "source": [
    "duplicados_eliminados = total_artigos - result.shape[0]\n",
    "duplicados_eliminados"
   ]
  },
  {
   "cell_type": "code",
   "execution_count": 14,
   "id": "e582e5c5",
   "metadata": {},
   "outputs": [],
   "source": [
    "# nomear os indices do tamanho do novo dataframe\n",
    "index =[]  \n",
    "for i in range(result.shape[0]): \n",
    "    index.append(i)\n",
    "result.index = index"
   ]
  },
  {
   "cell_type": "code",
   "execution_count": 18,
   "id": "a5151517",
   "metadata": {},
   "outputs": [
    {
     "data": {
      "text/html": [
       "<div>\n",
       "<style scoped>\n",
       "    .dataframe tbody tr th:only-of-type {\n",
       "        vertical-align: middle;\n",
       "    }\n",
       "\n",
       "    .dataframe tbody tr th {\n",
       "        vertical-align: top;\n",
       "    }\n",
       "\n",
       "    .dataframe thead th {\n",
       "        text-align: right;\n",
       "    }\n",
       "</style>\n",
       "<table border=\"1\" class=\"dataframe\">\n",
       "  <thead>\n",
       "    <tr style=\"text-align: right;\">\n",
       "      <th></th>\n",
       "      <th>DOI</th>\n",
       "      <th>Title</th>\n",
       "      <th>Affiliations</th>\n",
       "    </tr>\n",
       "  </thead>\n",
       "  <tbody>\n",
       "    <tr>\n",
       "      <th>0</th>\n",
       "      <td>10.1016/j.nonrwa.2021.103406</td>\n",
       "      <td>Classical solution for a nonlinear hybrid syst...</td>\n",
       "      <td>Instituto Federal de Goiás-IFG, Campus Goiânia...</td>\n",
       "    </tr>\n",
       "    <tr>\n",
       "      <th>1</th>\n",
       "      <td>10.1007/978-3-030-79165-0_25</td>\n",
       "      <td>An Innovative Textile Product Proposal Based o...</td>\n",
       "      <td>Instituto Federal de Goiás (IFG), Aparecida de...</td>\n",
       "    </tr>\n",
       "    <tr>\n",
       "      <th>2</th>\n",
       "      <td>10.1590/1519-6984.245368</td>\n",
       "      <td>Detection of enteroparasites in foliar vegetab...</td>\n",
       "      <td>Instituto Federal de Educação, Ciência e Tecno...</td>\n",
       "    </tr>\n",
       "    <tr>\n",
       "      <th>3</th>\n",
       "      <td>10.1590/1519-6984.234476</td>\n",
       "      <td>Phytochemical characterization, and antioxidan...</td>\n",
       "      <td>Universidade Federal de Goiás – UFG, Rede Pró ...</td>\n",
       "    </tr>\n",
       "    <tr>\n",
       "      <th>4</th>\n",
       "      <td>10.1038/s41598-021-97854-8</td>\n",
       "      <td>Stability analysis of reference genes for RT-q...</td>\n",
       "      <td>Department of Agronomy, Universidade Federal R...</td>\n",
       "    </tr>\n",
       "    <tr>\n",
       "      <th>...</th>\n",
       "      <td>...</td>\n",
       "      <td>...</td>\n",
       "      <td>...</td>\n",
       "    </tr>\n",
       "    <tr>\n",
       "      <th>1157</th>\n",
       "      <td>10.31977/grirfi.v16i2.774</td>\n",
       "      <td>HUMAN RIGHTS: FROM THE UNIFORMITY OF THE SPECI...</td>\n",
       "      <td>UNIV FED RECONCAVO BAHIA, CENTRO FORMACAO PROF...</td>\n",
       "    </tr>\n",
       "    <tr>\n",
       "      <th>1158</th>\n",
       "      <td>10.1590/S0101-31732015000400002</td>\n",
       "      <td>PRESENTATION OF THE DOSSIER ROUSSEAU</td>\n",
       "      <td>UNESP-MARILIA</td>\n",
       "    </tr>\n",
       "    <tr>\n",
       "      <th>1159</th>\n",
       "      <td>10.1590/S1415-43662014000400013</td>\n",
       "      <td>Physiological quality of soybean seeds stored ...</td>\n",
       "      <td>UNIV FEDERAL CAMPINA GRANDE</td>\n",
       "    </tr>\n",
       "    <tr>\n",
       "      <th>1160</th>\n",
       "      <td>10.1590/S0034-89102010005000053</td>\n",
       "      <td>Ethics in the publication of studies on human ...</td>\n",
       "      <td>REVISTA DE SAUDE PUBLICA</td>\n",
       "    </tr>\n",
       "    <tr>\n",
       "      <th>1161</th>\n",
       "      <td>10.5585/iji.v4i1.67</td>\n",
       "      <td>SYSTEMATIC REVIEW OF THE LITERATURE SOCIAL ENT...</td>\n",
       "      <td>UNIV NOVE JULHO</td>\n",
       "    </tr>\n",
       "  </tbody>\n",
       "</table>\n",
       "<p>1162 rows × 3 columns</p>\n",
       "</div>"
      ],
      "text/plain": [
       "                                  DOI  \\\n",
       "0        10.1016/j.nonrwa.2021.103406   \n",
       "1        10.1007/978-3-030-79165-0_25   \n",
       "2            10.1590/1519-6984.245368   \n",
       "3            10.1590/1519-6984.234476   \n",
       "4          10.1038/s41598-021-97854-8   \n",
       "...                               ...   \n",
       "1157        10.31977/grirfi.v16i2.774   \n",
       "1158  10.1590/S0101-31732015000400002   \n",
       "1159  10.1590/S1415-43662014000400013   \n",
       "1160  10.1590/S0034-89102010005000053   \n",
       "1161              10.5585/iji.v4i1.67   \n",
       "\n",
       "                                                  Title  \\\n",
       "0     Classical solution for a nonlinear hybrid syst...   \n",
       "1     An Innovative Textile Product Proposal Based o...   \n",
       "2     Detection of enteroparasites in foliar vegetab...   \n",
       "3     Phytochemical characterization, and antioxidan...   \n",
       "4     Stability analysis of reference genes for RT-q...   \n",
       "...                                                 ...   \n",
       "1157  HUMAN RIGHTS: FROM THE UNIFORMITY OF THE SPECI...   \n",
       "1158               PRESENTATION OF THE DOSSIER ROUSSEAU   \n",
       "1159  Physiological quality of soybean seeds stored ...   \n",
       "1160  Ethics in the publication of studies on human ...   \n",
       "1161  SYSTEMATIC REVIEW OF THE LITERATURE SOCIAL ENT...   \n",
       "\n",
       "                                           Affiliations  \n",
       "0     Instituto Federal de Goiás-IFG, Campus Goiânia...  \n",
       "1     Instituto Federal de Goiás (IFG), Aparecida de...  \n",
       "2     Instituto Federal de Educação, Ciência e Tecno...  \n",
       "3     Universidade Federal de Goiás – UFG, Rede Pró ...  \n",
       "4     Department of Agronomy, Universidade Federal R...  \n",
       "...                                                 ...  \n",
       "1157  UNIV FED RECONCAVO BAHIA, CENTRO FORMACAO PROF...  \n",
       "1158                                      UNESP-MARILIA  \n",
       "1159                        UNIV FEDERAL CAMPINA GRANDE  \n",
       "1160                           REVISTA DE SAUDE PUBLICA  \n",
       "1161                                    UNIV NOVE JULHO  \n",
       "\n",
       "[1162 rows x 3 columns]"
      ]
     },
     "execution_count": 18,
     "metadata": {},
     "output_type": "execute_result"
    }
   ],
   "source": [
    "result[['DOI', 'Title', 'Affiliations']]"
   ]
  },
  {
   "cell_type": "code",
   "execution_count": null,
   "id": "d1d2aaad",
   "metadata": {},
   "outputs": [],
   "source": [
    "result[['DOI','Affiliations']].to_csv(\"dados_para_label.tsv\", sep = \"\\t\", index=False)"
   ]
  }
 ],
 "metadata": {
  "kernelspec": {
   "display_name": "Python 3",
   "language": "python",
   "name": "python3"
  },
  "language_info": {
   "codemirror_mode": {
    "name": "ipython",
    "version": 3
   },
   "file_extension": ".py",
   "mimetype": "text/x-python",
   "name": "python",
   "nbconvert_exporter": "python",
   "pygments_lexer": "ipython3",
   "version": "3.6.13"
  }
 },
 "nbformat": 4,
 "nbformat_minor": 5
}
